{
 "cells": [
  {
   "cell_type": "markdown",
   "metadata": {},
   "source": [
    "# Python Collections"
   ]
  },
  {
   "cell_type": "markdown",
   "metadata": {},
   "source": [
    "`$ jupyter nbconvert --to html NOTEBOOK-NAME.ipynb`"
   ]
  },
  {
   "cell_type": "markdown",
   "metadata": {},
   "source": [
    "Gobithaasan, May 2020\n",
    "\n",
    "- list\n",
    "- set \n",
    "- tuple\n",
    "- dictionaries \n",
    "\n",
    "[source](https://www.w3schools.com/python/python_lists.asp)"
   ]
  },
  {
   "cell_type": "markdown",
   "metadata": {},
   "source": [
    "## Lists : a collection which is ordered and changeable; allows duplicate members."
   ]
  },
  {
   "cell_type": "code",
   "execution_count": 8,
   "metadata": {},
   "outputs": [
    {
     "name": "stdout",
     "output_type": "stream",
     "text": [
      "[]\n"
     ]
    },
    {
     "data": {
      "text/plain": [
       "list"
      ]
     },
     "execution_count": 8,
     "metadata": {},
     "output_type": "execute_result"
    }
   ],
   "source": [
    "alphabets = list() \n",
    "print(alphabets)  \n",
    "type(alphabets)"
   ]
  },
  {
   "cell_type": "code",
   "execution_count": 33,
   "metadata": {},
   "outputs": [
    {
     "name": "stdout",
     "output_type": "stream",
     "text": [
      "True\n"
     ]
    },
    {
     "data": {
      "text/plain": [
       "False"
      ]
     },
     "execution_count": 33,
     "metadata": {},
     "output_type": "execute_result"
    }
   ],
   "source": [
    "alphabets.clear()\n",
    "alphabets = ['g','o','b','i','t','h','a','a','s','a','n']\n",
    "print('a' in alphabets)\n",
    "'x' in alphabets"
   ]
  },
  {
   "cell_type": "code",
   "execution_count": 73,
   "metadata": {},
   "outputs": [
    {
     "name": "stdout",
     "output_type": "stream",
     "text": [
      "3\n",
      "5\n",
      "True\n"
     ]
    }
   ],
   "source": [
    "print(alphabets.count('a')) #count number of appearance\n",
    "print(alphabets.index('h'))#print the index of the element\n",
    "print('a' in alphabets)"
   ]
  },
  {
   "cell_type": "markdown",
   "metadata": {},
   "source": [
    "- Appending a new element to the list"
   ]
  },
  {
   "cell_type": "code",
   "execution_count": 35,
   "metadata": {
    "scrolled": true
   },
   "outputs": [
    {
     "name": "stdout",
     "output_type": "stream",
     "text": [
      "['g', 'o', 'b', 'i', 't', 'h', 'a', 'a', 's', 'a', 'n', 's']\n"
     ]
    }
   ],
   "source": [
    "alphabets.append('s')\n",
    "print(alphabets)"
   ]
  },
  {
   "cell_type": "markdown",
   "metadata": {},
   "source": [
    "- intializing and appending a new element"
   ]
  },
  {
   "cell_type": "code",
   "execution_count": 11,
   "metadata": {},
   "outputs": [
    {
     "name": "stdout",
     "output_type": "stream",
     "text": [
      "[]\n",
      "['n']\n",
      "['n', 'e', 'w']\n"
     ]
    }
   ],
   "source": [
    "mylist=list()#to initialize a list\n",
    "print(mylist)\n",
    "mylist.append('n')\n",
    "print(mylist)\n",
    "mylist.append('e')\n",
    "mylist.append('w')\n",
    "print(mylist)"
   ]
  },
  {
   "cell_type": "markdown",
   "metadata": {},
   "source": [
    "- Printing the elements using for loop"
   ]
  },
  {
   "cell_type": "code",
   "execution_count": 59,
   "metadata": {},
   "outputs": [
    {
     "name": "stdout",
     "output_type": "stream",
     "text": [
      "g\n",
      "o\n",
      "b\n",
      "i\n",
      "t\n",
      "h\n",
      "a\n",
      "a\n",
      "s\n",
      "a\n",
      "n\n",
      "s\n"
     ]
    }
   ],
   "source": [
    "for x in alphabets:\n",
    "    print(x)"
   ]
  },
  {
   "cell_type": "markdown",
   "metadata": {},
   "source": [
    "- User input"
   ]
  },
  {
   "cell_type": "markdown",
   "metadata": {},
   "source": [
    "### Manipulating Lists"
   ]
  },
  {
   "cell_type": "code",
   "execution_count": 6,
   "metadata": {
    "scrolled": true
   },
   "outputs": [
    {
     "name": "stdout",
     "output_type": "stream",
     "text": [
      "Enter your name:\n",
      "gobithaasan\n",
      "Hello, gobithaasan\n"
     ]
    }
   ],
   "source": [
    "print(\"Enter your name:\")\n",
    "x = input()\n",
    "print(\"Hello, \" + x)"
   ]
  },
  {
   "cell_type": "markdown",
   "metadata": {},
   "source": [
    "- a Python program that prompts the user to input 3 numbers, one at a time. The Python program should put the numbers in a list, sort the list, and print the sorted list. "
   ]
  },
  {
   "cell_type": "code",
   "execution_count": 8,
   "metadata": {
    "scrolled": true
   },
   "outputs": [
    {
     "name": "stdout",
     "output_type": "stream",
     "text": [
      "Enter a number: 1\n",
      "Enter a number: 2\n",
      "Enter a number: 3\n",
      "\n",
      "In ascending order: 1, 2, 3, \n",
      "\n",
      "In decending order: 3, 2, 1, "
     ]
    }
   ],
   "source": [
    "count=0\n",
    "mylist=[0,0,0]\n",
    "while(count<3):\n",
    "    print('Enter a number: ',end = '')\n",
    "    mylist[count]= int(input())\n",
    "    count +=1\n",
    "else:\n",
    "    print(\"\")\n",
    "\n",
    "mylist.sort()\n",
    "print('In ascending order:',end = ' ')\n",
    "\n",
    "for x in mylist:\n",
    "    print(x,end = ', ')\n",
    "print('\\n')    \n",
    "\n",
    "print('In decending order:',end = ' ')   \n",
    "mylist.reverse()\n",
    "for x in mylist:\n",
    "    print(x,end = ', ')"
   ]
  },
  {
   "cell_type": "markdown",
   "metadata": {},
   "source": [
    "- simpler solution"
   ]
  },
  {
   "cell_type": "code",
   "execution_count": 4,
   "metadata": {},
   "outputs": [
    {
     "name": "stdout",
     "output_type": "stream",
     "text": [
      "Enter a number\n",
      "3\n",
      "Enter a number\n",
      "1\n",
      "Enter a number\n",
      "4\n",
      "1, 3, 4, "
     ]
    }
   ],
   "source": [
    "mylist=[]\n",
    "for i in range(0,3):\n",
    "    n=input('Enter a number\\n')\n",
    "    mylist.append(n)\n",
    "mylist.sort()\n",
    "for  i in range(0,3):\n",
    "  print(mylist[i]+',',end=' ')"
   ]
  },
  {
   "cell_type": "code",
   "execution_count": 1,
   "metadata": {},
   "outputs": [
    {
     "name": "stdout",
     "output_type": "stream",
     "text": [
      "Enter a Number:3\n",
      "Enter a Number:1\n",
      "Enter a Number:2\n",
      "List is:  [3, 1, 2]\n",
      "sorted list is: [1, 2, 3]\n"
     ]
    }
   ],
   "source": [
    "x= int(input(\"Enter a Number:\"))\n",
    "y= int(input(\"Enter a Number:\"))\n",
    "z= int(input(\"Enter a Number:\"))\n",
    "\n",
    "\n",
    "listed =[x,y,z]\n",
    "\n",
    "print(\"List is: \",listed)\n",
    "\n",
    "\n",
    "listed.sort()\n",
    "\n",
    "print(\"sorted list is:\",listed)\n"
   ]
  },
  {
   "cell_type": "markdown",
   "metadata": {},
   "source": [
    "## Sets: a collection which is unordered and unindexed; no duplicate members."
   ]
  },
  {
   "cell_type": "code",
   "execution_count": 7,
   "metadata": {},
   "outputs": [
    {
     "name": "stdout",
     "output_type": "stream",
     "text": [
      "set()\n",
      "{'e', 'd', 'f', 'c'}\n"
     ]
    },
    {
     "data": {
      "text/plain": [
       "set"
      ]
     },
     "execution_count": 7,
     "metadata": {},
     "output_type": "execute_result"
    }
   ],
   "source": [
    "y = set() \n",
    "print(y)\n",
    "y = {'c', 'd', 'e', 'f','e'}\n",
    "print(y)\n",
    "type(y)"
   ]
  },
  {
   "cell_type": "markdown",
   "metadata": {},
   "source": [
    "## Tuples: a collection which is ordered and unchangeable; allows duplicate members.\n"
   ]
  },
  {
   "cell_type": "code",
   "execution_count": null,
   "metadata": {},
   "outputs": [],
   "source": [
    "y = tuples() \n",
    "y = ('c', 'd', 'e', 'f') \n",
    "print(y[1:3])   \n"
   ]
  },
  {
   "cell_type": "markdown",
   "metadata": {},
   "source": [
    "## Dictionary: a collection which is unordered, changeable and indexed; no duplicate members."
   ]
  },
  {
   "cell_type": "code",
   "execution_count": 9,
   "metadata": {},
   "outputs": [
    {
     "name": "stdout",
     "output_type": "stream",
     "text": [
      "{}\n"
     ]
    }
   ],
   "source": [
    "x =dict() \n",
    "print(x)"
   ]
  },
  {
   "cell_type": "code",
   "execution_count": 10,
   "metadata": {},
   "outputs": [
    {
     "name": "stdout",
     "output_type": "stream",
     "text": [
      "{'a': 2, 'b': 9, 'c': 4}\n"
     ]
    },
    {
     "data": {
      "text/plain": [
       "4"
      ]
     },
     "execution_count": 10,
     "metadata": {},
     "output_type": "execute_result"
    }
   ],
   "source": [
    "x = {'a':2, 'b':9, 'c':4} \n",
    "y = {'c':1, 'd':11, 'e':5, 'f':0}   \n",
    "print(x) \n",
    "len(y) "
   ]
  },
  {
   "cell_type": "code",
   "execution_count": 11,
   "metadata": {},
   "outputs": [
    {
     "data": {
      "text/plain": [
       "11"
      ]
     },
     "execution_count": 11,
     "metadata": {},
     "output_type": "execute_result"
    }
   ],
   "source": [
    "y.get('d') \n",
    "y['d'] "
   ]
  },
  {
   "cell_type": "code",
   "execution_count": 14,
   "metadata": {},
   "outputs": [
    {
     "name": "stdout",
     "output_type": "stream",
     "text": [
      "{'a': 2, 'b': 9, 'c': 1, 'd': 11, 'e': 5, 'f': 0}\n"
     ]
    }
   ],
   "source": [
    "z = dict(x,**y) \n",
    "print(z) \n"
   ]
  },
  {
   "cell_type": "code",
   "execution_count": 15,
   "metadata": {},
   "outputs": [
    {
     "data": {
      "text/plain": [
       "['a', 'b', 'c', 'd', 'e', 'f']"
      ]
     },
     "execution_count": 15,
     "metadata": {},
     "output_type": "execute_result"
    }
   ],
   "source": [
    "sorted(z) \n"
   ]
  },
  {
   "cell_type": "code",
   "execution_count": 17,
   "metadata": {},
   "outputs": [
    {
     "data": {
      "text/plain": [
       "[('f', 0), ('c', 1), ('a', 2), ('e', 5), ('b', 9), ('d', 11)]"
      ]
     },
     "execution_count": 17,
     "metadata": {},
     "output_type": "execute_result"
    }
   ],
   "source": [
    "import operator\n",
    "sorted(z.items(),key=operator.itemgetter(1)) "
   ]
  },
  {
   "cell_type": "markdown",
   "metadata": {},
   "source": [
    "### using get() to set a default state"
   ]
  },
  {
   "cell_type": "code",
   "execution_count": 9,
   "metadata": {},
   "outputs": [],
   "source": [
    "student_matrixnu ={\n",
    "    2341: \"Ali\",\n",
    "    2345: \"Chong\",\n",
    "    7657: \"James\",\n",
    "}\n",
    "def greeting(matrixnu):\n",
    "    return \"Hi %s!\" % student_matrixnu.get(matrixnu,\"there\")"
   ]
  },
  {
   "cell_type": "code",
   "execution_count": 13,
   "metadata": {},
   "outputs": [
    {
     "name": "stdout",
     "output_type": "stream",
     "text": [
      "Hi James!\n",
      "Hi there!\n"
     ]
    }
   ],
   "source": [
    "print(greeting(7657))\n",
    "print(greeting(7888))"
   ]
  },
  {
   "cell_type": "markdown",
   "metadata": {},
   "source": [
    "## Speical tuple: Namedtuples which has similar function of defining class"
   ]
  },
  {
   "cell_type": "code",
   "execution_count": 4,
   "metadata": {},
   "outputs": [],
   "source": [
    "from collections import namedtuple\n",
    "fruit = namedtuple('Fruit', 'color size weightInGram')\n",
    "\n",
    "#new object\n",
    "grapes = fruit('purple', 'small', 10)"
   ]
  },
  {
   "cell_type": "code",
   "execution_count": 5,
   "metadata": {},
   "outputs": [
    {
     "data": {
      "text/plain": [
       "'purple'"
      ]
     },
     "execution_count": 5,
     "metadata": {},
     "output_type": "execute_result"
    }
   ],
   "source": [
    "grapes.color"
   ]
  },
  {
   "cell_type": "code",
   "execution_count": 6,
   "metadata": {},
   "outputs": [
    {
     "data": {
      "text/plain": [
       "10"
      ]
     },
     "execution_count": 6,
     "metadata": {},
     "output_type": "execute_result"
    }
   ],
   "source": [
    "grapes.weightInGram\n"
   ]
  },
  {
   "cell_type": "code",
   "execution_count": 7,
   "metadata": {},
   "outputs": [
    {
     "data": {
      "text/plain": [
       "'small'"
      ]
     },
     "execution_count": 7,
     "metadata": {},
     "output_type": "execute_result"
    }
   ],
   "source": [
    "grapes.size"
   ]
  },
  {
   "cell_type": "code",
   "execution_count": 8,
   "metadata": {},
   "outputs": [
    {
     "ename": "AttributeError",
     "evalue": "can't set attribute",
     "output_type": "error",
     "traceback": [
      "\u001b[0;31m---------------------------------------------------------------------------\u001b[0m",
      "\u001b[0;31mAttributeError\u001b[0m                            Traceback (most recent call last)",
      "\u001b[0;32m<ipython-input-8-624d0b5262fd>\u001b[0m in \u001b[0;36m<module>\u001b[0;34m\u001b[0m\n\u001b[0;32m----> 1\u001b[0;31m \u001b[0mgrapes\u001b[0m\u001b[0;34m.\u001b[0m\u001b[0mcolor\u001b[0m \u001b[0;34m=\u001b[0m \u001b[0;34m'red'\u001b[0m \u001b[0;31m# just like tuples its immutable: cannot change the attributes!\u001b[0m\u001b[0;34m\u001b[0m\u001b[0;34m\u001b[0m\u001b[0m\n\u001b[0m",
      "\u001b[0;31mAttributeError\u001b[0m: can't set attribute"
     ]
    }
   ],
   "source": [
    "grapes.color = 'red' # just like tuples its immutable: cannot change the attributes!"
   ]
  },
  {
   "cell_type": "code",
   "execution_count": null,
   "metadata": {},
   "outputs": [],
   "source": []
  }
 ],
 "metadata": {
  "kernelspec": {
   "display_name": "Python 3",
   "language": "python",
   "name": "python3"
  },
  "language_info": {
   "codemirror_mode": {
    "name": "ipython",
    "version": 3
   },
   "file_extension": ".py",
   "mimetype": "text/x-python",
   "name": "python",
   "nbconvert_exporter": "python",
   "pygments_lexer": "ipython3",
   "version": "3.8.3"
  }
 },
 "nbformat": 4,
 "nbformat_minor": 4
}
