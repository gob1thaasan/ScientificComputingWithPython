{
 "cells": [
  {
   "cell_type": "markdown",
   "metadata": {},
   "source": [
    "**Scientific Computation (MKP3303)**\n",
    "\n",
    "\n",
    "> R.U.Gobithaasan (2021). Scientific Computing, Lectures for Undergraduate Degree Program B.Sc (Applied Mathematics), Faculty of Ocean Engineering Technology & Informatics, University Malaysia Terengganu.\n",
    "https://sites.google.com/site/gobithaasan/LearnTeach\n",
    "\n",
    "<p align=\"center\">\n",
    "     © 2021 R.U. Gobithaasan All Rights Reserved.\n",
    "\n",
    "</p>\n",
    "\n"
   ]
  },
  {
   "cell_type": "markdown",
   "metadata": {},
   "source": [
    "**Lab 3: Numbers, Expressions and Functions**                             "
   ]
  },
  {
   "cell_type": "markdown",
   "metadata": {},
   "source": [
    "# Fill up the following details:\n",
    "- Name:\n",
    "- Matrix Number: \n",
    "- Date: \n"
   ]
  },
  {
   "cell_type": "markdown",
   "metadata": {},
   "source": [
    "## General Instruction:\n",
    "Let saya your matrix number is S54321. For computation below, ignore the first letter and use your matrix number by letting $\\mathbf{(\\alpha , \\beta, \\gamma, \\kappa, \\lambda) =(5,4,3,2,1)}$. Hence replace explicitly the values of greek letters as $\\alpha = 5, \\beta = 4, \\gamma = 3, \\kappa = 2, \\lambda =1$.\n",
    "\n",
    "\n",
    "For example:\n",
    "\n",
    "**Q0.** Compute $(\\beta * \\gamma * \\kappa)+{\\lambda})$:"
   ]
  },
  {
   "cell_type": "code",
   "execution_count": 1,
   "metadata": {},
   "outputs": [
    {
     "data": {
      "text/plain": [
       "25"
      ]
     },
     "execution_count": 1,
     "metadata": {},
     "output_type": "execute_result"
    }
   ],
   "source": [
    "(4*3*2)+1"
   ]
  },
  {
   "cell_type": "markdown",
   "metadata": {},
   "source": [
    "## Name your file as follows before submiting via pembelajaran.umt.edu.my\n",
    "- save as **matrixnumber-labnumber.ipynb**: for example **S54321-LAB3.ipynb**"
   ]
  },
  {
   "cell_type": "markdown",
   "metadata": {},
   "source": [
    "# LAB (3) QUESTIONS"
   ]
  },
  {
   "cell_type": "markdown",
   "metadata": {},
   "source": [
    "**Q1.**  Which of the following legal variable names and state why. Create similar examples of both legal and illigeal examples:\n",
    "1. i_love_umt\n",
    "2. t0day\n",
    "3. 2dPlot\n",
    "4. April2021\n",
    "5. Item#3"
   ]
  },
  {
   "cell_type": "markdown",
   "metadata": {},
   "source": [
    " "
   ]
  },
  {
   "cell_type": "markdown",
   "metadata": {},
   "source": [
    "**Q2.** use `input()` builtin function to prompts for your name and saves it as `Name`. Then print `Name` with a greeting. For Example: `Hello Ali`"
   ]
  },
  {
   "cell_type": "code",
   "execution_count": null,
   "metadata": {},
   "outputs": [],
   "source": []
  },
  {
   "cell_type": "markdown",
   "metadata": {},
   "source": [
    "**Q3.** Evaluate the following expression, where the value greek letters are from your **matrix number**. \n",
    "\n",
    "**WARNING**: In case $\\gamma = 0$, then replace the symbols with $\\beta$ or $\\lambda$, whichever a positive number.\n",
    "\n",
    "1. $6 + 3 (\\gamma)$\n",
    "2. $\\frac{\\alpha}{2} − 4$\n",
    "3. $6 - 14(\\beta)(\\alpha)− \\lambda(1 + 2) * 3$\n",
    "4. $\\alpha // \\gamma$ (replace the symbol with any other symbol if $\\alpha = \\gamma = 0$)\n",
    "5.$\\alpha \\textbf{%} \\gamma$ "
   ]
  },
  {
   "cell_type": "code",
   "execution_count": null,
   "metadata": {},
   "outputs": [],
   "source": []
  },
  {
   "cell_type": "markdown",
   "metadata": {},
   "source": [
    "**Q4.** Import `math` module. Identify and evaluate the following functions:\n",
    "\n",
    "**TIPS:** \n",
    "- View all the documentations of all the math functions available at [Python Math](https://docs.python.org/3/library/math.html). \n",
    "- A comprehensive function table is available at: [programiz](https://www.programiz.com/python-programming/modules/math)\n",
    "\n",
    "\n",
    "1. print the fractional and integer parts of $\\alpha.\\beta\\gamma$ using `modf(x)`.\n",
    "2. Converts $\\pi$ to degrees\n",
    "3. base-2 logarithm of $\\gamma$\n",
    "4. factorial of $\\beta$\n",
    "5. the distance from origin $(0,0)$ to $(5,12)$ using `hypot(x, y)`."
   ]
  },
  {
   "cell_type": "code",
   "execution_count": null,
   "metadata": {},
   "outputs": [],
   "source": []
  },
  {
   "cell_type": "markdown",
   "metadata": {},
   "source": [
    "**Q5.** Function below returns a boolean output: True if the given number is even, else the output is False. "
   ]
  },
  {
   "cell_type": "code",
   "execution_count": null,
   "metadata": {},
   "outputs": [],
   "source": []
  },
  {
   "cell_type": "markdown",
   "metadata": {},
   "source": [
    "Call the function above with **your matrix number `ISEven`($\\alpha\\beta\\gamma\\kappa\\lambda$)** as an argument and write statement to print out either\":\n",
    "- \"The matrix number is an even number\"\n",
    "- \"The output is an odd number\""
   ]
  },
  {
   "cell_type": "code",
   "execution_count": null,
   "metadata": {},
   "outputs": [],
   "source": []
  },
  {
   "cell_type": "markdown",
   "metadata": {},
   "source": [
    "**Q6.** Write a function named `myRandomGenerator(n)` that generates a positive random numbers between $\\alpha$ to $\\alpha\\gamma$. Then, call this function  `myRandomGenerator`($\\alpha, \\alpha\\gamma$).\n",
    "\n",
    "TIPS: see examples in [tutorialspoint](https://www.tutorialspoint.com/generating-random-number-list-in-python).\n"
   ]
  },
  {
   "cell_type": "code",
   "execution_count": null,
   "metadata": {},
   "outputs": [],
   "source": []
  },
  {
   "cell_type": "markdown",
   "metadata": {},
   "source": [
    "**Q7.** Write a function named `myDice(n)` that returns a number between 1 to 6, similar to the vent of rolling a dice."
   ]
  },
  {
   "cell_type": "code",
   "execution_count": null,
   "metadata": {},
   "outputs": [],
   "source": []
  },
  {
   "cell_type": "markdown",
   "metadata": {},
   "source": [
    "**Q8.** Create function named `GuessDice` to represent a guessing game by using`myDice(n)`. Let the user input a value using built-in function: `input()` and print the outcome of the dice number and a statement whether the user guessed correctly."
   ]
  },
  {
   "cell_type": "code",
   "execution_count": null,
   "metadata": {},
   "outputs": [],
   "source": []
  },
  {
   "cell_type": "code",
   "execution_count": 29,
   "metadata": {},
   "outputs": [
    {
     "name": "stdin",
     "output_type": "stream",
     "text": [
      "Make a guess of the dice number:  5\n"
     ]
    },
    {
     "name": "stdout",
     "output_type": "stream",
     "text": [
      "The rolled dice is :  5\n",
      "Awesome! You've guessed it right!\n"
     ]
    }
   ],
   "source": [
    "GuessDice() #ouput example"
   ]
  },
  {
   "cell_type": "markdown",
   "metadata": {},
   "source": [
    "**Q9.** Represent $f1(x) = \\frac{x^4}{3}-\\sqrt{x}+\\sin(x)$  in the form of a function in Python and evaluate it at $x=\\lambda$:\n",
    " \n",
    "2. $f2(a,b,c,x) = ax^2+bx+c$\n"
   ]
  },
  {
   "cell_type": "code",
   "execution_count": null,
   "metadata": {},
   "outputs": [],
   "source": []
  },
  {
   "cell_type": "markdown",
   "metadata": {},
   "source": [
    "**Q10.** Represent $f2(a,b,c,x) = ax^2+bx+c$ in the form of a function in Python and evaluate it at $f2(\\alpha,\\beta,\\gamma,\\lambda)$:\n"
   ]
  },
  {
   "cell_type": "code",
   "execution_count": null,
   "metadata": {},
   "outputs": [],
   "source": []
  },
  {
   "cell_type": "markdown",
   "metadata": {},
   "source": [
    "# Optional: Tryout interactive control "
   ]
  },
  {
   "cell_type": "markdown",
   "metadata": {},
   "source": [
    "**Creating a slider for interactive controls to change inputs. For details, see [ipywidgets](https://ipywidgets.readthedocs.io/en/stable/user_guide.html)** \n",
    "\n",
    "The steps are:\n",
    "- First install: `pip install ipywidgets`\n",
    "- Next install `node`: see their [website](https://nodejs.org/uk/download/package-manager/).\n",
    "\n",
    "- Make sure: **Enable SSL verification:** Macintosh HD > Applications > Python3.8 folder (or whatever version of python you're using) > double click on \"Install Certificates.command\" file.\n",
    "\n",
    "- next run: `!jupyter nbextension enable --py widgetsnbextension`"
   ]
  },
  {
   "cell_type": "code",
   "execution_count": 1,
   "metadata": {},
   "outputs": [
    {
     "name": "stdout",
     "output_type": "stream",
     "text": [
      "Enabling notebook extension jupyter-js-widgets/extension...\n",
      "      - Validating: \u001b[32mOK\u001b[0m\n"
     ]
    }
   ],
   "source": [
    "!jupyter nbextension enable --py widgetsnbextension"
   ]
  },
  {
   "cell_type": "markdown",
   "metadata": {},
   "source": [
    "- Finally run:`jupyter labextension install @jupyter-widgets/jupyterlab-manager`"
   ]
  },
  {
   "cell_type": "markdown",
   "metadata": {},
   "source": [
    "- Finally run:`jupyter labextension install @jupyter-widgets/jupyterlab-manager`"
   ]
  },
  {
   "cell_type": "code",
   "execution_count": 6,
   "metadata": {
    "tags": []
   },
   "outputs": [
    {
     "name": "stdout",
     "output_type": "stream",
     "text": [
      "/Library/Frameworks/Python.framework/Versions/3.8/lib/python3.8/site-packages/jupyter_server/transutils.py:13: FutureWarning: The alias `_()` will be deprecated. Use `_i18n()` instead.\n",
      "  warnings.warn(warn_msg, FutureWarning)\n",
      "Building jupyterlab assets (production, minimized)\n"
     ]
    }
   ],
   "source": [
    "!jupyter labextension install @jupyter-widgets/jupyterlab-manager"
   ]
  },
  {
   "cell_type": "markdown",
   "metadata": {},
   "source": [
    "- Import `ipywidgets` module and you're ready to go"
   ]
  },
  {
   "cell_type": "code",
   "execution_count": 2,
   "metadata": {},
   "outputs": [],
   "source": [
    "from __future__ import print_function\n",
    "from ipywidgets import interact, interactive, fixed, interact_manual\n",
    "import ipywidgets as widgets"
   ]
  },
  {
   "cell_type": "code",
   "execution_count": 3,
   "metadata": {},
   "outputs": [],
   "source": [
    "def f(x):\n",
    "    return x*x"
   ]
  },
  {
   "cell_type": "code",
   "execution_count": 4,
   "metadata": {},
   "outputs": [
    {
     "data": {
      "application/vnd.jupyter.widget-view+json": {
       "model_id": "c8206e90fc5a4c4194d280d292a22cf5",
       "version_major": 2,
       "version_minor": 0
      },
      "text/plain": [
       "interactive(children=(IntSlider(value=10, description='x', max=30, min=-10), Output()), _dom_classes=('widget-…"
      ]
     },
     "metadata": {},
     "output_type": "display_data"
    }
   ],
   "source": [
    "interact(f, x=10);"
   ]
  },
  {
   "cell_type": "code",
   "execution_count": 5,
   "metadata": {},
   "outputs": [
    {
     "name": "stdout",
     "output_type": "stream",
     "text": [
      "[NbConvertApp] Converting notebook QuestionLab3.ipynb to latex\n",
      "[NbConvertApp] Writing 33174 bytes to QuestionLab3.tex\n"
     ]
    }
   ],
   "source": [
    "!jupyter nbconvert QuestionLab3.ipynb --to latex"
   ]
  },
  {
   "cell_type": "code",
   "execution_count": null,
   "metadata": {},
   "outputs": [],
   "source": []
  }
 ],
 "metadata": {
  "kernelspec": {
   "display_name": "Python 3",
   "language": "python",
   "name": "python3"
  },
  "language_info": {
   "codemirror_mode": {
    "name": "ipython",
    "version": 3
   },
   "file_extension": ".py",
   "mimetype": "text/x-python",
   "name": "python",
   "nbconvert_exporter": "python",
   "pygments_lexer": "ipython3",
   "version": "3.8.3"
  },
  "toc-autonumbering": false,
  "toc-showcode": false,
  "toc-showmarkdowntxt": false,
  "toc-showtags": false
 },
 "nbformat": 4,
 "nbformat_minor": 4
}
