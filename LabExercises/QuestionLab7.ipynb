{
 "cells": [
  {
   "cell_type": "markdown",
   "metadata": {},
   "source": [
    "**Scientific Computation (MKP3303)**\n",
    "\n",
    "\n",
    "> R.U.Gobithaasan (2021). Scientific Computing, Lectures for Undergraduate Degree Program B.Sc (Applied Mathematics), Faculty of Ocean Engineering Technology & Informatics, University Malaysia Terengganu.\n",
    "https://sites.google.com/site/gobithaasan/LearnTeach\n",
    "\n",
    "<p align=\"center\">\n",
    "     © 2021 R.U. Gobithaasan All Rights Reserved.\n",
    "\n",
    "</p>\n",
    "\n"
   ]
  },
  {
   "cell_type": "markdown",
   "metadata": {},
   "source": [
    "**Lab 7: Symbolic Computing & Integration**                             "
   ]
  },
  {
   "cell_type": "markdown",
   "metadata": {},
   "source": [
    "## Fill up the following declaration details:\n",
    "**I certify that this report is my own work, based on my personal study and/or research. I also certify that this report has not previously been submitted for assessment in any other unit, and that I have not copied in part or whole or otherwise plagiarised the work of other students and/or persons.**\n",
    "- Name:\n",
    "- Matrix Number: \n",
    "- Date: \n"
   ]
  },
  {
   "cell_type": "markdown",
   "metadata": {},
   "source": [
    "## General Instruction:\n",
    "Let say your matrix number is S54321. For computation below, ignore the first letter and use your matrix number by letting $\\mathbf{(\\alpha , \\beta, \\gamma, \\kappa, \\lambda) =(5,4,3,2,1)}$. Hence replace explicitly the values of greek letters as $\\alpha = 5, \\beta = 4, \\gamma = 3, \\kappa = 2, \\lambda =1$.\n",
    "\n",
    "\n",
    "For example:\n",
    "\n",
    "**Q0.** Compute $(\\beta * \\gamma * \\kappa)+{\\lambda})$:"
   ]
  },
  {
   "cell_type": "code",
   "execution_count": 1,
   "metadata": {},
   "outputs": [
    {
     "data": {
      "text/plain": [
       "25"
      ]
     },
     "execution_count": 1,
     "metadata": {},
     "output_type": "execute_result"
    }
   ],
   "source": [
    "(4*3*2)+1"
   ]
  },
  {
   "cell_type": "markdown",
   "metadata": {},
   "source": [
    "## Name your file as follows before submiting via epembelajaran.umt.edu.my\n",
    "- save as **matrixnumber-labnumber.ipynb**: for example **S54321-LAB7.ipynb**"
   ]
  },
  {
   "cell_type": "markdown",
   "metadata": {},
   "source": [
    "# LAB 7 QUESTIONS"
   ]
  },
  {
   "cell_type": "markdown",
   "metadata": {},
   "source": [
    "**Q0.**  Import NumPy module below as np and print out the version you're running:"
   ]
  },
  {
   "cell_type": "code",
   "execution_count": 2,
   "metadata": {},
   "outputs": [
    {
     "name": "stdout",
     "output_type": "stream",
     "text": [
      "3.4.2\n",
      "1.8\n"
     ]
    }
   ],
   "source": [
    "import numpy as np\n",
    "import matplotlib as mpl\n",
    "import matplotlib.pyplot as plt\n",
    "import sympy\n",
    "\n",
    "\n",
    "%matplotlib inline\n",
    "print(mpl.__version__)\n",
    "np.__version__\n",
    "print(sympy.__version__)"
   ]
  },
  {
   "cell_type": "markdown",
   "metadata": {},
   "source": [
    "## PART 1: Symbolic Computing"
   ]
  },
  {
   "cell_type": "markdown",
   "metadata": {},
   "source": [
    "**Q1**. Write a function expression using `sympy` for each $y_i$\n",
    " \n",
    " $$\n",
    " y_1 = \\alpha e^x \\\\\n",
    " y_2 = \\beta x \\\\\n",
    " y_3 = \\gamma ln(x)\n",
    " $$\n",
    " \n",
    " where `e` is the exponential function,`ln` is the natural logarithm.\n",
    " "
   ]
  },
  {
   "cell_type": "code",
   "execution_count": 3,
   "metadata": {},
   "outputs": [
    {
     "data": {
      "text/plain": [
       "(5*exp(x), 4*x, 3*log(x))"
      ]
     },
     "execution_count": 3,
     "metadata": {},
     "output_type": "execute_result"
    }
   ],
   "source": [
    "x = sympy.symbols('x')\n",
    "\n",
    "\n",
    "\n",
    "\n",
    "\n",
    "\n",
    "y1,y2, y3, "
   ]
  },
  {
   "cell_type": "markdown",
   "metadata": {},
   "source": [
    " **Q2**. Evaluate each $y_i$ the functions above with $x = \\kappa$  or $x = \\nu$, where whichever $\\kappa, \\nu  \\neq 0$."
   ]
  },
  {
   "cell_type": "code",
   "execution_count": 4,
   "metadata": {},
   "outputs": [
    {
     "data": {
      "text/plain": [
       "(5*exp(2), 8, 3*log(2))"
      ]
     },
     "execution_count": 4,
     "metadata": {},
     "output_type": "execute_result"
    }
   ],
   "source": []
  },
  {
   "cell_type": "markdown",
   "metadata": {},
   "source": [
    "**Q3**. Explicitly print the values of y1 and y2 obtained **Q2** as numerical values."
   ]
  },
  {
   "cell_type": "code",
   "execution_count": 5,
   "metadata": {
    "tags": []
   },
   "outputs": [
    {
     "data": {
      "text/plain": [
       "(36.9452804946533, 2.07944154167984)"
      ]
     },
     "execution_count": 5,
     "metadata": {},
     "output_type": "execute_result"
    }
   ],
   "source": []
  },
  {
   "cell_type": "markdown",
   "metadata": {},
   "source": [
    "**Q4**. Factor the following expressions:\n",
    "1. $x^9-1$\n",
    "2. $x^8-y^8$"
   ]
  },
  {
   "cell_type": "code",
   "execution_count": null,
   "metadata": {},
   "outputs": [],
   "source": []
  },
  {
   "cell_type": "code",
   "execution_count": null,
   "metadata": {},
   "outputs": [],
   "source": []
  },
  {
   "cell_type": "markdown",
   "metadata": {},
   "source": [
    "**Q5**. Expand:\n",
    "1. $(x - 1)(x^2 + x + 1)(x^6 + x^3 + 1)$\n",
    "2. $(x - y)(x + y)(x^2 + y^2)(x^4 + y^4)$"
   ]
  },
  {
   "cell_type": "code",
   "execution_count": null,
   "metadata": {},
   "outputs": [],
   "source": []
  },
  {
   "cell_type": "code",
   "execution_count": null,
   "metadata": {},
   "outputs": [],
   "source": []
  },
  {
   "cell_type": "markdown",
   "metadata": {
    "tags": []
   },
   "source": [
    "**Q6**. Arrange the expression below based on the degree of $x$. TIPS: use `apart`\n",
    "$$\n",
    "\\left(x - y\\right) \\left(x + y\\right) \\left(x + 2 y\\right) \\left(x^{3} + y^{4}\\right)\n",
    "$$"
   ]
  },
  {
   "cell_type": "code",
   "execution_count": null,
   "metadata": {},
   "outputs": [],
   "source": []
  },
  {
   "cell_type": "markdown",
   "metadata": {},
   "source": [
    "## PART 2: Integration using SimPy"
   ]
  },
  {
   "cell_type": "markdown",
   "metadata": {},
   "source": [
    "---\n",
    "**Q7**.  \n",
    "1. First represent the function $h(x) = Cos(\\gamma + \\sqrt{x})$ as `h` using `sympy` function expression.  \n",
    "2. Next, use `sympy` plot method to draw $h(x)$ for $x \\in [3,12]$.\n",
    "3. Solve $ \\int Cos(\\gamma + \\sqrt{x})\\, dx$\n",
    "4. Finally, compute $ \\int_{3}^{12} Cos(\\gamma + \\sqrt{x}) \\, dx$"
   ]
  },
  {
   "cell_type": "code",
   "execution_count": null,
   "metadata": {},
   "outputs": [],
   "source": []
  },
  {
   "cell_type": "code",
   "execution_count": null,
   "metadata": {},
   "outputs": [],
   "source": []
  },
  {
   "cell_type": "code",
   "execution_count": null,
   "metadata": {},
   "outputs": [],
   "source": []
  },
  {
   "cell_type": "code",
   "execution_count": null,
   "metadata": {},
   "outputs": [],
   "source": []
  },
  {
   "cell_type": "markdown",
   "metadata": {},
   "source": [
    "---\n",
    "**Q8**.  \n",
    "1. First represent the function $g(x) = 4 x^3 - x$ as `g` using `sympy` function expression.  \n",
    "2. Next, use `sympy` plot method to draw $g(x)$ for $x \\in [0,1]$ and identify the inflection point.\n",
    "3. Solve $ \\int g(x) \\, dx$\n",
    "4. Determine the total area enclosed between of $g(x)$ and the x-axis for $x \\in [0,1]$. TIPS: Total area equals to the summision of lower and upper area."
   ]
  },
  {
   "cell_type": "code",
   "execution_count": null,
   "metadata": {},
   "outputs": [],
   "source": []
  },
  {
   "cell_type": "code",
   "execution_count": null,
   "metadata": {},
   "outputs": [],
   "source": []
  },
  {
   "cell_type": "code",
   "execution_count": null,
   "metadata": {},
   "outputs": [],
   "source": []
  },
  {
   "cell_type": "code",
   "execution_count": null,
   "metadata": {},
   "outputs": [],
   "source": []
  },
  {
   "cell_type": "markdown",
   "metadata": {},
   "source": [
    "---\n",
    "**Q9**. Solve the following integration problem taken from from Srinivasa Ramanujan's notebooks:\n",
    "1. $ \\int Log(\\frac{u}{v})\\, dv$\n",
    "2. $ \\int \\frac{Log(\\frac{1+\\sqrt{1+4 x}}{2})}{x}\\, dx$\n",
    "\n",
    "* Try comparing the results with Mathematica:\n",
    "> Integrate[Log[(1 + Sqrt[1 + 4 x])/2]/x, {x, 0, 1}]\n"
   ]
  },
  {
   "cell_type": "code",
   "execution_count": null,
   "metadata": {},
   "outputs": [],
   "source": []
  },
  {
   "cell_type": "code",
   "execution_count": null,
   "metadata": {},
   "outputs": [],
   "source": []
  },
  {
   "cell_type": "markdown",
   "metadata": {},
   "source": [
    "---\n",
    "**Q10**. Two curves are given as $f1(x) = Cos(\\gamma + \\sqrt{x})$ and $f2(x) = x$.\n",
    "1. Draw these curves in a the same plot for $x \\in [0,20]$.\n",
    "2. Find the area under these two curves for $x \\in [5,20]$ and show the answer in exact and numerical form\n"
   ]
  },
  {
   "cell_type": "code",
   "execution_count": null,
   "metadata": {},
   "outputs": [],
   "source": []
  },
  {
   "cell_type": "code",
   "execution_count": null,
   "metadata": {},
   "outputs": [],
   "source": []
  },
  {
   "cell_type": "code",
   "execution_count": null,
   "metadata": {},
   "outputs": [],
   "source": []
  },
  {
   "cell_type": "markdown",
   "metadata": {},
   "source": [
    "---\n",
    "**Q11**. \n",
    "1. Plot a function function $f(x,y) = \\kappa - y $. Compute  $\\int (\\kappa - y) \\, dx dy$.\n",
    "2. What is the volume of $f(x,y) = \\kappa - y $ where $x \\in [2,4]$ and $y \\in [5,10]$ which makes a tetrahedron. \n",
    "3. Verify you answer manualy computing the volume of this tetrahedron; volume = area x height.\n",
    "\n"
   ]
  },
  {
   "cell_type": "code",
   "execution_count": null,
   "metadata": {},
   "outputs": [],
   "source": []
  },
  {
   "cell_type": "code",
   "execution_count": null,
   "metadata": {},
   "outputs": [],
   "source": []
  },
  {
   "cell_type": "code",
   "execution_count": null,
   "metadata": {},
   "outputs": [],
   "source": []
  },
  {
   "cell_type": "markdown",
   "metadata": {},
   "source": [
    "---\n",
    "## PART 3: Intergration using SciPy\n",
    "---"
   ]
  },
  {
   "cell_type": "markdown",
   "metadata": {
    "tags": []
   },
   "source": [
    "**Q12** \n",
    "1. Compute $ \\int_{0.5}^{1.3} 4 x^3 - x \\, dx$ using analytical approach.\n",
    "2. Next, compute $ \\int_{0.5}^1 4 x^3 - x \\, dx$ using `trapz` and `simps` \n",
    "3. Compute the error produced. "
   ]
  },
  {
   "cell_type": "code",
   "execution_count": null,
   "metadata": {},
   "outputs": [],
   "source": []
  },
  {
   "cell_type": "code",
   "execution_count": null,
   "metadata": {},
   "outputs": [],
   "source": []
  },
  {
   "cell_type": "code",
   "execution_count": null,
   "metadata": {},
   "outputs": [],
   "source": []
  },
  {
   "cell_type": "markdown",
   "metadata": {},
   "source": [
    " **Q13**. Answer the following question:\n",
    " 1. First, plot $\\frac{\\kappa}{x^3+1}$ for $x \\in [-2,2]$. Can you identify the singularity?\n",
    " 2. Next, solve $ \\int \\frac{\\kappa}{x^3+1} \\, dx$. \n",
    " 3. Finally, solve $ \\int_{-2}^2 \\frac{\\kappa}{x^3+1} \\, dx$ using numerical approach with `quad`. "
   ]
  },
  {
   "cell_type": "code",
   "execution_count": null,
   "metadata": {},
   "outputs": [],
   "source": []
  },
  {
   "cell_type": "code",
   "execution_count": null,
   "metadata": {},
   "outputs": [],
   "source": []
  },
  {
   "cell_type": "code",
   "execution_count": null,
   "metadata": {},
   "outputs": [],
   "source": []
  },
  {
   "cell_type": "markdown",
   "metadata": {},
   "source": [
    " **Q14**. Given an array of points in $(xval,yval) \\in R^2$\n",
    " 1. plot this points using matplotlib module.\n",
    " 2. Compute total area enclosed between these points  and the x-axis using Trapezoidal and Simpson's method. \n"
   ]
  },
  {
   "cell_type": "code",
   "execution_count": 32,
   "metadata": {},
   "outputs": [],
   "source": [
    "xval = np.array([-0.5       , -0.42105263, -0.34210526, -0.26315789, -0.18421053,\n",
    "       -0.10526316, -0.02631579,  0.05263158,  0.13157895,  0.21052632,\n",
    "        0.28947368,  0.36842105,  0.44736842,  0.52631579,  0.60526316,\n",
    "        0.68421053,  0.76315789,  0.84210526,  0.92105263,  1.        ])"
   ]
  },
  {
   "cell_type": "code",
   "execution_count": 33,
   "metadata": {},
   "outputs": [],
   "source": [
    "yval = np.array([6.        , 5.71963843, 5.5022598 , 5.33605482, 5.20921417,\n",
    "       5.10992856, 5.02638869, 4.94678525, 4.85930894, 4.75215046,\n",
    "       4.61350051, 4.43154979, 4.19448899, 3.89050882, 3.50779997,\n",
    "       3.03455314, 2.45895903, 1.76920834, 0.95349176, 0.        ])"
   ]
  },
  {
   "cell_type": "code",
   "execution_count": null,
   "metadata": {},
   "outputs": [],
   "source": []
  },
  {
   "cell_type": "code",
   "execution_count": null,
   "metadata": {},
   "outputs": [],
   "source": []
  }
 ],
 "metadata": {
  "kernelspec": {
   "display_name": "Python 3",
   "language": "python",
   "name": "python3"
  },
  "language_info": {
   "codemirror_mode": {
    "name": "ipython",
    "version": 3
   },
   "file_extension": ".py",
   "mimetype": "text/x-python",
   "name": "python",
   "nbconvert_exporter": "python",
   "pygments_lexer": "ipython3",
   "version": "3.8.3"
  },
  "toc-autonumbering": false,
  "toc-showcode": false,
  "toc-showmarkdowntxt": false,
  "toc-showtags": false
 },
 "nbformat": 4,
 "nbformat_minor": 4
}
