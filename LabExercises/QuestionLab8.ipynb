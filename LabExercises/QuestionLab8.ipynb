{
 "cells": [
  {
   "cell_type": "markdown",
   "metadata": {},
   "source": [
    "**Scientific Computation (MKP3303)**\n",
    "\n",
    "\n",
    "> R.U.Gobithaasan (2021). Scientific Computing, Lectures for Undergraduate Degree Program B.Sc (Applied Mathematics), Faculty of Ocean Engineering Technology & Informatics, University Malaysia Terengganu.\n",
    "https://sites.google.com/site/gobithaasan/LearnTeach\n",
    "\n",
    "<p align=\"center\">\n",
    "     © 2021 R.U. Gobithaasan All Rights Reserved.\n",
    "\n",
    "</p>\n",
    "\n"
   ]
  },
  {
   "cell_type": "markdown",
   "metadata": {},
   "source": [
    "**Lab 7: Symbolic Computing & Integration**                             "
   ]
  },
  {
   "cell_type": "markdown",
   "metadata": {},
   "source": [
    "## Fill up the following declaration details:\n",
    "**I certify that this report is my own work, based on my personal study and/or research. I also certify that this report has not previously been submitted for assessment in any other unit, and that I have not copied in part or whole or otherwise plagiarised the work of other students and/or persons.**\n",
    "- Name:\n",
    "- Matrix Number: \n",
    "- Date: \n"
   ]
  },
  {
   "cell_type": "markdown",
   "metadata": {},
   "source": [
    "## General Instruction:\n",
    "Let say your matrix number is S54321. For computation below, ignore the first letter and use your matrix number by letting $\\mathbf{(\\alpha , \\beta, \\gamma, \\kappa, \\lambda) =(5,4,3,2,1)}$. Hence replace explicitly the values of greek letters as $\\alpha = 5, \\beta = 4, \\gamma = 3, \\kappa = 2, \\lambda =1$.\n",
    "\n",
    "\n",
    "For example:\n",
    "\n",
    "**Q0.** Compute $(\\beta * \\gamma * \\kappa)+{\\lambda})$:"
   ]
  },
  {
   "cell_type": "code",
   "execution_count": 1,
   "metadata": {},
   "outputs": [
    {
     "data": {
      "text/plain": [
       "25"
      ]
     },
     "execution_count": 1,
     "metadata": {},
     "output_type": "execute_result"
    }
   ],
   "source": [
    "(4*3*2)+1"
   ]
  },
  {
   "cell_type": "markdown",
   "metadata": {},
   "source": [
    "## Name your file as follows before submiting via epembelajaran.umt.edu.my\n",
    "- save as **matrixnumber-labnumber.ipynb**: for example **S54321-LAB7.ipynb**"
   ]
  },
  {
   "cell_type": "markdown",
   "metadata": {},
   "source": [
    "# LAB 8 QUESTIONS"
   ]
  },
  {
   "cell_type": "markdown",
   "metadata": {},
   "source": [
    "**Q0.**  Import NumPy module below as np and print out the version you're running:"
   ]
  },
  {
   "cell_type": "code",
   "execution_count": 2,
   "metadata": {},
   "outputs": [],
   "source": [
    "import numpy as np\n",
    "import matplotlib.pyplot as plt\n",
    "import sympy\n",
    "from scipy import integrate\n",
    "\n",
    "%matplotlib inline"
   ]
  },
  {
   "cell_type": "markdown",
   "metadata": {},
   "source": [
    "## PART 1: Computing Limit"
   ]
  },
  {
   "cell_type": "markdown",
   "metadata": {},
   "source": [
    "**Q1**. Plot the following function:\n",
    "\n",
    "\\begin{align*}\n",
    "1) &\\, f_1(x) = (\\beta x^2 + \\gamma x + 5)\\\\\n",
    "\\\\\n",
    "2) &\\,  f_2(x) = \\frac{\\sin x -2}{\\cos x -1}\\\\\n",
    "\\\\\n",
    "3) &\\, f_3(x) = \\frac{x^2 -1}{2x + \\beta} \\\\\n",
    "\\\\\n",
    "4) &\\, f_4(x) = x \\sin{( 2\\pi \\sqrt{1+x^2})}\\\\\n",
    "\\end{align*}\n",
    "\n",
    " "
   ]
  },
  {
   "cell_type": "code",
   "execution_count": null,
   "metadata": {},
   "outputs": [],
   "source": []
  },
  {
   "cell_type": "code",
   "execution_count": null,
   "metadata": {},
   "outputs": [],
   "source": []
  },
  {
   "cell_type": "code",
   "execution_count": null,
   "metadata": {},
   "outputs": [],
   "source": []
  },
  {
   "cell_type": "code",
   "execution_count": null,
   "metadata": {},
   "outputs": [],
   "source": []
  },
  {
   "cell_type": "markdown",
   "metadata": {},
   "source": [
    "**Q2**. Evaluate the following limits:\n",
    "\n",
    "\\begin{align*}\n",
    "1) &\\,  \\lim_{x\\to 1} (\\beta x^2 + \\gamma x + 5)\\\\\n",
    "\\\\\n",
    "2) &\\,  \\lim_{x\\to 0} \\frac{\\sin x -2}{\\cos x -1}\\\\\n",
    "\\\\\n",
    "3) &\\,  \\lim_{x\\to -2} \\frac{x^2 -1}{2x + \\beta} \\\\\n",
    "\\\\\n",
    "4) &\\, \\lim_{x\\to \\infty} x\\sin{ 2\\pi \\sqrt{1+x^2}}\\\\\n",
    "\\end{align*}\n",
    "\n",
    " "
   ]
  },
  {
   "cell_type": "code",
   "execution_count": null,
   "metadata": {},
   "outputs": [],
   "source": []
  },
  {
   "cell_type": "code",
   "execution_count": null,
   "metadata": {},
   "outputs": [],
   "source": []
  },
  {
   "cell_type": "code",
   "execution_count": null,
   "metadata": {},
   "outputs": [],
   "source": []
  },
  {
   "cell_type": "code",
   "execution_count": null,
   "metadata": {},
   "outputs": [],
   "source": []
  },
  {
   "cell_type": "code",
   "execution_count": null,
   "metadata": {},
   "outputs": [],
   "source": []
  },
  {
   "cell_type": "markdown",
   "metadata": {},
   "source": [
    "## PART 2: Differentiation using SimPy"
   ]
  },
  {
   "cell_type": "markdown",
   "metadata": {},
   "source": [
    "## Symbolic Differentiation"
   ]
  },
  {
   "cell_type": "markdown",
   "metadata": {},
   "source": [
    "**Q3**. Differentiate the following functions $\\frac{d}{dx} f_i(x)$ and represent the answer after simplification:\n",
    "\n",
    "\\begin{align*}\n",
    "1) &\\, f_1(x) = (\\beta x^3 e^{x} \\sin{x})\\\\\n",
    "\\\\\n",
    "2) &\\, f_2(x) = sin(x^2+ \\gamma)\\\\\n",
    "\\\\\n",
    "3) &\\, f_3(x) = \\tan^{-1}{\\sqrt{\\frac{a - x}{a + x}}} \\\\\n",
    "\\\\\n",
    "4) &\\, f_4(x) = \\sqrt{\\sin{ (\\beta \\sqrt{x})}}\\\\\n",
    "\\end{align*}\n",
    "where `e` is the exponential function. "
   ]
  },
  {
   "cell_type": "code",
   "execution_count": null,
   "metadata": {},
   "outputs": [],
   "source": []
  },
  {
   "cell_type": "code",
   "execution_count": null,
   "metadata": {},
   "outputs": [],
   "source": []
  },
  {
   "cell_type": "code",
   "execution_count": null,
   "metadata": {},
   "outputs": [],
   "source": []
  },
  {
   "cell_type": "code",
   "execution_count": null,
   "metadata": {},
   "outputs": [],
   "source": []
  },
  {
   "cell_type": "markdown",
   "metadata": {},
   "source": [
    "**Q4**. Find second derivative $\\frac{d^2}{dx^2} f_i(x)$  and third derivatives $\\frac{d^3}{dx^3} f_i(x)$ of the following functions  represent the answer after simplification:\n",
    "\n",
    "\\begin{align*}\n",
    "1) &\\, f_5(x) = (\\beta x^3 e^{x} \\sin{x})\\\\\n",
    "\\\\\n",
    "2) &\\, f_6(x) = sin(x^2+ \\gamma)\\\\\n",
    "\\\\\n",
    "3) &\\, f_7(x) = \\tan^{-1}{\\sqrt{\\frac{1 - x}{1 + x}}} \\\\\n",
    "\\\\\n",
    "4) &\\, f_8(x) = \\sqrt{\\sin{ (\\beta \\sqrt{x})}}\\\\\n",
    "\\end{align*}\n",
    "where `e` is the exponential function. "
   ]
  },
  {
   "cell_type": "code",
   "execution_count": null,
   "metadata": {},
   "outputs": [],
   "source": []
  },
  {
   "cell_type": "code",
   "execution_count": null,
   "metadata": {},
   "outputs": [],
   "source": []
  },
  {
   "cell_type": "code",
   "execution_count": null,
   "metadata": {},
   "outputs": [],
   "source": []
  },
  {
   "cell_type": "code",
   "execution_count": null,
   "metadata": {},
   "outputs": [],
   "source": []
  },
  {
   "cell_type": "code",
   "execution_count": null,
   "metadata": {},
   "outputs": [],
   "source": []
  },
  {
   "cell_type": "markdown",
   "metadata": {},
   "source": [
    "**Q5**. Differentiate the following functions $\\frac{\\partial}{\\partial{y}\\partial{x}} f_i(x,y)$ and represent the answer after simplification:\n",
    "\n",
    "\\begin{align*}\n",
    "1) &\\, f_9(x,y) = (\\beta x^3 e^{x} \\sin{y})\\\\\n",
    "\\\\\n",
    "2) &\\, f_{10}(x,y) = sin(x^y+ \\gamma)\\\\\n",
    "\\\\\n",
    "3) &\\, f_{11}(x,y) = \\tan^{-1}{\\sqrt{\\frac{1 - x}{1 + y}}} \\\\\n",
    "\\\\\n",
    "4) &\\, f_{12}(x,y) = \\sqrt{\\sin{ (\\beta \\sqrt{xy})}}\\\\\n",
    "\\end{align*}\n",
    "where `e` is the exponential function. "
   ]
  },
  {
   "cell_type": "code",
   "execution_count": null,
   "metadata": {},
   "outputs": [],
   "source": []
  },
  {
   "cell_type": "code",
   "execution_count": null,
   "metadata": {},
   "outputs": [],
   "source": []
  },
  {
   "cell_type": "code",
   "execution_count": null,
   "metadata": {},
   "outputs": [],
   "source": []
  },
  {
   "cell_type": "code",
   "execution_count": null,
   "metadata": {},
   "outputs": [],
   "source": []
  },
  {
   "cell_type": "code",
   "execution_count": null,
   "metadata": {},
   "outputs": [],
   "source": []
  },
  {
   "cell_type": "markdown",
   "metadata": {},
   "source": [
    "## First order ODE"
   ]
  },
  {
   "cell_type": "markdown",
   "metadata": {},
   "source": [
    "**Q6**. Plot direction field for the following ODE using the function `plot_direction_field()` below\n",
    "\n",
    "\\begin{align*}\n",
    "1) &\\, \\frac{d}{dx} f_5(x) = (\\beta x^3 e^{x} \\sin{x})\\\\\n",
    "\\\\\n",
    "2) &\\, \\frac{d}{dx} f_6(x) = sin(x^2+ \\gamma)\\\\\n",
    "\\end{align*}\n",
    "where `e` is the exponential function. "
   ]
  },
  {
   "cell_type": "code",
   "execution_count": 27,
   "metadata": {},
   "outputs": [],
   "source": [
    "import matplotlib.pyplot as plt\n",
    "\n",
    "def plot_direction_field(x, y_x, f_xy, x_lim=(-5, 5), y_lim=(-5, 5), ax=None):\n",
    "        f_np = sympy.lambdify((x, y_x), f_xy, 'numpy')\n",
    "        x_vec = np.linspace(x_lim[0], x_lim[1], 20)\n",
    "        y_vec = np.linspace(y_lim[0], y_lim[1], 20)\n",
    "        \n",
    "        if ax is None:\n",
    "            _, ax = plt.subplots(figsize=(4, 4))\n",
    "             \n",
    "        dx = x_vec[1] - x_vec[0]\n",
    "        dy = y_vec[1] - y_vec[0]\n",
    "        \n",
    "        for m, xx in enumerate(x_vec):\n",
    "            for n, yy in enumerate(y_vec):\n",
    "                Dy = f_np(xx, yy) * dx\n",
    "                Dx = 0.8 * dx**2 / np.sqrt(dx**2 + Dy**2)\n",
    "                Dy = 0.8 * Dy*dy / np.sqrt(dx**2 + Dy**2)\n",
    "                ax.plot([xx - Dx/2, xx + Dx/2],\n",
    "                        [yy - Dy/2, yy + Dy/2], 'b', lw=0.5)\n",
    "        \n",
    "        ax.axis('tight')\n",
    "        ax.set_title(r\"$%s$\" %\n",
    "                    (sympy.latex(sympy.Eq(y(x).diff(x), f_xy))),\n",
    "                    fontsize=18)\n",
    "        return ax"
   ]
  },
  {
   "cell_type": "code",
   "execution_count": null,
   "metadata": {},
   "outputs": [],
   "source": []
  },
  {
   "cell_type": "markdown",
   "metadata": {},
   "source": [
    "**Q6**. Solve following ODE analytically.\n",
    "\n",
    "\\begin{align*}\n",
    "1) &\\, \\frac{d}{dx} f_5(x) = (\\beta x^3 e^{x} \\sin{x})\\\\\n",
    "\\\\\n",
    "2) &\\, \\frac{d}{dx} f_6(x) = sin(x^2+ \\gamma)\\\\\n",
    "\\end{align*}\n",
    "where `e` is the exponential function. "
   ]
  },
  {
   "cell_type": "code",
   "execution_count": null,
   "metadata": {},
   "outputs": [],
   "source": []
  },
  {
   "cell_type": "code",
   "execution_count": null,
   "metadata": {},
   "outputs": [],
   "source": []
  },
  {
   "cell_type": "code",
   "execution_count": null,
   "metadata": {},
   "outputs": [],
   "source": []
  },
  {
   "cell_type": "code",
   "execution_count": null,
   "metadata": {},
   "outputs": [],
   "source": []
  },
  {
   "cell_type": "markdown",
   "metadata": {},
   "source": [
    "**Q7**. \n",
    "\n",
    "1. Solve the following ODE using analytical approach:  \n",
    "$$f^{'}(x) = (\\beta x^3 - \\alpha)$$\n",
    "\n",
    "2. Let the initial condition (IC) given as: $f(2) =3$, solve for the integration constant $C_1$.\n",
    "\n",
    "3. Next, substitute the value integration constant into the ODE solution.\n",
    "\n",
    "4. Finally, plot the direction field for this ODE along with the solution obtained with given IC above.\n"
   ]
  },
  {
   "cell_type": "code",
   "execution_count": null,
   "metadata": {},
   "outputs": [],
   "source": []
  },
  {
   "cell_type": "code",
   "execution_count": null,
   "metadata": {},
   "outputs": [],
   "source": []
  },
  {
   "cell_type": "code",
   "execution_count": null,
   "metadata": {},
   "outputs": [],
   "source": []
  },
  {
   "cell_type": "code",
   "execution_count": null,
   "metadata": {},
   "outputs": [],
   "source": []
  },
  {
   "cell_type": "markdown",
   "metadata": {},
   "source": [
    "**Q8**. \n",
    "\n",
    "1. Solve the following ODE using analytical approach:  \n",
    "$$f^{'}(x) = (\\beta x^3 e^{x} \\sin{x})$$\n",
    "\n",
    "2. Let the initial condition (IC) given as:  $f_1(-1.5) = 1.37$, solve for the integration constant $C_1$.\n",
    "\n",
    "3. Next, substitute the value integration constant into the ODE solution.\n",
    "\n",
    "4. Finally, plot the direction field for this ODE along with the solution obtained with given IC.\n"
   ]
  },
  {
   "cell_type": "code",
   "execution_count": null,
   "metadata": {},
   "outputs": [],
   "source": []
  },
  {
   "cell_type": "code",
   "execution_count": null,
   "metadata": {},
   "outputs": [],
   "source": []
  },
  {
   "cell_type": "code",
   "execution_count": null,
   "metadata": {},
   "outputs": [],
   "source": []
  },
  {
   "cell_type": "code",
   "execution_count": null,
   "metadata": {},
   "outputs": [],
   "source": []
  },
  {
   "cell_type": "markdown",
   "metadata": {},
   "source": [
    "## PART 3: Analytical Solution of equation(s)"
   ]
  },
  {
   "cell_type": "markdown",
   "metadata": {},
   "source": [
    "---\n",
    "**Q9.** Plot the following equations to visually check the number of root(s).\n",
    "\n",
    "1. $ f(x) = \\gamma(x+1)(x-1/2)(x-1)$\n",
    "2. $ f(x) = \\alpha x^4-7x^2+14x-6$\n",
    "    "
   ]
  },
  {
   "cell_type": "code",
   "execution_count": null,
   "metadata": {},
   "outputs": [],
   "source": []
  },
  {
   "cell_type": "markdown",
   "metadata": {},
   "source": [
    "\n",
    "**Q10.** Find the root of the equations stated in **Q9** using analytical method."
   ]
  },
  {
   "cell_type": "code",
   "execution_count": null,
   "metadata": {},
   "outputs": [],
   "source": []
  },
  {
   "cell_type": "code",
   "execution_count": null,
   "metadata": {},
   "outputs": [],
   "source": []
  },
  {
   "cell_type": "markdown",
   "metadata": {},
   "source": [
    "Check each of your solutions using the following methods:\n",
    "1. substitute back in the original equation.\n",
    "2. use `sympy.checksol`."
   ]
  },
  {
   "cell_type": "markdown",
   "metadata": {},
   "source": [
    "-  **Q9(1)**"
   ]
  },
  {
   "cell_type": "code",
   "execution_count": null,
   "metadata": {},
   "outputs": [],
   "source": []
  },
  {
   "cell_type": "code",
   "execution_count": null,
   "metadata": {},
   "outputs": [],
   "source": []
  },
  {
   "cell_type": "markdown",
   "metadata": {},
   "source": [
    "-  **Q9(2)**"
   ]
  },
  {
   "cell_type": "code",
   "execution_count": null,
   "metadata": {},
   "outputs": [],
   "source": []
  },
  {
   "cell_type": "code",
   "execution_count": null,
   "metadata": {},
   "outputs": [],
   "source": []
  },
  {
   "cell_type": "markdown",
   "metadata": {},
   "source": [
    "---"
   ]
  },
  {
   "cell_type": "markdown",
   "metadata": {},
   "source": [
    "\n",
    "**Q11.** Represent the following system of equations using Numpy array and solve it using LU decomposition:\n",
    "$$\n",
    " 2 x_1 +  \\gamma x_2 = \\gamma\n",
    "$$\n",
    "$$\n",
    "x_1  + x_2 + x_3 = -\\beta\n",
    "$$\n",
    "$$\n",
    "\\beta x_1  + 8x_2 - \\gamma x_3 = 35\n",
    "$$"
   ]
  },
  {
   "cell_type": "markdown",
   "metadata": {},
   "source": [
    "-  **Array representation**"
   ]
  },
  {
   "cell_type": "code",
   "execution_count": null,
   "metadata": {},
   "outputs": [],
   "source": []
  },
  {
   "cell_type": "markdown",
   "metadata": {},
   "source": [
    "-  **LU solution**"
   ]
  },
  {
   "cell_type": "code",
   "execution_count": null,
   "metadata": {},
   "outputs": [],
   "source": []
  },
  {
   "cell_type": "markdown",
   "metadata": {},
   "source": [
    "\n",
    "**Q12.** Solve the following system of equations using Sympy analytical approach and check the solution using `sympy.checksol`.\n",
    "$$\n",
    " 2 x_1 +  \\gamma x_2 = \\gamma\n",
    "$$\n",
    "$$\n",
    "x_1  + x_2 + x_3 = -\\beta\n",
    "$$\n",
    "$$\n",
    "\\beta x_1  + 8x_2 - \\gamma x_3 = 35\n",
    "$$"
   ]
  },
  {
   "cell_type": "markdown",
   "metadata": {},
   "source": [
    "-  **Analytical Solution**"
   ]
  },
  {
   "cell_type": "code",
   "execution_count": null,
   "metadata": {},
   "outputs": [],
   "source": []
  },
  {
   "cell_type": "markdown",
   "metadata": {},
   "source": [
    "-  **Verify solution**"
   ]
  },
  {
   "cell_type": "code",
   "execution_count": null,
   "metadata": {},
   "outputs": [],
   "source": []
  },
  {
   "cell_type": "markdown",
   "metadata": {},
   "source": [
    "## PART 4: Numerical Solution of equation(s)"
   ]
  },
  {
   "cell_type": "markdown",
   "metadata": {},
   "source": [
    "---\n",
    "**Q13.** Find the root(s) of  $ f(x) = \\alpha x^4-7x^2+14x-6$, using the following numerical approach with the input given for each methods.\n",
    "\n",
    "1. `scipy.optimize.bisect` with $[a,b] = [-1,1]$\n",
    "2. `scipy.optimize.newton` with initial guess $x=2$ and, **compute both with and without its derivative.**\n",
    "    "
   ]
  },
  {
   "cell_type": "markdown",
   "metadata": {},
   "source": [
    "-  **Bisection Method**"
   ]
  },
  {
   "cell_type": "code",
   "execution_count": null,
   "metadata": {},
   "outputs": [],
   "source": []
  },
  {
   "cell_type": "markdown",
   "metadata": {},
   "source": [
    "-  **Newton's Method**"
   ]
  },
  {
   "cell_type": "code",
   "execution_count": null,
   "metadata": {},
   "outputs": [],
   "source": []
  },
  {
   "cell_type": "markdown",
   "metadata": {},
   "source": [
    "\n",
    "**Q14.** Compute the errors based on the analytical solution you obtained in **Q10** and the numerical solutions obtained by both Newton's method \n",
    "\n",
    "- TIPS: error = absolute value of (analytical root - approximated root)"
   ]
  },
  {
   "cell_type": "markdown",
   "metadata": {},
   "source": [
    "-  **Newton's method (without fprime)**"
   ]
  },
  {
   "cell_type": "code",
   "execution_count": null,
   "metadata": {},
   "outputs": [],
   "source": []
  },
  {
   "cell_type": "markdown",
   "metadata": {},
   "source": [
    "-  **Newton's method (fprime)**"
   ]
  },
  {
   "cell_type": "code",
   "execution_count": null,
   "metadata": {},
   "outputs": [],
   "source": []
  },
  {
   "cell_type": "markdown",
   "metadata": {},
   "source": [
    "---"
   ]
  },
  {
   "cell_type": "markdown",
   "metadata": {},
   "source": [
    "\n",
    "**Q15.** Solve the following system of equations using `sympy.optimize.fsolve`.\n",
    "- Compute **with and without Jacobian matrix**, with initial values as $[x_1,x_2,x_3] = [1,0,0]$.\n",
    "\n",
    "\n",
    "$$\n",
    " 2 x_1 +  \\gamma cos(x_2) = \\gamma\n",
    "$$\n",
    "$$\n",
    "x_1  + x_2 + x_3 = -\\beta\n",
    "$$\n",
    "$$\n",
    "\\beta sin(x_1)  + 8x_2 - \\gamma x_3 = 35\n",
    "$$"
   ]
  },
  {
   "cell_type": "markdown",
   "metadata": {},
   "source": [
    "-  **setup the function def**"
   ]
  },
  {
   "cell_type": "code",
   "execution_count": null,
   "metadata": {},
   "outputs": [],
   "source": []
  },
  {
   "cell_type": "markdown",
   "metadata": {},
   "source": [
    "- **without Jacobian matrix**"
   ]
  },
  {
   "cell_type": "code",
   "execution_count": null,
   "metadata": {},
   "outputs": [],
   "source": []
  },
  {
   "cell_type": "markdown",
   "metadata": {},
   "source": [
    "- **with Jacobian matrix**"
   ]
  },
  {
   "cell_type": "code",
   "execution_count": null,
   "metadata": {},
   "outputs": [],
   "source": []
  }
 ],
 "metadata": {
  "kernelspec": {
   "display_name": "Python 3",
   "language": "python",
   "name": "python3"
  },
  "language_info": {
   "codemirror_mode": {
    "name": "ipython",
    "version": 3
   },
   "file_extension": ".py",
   "mimetype": "text/x-python",
   "name": "python",
   "nbconvert_exporter": "python",
   "pygments_lexer": "ipython3",
   "version": "3.8.3"
  },
  "toc-autonumbering": false,
  "toc-showcode": false,
  "toc-showmarkdowntxt": false,
  "toc-showtags": false
 },
 "nbformat": 4,
 "nbformat_minor": 4
}
