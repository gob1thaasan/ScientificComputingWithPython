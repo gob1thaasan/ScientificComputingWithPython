{
 "cells": [
  {
   "cell_type": "markdown",
   "metadata": {},
   "source": [
    "**Scientific Computation (MKP3303)**\n",
    "\n",
    "\n",
    "> R.U.Gobithaasan (2021). Scientific Computing, Lectures for Undergraduate Degree Program B.Sc (Applied Mathematics), Faculty of Ocean Engineering Technology & Informatics, University Malaysia Terengganu.\n",
    "https://sites.google.com/site/gobithaasan/LearnTeach\n",
    "\n",
    "<p align=\"center\">\n",
    "     © 2021 R.U. Gobithaasan All Rights Reserved.\n",
    "\n",
    "</p>\n",
    "\n"
   ]
  },
  {
   "cell_type": "markdown",
   "metadata": {},
   "source": [
    "**Lab 3: Numbers, Expressions and Functions**                             "
   ]
  },
  {
   "cell_type": "markdown",
   "metadata": {},
   "source": [
    "## Fill up the following declaration details:\n",
    "**I certify that this report is my own work, based on my personal study and/or research. I also certify that this report has not previously been submitted for assessment in any other unit, and that I have not copied in part or whole or otherwise plagiarised the work of other students and/or persons.**\n",
    "- Name:\n",
    "- Matrix Number: \n",
    "- Date: \n"
   ]
  },
  {
   "cell_type": "markdown",
   "metadata": {},
   "source": [
    "## General Instruction:\n",
    "Let say your matrix number is S54321. For computation below, ignore the first letter and use your matrix number by letting $\\mathbf{(\\alpha , \\beta, \\gamma, \\kappa, \\lambda) =(5,4,3,2,1)}$. Hence replace explicitly the values of greek letters as $\\alpha = 5, \\beta = 4, \\gamma = 3, \\kappa = 2, \\lambda =1$.\n",
    "\n",
    "\n",
    "For example:\n",
    "\n",
    "**Q0.** Compute $(\\beta * \\gamma * \\kappa)+{\\lambda})$:"
   ]
  },
  {
   "cell_type": "code",
   "execution_count": 1,
   "metadata": {},
   "outputs": [
    {
     "data": {
      "text/plain": [
       "25"
      ]
     },
     "execution_count": 1,
     "metadata": {},
     "output_type": "execute_result"
    }
   ],
   "source": [
    "(4*3*2)+1"
   ]
  },
  {
   "cell_type": "markdown",
   "metadata": {},
   "source": [
    "## Name your file as follows before submiting via pembelajaran.umt.edu.my\n",
    "- save as **matrixnumber-labnumber.ipynb**: for example **S54321-LAB4.ipynb**"
   ]
  },
  {
   "cell_type": "markdown",
   "metadata": {},
   "source": [
    "# LAB (4) QUESTIONS"
   ]
  },
  {
   "cell_type": "markdown",
   "metadata": {},
   "source": [
    "**Q0.**  Import NumPy module below as np and print out the version you're running:"
   ]
  },
  {
   "cell_type": "code",
   "execution_count": 2,
   "metadata": {},
   "outputs": [
    {
     "data": {
      "text/plain": [
       "'1.20.2'"
      ]
     },
     "execution_count": 2,
     "metadata": {},
     "output_type": "execute_result"
    }
   ],
   "source": [
    "import numpy as np\n",
    "np.__version__"
   ]
  },
  {
   "cell_type": "markdown",
   "metadata": {},
   "source": [
    "## PART A: VECTORS"
   ]
  },
  {
   "cell_type": "markdown",
   "metadata": {},
   "source": [
    "**Q1.**  A **vector** in ${\\mathbb{R}}^n$ is an $n$-tuple, or point, in ${\\mathbb{R}}^n$ can be represented in a row or column vector. Create a vector in ${\\mathbb{R}}^4$ as follows:\n",
    "- Create a  **row vector** and store is as $v_1 = (\\alpha , \\beta, \\gamma, \\kappa )$, \n",
    "- Create a **column vector** and store is as $v_2 =(\\beta, \\gamma, \\kappa \\lambda )$, . "
   ]
  },
  {
   "cell_type": "code",
   "execution_count": 3,
   "metadata": {},
   "outputs": [
    {
     "name": "stdout",
     "output_type": "stream",
     "text": [
      "(1, 4)\n",
      "(4, 1)\n"
     ]
    }
   ],
   "source": []
  },
  {
   "cell_type": "markdown",
   "metadata": {},
   "source": [
    "**Q2.** The **norm** of a vector is a measure of its length is denoted as $\\Vert v \\Vert_{2}$ =$ \\sqrt{\\sum_i v_i^2}$. Find the norm of $v_2$.\n",
    "\n",
    "**TIPS:** use`linalg.norm()` function."
   ]
  },
  {
   "cell_type": "code",
   "execution_count": 4,
   "metadata": {},
   "outputs": [
    {
     "name": "stdout",
     "output_type": "stream",
     "text": [
      "L2 norm :  5.477225575051661\n"
     ]
    }
   ],
   "source": []
  },
  {
   "cell_type": "markdown",
   "metadata": {},
   "source": [
    "**Q3.** First, Transpose $v_1$ and store it as $v_3$. Next, vector addition: $v_4 = v_2 + v_3$\n",
    "\n",
    "**TIPS:** use`.T`  or `transpose()` function."
   ]
  },
  {
   "cell_type": "code",
   "execution_count": 5,
   "metadata": {},
   "outputs": [
    {
     "name": "stdout",
     "output_type": "stream",
     "text": [
      "[[5]\n",
      " [4]\n",
      " [3]\n",
      " [2]]\n",
      "v2+v3: [[9]\n",
      " [7]\n",
      " [5]\n",
      " [3]]\n"
     ]
    }
   ],
   "source": []
  },
  {
   "cell_type": "markdown",
   "metadata": {},
   "source": [
    "**Q4.** Find the scalar product: $\\beta(v_2 + v_3)$\n"
   ]
  },
  {
   "cell_type": "code",
   "execution_count": 6,
   "metadata": {},
   "outputs": [
    {
     "name": "stdout",
     "output_type": "stream",
     "text": [
      "scalar product:  [[36]\n",
      " [28]\n",
      " [20]\n",
      " [12]]\n"
     ]
    }
   ],
   "source": []
  },
  {
   "cell_type": "markdown",
   "metadata": {
    "button": false,
    "new_sheet": false,
    "run_control": {
     "read_only": false
    }
   },
   "source": [
    "**Q5.** The **angle between two vectors**, $\\theta$, is defined by the formula:\n",
    "$$\n",
    "v \\cdot w = \\Vert v \\Vert_{2} \\Vert w \\Vert_{2} \\cos{\\theta}\n",
    "$$\n",
    " Compute the angle between the vectors $v_2$ and $v_4$. \n",
    " \n",
    " **TIPS:** use`linalg.norm`,`arccos()` and `dot` function."
   ]
  },
  {
   "cell_type": "code",
   "execution_count": 7,
   "metadata": {
    "button": false,
    "new_sheet": false,
    "run_control": {
     "read_only": false
    }
   },
   "outputs": [
    {
     "name": "stdout",
     "output_type": "stream",
     "text": [
      "[[4]\n",
      " [3]\n",
      " [2]\n",
      " [1]]\n",
      "[[5]\n",
      " [4]\n",
      " [3]\n",
      " [2]]\n",
      "[[0.11134101]]\n"
     ]
    }
   ],
   "source": []
  },
  {
   "cell_type": "markdown",
   "metadata": {
    "button": false,
    "new_sheet": false,
    "run_control": {
     "read_only": false
    }
   },
   "source": [
    "**Q6.** The **cross product** between two vectors, $v$ and $w$, is written $v \\times w$. The geometric interpretation of the cross product is a vector perpendicular to both $v$ and $w$ with length equal to the area enclosed by the parallelogram created by the two vectors.\n",
    "\n",
    "Given the vectors $v = [0, \\beta, 0]$ and $w = [\\kappa, 0, 0]$, use the Numpy function cross to compute the cross product of v and w."
   ]
  },
  {
   "cell_type": "code",
   "execution_count": 8,
   "metadata": {
    "button": false,
    "new_sheet": false,
    "run_control": {
     "read_only": false
    }
   },
   "outputs": [
    {
     "name": "stdout",
     "output_type": "stream",
     "text": [
      "[[  0   0 -12]]\n"
     ]
    }
   ],
   "source": []
  },
  {
   "cell_type": "markdown",
   "metadata": {},
   "source": [
    "## PART B: MATRIX"
   ]
  },
  {
   "cell_type": "markdown",
   "metadata": {},
   "source": [
    "**Q7.**  Create matrix A using `ndarray`, by letting the elements in the form of `int64`:\n",
    "\n",
    "$$\n",
    "\\begin{equation}\n",
    "\tA_{3 \\times 3}=\\begin{bmatrix}\n",
    "\t  a_{11} & a_{12}  & a_{13} \\\\\n",
    "\t  a_{21} & a_{22} & a_{23} \\\\\n",
    "\t  a_{31} & a_{32} & a_{33} \n",
    "\t\\end{bmatrix}\n",
    " = \\begin{bmatrix}\n",
    "\t  1 & 5 & a_{13} \\\\\n",
    "\t  2 & 6 & a_{23} \\\\\n",
    "\t  3 & 7 & a_{33} \n",
    "\t\\end{bmatrix}\n",
    "\\end{equation}\n",
    "$$\n",
    "\n",
    "where $$\\mathbf{(a_{13}, a_{23},a_{33})=(\\alpha , \\beta, \\gamma)}$$ \n"
   ]
  },
  {
   "cell_type": "code",
   "execution_count": 9,
   "metadata": {},
   "outputs": [
    {
     "data": {
      "text/plain": [
       "array([[ 0,  0,  5],\n",
       "       [ 0, -6,  4],\n",
       "       [ 3, -7,  3]])"
      ]
     },
     "execution_count": 9,
     "metadata": {},
     "output_type": "execute_result"
    }
   ],
   "source": []
  },
  {
   "cell_type": "markdown",
   "metadata": {},
   "source": [
    "**Q8.**  Identify builtin NumPy's function to identify the following property of created matrix A above:\n",
    "\n",
    "1. row x column\n",
    "2. number of elements\n",
    "3. type of the elements\n",
    "4. number of bytes to store this matrix\n",
    "5. the dimension of this array"
   ]
  },
  {
   "cell_type": "code",
   "execution_count": 10,
   "metadata": {},
   "outputs": [
    {
     "name": "stdout",
     "output_type": "stream",
     "text": [
      "row x column: (3, 3)\n",
      "number of elements: 9\n",
      "type of the elements: int32\n",
      "bytes: 36\n",
      "dimension: 2\n"
     ]
    }
   ],
   "source": []
  },
  {
   "cell_type": "markdown",
   "metadata": {},
   "source": [
    "**Q9.** Compute the following based on matrix A\n",
    "\n",
    "1. Transpose matrix A and save it as marix B\n",
    "2. Store the last column of matrix B as c3  \n",
    "3. Store the last row of matrix B as r3\n",
    "4. What is the enty of element $B_{3,3}$ \n",
    "5. Find the dot product of c3 and r3"
   ]
  },
  {
   "cell_type": "code",
   "execution_count": 11,
   "metadata": {},
   "outputs": [
    {
     "name": "stdout",
     "output_type": "stream",
     "text": [
      "[[ 0  0  3]\n",
      " [ 0 -6 -7]\n",
      " [ 5  4  3]]\n",
      "[ 3 -7  3]\n",
      "[ 3 -7  3]\n",
      "B33 =  3\n",
      "dot product of c3.r3 = -4\n"
     ]
    }
   ],
   "source": []
  },
  {
   "cell_type": "markdown",
   "metadata": {},
   "source": [
    " A **square matrix** has the same number of rows as columns. The determinant is denoted as $det(M)$ or $|M|$ , readily available in Numpy's `linalg` package.For example  $2 \\times 2$ matrix, the determinant is:\n",
    "$$\n",
    "|M| = \\begin{bmatrix}\n",
    "a & b \\\\\n",
    "c & d\\\\\n",
    "\\end{bmatrix} = ad - bc$$\n",
    "\n",
    "If the determinant is 0, then the matrix is singular; if not, the matrix is nonsingular.\n",
    "\n",
    "**Q10.** Computer the following:\n",
    "1. Compute the determinant of matrix A as store is as `ADet`. \n",
    "2. Identify if matrix A is singular. Singular matrices has no inverse!\n",
    "3. Show that the the dot product of `A` and `ADet` equals to an identity matrix\n",
    "\n",
    "TIPS: use `linalg.det(A)` function to compute\n"
   ]
  },
  {
   "cell_type": "code",
   "execution_count": 12,
   "metadata": {},
   "outputs": [
    {
     "name": "stdout",
     "output_type": "stream",
     "text": [
      "[[ 0  0  5]\n",
      " [ 0 -6  4]\n",
      " [ 3 -7  3]]\n",
      "90.0\n"
     ]
    }
   ],
   "source": []
  },
  {
   "cell_type": "markdown",
   "metadata": {},
   "source": [
    "The **inverse** of a square matrix $M$ is a matrix of the same size, $N$, such that $M \\cdot N = I$.  A matrix is said to be **invertible** if it has an inverse. The inverse of a matrix is unique; that is, for an invertible matrix, there is only one inverse for that matrix. If $M$ is a square matrix, its inverse is denoted by $M^{-1}$ in mathematics, and it can be computed in Python using the function *inv* from Numpy's *linalg* package.\n",
    "\n",
    "For a $2 \\times 2$ matrix, the analytic solution of the matrix inverse is:\n",
    "\n",
    "$$\n",
    "M^{-1} = \\begin{bmatrix}\n",
    "a & b \\\\\n",
    "c & d\\\\\n",
    "\\end{bmatrix}^{-1} = \\frac{1}{|M|}\\begin{bmatrix}\n",
    "d & -b \\\\\n",
    "-c & a\\\\\n",
    "\\end{bmatrix}$$\n",
    "\n",
    "**Q11.** \n",
    "1. First, find the inverse of A and store is as AInverce \n",
    "2. Next, find the dot product of A and its inverse to produce an identity matrix.\n",
    "\n",
    "**TIPS:** You can only find the inverse if $det(A)\\neq 0$"
   ]
  },
  {
   "cell_type": "code",
   "execution_count": 13,
   "metadata": {},
   "outputs": [
    {
     "name": "stdout",
     "output_type": "stream",
     "text": [
      "[[ 0.11111111 -0.38888889  0.33333333]\n",
      " [ 0.13333333 -0.16666667 -0.        ]\n",
      " [ 0.2         0.          0.        ]]\n",
      "[[ 1.00000000e+00  0.00000000e+00  0.00000000e+00]\n",
      " [ 0.00000000e+00  1.00000000e+00  0.00000000e+00]\n",
      " [-5.55111512e-17  8.32667268e-17  1.00000000e+00]]\n",
      "[[ 1.  0.  0.]\n",
      " [ 0.  1.  0.]\n",
      " [-0.  0.  1.]]\n"
     ]
    }
   ],
   "source": []
  },
  {
   "cell_type": "markdown",
   "metadata": {},
   "source": [
    "## PART C: Various types of Dataset"
   ]
  },
  {
   "cell_type": "markdown",
   "metadata": {},
   "source": [
    "**Q12.** Add a new column to matrix A in as a first column with entries: $\\gamma, \\kappa, \\lambda $ and store as matrix C\n",
    "**TIPS:** \n",
    "- use`hstack` function to add."
   ]
  },
  {
   "cell_type": "code",
   "execution_count": 14,
   "metadata": {},
   "outputs": [
    {
     "data": {
      "text/plain": [
       "array([[ 0,  0,  5,  3],\n",
       "       [ 0, -6,  4,  2],\n",
       "       [ 3, -7,  3,  1]])"
      ]
     },
     "execution_count": 14,
     "metadata": {},
     "output_type": "execute_result"
    }
   ],
   "source": []
  },
  {
   "cell_type": "markdown",
   "metadata": {},
   "source": [
    "**Q13.** Convert matrix C as a one dimensional array and store as `samples`. Next compute the following:\n",
    "\n",
    "**TIPS:** use`flatten` function to convert.\n",
    "\n",
    "1. compute the biggest number in this list\n",
    "2. compute the smallest number in this list\n",
    "3. total sum\n",
    "4. total product\n",
    "5. mean\n",
    "6. standard deviation\n",
    "7. varians"
   ]
  },
  {
   "cell_type": "code",
   "execution_count": 15,
   "metadata": {},
   "outputs": [
    {
     "name": "stdout",
     "output_type": "stream",
     "text": [
      "5\n",
      "-7\n",
      "8\n",
      "0\n",
      "0.6666666666666666\n",
      "3.5668224265054502\n",
      "12.722222222222227\n"
     ]
    }
   ],
   "source": []
  },
  {
   "cell_type": "markdown",
   "metadata": {},
   "source": [
    "## CSV file"
   ]
  },
  {
   "cell_type": "markdown",
   "metadata": {},
   "source": [
    " Load population file by running the following cell:"
   ]
  },
  {
   "cell_type": "code",
   "execution_count": 16,
   "metadata": {},
   "outputs": [
    {
     "name": "stdout",
     "output_type": "stream",
     "text": [
      "# year,hare,lynx,carrot\n",
      "1900,3.00E+04,4.00E+03,48300\n",
      "1901,4.72E+04,6.10E+03,48200\n",
      "1902,7.02E+04,9.80E+03,41500\n",
      "1903,7.74E+04,3.52E+04,38200\n",
      "1904,3.63E+04,5.94E+04,40600\n"
     ]
    }
   ],
   "source": []
  },
  {
   "cell_type": "markdown",
   "metadata": {},
   "source": [
    "**Q14** Compute the following:\n",
    "1. Compute mean for hares, lynxs and carrots"
   ]
  },
  {
   "cell_type": "code",
   "execution_count": 17,
   "metadata": {},
   "outputs": [
    {
     "name": "stdout",
     "output_type": "stream",
     "text": [
      "Mean for Hares: 34080.95238095238\n",
      "Mean for Lynxs: 20166.666666666668\n",
      "Mean for Carrots: 42400.0\n"
     ]
    }
   ],
   "source": []
  },
  {
   "cell_type": "markdown",
   "metadata": {},
   "source": [
    "2. Which year each species had the largest population?"
   ]
  },
  {
   "cell_type": "code",
   "execution_count": 19,
   "metadata": {},
   "outputs": [
    {
     "name": "stdout",
     "output_type": "stream",
     "text": [
      "Year with largest population hares:  [1903.]\n",
      "Year with largest population lynxs:  [1904.]\n",
      "Year with largest population carrots:  [1900.]\n"
     ]
    }
   ],
   "source": []
  },
  {
   "cell_type": "markdown",
   "metadata": {},
   "source": [
    "3. Which year carrots were lowest and identify the corresponding hares and lynxes that year."
   ]
  },
  {
   "cell_type": "code",
   "execution_count": 20,
   "metadata": {},
   "outputs": [
    {
     "name": "stdout",
     "output_type": "stream",
     "text": [
      "Min Carrots : 36700.0\n",
      "Year with least population carrots:  [1916.]\n",
      "Nu of hares that year:  [11200.]\n",
      "Nu of lynxes that year:  [29700.]\n"
     ]
    }
   ],
   "source": []
  },
  {
   "cell_type": "code",
   "execution_count": null,
   "metadata": {},
   "outputs": [],
   "source": []
  }
 ],
 "metadata": {
  "kernelspec": {
   "display_name": "Python 3",
   "language": "python",
   "name": "python3"
  },
  "language_info": {
   "codemirror_mode": {
    "name": "ipython",
    "version": 3
   },
   "file_extension": ".py",
   "mimetype": "text/x-python",
   "name": "python",
   "nbconvert_exporter": "python",
   "pygments_lexer": "ipython3",
   "version": "3.8.9"
  },
  "toc-autonumbering": false,
  "toc-showcode": false,
  "toc-showmarkdowntxt": false,
  "toc-showtags": false
 },
 "nbformat": 4,
 "nbformat_minor": 4
}
