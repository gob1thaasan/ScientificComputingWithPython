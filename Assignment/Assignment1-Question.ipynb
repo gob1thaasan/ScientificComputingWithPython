{
 "cells": [
  {
   "cell_type": "markdown",
   "metadata": {},
   "source": [
    "**Scientific Computation (MKP3303)**\n",
    "\n",
    "\n",
    "> R.U.Gobithaasan (2021). Scientific Computing, Lectures for Undergraduate Degree Program B.Sc (Applied Mathematics), Faculty of Ocean Engineering Technology & Informatics, University Malaysia Terengganu.\n",
    "https://sites.google.com/site/gobithaasan/LearnTeach\n",
    "\n",
    "<p align=\"center\">\n",
    "     © 2021 R.U. Gobithaasan All Rights Reserved.\n",
    "\n",
    "</p>\n",
    "\n"
   ]
  },
  {
   "cell_type": "markdown",
   "metadata": {},
   "source": [
    "# Assignment 1: Higher Dimension Reduction using Principal Component Analysis                     "
   ]
  },
  {
   "cell_type": "markdown",
   "metadata": {},
   "source": [
    "## Fill up the following declaration details:\n",
    "**We certify that this report is my own work, based on my personal study and/or research. I also certify that this report has not previously been submitted for assessment in any other unit, and that I have not copied in part or whole or otherwise plagiarised the work of other students and/or persons.**\n",
    "\n",
    "\n",
    "**Teamer Leader**\n",
    "1. Name: <ins>XXXXXXX XXXXX </ins>/Matrix Number: <ins>SXXXXX </ins>\n",
    "> Date:  <ins> 20/5/2021 </ins>\n",
    "\n",
    "**Team Members**\n",
    "1. Name:   /Matrix Number: \n",
    "2. Name:  /Matrix Number:\n",
    "3. Name:  /Matrix Number:\n",
    "4. Name:  /Matrix Number:\n",
    "5. Name:  /Matrix Number:\n"
   ]
  },
  {
   "cell_type": "markdown",
   "metadata": {},
   "source": [
    "---\n",
    "### MARKS:"
   ]
  },
  {
   "cell_type": "markdown",
   "metadata": {},
   "source": [
    "| ATTRIBUTES    | MARKS |\n",
    "| ----------- | ----------- |\n",
    "| 1. MODULE/FUNCTION     |       |\n",
    "| 2. SYNTAX/CODE/ REASONING  |      |\n",
    "| 3. DOCUMENTATION    |       |\n",
    "\n",
    "<u>Marks For MODULE/FUNCTION:\n",
    "    \n",
    "Amateur (+1): Unable to use the right module/function.\n",
    "Acceptable (+2): Module /function is somewhat suitable.\n",
    "Admirable (+3): Module /function is suitable and partially solved the problem.\n",
    "Exceptional (+4): Module /function is are clearly identified and the problem is solved without errors.\n",
    "\n",
    "<u> Marks For SYNTAX/CODE/ REASONING :\n",
    "    \n",
    "Amateur (+1): Code is illogical, simplistic, inconsistent or does not work.\n",
    "Acceptable (+2): Code contains some elements of logic and/or creative insight.\n",
    "Admirable (+3): Code is mostly logical, complete, and consistent. Demonstrates some unique or creative insight.\n",
    "Exceptional (+4): Code is consistently creative, complete and often unique.\n",
    "\n",
    "<u> Marks For DOCUMENTATION:\n",
    "    \n",
    "Amateur (+1): Explanation is not stated or vague.\n",
    "Acceptable (+2): Able to explain with some justification.\n",
    "Admirable (+3): Conclusion mostly from results of analysis.\n",
    "Exceptional (+4): Full justification presented following clear concluding statement. Specifics and multiple perspectives are present.\n",
    " "
   ]
  },
  {
   "cell_type": "markdown",
   "metadata": {},
   "source": [
    "# Review on Principal Component Analysis:\n"
   ]
  },
  {
   "cell_type": "markdown",
   "metadata": {},
   "source": [
    "- \"Principal component analysis (PCA) is a mathematical algorithm that **reduces the dimensionality of the data** while retaining most of the variation in the data set.\" \n",
    "\n",
    "__<u>Instruction:__\n",
    "    \n",
    " - Read about what is principal component analysis in the internet. Next, explain with your own words in the cell below. \n",
    " > TIPS: a good explanation is given by **Lior Pachter** on his blog at [What is principal component analysis?](https://liorpachter.wordpress.com/2014/05/26/what-is-principal-component-analysis/)\n"
   ]
  },
  {
   "cell_type": "markdown",
   "metadata": {},
   "source": [
    "<div class=\"alert alert-block alert-info\">\n",
    "<b>⚠PCA:</b> Write your explanation and the mathematics behind PCA below:\n",
    "</div>\n"
   ]
  },
  {
   "cell_type": "markdown",
   "metadata": {},
   "source": [
    "---"
   ]
  },
  {
   "cell_type": "markdown",
   "metadata": {},
   "source": [
    "# [Digit Dataset from UCI Machine Learning Repository](https://archive.ics.uci.edu/ml/datasets/optical+recognition+of+handwritten+digits)"
   ]
  },
  {
   "cell_type": "markdown",
   "metadata": {},
   "source": [
    "A Black & White image is a grayscale image, contains only shades of gray from black (0 intensity) to white (255 full intensity).\n",
    "\n",
    "- In this assignment you will be using Digit Dataset from  University of California Irvine Machine Learning Repository, it consists of normalized bitmaps of handwritten digits of 1797 images.\n",
    "- Each image is in the form of 8x8 grayscale image, means the dataset is a matrix of 1797 x 64.\n",
    "- The elements of each matrix are integers in the range 0...16 representing the intensity of grayscale.\n",
    "\n",
    "\n",
    "- This dataset is [also available in scikit learn module](https://scikit-learn.org/stable/modules/generated/sklearn.datasets.load_digits.html), thus we we load directly from this module. Read the documentation to understand the functions for this dataset before answering the question."
   ]
  },
  {
   "cell_type": "code",
   "execution_count": 1,
   "metadata": {},
   "outputs": [
    {
     "name": "stdout",
     "output_type": "stream",
     "text": [
      "(1797, 64)\n"
     ]
    }
   ],
   "source": [
    "from sklearn.datasets import load_digits\n",
    "digits = load_digits()\n",
    "print(digits.data.shape)"
   ]
  },
  {
   "cell_type": "markdown",
   "metadata": {},
   "source": [
    "---\n",
    "1. What is the type of this dataset?"
   ]
  },
  {
   "cell_type": "code",
   "execution_count": null,
   "metadata": {},
   "outputs": [],
   "source": []
  },
  {
   "cell_type": "markdown",
   "metadata": {},
   "source": [
    "---\n",
    "2. print the array of the second image, TIPS: use `digits.images[x]` where x is the index number of the dataset."
   ]
  },
  {
   "cell_type": "code",
   "execution_count": null,
   "metadata": {},
   "outputs": [],
   "source": []
  },
  {
   "cell_type": "markdown",
   "metadata": {},
   "source": [
    "---\n",
    "3. What is the label of the second dataset? What does this image represent? TIPS: use `digits.target[x]` where x is the index number of the dataset."
   ]
  },
  {
   "cell_type": "code",
   "execution_count": null,
   "metadata": {},
   "outputs": [],
   "source": []
  },
  {
   "cell_type": "markdown",
   "metadata": {},
   "source": [
    "---\n",
    "4. Show the second image in the dataset using `plt.matshow(digits.images[x])`"
   ]
  },
  {
   "cell_type": "code",
   "execution_count": null,
   "metadata": {},
   "outputs": [],
   "source": []
  },
  {
   "cell_type": "markdown",
   "metadata": {},
   "source": [
    "---\n",
    "5. Print out the names of the fatures of this dataset"
   ]
  },
  {
   "cell_type": "code",
   "execution_count": null,
   "metadata": {},
   "outputs": [],
   "source": []
  },
  {
   "cell_type": "markdown",
   "metadata": {},
   "source": [
    "---\n",
    "6. Choose **ONE digit's image data** which is vectorized as 64 x 1 and reduce the image from dimensions 8 to 2 using PCA from `sklearn` module."
   ]
  },
  {
   "cell_type": "code",
   "execution_count": null,
   "metadata": {},
   "outputs": [],
   "source": []
  },
  {
   "cell_type": "markdown",
   "metadata": {},
   "source": [
    "---\n",
    "7. Visualize the dataset using a scatter plot available from plotly module"
   ]
  },
  {
   "cell_type": "code",
   "execution_count": null,
   "metadata": {},
   "outputs": [],
   "source": []
  },
  {
   "cell_type": "markdown",
   "metadata": {},
   "source": [
    "---\n",
    "8. Reduce all the images dimensions from 64 to 2 using scikit learn module."
   ]
  },
  {
   "cell_type": "code",
   "execution_count": null,
   "metadata": {},
   "outputs": [],
   "source": []
  },
  {
   "cell_type": "markdown",
   "metadata": {},
   "source": [
    "---\n",
    "9. Visualize the reduced dataset using a **two dimensional scatter plot** using plotly and clearly show its labels."
   ]
  },
  {
   "cell_type": "code",
   "execution_count": null,
   "metadata": {},
   "outputs": [],
   "source": []
  },
  {
   "cell_type": "markdown",
   "metadata": {},
   "source": [
    "---\n",
    "10, Now, reduce all the images dimensions from 64 to 3 using scikit learn module."
   ]
  },
  {
   "cell_type": "code",
   "execution_count": null,
   "metadata": {},
   "outputs": [],
   "source": []
  },
  {
   "cell_type": "markdown",
   "metadata": {},
   "source": [
    "---\n",
    "11. Visualize the reduced dataset using a **three dimensional scatter plot**  using plotly and clearly show its labels."
   ]
  },
  {
   "cell_type": "code",
   "execution_count": null,
   "metadata": {},
   "outputs": [],
   "source": []
  },
  {
   "cell_type": "markdown",
   "metadata": {},
   "source": [
    "---\n",
    "12. Based from the investigation from the plots, can you explain about the similarities and disimilarities between these digits?"
   ]
  },
  {
   "cell_type": "markdown",
   "metadata": {},
   "source": [
    "summary:\n",
    "\n",
    "- \n",
    "\n",
    "-\n",
    "\n"
   ]
  },
  {
   "cell_type": "markdown",
   "metadata": {},
   "source": [
    "---\n",
    "State all your referencees under here:\n",
    "\n",
    "***References***"
   ]
  },
  {
   "cell_type": "markdown",
   "metadata": {},
   "source": [
    "1.\n",
    "\n",
    "2. "
   ]
  },
  {
   "cell_type": "code",
   "execution_count": null,
   "metadata": {},
   "outputs": [],
   "source": []
  }
 ],
 "metadata": {
  "kernelspec": {
   "display_name": "Python 3",
   "language": "python",
   "name": "python3"
  },
  "language_info": {
   "codemirror_mode": {
    "name": "ipython",
    "version": 3
   },
   "file_extension": ".py",
   "mimetype": "text/x-python",
   "name": "python",
   "nbconvert_exporter": "python",
   "pygments_lexer": "ipython3",
   "version": "3.8.3"
  },
  "toc-autonumbering": false,
  "toc-showcode": false,
  "toc-showmarkdowntxt": false,
  "toc-showtags": false
 },
 "nbformat": 4,
 "nbformat_minor": 4
}
