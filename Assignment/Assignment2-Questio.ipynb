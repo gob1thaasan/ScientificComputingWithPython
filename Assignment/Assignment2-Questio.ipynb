{
 "cells": [
  {
   "cell_type": "markdown",
   "metadata": {},
   "source": [
    "**Scientific Computation (MKP3303)**\n",
    "\n",
    "\n",
    "> R.U.Gobithaasan (2021). Scientific Computing, Lectures for Undergraduate Degree Program B.Sc (Applied Mathematics), Faculty of Ocean Engineering Technology & Informatics, University Malaysia Terengganu.\n",
    "https://sites.google.com/site/gobithaasan/LearnTeach\n",
    "\n",
    "<p align=\"center\">\n",
    "     © 2021 R.U. Gobithaasan All Rights Reserved.\n",
    "\n",
    "</p>\n",
    "\n"
   ]
  },
  {
   "cell_type": "markdown",
   "metadata": {},
   "source": [
    "# Assignment 2: Integration & Differentiation                    "
   ]
  },
  {
   "cell_type": "markdown",
   "metadata": {},
   "source": [
    "## Fill up the following declaration details:\n",
    "**We certify that this report is my own work, based on my personal study and/or research. I also certify that this report has not previously been submitted for assessment in any other unit, and that I have not copied in part or whole or otherwise plagiarised the work of other students and/or persons.**\n",
    "\n",
    "\n",
    "**Teamer Leader**\n",
    "1. Name: <ins>XXXXXXX XXXXX </ins>/Matrix Number: <ins>SXXXXX </ins>\n",
    "> Date:  <ins> 20/5/2021 </ins>\n",
    "\n",
    "**Team Members**\n",
    "1. Name:   /Matrix Number: \n",
    "2. Name:  /Matrix Number:\n",
    "3. Name:  /Matrix Number:\n",
    "4. Name:  /Matrix Number:\n",
    "5. Name:  /Matrix Number:\n"
   ]
  },
  {
   "cell_type": "markdown",
   "metadata": {},
   "source": [
    "---\n",
    "### MARKS:"
   ]
  },
  {
   "cell_type": "markdown",
   "metadata": {},
   "source": [
    "| ATTRIBUTES    | MARKS |\n",
    "| ----------- | ----------- |\n",
    "| 1. MODULE/FUNCTION     |       |\n",
    "| 2. SYNTAX/CODE/ REASONING  |      |\n",
    "| 3. DOCUMENTATION    |       |\n",
    "\n",
    "<u>Marks For MODULE/FUNCTION:\n",
    "    \n",
    "Amateur (+1): Unable to use the right module/function.\n",
    "Acceptable (+2): Module /function is somewhat suitable.\n",
    "Admirable (+3): Module /function is suitable and partially solved the problem.\n",
    "Exceptional (+4): Module /function is are clearly identified and the problem is solved without errors.\n",
    "\n",
    "<u> Marks For SYNTAX/CODE/ REASONING :\n",
    "    \n",
    "Amateur (+1): Code is illogical, simplistic, inconsistent or does not work.\n",
    "Acceptable (+2): Code contains some elements of logic and/or creative insight.\n",
    "Admirable (+3): Code is mostly logical, complete, and consistent. Demonstrates some unique or creative insight.\n",
    "Exceptional (+4): Code is consistently creative, complete and often unique.\n",
    "\n",
    "<u> Marks For DOCUMENTATION:\n",
    "    \n",
    "Amateur (+1): Explanation is not stated or vague.\n",
    "Acceptable (+2): Able to explain with some justification.\n",
    "Admirable (+3): Conclusion mostly from results of analysis.\n",
    "Exceptional (+4): Full justification presented following clear concluding statement. Specifics and multiple perspectives are present.\n",
    " "
   ]
  },
  {
   "cell_type": "markdown",
   "metadata": {},
   "source": [
    "# Ordinary Differential Equations"
   ]
  },
  {
   "cell_type": "markdown",
   "metadata": {},
   "source": [
    "\n",
    "__<u>Instruction:__\n",
    "    \n",
    "1. Choose any differential equation that models a natural phenomena, and explain complete details of the variables and constants in this ODE with its reference and source below. You may Use diagrams to explain about this ODE."
   ]
  },
  {
   "cell_type": "markdown",
   "metadata": {},
   "source": [
    "\n",
    "\n",
    "\n",
    "\n",
    "\n",
    "\n",
    "\n",
    "\n",
    "\n",
    "\n",
    "\n",
    "\n",
    "\n",
    "\n",
    "\n",
    "\n",
    "\n",
    "\n",
    "\n",
    "\n",
    "\n",
    "\n",
    "\n",
    "\n",
    "\n",
    "\n",
    "\n"
   ]
  },
  {
   "cell_type": "markdown",
   "metadata": {},
   "source": [
    "---\n",
    "2. What is the type of this ODE (order, linear or nonlinear)? Explain about its initial condition(s)."
   ]
  },
  {
   "cell_type": "code",
   "execution_count": null,
   "metadata": {},
   "outputs": [],
   "source": []
  },
  {
   "cell_type": "markdown",
   "metadata": {},
   "source": [
    "---\n",
    "3. Plot direction field and explain its possible solutions"
   ]
  },
  {
   "cell_type": "code",
   "execution_count": null,
   "metadata": {},
   "outputs": [],
   "source": []
  },
  {
   "cell_type": "markdown",
   "metadata": {},
   "source": [
    "---\n",
    "4. Try solving analytically, can you get the answer? If Yes, use the integration function result to verify your analytical solution."
   ]
  },
  {
   "cell_type": "code",
   "execution_count": null,
   "metadata": {},
   "outputs": [],
   "source": []
  },
  {
   "cell_type": "markdown",
   "metadata": {},
   "source": [
    "---\n",
    "5. Now, use numerical approach to solve the ODE you have chosen and compare with analytical results."
   ]
  },
  {
   "cell_type": "code",
   "execution_count": null,
   "metadata": {},
   "outputs": [],
   "source": []
  },
  {
   "cell_type": "markdown",
   "metadata": {},
   "source": [
    "---\n",
    "6. Plot your solution on top the direction field."
   ]
  },
  {
   "cell_type": "code",
   "execution_count": null,
   "metadata": {},
   "outputs": [],
   "source": []
  },
  {
   "cell_type": "markdown",
   "metadata": {},
   "source": [
    "---\n",
    "7. Explain about the stability of your ODE. In short, stability analysis means the investigation on how the solution changes as the initial condition changes. The faster the solution changes, the lesser stable the ODE is. Hence, try increasing or decreasing you initial condition and plot how the solution changes. "
   ]
  },
  {
   "cell_type": "code",
   "execution_count": null,
   "metadata": {},
   "outputs": [],
   "source": []
  },
  {
   "cell_type": "markdown",
   "metadata": {},
   "source": [
    "---\n",
    "State all your referencees under here:\n",
    "\n",
    "***References***"
   ]
  },
  {
   "cell_type": "markdown",
   "metadata": {},
   "source": [
    "1.\n",
    "\n",
    "2. "
   ]
  },
  {
   "cell_type": "code",
   "execution_count": null,
   "metadata": {},
   "outputs": [],
   "source": []
  }
 ],
 "metadata": {
  "kernelspec": {
   "display_name": "Python 3",
   "language": "python",
   "name": "python3"
  },
  "language_info": {
   "codemirror_mode": {
    "name": "ipython",
    "version": 3
   },
   "file_extension": ".py",
   "mimetype": "text/x-python",
   "name": "python",
   "nbconvert_exporter": "python",
   "pygments_lexer": "ipython3",
   "version": "3.8.3"
  },
  "toc-autonumbering": false,
  "toc-showcode": false,
  "toc-showmarkdowntxt": false,
  "toc-showtags": false
 },
 "nbformat": 4,
 "nbformat_minor": 4
}
