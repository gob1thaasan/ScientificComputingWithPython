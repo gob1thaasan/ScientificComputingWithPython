{
 "cells": [
  {
   "cell_type": "markdown",
   "metadata": {},
   "source": [
    "**Scientific Computation (MKP3303)**\n",
    "\n",
    "\n",
    "> R.U.Gobithaasan (2021). Scientific Computing, Lectures for Undergraduate Degree Program B.Sc (Applied Mathematics), Faculty of Ocean Engineering Technology & Informatics, University Malaysia Terengganu.\n",
    "https://sites.google.com/site/gobithaasan/LearnTeach\n",
    "\n",
    "<p align=\"center\">\n",
    "     © 2021 R.U. Gobithaasan All Rights Reserved.\n",
    "\n",
    "</p>\n",
    "\n"
   ]
  },
  {
   "cell_type": "markdown",
   "metadata": {},
   "source": [
    "**Chapter 3: Lists, Arrays, Vectors and Matrix Operations**   \n",
    "\n",
    "**PART 1**: \n",
    "\n",
    "1. Types of Sequences in Python: Built-in containers\n",
    "\n",
    "**PART 2: Previous Notebook**\n",
    "\n",
    "2. Arrays                   \n",
    "3. Column and row vector\n",
    "4. Matrix representation\n",
    "\n",
    "**PART 3**\n",
    "\n",
    "5. Element wise operation \n",
    "6. Set operation\n",
    "7. Matrix operation\n",
    "\n",
    "**References:** \n",
    "\n",
    "- [NumPy](https://numpy.org/)\n",
    "- Robert Johansson, Numerical Python: Scientific Computing and Data Science Applications with Numpy, SciPy and Matplotlib (2019, Apress).\n",
    ">Source code listings for [Numerical Python - A Practical Techniques Approach for Industry](http://www.apress.com/9781484205549) (ISBN 978-1-484205-54-9). The source code listings can be downloaded from http://www.apress.com/9781484205549\n",
    "\n",
    "- VanderPlas, Jacob T,  Python data science handbook: essential tools for working with data, O'Reilly Media, 2017. This book is made available [online](https://jakevdp.github.io/PythonDataScienceHandbook/index.html) \n",
    ">The source code listings can be downloaded from [Jake's GitHub] (https://github.com/jakevdp/PythonDataScienceHandbook)\n",
    "\n",
    "- Travis E. Oliphant(creater of NumPy), [Guide to NumPy](https://web.mit.edu/dvp/Public/numpybook.pdf)"
   ]
  },
  {
   "cell_type": "markdown",
   "metadata": {},
   "source": [
    "---\n",
    "**PART 3**\n",
    "\n",
    "# Elementwise operation\n"
   ]
  },
  {
   "cell_type": "code",
   "execution_count": 160,
   "metadata": {},
   "outputs": [
    {
     "data": {
      "text/plain": [
       "'1.20.2'"
      ]
     },
     "execution_count": 160,
     "metadata": {},
     "output_type": "execute_result"
    }
   ],
   "source": [
    "import numpy as np\n",
    "np.__version__"
   ]
  },
  {
   "cell_type": "markdown",
   "metadata": {},
   "source": [
    "- Element by element (elementwsie);"
   ]
  },
  {
   "cell_type": "code",
   "execution_count": 161,
   "metadata": {},
   "outputs": [
    {
     "name": "stdout",
     "output_type": "stream",
     "text": [
      "[[0 1 2 3]\n",
      " [4 5 6 7]\n",
      " [0 0 0 0]]\n",
      "(3, 4)\n",
      "[[1. 1. 1. 1.]\n",
      " [1. 1. 1. 1.]\n",
      " [1. 1. 1. 1.]]\n",
      "(3, 4)\n"
     ]
    }
   ],
   "source": [
    "b1 = np.array([[ 0,  1,  2,  3],\n",
    "                [ 4,  5,  6,  7],\n",
    "                [ 0,  0,  0,  0]])\n",
    "print(b1)\n",
    "print(b1.shape)\n",
    "\n",
    "b2 = np.ones((3,4))\n",
    "print(b2)\n",
    "print(b2.shape)"
   ]
  },
  {
   "cell_type": "markdown",
   "metadata": {},
   "source": [
    "- Thus, **matrix addition** which tis carried out in elementwise form can be carried out if the shape of array is the same"
   ]
  },
  {
   "cell_type": "code",
   "execution_count": 162,
   "metadata": {
    "tags": []
   },
   "outputs": [
    {
     "name": "stdout",
     "output_type": "stream",
     "text": [
      "(3, 4)\n"
     ]
    },
    {
     "data": {
      "text/plain": [
       "array([[1., 2., 3., 4.],\n",
       "       [5., 6., 7., 8.],\n",
       "       [1., 1., 1., 1.]])"
      ]
     },
     "execution_count": 162,
     "metadata": {},
     "output_type": "execute_result"
    }
   ],
   "source": [
    "b3 = b1 + b2\n",
    "print(b3.shape)\n",
    "b3"
   ]
  },
  {
   "cell_type": "markdown",
   "metadata": {
    "tags": []
   },
   "source": [
    "- elementwise operation still can be **broadcasted**  if two arrays can be matched in the form of shape and size\n",
    "\n",
    "- one dimensional **row array** b4 is matched to two dimensional b1:"
   ]
  },
  {
   "cell_type": "code",
   "execution_count": 163,
   "metadata": {},
   "outputs": [
    {
     "data": {
      "text/plain": [
       "array([2., 2., 2., 2.])"
      ]
     },
     "execution_count": 163,
     "metadata": {},
     "output_type": "execute_result"
    }
   ],
   "source": [
    "b4 = np.empty(4) #creating a row vector\n",
    "b4.fill(2)\n",
    "b4"
   ]
  },
  {
   "cell_type": "code",
   "execution_count": 164,
   "metadata": {},
   "outputs": [
    {
     "name": "stdout",
     "output_type": "stream",
     "text": [
      "(3, 4)\n",
      "(4,)\n",
      "[[0 1 2 3]\n",
      " [4 5 6 7]\n",
      " [0 0 0 0]]\n",
      "[2. 2. 2. 2.]\n"
     ]
    },
    {
     "data": {
      "text/plain": [
       "array([[2., 3., 4., 5.],\n",
       "       [6., 7., 8., 9.],\n",
       "       [2., 2., 2., 2.]])"
      ]
     },
     "execution_count": 164,
     "metadata": {},
     "output_type": "execute_result"
    }
   ],
   "source": [
    "print(b1.shape)\n",
    "print(b4.shape)\n",
    "\n",
    "print(b1)\n",
    "print(b4)\n",
    "\n",
    "b5 = b1 + b4\n",
    "b5"
   ]
  },
  {
   "cell_type": "markdown",
   "metadata": {},
   "source": [
    "-  cannot be broadcasted if size or shape not the same"
   ]
  },
  {
   "cell_type": "code",
   "execution_count": 165,
   "metadata": {},
   "outputs": [
    {
     "name": "stdout",
     "output_type": "stream",
     "text": [
      "[1. 1. 1.]\n"
     ]
    },
    {
     "ename": "ValueError",
     "evalue": "operands could not be broadcast together with shapes (3,4) (3,) ",
     "output_type": "error",
     "traceback": [
      "\u001b[1;31m---------------------------------------------------------------------------\u001b[0m",
      "\u001b[1;31mValueError\u001b[0m                                Traceback (most recent call last)",
      "\u001b[1;32m<ipython-input-165-11b8ea322b7e>\u001b[0m in \u001b[0;36m<module>\u001b[1;34m\u001b[0m\n\u001b[0;32m      1\u001b[0m \u001b[0mprint\u001b[0m\u001b[1;33m(\u001b[0m\u001b[0mnp\u001b[0m\u001b[1;33m.\u001b[0m\u001b[0mones\u001b[0m\u001b[1;33m(\u001b[0m\u001b[1;36m3\u001b[0m\u001b[1;33m)\u001b[0m\u001b[1;33m)\u001b[0m\u001b[1;33m\u001b[0m\u001b[1;33m\u001b[0m\u001b[0m\n\u001b[1;32m----> 2\u001b[1;33m \u001b[0mb1\u001b[0m\u001b[1;33m+\u001b[0m \u001b[0mnp\u001b[0m\u001b[1;33m.\u001b[0m\u001b[0mones\u001b[0m\u001b[1;33m(\u001b[0m\u001b[1;36m3\u001b[0m\u001b[1;33m)\u001b[0m\u001b[1;33m\u001b[0m\u001b[1;33m\u001b[0m\u001b[0m\n\u001b[0m",
      "\u001b[1;31mValueError\u001b[0m: operands could not be broadcast together with shapes (3,4) (3,) "
     ]
    }
   ],
   "source": [
    "print(np.ones(3))\n",
    "b1+ np.ones(3)"
   ]
  },
  {
   "cell_type": "markdown",
   "metadata": {},
   "source": [
    "- **column array** b6 is matched to b1"
   ]
  },
  {
   "cell_type": "code",
   "execution_count": 166,
   "metadata": {},
   "outputs": [
    {
     "name": "stdout",
     "output_type": "stream",
     "text": [
      "(3, 1)\n",
      "[[0 1 2 3]\n",
      " [4 5 6 7]\n",
      " [0 0 0 0]]\n",
      "[[3]\n",
      " [3]\n",
      " [3]]\n"
     ]
    },
    {
     "data": {
      "text/plain": [
       "array([[ 3,  4,  5,  6],\n",
       "       [ 7,  8,  9, 10],\n",
       "       [ 3,  3,  3,  3]])"
      ]
     },
     "execution_count": 166,
     "metadata": {},
     "output_type": "execute_result"
    }
   ],
   "source": [
    "b6 = np.array([[3],[3],[3]])\n",
    "print(b6.shape)\n",
    "\n",
    "print(b1)\n",
    "print(b6)\n",
    "\n",
    "b7 = b1 + b6\n",
    "b7"
   ]
  },
  {
   "cell_type": "markdown",
   "metadata": {},
   "source": [
    "- other element wise aritmetic ooperations include: scalar multiplication, substraction, etc. "
   ]
  },
  {
   "cell_type": "code",
   "execution_count": 167,
   "metadata": {},
   "outputs": [
    {
     "name": "stdout",
     "output_type": "stream",
     "text": [
      "[[ 0  5 10 15]\n",
      " [20 25 30 35]\n",
      " [ 0  0  0  0]]\n"
     ]
    }
   ],
   "source": [
    "print(5* b1)"
   ]
  },
  {
   "cell_type": "code",
   "execution_count": 168,
   "metadata": {},
   "outputs": [
    {
     "name": "stdout",
     "output_type": "stream",
     "text": [
      "[[0.         0.25       0.4        0.5       ]\n",
      " [0.57142857 0.625      0.66666667 0.7       ]\n",
      " [0.         0.         0.         0.        ]]\n"
     ]
    }
   ],
   "source": [
    "print(b1/b7)"
   ]
  },
  {
   "cell_type": "code",
   "execution_count": 169,
   "metadata": {},
   "outputs": [
    {
     "name": "stdout",
     "output_type": "stream",
     "text": [
      "[[ 0  4 10 18]\n",
      " [28 40 54 70]\n",
      " [ 0  0  0  0]]\n"
     ]
    }
   ],
   "source": [
    "print(b1*b7)"
   ]
  },
  {
   "cell_type": "code",
   "execution_count": 171,
   "metadata": {},
   "outputs": [
    {
     "name": "stdout",
     "output_type": "stream",
     "text": [
      "[-4.  9. -1.  1. -1. -2.]\n"
     ]
    },
    {
     "data": {
      "text/plain": [
       "array([-1.,  1., -1.,  1., -1., -1.])"
      ]
     },
     "execution_count": 171,
     "metadata": {},
     "output_type": "execute_result"
    }
   ],
   "source": [
    "b7 = np.ceil(np.random.normal(0, 3, size = 6)) \n",
    "print(b7)\n",
    "np.sign(b7)"
   ]
  },
  {
   "cell_type": "code",
   "execution_count": 172,
   "metadata": {},
   "outputs": [
    {
     "data": {
      "text/plain": [
       "array([-64., 729.,  -1.,   1.,  -1.,  -8.])"
      ]
     },
     "execution_count": 172,
     "metadata": {},
     "output_type": "execute_result"
    }
   ],
   "source": [
    "np.power(b7,3)"
   ]
  },
  {
   "cell_type": "markdown",
   "metadata": {},
   "source": [
    "### User Defined Function for array processing"
   ]
  },
  {
   "cell_type": "code",
   "execution_count": 173,
   "metadata": {},
   "outputs": [
    {
     "data": {
      "text/plain": [
       "-1.0"
      ]
     },
     "execution_count": 173,
     "metadata": {},
     "output_type": "execute_result"
    }
   ],
   "source": [
    "np.cos(np.pi)"
   ]
  },
  {
   "cell_type": "markdown",
   "metadata": {},
   "source": [
    "- we can also array processing for a given function.\n",
    "- $f1(x) = cos(x)$"
   ]
  },
  {
   "cell_type": "code",
   "execution_count": 174,
   "metadata": {},
   "outputs": [],
   "source": [
    "def f1(x):\n",
    "    return np.cos(x)"
   ]
  },
  {
   "cell_type": "code",
   "execution_count": 175,
   "metadata": {},
   "outputs": [
    {
     "name": "stdout",
     "output_type": "stream",
     "text": [
      "(10,)\n",
      "[-3.14159265 -2.44346095 -1.74532925 -1.04719755 -0.34906585  0.34906585\n",
      "  1.04719755  1.74532925  2.44346095  3.14159265]\n",
      "[-1.         -0.76604444 -0.17364818  0.5         0.93969262  0.93969262\n",
      "  0.5        -0.17364818 -0.76604444 -1.        ]\n",
      "(10,)\n"
     ]
    }
   ],
   "source": [
    "Xvalues = np.linspace(- np.pi, np.pi, 10)\n",
    "print(Xvalues.shape)\n",
    "print(Xvalues)\n",
    "\n",
    "b8 = f1(Xvalues)\n",
    "print(b8)\n",
    "print(b8.shape)"
   ]
  },
  {
   "cell_type": "markdown",
   "metadata": {},
   "source": [
    "- various builtin NumPy functions for elementwise operations"
   ]
  },
  {
   "cell_type": "markdown",
   "metadata": {},
   "source": [
    "- below is a special method called `vectorize` to apply for user defined function\n",
    "\n",
    "$f(x) = \\begin{cases} \n",
    "          \\frac{x}{2} & x\\leq 0 \\\\\n",
    "          0 & x> 0\n",
    "       \\end{cases}\n",
    "$\n"
   ]
  },
  {
   "cell_type": "code",
   "execution_count": 176,
   "metadata": {},
   "outputs": [],
   "source": [
    "def f3(x):\n",
    "    if x <= 0:\n",
    "        return (x/2)\n",
    "    else:\n",
    "        return 0"
   ]
  },
  {
   "cell_type": "code",
   "execution_count": 177,
   "metadata": {},
   "outputs": [
    {
     "name": "stdout",
     "output_type": "stream",
     "text": [
      "[-3.14159265 -2.44346095 -1.74532925 -1.04719755 -0.34906585  0.34906585\n",
      "  1.04719755  1.74532925  2.44346095  3.14159265]\n"
     ]
    },
    {
     "ename": "ValueError",
     "evalue": "The truth value of an array with more than one element is ambiguous. Use a.any() or a.all()",
     "output_type": "error",
     "traceback": [
      "\u001b[1;31m---------------------------------------------------------------------------\u001b[0m",
      "\u001b[1;31mValueError\u001b[0m                                Traceback (most recent call last)",
      "\u001b[1;32m<ipython-input-177-bd383aa395fa>\u001b[0m in \u001b[0;36m<module>\u001b[1;34m\u001b[0m\n\u001b[0;32m      1\u001b[0m \u001b[0mprint\u001b[0m\u001b[1;33m(\u001b[0m\u001b[0mXvalues\u001b[0m\u001b[1;33m)\u001b[0m\u001b[1;33m\u001b[0m\u001b[1;33m\u001b[0m\u001b[0m\n\u001b[1;32m----> 2\u001b[1;33m \u001b[0mb9\u001b[0m \u001b[1;33m=\u001b[0m \u001b[0mf3\u001b[0m\u001b[1;33m(\u001b[0m\u001b[0mXvalues\u001b[0m\u001b[1;33m)\u001b[0m\u001b[1;33m\u001b[0m\u001b[1;33m\u001b[0m\u001b[0m\n\u001b[0m",
      "\u001b[1;32m<ipython-input-176-aca74eb08835>\u001b[0m in \u001b[0;36mf3\u001b[1;34m(x)\u001b[0m\n\u001b[0;32m      1\u001b[0m \u001b[1;32mdef\u001b[0m \u001b[0mf3\u001b[0m\u001b[1;33m(\u001b[0m\u001b[0mx\u001b[0m\u001b[1;33m)\u001b[0m\u001b[1;33m:\u001b[0m\u001b[1;33m\u001b[0m\u001b[1;33m\u001b[0m\u001b[0m\n\u001b[1;32m----> 2\u001b[1;33m     \u001b[1;32mif\u001b[0m \u001b[0mx\u001b[0m \u001b[1;33m<=\u001b[0m \u001b[1;36m0\u001b[0m\u001b[1;33m:\u001b[0m\u001b[1;33m\u001b[0m\u001b[1;33m\u001b[0m\u001b[0m\n\u001b[0m\u001b[0;32m      3\u001b[0m         \u001b[1;32mreturn\u001b[0m \u001b[1;33m(\u001b[0m\u001b[0mx\u001b[0m\u001b[1;33m/\u001b[0m\u001b[1;36m2\u001b[0m\u001b[1;33m)\u001b[0m\u001b[1;33m\u001b[0m\u001b[1;33m\u001b[0m\u001b[0m\n\u001b[0;32m      4\u001b[0m     \u001b[1;32melse\u001b[0m\u001b[1;33m:\u001b[0m\u001b[1;33m\u001b[0m\u001b[1;33m\u001b[0m\u001b[0m\n\u001b[0;32m      5\u001b[0m         \u001b[1;32mreturn\u001b[0m \u001b[1;36m0\u001b[0m\u001b[1;33m\u001b[0m\u001b[1;33m\u001b[0m\u001b[0m\n",
      "\u001b[1;31mValueError\u001b[0m: The truth value of an array with more than one element is ambiguous. Use a.any() or a.all()"
     ]
    }
   ],
   "source": [
    "print(Xvalues)\n",
    "b9 = f3(Xvalues)"
   ]
  },
  {
   "cell_type": "code",
   "execution_count": 178,
   "metadata": {},
   "outputs": [
    {
     "name": "stdout",
     "output_type": "stream",
     "text": [
      "[-1.         -0.76604444 -0.17364818  0.5         0.93969262  0.93969262\n",
      "  0.5        -0.17364818 -0.76604444 -1.        ]\n"
     ]
    }
   ],
   "source": [
    "print(b8)\n",
    "f3 = np.vectorize(f3)\n",
    "b9 = f3(Xvalues)"
   ]
  },
  {
   "cell_type": "markdown",
   "metadata": {},
   "source": [
    "### Functions takes in array and returns a scalar"
   ]
  },
  {
   "cell_type": "code",
   "execution_count": 179,
   "metadata": {},
   "outputs": [
    {
     "name": "stdout",
     "output_type": "stream",
     "text": [
      "[-1.57079633 -1.22173048 -0.87266463 -0.52359878 -0.17453293  0.\n",
      "  0.          0.          0.          0.        ]\n",
      "-4.363323129985824\n",
      "-0.0\n"
     ]
    }
   ],
   "source": [
    "print(b9)\n",
    "print(b9.sum())\n",
    "print(b9.prod())\n"
   ]
  },
  {
   "cell_type": "markdown",
   "metadata": {},
   "source": [
    "-  descriptive statistics"
   ]
  },
  {
   "cell_type": "code",
   "execution_count": 180,
   "metadata": {},
   "outputs": [
    {
     "name": "stdout",
     "output_type": "stream",
     "text": [
      "-0.43633231299858244\n",
      "-1.5707963267948966\n",
      "0.0\n",
      "-0.43633231299858244\n",
      "0.5587780017872718\n",
      "0.31223285528137634\n"
     ]
    }
   ],
   "source": [
    "print(np.mean(b9))\n",
    "print(b9.min())\n",
    "print(b9.max())\n",
    "print(b9.mean())\n",
    "print(b9.std())\n",
    "print(b9.var())"
   ]
  },
  {
   "cell_type": "markdown",
   "metadata": {},
   "source": [
    "- operation on arrays"
   ]
  },
  {
   "cell_type": "code",
   "execution_count": 181,
   "metadata": {},
   "outputs": [
    {
     "name": "stdout",
     "output_type": "stream",
     "text": [
      "[[0 1 2 3]\n",
      " [4 5 6 7]\n",
      " [0 0 0 0]]\n",
      "[[0 4 0]\n",
      " [1 5 0]\n",
      " [2 6 0]\n",
      " [3 7 0]]\n"
     ]
    }
   ],
   "source": [
    "print(b1)\n",
    "b1new=b1.transpose()\n",
    "print(b1new)"
   ]
  },
  {
   "cell_type": "code",
   "execution_count": 182,
   "metadata": {},
   "outputs": [
    {
     "name": "stdout",
     "output_type": "stream",
     "text": [
      "None\n"
     ]
    },
    {
     "data": {
      "text/plain": [
       "array([[0, 0, 4],\n",
       "       [0, 1, 5],\n",
       "       [0, 2, 6],\n",
       "       [0, 3, 7]])"
      ]
     },
     "execution_count": 182,
     "metadata": {},
     "output_type": "execute_result"
    }
   ],
   "source": [
    "print(b1new.sort(1))\n",
    "b1new"
   ]
  },
  {
   "cell_type": "markdown",
   "metadata": {},
   "source": [
    "### Conditional Expression on arrays"
   ]
  },
  {
   "cell_type": "code",
   "execution_count": 183,
   "metadata": {},
   "outputs": [
    {
     "name": "stdout",
     "output_type": "stream",
     "text": [
      "[-0.19548739 -1.07755833  1.23661305  0.44680951 -0.15685945]\n",
      "[-1.77056144 -1.39914671 -0.8358154  -0.71171863 -0.90599595]\n"
     ]
    }
   ],
   "source": [
    "b10 =  np.random.normal(size = (5))\n",
    "b11 =  np.random.normal(size = (5))\n",
    "print(b10)\n",
    "print(b11)"
   ]
  },
  {
   "cell_type": "code",
   "execution_count": 184,
   "metadata": {},
   "outputs": [
    {
     "data": {
      "text/plain": [
       "array([ True,  True,  True,  True,  True])"
      ]
     },
     "execution_count": 184,
     "metadata": {},
     "output_type": "execute_result"
    }
   ],
   "source": [
    "b10 > b11"
   ]
  },
  {
   "cell_type": "code",
   "execution_count": 185,
   "metadata": {
    "tags": []
   },
   "outputs": [
    {
     "data": {
      "text/plain": [
       "True"
      ]
     },
     "execution_count": 185,
     "metadata": {},
     "output_type": "execute_result"
    }
   ],
   "source": [
    "np.all( b10 > -2) #all elements must satisfy condition to be True"
   ]
  },
  {
   "cell_type": "code",
   "execution_count": 186,
   "metadata": {},
   "outputs": [
    {
     "data": {
      "text/plain": [
       "True"
      ]
     },
     "execution_count": 186,
     "metadata": {},
     "output_type": "execute_result"
    }
   ],
   "source": [
    "np.any( b10 > 1)  #any element may satisfy condition to be True"
   ]
  },
  {
   "cell_type": "code",
   "execution_count": 187,
   "metadata": {},
   "outputs": [
    {
     "data": {
      "text/plain": [
       "True"
      ]
     },
     "execution_count": 187,
     "metadata": {},
     "output_type": "execute_result"
    }
   ],
   "source": [
    "np.all(b10 > b11)"
   ]
  },
  {
   "cell_type": "code",
   "execution_count": 188,
   "metadata": {},
   "outputs": [
    {
     "name": "stdout",
     "output_type": "stream",
     "text": [
      "[-0.19548739 -1.07755833  1.23661305  0.44680951 -0.15685945]\n"
     ]
    },
    {
     "data": {
      "text/plain": [
       "array([0.19548739, 1.07755833, 1.23661305, 0.44680951, 0.15685945])"
      ]
     },
     "execution_count": 188,
     "metadata": {},
     "output_type": "execute_result"
    }
   ],
   "source": [
    "#if the element satisfy given condition, then make it a positive number, else keep it as it is\n",
    "print(b10)\n",
    "np.where( b10 < 0, abs(b10), b10 )"
   ]
  },
  {
   "cell_type": "markdown",
   "metadata": {},
   "source": [
    "### Set Like operations"
   ]
  },
  {
   "cell_type": "code",
   "execution_count": 189,
   "metadata": {},
   "outputs": [
    {
     "name": "stdout",
     "output_type": "stream",
     "text": [
      "[ 7. 19. 13.  9. 13.  6.]\n",
      "[10. 10. 11.  8. 14.  9.]\n"
     ]
    }
   ],
   "source": [
    "b11 = np.ceil(np.random.normal(10, 3, size = 6)) # an array of rand nu centered at 10, with spread of 5, size of 6\n",
    "b12 = np.ceil(np.random.normal(10, 3, size = 6)) \n",
    "print(b11)\n",
    "print(b12)"
   ]
  },
  {
   "cell_type": "code",
   "execution_count": 190,
   "metadata": {},
   "outputs": [
    {
     "name": "stdout",
     "output_type": "stream",
     "text": [
      "[ 6.  7.  9. 13. 19.]\n",
      "[ 8.  9. 10. 11. 14.]\n",
      "[False False False  True False False]\n",
      "[9.]\n",
      "[ 6.  7.  8.  9. 10. 11. 13. 14. 19.]\n"
     ]
    }
   ],
   "source": [
    "print(np.unique(b11))\n",
    "print(np.unique(b12))\n",
    "print(np.in1d(b11,b12)) # check in order if the elements in b11 is in b12\n",
    "print(np.intersect1d(b11,b12))\n",
    "print(np.union1d(b11,b12))"
   ]
  },
  {
   "cell_type": "code",
   "execution_count": 191,
   "metadata": {},
   "outputs": [
    {
     "data": {
      "text/plain": [
       "False"
      ]
     },
     "execution_count": 191,
     "metadata": {},
     "output_type": "execute_result"
    }
   ],
   "source": [
    "5 in b11"
   ]
  },
  {
   "cell_type": "code",
   "execution_count": 192,
   "metadata": {},
   "outputs": [
    {
     "data": {
      "text/plain": [
       "False"
      ]
     },
     "execution_count": 192,
     "metadata": {},
     "output_type": "execute_result"
    }
   ],
   "source": [
    "12 in b11"
   ]
  },
  {
   "cell_type": "markdown",
   "metadata": {},
   "source": [
    "# Vector and Matrix Operations"
   ]
  },
  {
   "cell_type": "markdown",
   "metadata": {},
   "source": [
    "### NumPy standard matrix operation"
   ]
  },
  {
   "cell_type": "code",
   "execution_count": 193,
   "metadata": {},
   "outputs": [
    {
     "name": "stdout",
     "output_type": "stream",
     "text": [
      "[[1 2 3]\n",
      " [4 5 6]]\n",
      "[[ 7  8]\n",
      " [ 9 10]\n",
      " [11 12]]\n"
     ]
    }
   ],
   "source": [
    "m1 = np.arange(1,7).reshape(2,3)\n",
    "print(m1)\n",
    "m2 = np.arange(7,13).reshape(3,2)\n",
    "print(m2)"
   ]
  },
  {
   "cell_type": "markdown",
   "metadata": {},
   "source": [
    "- inner product"
   ]
  },
  {
   "cell_type": "code",
   "execution_count": 194,
   "metadata": {},
   "outputs": [
    {
     "data": {
      "text/plain": [
       "array([[ 3,  6,  9],\n",
       "       [12, 15, 18]])"
      ]
     },
     "execution_count": 194,
     "metadata": {},
     "output_type": "execute_result"
    }
   ],
   "source": [
    "np.inner(m1,3) # elementwise scalar multiplication"
   ]
  },
  {
   "cell_type": "markdown",
   "metadata": {},
   "source": [
    "- dor product"
   ]
  },
  {
   "cell_type": "code",
   "execution_count": 195,
   "metadata": {},
   "outputs": [
    {
     "name": "stdout",
     "output_type": "stream",
     "text": [
      "(2, 3)\n",
      "(3, 2)\n"
     ]
    },
    {
     "data": {
      "text/plain": [
       "array([[ 58,  64],\n",
       "       [139, 154]])"
      ]
     },
     "execution_count": 195,
     "metadata": {},
     "output_type": "execute_result"
    }
   ],
   "source": [
    "print(m1.shape)\n",
    "print(m2.shape)\n",
    "np.dot(m1,m2)"
   ]
  },
  {
   "cell_type": "markdown",
   "metadata": {},
   "source": [
    "- cross product"
   ]
  },
  {
   "cell_type": "code",
   "execution_count": 196,
   "metadata": {},
   "outputs": [
    {
     "name": "stdout",
     "output_type": "stream",
     "text": [
      "[[14 15 16]\n",
      " [17 18 19]]\n"
     ]
    },
    {
     "data": {
      "text/plain": [
       "array([[-13,  26, -13],\n",
       "       [-13,  26, -13]])"
      ]
     },
     "execution_count": 196,
     "metadata": {},
     "output_type": "execute_result"
    }
   ],
   "source": [
    "m3 = np.arange(14,20).reshape(2,3)\n",
    "print(m3)\n",
    "np.cross(m1,m3)"
   ]
  },
  {
   "cell_type": "markdown",
   "metadata": {},
   "source": [
    "-  vector (inner product)"
   ]
  },
  {
   "cell_type": "code",
   "execution_count": 197,
   "metadata": {},
   "outputs": [
    {
     "name": "stdout",
     "output_type": "stream",
     "text": [
      "[1 2 3] [4 5 6]\n",
      "32\n",
      "32\n"
     ]
    }
   ],
   "source": [
    "v1 = np.arange(1,4)\n",
    "v2 =np.arange(4,7)\n",
    "print(v1,v2)\n",
    "print(np.inner(v1,v2)) # must in the same dimension\n",
    "print(np.vdot(v1,v2)) # can be either in a row or column vector "
   ]
  },
  {
   "cell_type": "markdown",
   "metadata": {},
   "source": [
    "- vector `outer product` maps two vectors into a matrix:\n",
    "\n",
    "> first row: 1*[4 5 6]\n",
    "\n",
    "> second row: 2*[4 5 6]\n",
    "\n",
    "> third row: 3*[4 5 6]"
   ]
  },
  {
   "cell_type": "code",
   "execution_count": 198,
   "metadata": {},
   "outputs": [
    {
     "name": "stdout",
     "output_type": "stream",
     "text": [
      "[[ 4  5  6]\n",
      " [ 8 10 12]\n",
      " [12 15 18]]\n"
     ]
    }
   ],
   "source": [
    "print(np.outer(v1,v2)) # can be either in a row or column vector "
   ]
  },
  {
   "cell_type": "markdown",
   "metadata": {},
   "source": [
    "## Linear Algebra functions:\n",
    "read the documentation [online](https://numpy.org/doc/stable/reference/routines.linalg.html)"
   ]
  },
  {
   "cell_type": "code",
   "execution_count": 199,
   "metadata": {},
   "outputs": [
    {
     "data": {
      "text/plain": [
       "\u001b[1;31mType:\u001b[0m        module\n",
       "\u001b[1;31mString form:\u001b[0m <module 'numpy.linalg' from 'C:\\\\Users\\\\Apple\\\\AppData\\\\Roaming\\\\Python\\\\Python38\\\\site-packages\\\\numpy\\\\linalg\\\\__init__.py'>\n",
       "\u001b[1;31mFile:\u001b[0m        c:\\users\\apple\\appdata\\roaming\\python\\python38\\site-packages\\numpy\\linalg\\__init__.py\n",
       "\u001b[1;31mDocstring:\u001b[0m  \n",
       "``numpy.linalg``\n",
       "================\n",
       "\n",
       "The NumPy linear algebra functions rely on BLAS and LAPACK to provide efficient\n",
       "low level implementations of standard linear algebra algorithms. Those\n",
       "libraries may be provided by NumPy itself using C versions of a subset of their\n",
       "reference implementations but, when possible, highly optimized libraries that\n",
       "take advantage of specialized processor functionality are preferred. Examples\n",
       "of such libraries are OpenBLAS, MKL (TM), and ATLAS. Because those libraries\n",
       "are multithreaded and processor dependent, environmental variables and external\n",
       "packages such as threadpoolctl may be needed to control the number of threads\n",
       "or specify the processor architecture.\n",
       "\n",
       "- OpenBLAS: https://www.openblas.net/\n",
       "- threadpoolctl: https://github.com/joblib/threadpoolctl\n",
       "\n",
       "Please note that the most-used linear algebra functions in NumPy are present in\n",
       "the main ``numpy`` namespace rather than in ``numpy.linalg``.  There are:\n",
       "``dot``, ``vdot``, ``inner``, ``outer``, ``matmul``, ``tensordot``, ``einsum``,\n",
       "``einsum_path`` and ``kron``.\n",
       "\n",
       "Functions present in numpy.linalg are listed below.\n",
       "\n",
       "\n",
       "Matrix and vector products\n",
       "--------------------------\n",
       "\n",
       "   multi_dot\n",
       "   matrix_power\n",
       "\n",
       "Decompositions\n",
       "--------------\n",
       "\n",
       "   cholesky\n",
       "   qr\n",
       "   svd\n",
       "\n",
       "Matrix eigenvalues\n",
       "------------------\n",
       "\n",
       "   eig\n",
       "   eigh\n",
       "   eigvals\n",
       "   eigvalsh\n",
       "\n",
       "Norms and other numbers\n",
       "-----------------------\n",
       "\n",
       "   norm\n",
       "   cond\n",
       "   det\n",
       "   matrix_rank\n",
       "   slogdet\n",
       "\n",
       "Solving equations and inverting matrices\n",
       "----------------------------------------\n",
       "\n",
       "   solve\n",
       "   tensorsolve\n",
       "   lstsq\n",
       "   inv\n",
       "   pinv\n",
       "   tensorinv\n",
       "\n",
       "Exceptions\n",
       "----------\n",
       "\n",
       "   LinAlgError\n"
      ]
     },
     "metadata": {},
     "output_type": "display_data"
    }
   ],
   "source": [
    "np.linalg?"
   ]
  },
  {
   "cell_type": "markdown",
   "metadata": {},
   "source": [
    "### Linear Equation Systems"
   ]
  },
  {
   "cell_type": "markdown",
   "metadata": {},
   "source": [
    "$$\n",
    "2 x_1 + 3 x_2 = 4\n",
    "$$\n",
    "\n",
    "$$\n",
    "5 x_1 + 4 x_2 = 3\n",
    "$$"
   ]
  },
  {
   "cell_type": "code",
   "execution_count": 200,
   "metadata": {
    "collapsed": false,
    "jupyter": {
     "outputs_hidden": false
    }
   },
   "outputs": [
    {
     "data": {
      "text/plain": [
       "array([-1.,  2.])"
      ]
     },
     "execution_count": 200,
     "metadata": {},
     "output_type": "execute_result"
    }
   ],
   "source": [
    "A = np.array([[2, 3], [5, 4]])\n",
    "b = np.array([4, 3])\n",
    "x = np.linalg.solve(A, b)\n",
    "x"
   ]
  },
  {
   "cell_type": "code",
   "execution_count": 201,
   "metadata": {},
   "outputs": [
    {
     "name": "stdout",
     "output_type": "stream",
     "text": [
      "-6.999999999999999\n",
      "[-1.  7.]\n",
      "7.3484692283495345\n",
      "[[-0.57142857  0.42857143]\n",
      " [ 0.71428571 -0.28571429]]\n"
     ]
    }
   ],
   "source": [
    "print(np.linalg.det(A))\n",
    "print(np.linalg.eigvals(A))\n",
    "print(np.linalg.norm(A))\n",
    "print(np.linalg.inv(A))"
   ]
  },
  {
   "cell_type": "markdown",
   "metadata": {},
   "source": [
    "# Towards higher dimensions:"
   ]
  },
  {
   "cell_type": "markdown",
   "metadata": {},
   "source": [
    "###  three dimensional array: Imagine layered cake!"
   ]
  },
  {
   "cell_type": "markdown",
   "metadata": {},
   "source": [
    "<img src=\"figures/layeredCake.jpg\" alt=\"Drawing\" style=\"width: 200px;\"/>"
   ]
  },
  {
   "cell_type": "markdown",
   "metadata": {},
   "source": [
    "- example of 2 depths or tables overlaid, with 3 rows and 4 columns each table."
   ]
  },
  {
   "cell_type": "code",
   "execution_count": 202,
   "metadata": {},
   "outputs": [
    {
     "name": "stdout",
     "output_type": "stream",
     "text": [
      "3\n",
      "(2, 3, 4)\n"
     ]
    },
    {
     "data": {
      "text/plain": [
       "array([[[ 1,  2,  3,  4],\n",
       "        [ 5,  6,  7,  8],\n",
       "        [ 9, 10, 11, 12]],\n",
       "\n",
       "       [[13, 14, 15, 16],\n",
       "        [17, 18, 19, 20],\n",
       "        [21, 22, 23, 24]]])"
      ]
     },
     "execution_count": 202,
     "metadata": {},
     "output_type": "execute_result"
    }
   ],
   "source": [
    "h1=np.arange(1,25).reshape(2,3,4) \n",
    "print(h1.ndim)\n",
    "print(h1.shape)\n",
    "h1"
   ]
  },
  {
   "cell_type": "markdown",
   "metadata": {},
   "source": [
    "- layer 1: first table"
   ]
  },
  {
   "cell_type": "code",
   "execution_count": 203,
   "metadata": {},
   "outputs": [
    {
     "data": {
      "text/plain": [
       "array([[ 1,  2,  3,  4],\n",
       "       [ 5,  6,  7,  8],\n",
       "       [ 9, 10, 11, 12]])"
      ]
     },
     "execution_count": 203,
     "metadata": {},
     "output_type": "execute_result"
    }
   ],
   "source": [
    "h1[0]"
   ]
  },
  {
   "cell_type": "markdown",
   "metadata": {},
   "source": [
    "-layer 2: second table"
   ]
  },
  {
   "cell_type": "code",
   "execution_count": 204,
   "metadata": {},
   "outputs": [
    {
     "data": {
      "text/plain": [
       "array([[13, 14, 15, 16],\n",
       "       [17, 18, 19, 20],\n",
       "       [21, 22, 23, 24]])"
      ]
     },
     "execution_count": 204,
     "metadata": {},
     "output_type": "execute_result"
    }
   ],
   "source": [
    "h2[1]"
   ]
  },
  {
   "cell_type": "markdown",
   "metadata": {},
   "source": [
    "# Python for Data Analysis: [Pandas](https://pandas.pydata.org/)\n",
    "Feeling adventerous? try using [Pandas](https://pandas.pydata.org/docs/getting_started/intro_tutorials/01_table_oriented.html#min-tut-01-tableoriented):\n",
    "> pandas is a fast, powerful, flexible and easy to use open source data analysis and manipulation tool,\n",
    "built on top of the Python programming language."
   ]
  }
 ],
 "metadata": {
  "kernelspec": {
   "display_name": "Python 3",
   "language": "python",
   "name": "python3"
  },
  "language_info": {
   "codemirror_mode": {
    "name": "ipython",
    "version": 3
   },
   "file_extension": ".py",
   "mimetype": "text/x-python",
   "name": "python",
   "nbconvert_exporter": "python",
   "pygments_lexer": "ipython3",
   "version": "3.8.9"
  },
  "toc-autonumbering": true
 },
 "nbformat": 4,
 "nbformat_minor": 4
}
