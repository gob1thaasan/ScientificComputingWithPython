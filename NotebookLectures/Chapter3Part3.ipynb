{
 "cells": [
  {
   "cell_type": "markdown",
   "metadata": {},
   "source": [
    "**Scientific Computation (MKP3303)**\n",
    "\n",
    "\n",
    "> R.U.Gobithaasan (2021). Scientific Computing, Lectures for Undergraduate Degree Program B.Sc (Applied Mathematics), Faculty of Ocean Engineering Technology & Informatics, University Malaysia Terengganu.\n",
    "https://sites.google.com/site/gobithaasan/LearnTeach\n",
    "\n",
    "<p align=\"center\">\n",
    "     © 2021 R.U. Gobithaasan All Rights Reserved.\n",
    "\n",
    "</p>\n",
    "\n"
   ]
  },
  {
   "cell_type": "markdown",
   "metadata": {},
   "source": [
    "**Chapter 3: Lists, Arrays, Vectors and Matrix Operations**   \n",
    "\n",
    "**PART 1**: \n",
    "\n",
    "1. Types of Sequences in Python: Built-in containers\n",
    "\n",
    "**PART 2: Previous Notebook**\n",
    "\n",
    "2. Arrays                   \n",
    "3. Column and row vector\n",
    "4. Matrix representation\n",
    "\n",
    "**PART 3**\n",
    "\n",
    "5. Introduction to array operations \n",
    "6. Vector and Matrix Operations\n",
    "7. Towards Higher dimensions\n",
    "8. Reading and writing files\n",
    "9. Bonus: Python for Data Analysis (Pandas)\n",
    "\n",
    "**References:** \n",
    "\n",
    "- [NumPy](https://numpy.org/)\n",
    "- Robert Johansson, Numerical Python: Scientific Computing and Data Science Applications with Numpy, SciPy and Matplotlib (2019, Apress).\n",
    ">Source code listings for [Numerical Python - A Practical Techniques Approach for Industry](http://www.apress.com/9781484205549) (ISBN 978-1-484205-54-9). The source code listings can be downloaded from http://www.apress.com/9781484205549\n",
    "\n",
    "- VanderPlas, Jacob T,  Python data science handbook: essential tools for working with data, O'Reilly Media, 2017. This book is made available [online](https://jakevdp.github.io/PythonDataScienceHandbook/index.html) \n",
    ">The source code listings can be downloaded from [Jake's GitHub] (https://github.com/jakevdp/PythonDataScienceHandbook)\n",
    "\n",
    "- Travis E. Oliphant(creater of NumPy), [Guide to NumPy](https://web.mit.edu/dvp/Public/numpybook.pdf)"
   ]
  },
  {
   "cell_type": "markdown",
   "metadata": {},
   "source": [
    "---\n",
    "**PART 3**\n",
    "\n",
    "# Elementwise operation\n"
   ]
  },
  {
   "cell_type": "code",
   "execution_count": 1,
   "metadata": {},
   "outputs": [
    {
     "data": {
      "text/plain": [
       "'1.20.2'"
      ]
     },
     "execution_count": 1,
     "metadata": {},
     "output_type": "execute_result"
    }
   ],
   "source": [
    "import numpy as np\n",
    "np.__version__"
   ]
  },
  {
   "cell_type": "markdown",
   "metadata": {},
   "source": [
    "## Introduction to Array Operations"
   ]
  },
  {
   "cell_type": "markdown",
   "metadata": {},
   "source": [
    "- Element by element (elementwsie);"
   ]
  },
  {
   "cell_type": "code",
   "execution_count": 2,
   "metadata": {},
   "outputs": [
    {
     "name": "stdout",
     "output_type": "stream",
     "text": [
      "[[0 1 2 3]\n",
      " [4 5 6 7]\n",
      " [0 0 0 0]]\n",
      "(3, 4)\n",
      "[[1. 1. 1. 1.]\n",
      " [1. 1. 1. 1.]\n",
      " [1. 1. 1. 1.]]\n",
      "(3, 4)\n"
     ]
    }
   ],
   "source": [
    "b1 = np.array([[ 0,  1,  2,  3],\n",
    "                [ 4,  5,  6,  7],\n",
    "                [ 0,  0,  0,  0]])\n",
    "print(b1)\n",
    "print(b1.shape)\n",
    "\n",
    "b2 = np.ones((3,4))\n",
    "print(b2)\n",
    "print(b2.shape)"
   ]
  },
  {
   "cell_type": "markdown",
   "metadata": {},
   "source": [
    "- Thus, **matrix addition** which tis carried out in elementwise form can be carried out if the shape of array is the same"
   ]
  },
  {
   "cell_type": "code",
   "execution_count": 3,
   "metadata": {
    "tags": []
   },
   "outputs": [
    {
     "name": "stdout",
     "output_type": "stream",
     "text": [
      "(3, 4)\n"
     ]
    },
    {
     "data": {
      "text/plain": [
       "array([[1., 2., 3., 4.],\n",
       "       [5., 6., 7., 8.],\n",
       "       [1., 1., 1., 1.]])"
      ]
     },
     "execution_count": 3,
     "metadata": {},
     "output_type": "execute_result"
    }
   ],
   "source": [
    "b3 = b1 + b2\n",
    "print(b3.shape)\n",
    "b3"
   ]
  },
  {
   "cell_type": "markdown",
   "metadata": {
    "tags": []
   },
   "source": [
    "- elementwise operation still can be **broadcasted**  if two arrays can be matched in the form of shape and size\n",
    "\n",
    "- one dimensional **row array** b4 is matched to two dimensional b1:"
   ]
  },
  {
   "cell_type": "code",
   "execution_count": 4,
   "metadata": {},
   "outputs": [
    {
     "data": {
      "text/plain": [
       "(4,)"
      ]
     },
     "execution_count": 4,
     "metadata": {},
     "output_type": "execute_result"
    }
   ],
   "source": [
    "b4 = np.empty(4) #creating a row vector\n",
    "b4.fill(2)\n",
    "b4\n",
    "b4.shape"
   ]
  },
  {
   "cell_type": "code",
   "execution_count": 5,
   "metadata": {},
   "outputs": [
    {
     "name": "stdout",
     "output_type": "stream",
     "text": [
      "(3, 4)\n",
      "(4,)\n",
      "[[0 1 2 3]\n",
      " [4 5 6 7]\n",
      " [0 0 0 0]]\n",
      "[2. 2. 2. 2.]\n"
     ]
    },
    {
     "data": {
      "text/plain": [
       "array([[2., 3., 4., 5.],\n",
       "       [6., 7., 8., 9.],\n",
       "       [2., 2., 2., 2.]])"
      ]
     },
     "execution_count": 5,
     "metadata": {},
     "output_type": "execute_result"
    }
   ],
   "source": [
    "print(b1.shape)\n",
    "print(b4.shape)\n",
    "\n",
    "print(b1)\n",
    "print(b4)\n",
    "\n",
    "b5 = b1 + b4\n",
    "b5"
   ]
  },
  {
   "cell_type": "markdown",
   "metadata": {},
   "source": [
    "-  cannot be broadcasted if size or shape not the same"
   ]
  },
  {
   "cell_type": "code",
   "execution_count": 6,
   "metadata": {},
   "outputs": [
    {
     "name": "stdout",
     "output_type": "stream",
     "text": [
      "[1. 1. 1.]\n"
     ]
    }
   ],
   "source": [
    "print(np.ones(3))\n",
    "# b1 + np.ones(3) # you will not be able to run this due to unmatached dimension"
   ]
  },
  {
   "cell_type": "markdown",
   "metadata": {},
   "source": [
    "- **column array** b6 is matched to b1"
   ]
  },
  {
   "cell_type": "code",
   "execution_count": 7,
   "metadata": {},
   "outputs": [
    {
     "name": "stdout",
     "output_type": "stream",
     "text": [
      "[[3]\n",
      " [3]\n",
      " [3]]\n",
      "(3, 1)\n",
      "[[0 1 2 3]\n",
      " [4 5 6 7]\n",
      " [0 0 0 0]]\n",
      "[[3]\n",
      " [3]\n",
      " [3]]\n"
     ]
    },
    {
     "data": {
      "text/plain": [
       "array([[ 3,  4,  5,  6],\n",
       "       [ 7,  8,  9, 10],\n",
       "       [ 3,  3,  3,  3]])"
      ]
     },
     "execution_count": 7,
     "metadata": {},
     "output_type": "execute_result"
    }
   ],
   "source": [
    "b6 = np.array([[3],[3],[3]])\n",
    "print(b6)\n",
    "print(b6.shape)\n",
    "\n",
    "print(b1)\n",
    "print(b6)\n",
    "\n",
    "b7 = b1 + b6\n",
    "b7"
   ]
  },
  {
   "cell_type": "markdown",
   "metadata": {},
   "source": [
    "- other element wise aritmetic ooperations include: scalar multiplication, substraction, etc. "
   ]
  },
  {
   "cell_type": "code",
   "execution_count": 8,
   "metadata": {},
   "outputs": [
    {
     "name": "stdout",
     "output_type": "stream",
     "text": [
      "[[ 0  5 10 15]\n",
      " [20 25 30 35]\n",
      " [ 0  0  0  0]]\n"
     ]
    }
   ],
   "source": [
    "print(5* b1)"
   ]
  },
  {
   "cell_type": "code",
   "execution_count": 9,
   "metadata": {},
   "outputs": [
    {
     "name": "stdout",
     "output_type": "stream",
     "text": [
      "[[0 1 2 3]\n",
      " [4 5 6 7]\n",
      " [0 0 0 0]]\n"
     ]
    }
   ],
   "source": [
    "print(b1)"
   ]
  },
  {
   "cell_type": "code",
   "execution_count": 10,
   "metadata": {},
   "outputs": [
    {
     "name": "stdout",
     "output_type": "stream",
     "text": [
      "[[ 3  4  5  6]\n",
      " [ 7  8  9 10]\n",
      " [ 3  3  3  3]]\n"
     ]
    }
   ],
   "source": [
    "print(b7)"
   ]
  },
  {
   "cell_type": "code",
   "execution_count": 11,
   "metadata": {},
   "outputs": [
    {
     "name": "stdout",
     "output_type": "stream",
     "text": [
      "[[0.         0.25       0.4        0.5       ]\n",
      " [0.57142857 0.625      0.66666667 0.7       ]\n",
      " [0.         0.         0.         0.        ]]\n"
     ]
    }
   ],
   "source": [
    "print(b1/b7)"
   ]
  },
  {
   "cell_type": "code",
   "execution_count": 12,
   "metadata": {},
   "outputs": [
    {
     "name": "stdout",
     "output_type": "stream",
     "text": [
      "[[ 0  4 10 18]\n",
      " [28 40 54 70]\n",
      " [ 0  0  0  0]]\n"
     ]
    }
   ],
   "source": [
    "print(b1*b7)"
   ]
  },
  {
   "cell_type": "code",
   "execution_count": 13,
   "metadata": {},
   "outputs": [
    {
     "name": "stdout",
     "output_type": "stream",
     "text": [
      "(6,)\n",
      "[ 1.84169434  0.7394138   1.65964174  3.52766895 -1.01128927 -5.2779993 ]\n"
     ]
    }
   ],
   "source": [
    "a1 = np.random.normal(0, 3, size = 6) # a 1D list\n",
    "print(a1.shape)\n",
    "print(a1)"
   ]
  },
  {
   "cell_type": "code",
   "execution_count": 14,
   "metadata": {},
   "outputs": [
    {
     "name": "stdout",
     "output_type": "stream",
     "text": [
      "[ 2.  1.  2.  4. -1. -5.]\n"
     ]
    },
    {
     "data": {
      "text/plain": [
       "array([ 1.,  1.,  1.,  1., -1., -1.])"
      ]
     },
     "execution_count": 14,
     "metadata": {},
     "output_type": "execute_result"
    }
   ],
   "source": [
    "b7 = np.ceil(a1) \n",
    "print(b7)\n",
    "np.sign(b7)"
   ]
  },
  {
   "cell_type": "code",
   "execution_count": 15,
   "metadata": {},
   "outputs": [
    {
     "data": {
      "text/plain": [
       "array([   8.,    1.,    8.,   64.,   -1., -125.])"
      ]
     },
     "execution_count": 15,
     "metadata": {},
     "output_type": "execute_result"
    }
   ],
   "source": [
    "np.power(b7,3)"
   ]
  },
  {
   "cell_type": "markdown",
   "metadata": {},
   "source": [
    "### User Defined Function for array processing"
   ]
  },
  {
   "cell_type": "code",
   "execution_count": 16,
   "metadata": {},
   "outputs": [
    {
     "data": {
      "text/plain": [
       "-1.0"
      ]
     },
     "execution_count": 16,
     "metadata": {},
     "output_type": "execute_result"
    }
   ],
   "source": [
    "np.cos(np.pi)"
   ]
  },
  {
   "cell_type": "markdown",
   "metadata": {},
   "source": [
    "- we can also array processing for a given function.\n",
    "- $f1(x) = cos(x)$"
   ]
  },
  {
   "cell_type": "code",
   "execution_count": 17,
   "metadata": {},
   "outputs": [],
   "source": [
    "def f1(x):\n",
    "    return np.cos(x)"
   ]
  },
  {
   "cell_type": "code",
   "execution_count": 18,
   "metadata": {},
   "outputs": [
    {
     "name": "stdout",
     "output_type": "stream",
     "text": [
      "(10,)\n",
      "[-3.14159265 -2.44346095 -1.74532925 -1.04719755 -0.34906585  0.34906585\n",
      "  1.04719755  1.74532925  2.44346095  3.14159265]\n",
      "[-1.         -0.76604444 -0.17364818  0.5         0.93969262  0.93969262\n",
      "  0.5        -0.17364818 -0.76604444 -1.        ]\n",
      "(10,)\n"
     ]
    }
   ],
   "source": [
    "Xvalues = np.linspace(- np.pi, np.pi, 10)\n",
    "print(Xvalues.shape)\n",
    "print(Xvalues)\n",
    "\n",
    "b8 = f1(Xvalues)\n",
    "print(b8)\n",
    "print(b8.shape)"
   ]
  },
  {
   "cell_type": "markdown",
   "metadata": {},
   "source": [
    "- various builtin NumPy functions for elementwise operations"
   ]
  },
  {
   "cell_type": "markdown",
   "metadata": {},
   "source": [
    "- below is a special method called `vectorize` to apply for user defined function\n",
    "\n",
    "$f(x) = \\begin{cases} \n",
    "          \\frac{x}{2} & x\\leq 0 \\\\\n",
    "          0 & x> 0\n",
    "       \\end{cases}\n",
    "$\n"
   ]
  },
  {
   "cell_type": "code",
   "execution_count": 19,
   "metadata": {},
   "outputs": [],
   "source": [
    "def f3(x):\n",
    "    if x <= 0:\n",
    "        return (x/2)\n",
    "    else:\n",
    "        return 0"
   ]
  },
  {
   "cell_type": "code",
   "execution_count": 20,
   "metadata": {},
   "outputs": [
    {
     "data": {
      "text/plain": [
       "0"
      ]
     },
     "execution_count": 20,
     "metadata": {},
     "output_type": "execute_result"
    }
   ],
   "source": [
    "f3(2)"
   ]
  },
  {
   "cell_type": "code",
   "execution_count": 21,
   "metadata": {},
   "outputs": [
    {
     "name": "stdout",
     "output_type": "stream",
     "text": [
      "[-3.14159265 -2.44346095 -1.74532925 -1.04719755 -0.34906585  0.34906585\n",
      "  1.04719755  1.74532925  2.44346095  3.14159265]\n"
     ]
    }
   ],
   "source": [
    "print(Xvalues)\n",
    "# b9 = f3(Xvalues) # you will not be able to run this since this fucntion does not take in raay as input"
   ]
  },
  {
   "cell_type": "code",
   "execution_count": 22,
   "metadata": {},
   "outputs": [
    {
     "name": "stdout",
     "output_type": "stream",
     "text": [
      "[-1.         -0.76604444 -0.17364818  0.5         0.93969262  0.93969262\n",
      "  0.5        -0.17364818 -0.76604444 -1.        ]\n"
     ]
    }
   ],
   "source": [
    "print(b8)\n",
    "f3 = np.vectorize(f3)\n",
    "b9 = f3(Xvalues)"
   ]
  },
  {
   "cell_type": "code",
   "execution_count": 26,
   "metadata": {},
   "outputs": [
    {
     "name": "stdout",
     "output_type": "stream",
     "text": [
      "None\n"
     ]
    },
    {
     "data": {
      "text/plain": [
       "array([[0, 0, 4],\n",
       "       [0, 1, 5],\n",
       "       [0, 2, 6],\n",
       "       [0, 3, 7]])"
      ]
     },
     "execution_count": 26,
     "metadata": {},
     "output_type": "execute_result"
    }
   ],
   "source": [
    "print(b1new.sort(1))\n",
    "b1new"
   ]
  },
  {
   "cell_type": "markdown",
   "metadata": {},
   "source": [
    "### Conditional Expression on arrays"
   ]
  },
  {
   "cell_type": "code",
   "execution_count": 27,
   "metadata": {},
   "outputs": [
    {
     "name": "stdout",
     "output_type": "stream",
     "text": [
      "[ 0.09354843  0.77783429  0.12278899  0.02940752 -0.55495501]\n",
      "[-0.46913311  0.25676652  0.01134636 -1.13412403  0.55634109]\n"
     ]
    }
   ],
   "source": [
    "b10 =  np.random.normal(size = (5))\n",
    "b11 =  np.random.normal(size = (5))\n",
    "print(b10)\n",
    "print(b11)"
   ]
  },
  {
   "cell_type": "code",
   "execution_count": 28,
   "metadata": {},
   "outputs": [
    {
     "data": {
      "text/plain": [
       "array([ True,  True,  True,  True, False])"
      ]
     },
     "execution_count": 28,
     "metadata": {},
     "output_type": "execute_result"
    }
   ],
   "source": [
    "b10 > b11"
   ]
  },
  {
   "cell_type": "code",
   "execution_count": 29,
   "metadata": {
    "tags": []
   },
   "outputs": [
    {
     "data": {
      "text/plain": [
       "True"
      ]
     },
     "execution_count": 29,
     "metadata": {},
     "output_type": "execute_result"
    }
   ],
   "source": [
    "np.all( b10 > -2) #all elements must satisfy condition to be True"
   ]
  },
  {
   "cell_type": "code",
   "execution_count": 30,
   "metadata": {},
   "outputs": [
    {
     "data": {
      "text/plain": [
       "False"
      ]
     },
     "execution_count": 30,
     "metadata": {},
     "output_type": "execute_result"
    }
   ],
   "source": [
    "np.any( b10 > 1)  #any element may satisfy condition to be True"
   ]
  },
  {
   "cell_type": "code",
   "execution_count": 31,
   "metadata": {},
   "outputs": [
    {
     "data": {
      "text/plain": [
       "False"
      ]
     },
     "execution_count": 31,
     "metadata": {},
     "output_type": "execute_result"
    }
   ],
   "source": [
    "np.all(b10 > b11)"
   ]
  },
  {
   "cell_type": "code",
   "execution_count": 32,
   "metadata": {},
   "outputs": [
    {
     "name": "stdout",
     "output_type": "stream",
     "text": [
      "[-0.46913311  0.25676652  0.01134636 -1.13412403  0.55634109]\n"
     ]
    },
    {
     "data": {
      "text/plain": [
       "array([0.46913311, 0.        , 0.        , 1.13412403, 0.        ])"
      ]
     },
     "execution_count": 32,
     "metadata": {},
     "output_type": "execute_result"
    }
   ],
   "source": [
    "#if the element satisfy given condition, then make it a positive number, else keep it as it is\n",
    "print(b11)\n",
    "np.where( b11 < 0, abs(b11), 0 )"
   ]
  },
  {
   "cell_type": "markdown",
   "metadata": {},
   "source": [
    "### Functions takes in array and returns a scalar"
   ]
  },
  {
   "cell_type": "code",
   "execution_count": 23,
   "metadata": {},
   "outputs": [
    {
     "name": "stdout",
     "output_type": "stream",
     "text": [
      "[-1.57079633 -1.22173048 -0.87266463 -0.52359878 -0.17453293  0.\n",
      "  0.          0.          0.          0.        ]\n",
      "-4.363323129985824\n",
      "-0.0\n"
     ]
    }
   ],
   "source": [
    "print(b9)\n",
    "print(b9.sum())\n",
    "print(b9.prod())"
   ]
  },
  {
   "cell_type": "markdown",
   "metadata": {},
   "source": [
    "-  descriptive statistics"
   ]
  },
  {
   "cell_type": "code",
   "execution_count": 24,
   "metadata": {},
   "outputs": [
    {
     "name": "stdout",
     "output_type": "stream",
     "text": [
      "-0.43633231299858244\n",
      "-1.5707963267948966\n",
      "0.0\n",
      "-0.43633231299858244\n",
      "0.5587780017872718\n",
      "0.31223285528137634\n"
     ]
    }
   ],
   "source": [
    "print(np.mean(b9))\n",
    "print(b9.min())\n",
    "print(b9.max())\n",
    "print(b9.mean())\n",
    "print(b9.std())\n",
    "print(b9.var())"
   ]
  },
  {
   "cell_type": "markdown",
   "metadata": {},
   "source": [
    "- operation on arrays"
   ]
  },
  {
   "cell_type": "code",
   "execution_count": 25,
   "metadata": {},
   "outputs": [
    {
     "name": "stdout",
     "output_type": "stream",
     "text": [
      "[[0 1 2 3]\n",
      " [4 5 6 7]\n",
      " [0 0 0 0]]\n",
      "[[0 4 0]\n",
      " [1 5 0]\n",
      " [2 6 0]\n",
      " [3 7 0]]\n"
     ]
    }
   ],
   "source": [
    "print(b1)\n",
    "b1new=b1.transpose()\n",
    "print(b1new)"
   ]
  },
  {
   "cell_type": "markdown",
   "metadata": {},
   "source": [
    "### Set Like operations"
   ]
  },
  {
   "cell_type": "code",
   "execution_count": 33,
   "metadata": {},
   "outputs": [
    {
     "name": "stdout",
     "output_type": "stream",
     "text": [
      "[ 6. 15.  6.  7. 15. 10.]\n",
      "[ 9. 11. 12.  9.  7. 11.]\n"
     ]
    }
   ],
   "source": [
    "b11 = np.ceil(np.random.normal(10, 3, size = 6)) # an array of rand nu centered at 10, with spread of 5, size of 6\n",
    "b12 = np.ceil(np.random.normal(10, 3, size = 6)) \n",
    "print(b11)\n",
    "print(b12)"
   ]
  },
  {
   "cell_type": "code",
   "execution_count": 34,
   "metadata": {},
   "outputs": [
    {
     "name": "stdout",
     "output_type": "stream",
     "text": [
      "[ 6.  7. 10. 15.]\n",
      "[ 7.  9. 11. 12.]\n",
      "[False False False  True False False]\n",
      "[7.]\n",
      "[ 6.  7.  9. 10. 11. 12. 15.]\n"
     ]
    }
   ],
   "source": [
    "print(np.unique(b11))\n",
    "print(np.unique(b12))\n",
    "print(np.in1d(b11,b12)) # check in order if the elements in b11 is in b12\n",
    "print(np.intersect1d(b11,b12))\n",
    "print(np.union1d(b11,b12))"
   ]
  },
  {
   "cell_type": "code",
   "execution_count": 35,
   "metadata": {},
   "outputs": [
    {
     "data": {
      "text/plain": [
       "False"
      ]
     },
     "execution_count": 35,
     "metadata": {},
     "output_type": "execute_result"
    }
   ],
   "source": [
    "5 in b11"
   ]
  },
  {
   "cell_type": "code",
   "execution_count": 36,
   "metadata": {},
   "outputs": [
    {
     "data": {
      "text/plain": [
       "False"
      ]
     },
     "execution_count": 36,
     "metadata": {},
     "output_type": "execute_result"
    }
   ],
   "source": [
    "12 in b11"
   ]
  },
  {
   "cell_type": "markdown",
   "metadata": {},
   "source": [
    "## Linear Algebra: selected functions\n",
    "read the documentation [online](https://numpy.org/doc/stable/reference/routines.linalg.html)"
   ]
  },
  {
   "cell_type": "code",
   "execution_count": 37,
   "metadata": {},
   "outputs": [
    {
     "data": {
      "text/plain": [
       "\u001b[0;31mType:\u001b[0m        module\n",
       "\u001b[0;31mString form:\u001b[0m <module 'numpy.linalg' from '/Library/Frameworks/Python.framework/Versions/3.8/lib/python3.8/site-packages/numpy/linalg/__init__.py'>\n",
       "\u001b[0;31mFile:\u001b[0m        /Library/Frameworks/Python.framework/Versions/3.8/lib/python3.8/site-packages/numpy/linalg/__init__.py\n",
       "\u001b[0;31mDocstring:\u001b[0m  \n",
       "``numpy.linalg``\n",
       "================\n",
       "\n",
       "The NumPy linear algebra functions rely on BLAS and LAPACK to provide efficient\n",
       "low level implementations of standard linear algebra algorithms. Those\n",
       "libraries may be provided by NumPy itself using C versions of a subset of their\n",
       "reference implementations but, when possible, highly optimized libraries that\n",
       "take advantage of specialized processor functionality are preferred. Examples\n",
       "of such libraries are OpenBLAS, MKL (TM), and ATLAS. Because those libraries\n",
       "are multithreaded and processor dependent, environmental variables and external\n",
       "packages such as threadpoolctl may be needed to control the number of threads\n",
       "or specify the processor architecture.\n",
       "\n",
       "- OpenBLAS: https://www.openblas.net/\n",
       "- threadpoolctl: https://github.com/joblib/threadpoolctl\n",
       "\n",
       "Please note that the most-used linear algebra functions in NumPy are present in\n",
       "the main ``numpy`` namespace rather than in ``numpy.linalg``.  There are:\n",
       "``dot``, ``vdot``, ``inner``, ``outer``, ``matmul``, ``tensordot``, ``einsum``,\n",
       "``einsum_path`` and ``kron``.\n",
       "\n",
       "Functions present in numpy.linalg are listed below.\n",
       "\n",
       "\n",
       "Matrix and vector products\n",
       "--------------------------\n",
       "\n",
       "   multi_dot\n",
       "   matrix_power\n",
       "\n",
       "Decompositions\n",
       "--------------\n",
       "\n",
       "   cholesky\n",
       "   qr\n",
       "   svd\n",
       "\n",
       "Matrix eigenvalues\n",
       "------------------\n",
       "\n",
       "   eig\n",
       "   eigh\n",
       "   eigvals\n",
       "   eigvalsh\n",
       "\n",
       "Norms and other numbers\n",
       "-----------------------\n",
       "\n",
       "   norm\n",
       "   cond\n",
       "   det\n",
       "   matrix_rank\n",
       "   slogdet\n",
       "\n",
       "Solving equations and inverting matrices\n",
       "----------------------------------------\n",
       "\n",
       "   solve\n",
       "   tensorsolve\n",
       "   lstsq\n",
       "   inv\n",
       "   pinv\n",
       "   tensorinv\n",
       "\n",
       "Exceptions\n",
       "----------\n",
       "\n",
       "   LinAlgError\n"
      ]
     },
     "metadata": {},
     "output_type": "display_data"
    }
   ],
   "source": [
    "np.linalg?"
   ]
  },
  {
   "cell_type": "markdown",
   "metadata": {},
   "source": [
    "## Vector operations"
   ]
  },
  {
   "cell_type": "markdown",
   "metadata": {},
   "source": [
    "- examples of two vectors in ${\\mathbb{R}}^3$"
   ]
  },
  {
   "cell_type": "code",
   "execution_count": 38,
   "metadata": {},
   "outputs": [
    {
     "name": "stdout",
     "output_type": "stream",
     "text": [
      "(1, 3)\n",
      "(1, 3)\n"
     ]
    }
   ],
   "source": [
    "u = np.array([[5, 4, 3]])\n",
    "v = np.array([[1, 1, 1]])\n",
    "print(u.shape)\n",
    "print(v.shape)"
   ]
  },
  {
   "cell_type": "markdown",
   "metadata": {},
   "source": [
    "- addition \n",
    "- scalar multiplication\n",
    "- dot product"
   ]
  },
  {
   "cell_type": "markdown",
   "metadata": {},
   "source": [
    "- We can transpose a vector using `.T`  or `transpose()` function."
   ]
  },
  {
   "cell_type": "code",
   "execution_count": 39,
   "metadata": {},
   "outputs": [
    {
     "name": "stdout",
     "output_type": "stream",
     "text": [
      "(3, 1)\n",
      "[[5]\n",
      " [4]\n",
      " [3]]\n"
     ]
    }
   ],
   "source": [
    "u2 = np.transpose(u)\n",
    "#u2 =  u.T\n",
    "print(u2.shape)\n",
    "print(u2)"
   ]
  },
  {
   "cell_type": "code",
   "execution_count": 40,
   "metadata": {},
   "outputs": [
    {
     "name": "stdout",
     "output_type": "stream",
     "text": [
      "addition u + v =  [[6 5 4]]\n",
      "scalar multiplication 2*v =  [[2 2 2]]\n"
     ]
    }
   ],
   "source": [
    "print('addition u + v = ', u+v)\n",
    "print('scalar multiplication 2*v = ', 2*v)"
   ]
  },
  {
   "cell_type": "markdown",
   "metadata": {},
   "source": [
    "-  we can use special built-in function `vdot` product to carry out dot product for vectors, the output is a scalar. Vectors can be either in a row or column vector, hence `transpose` is unnecesary."
   ]
  },
  {
   "cell_type": "code",
   "execution_count": 41,
   "metadata": {},
   "outputs": [
    {
     "name": "stdout",
     "output_type": "stream",
     "text": [
      "[[5 4 3]]\n",
      "[[1 1 1]]\n",
      "u.v =  12\n",
      "v . u.T =  12\n"
     ]
    }
   ],
   "source": [
    "print(u)\n",
    "print(v)\n",
    "print('u.v = ', np.vdot(u,v))\n",
    "\n",
    "print('v . u.T = ', np.vdot(u.T,v))# can be either in a row or column vector "
   ]
  },
  {
   "cell_type": "markdown",
   "metadata": {},
   "source": [
    "-  we can also use built-in function `dot` product to carry out dot product for vectors, it is matrix multiplication. However, the dimension must match for dot product computation."
   ]
  },
  {
   "cell_type": "code",
   "execution_count": 42,
   "metadata": {},
   "outputs": [],
   "source": [
    "#print('u.v = ', np.dot(u,v)) # cannot as the dimension does not match. You need to transpose one vector before multiplying"
   ]
  },
  {
   "cell_type": "code",
   "execution_count": 43,
   "metadata": {},
   "outputs": [
    {
     "name": "stdout",
     "output_type": "stream",
     "text": [
      "u.v =  [[12]]\n"
     ]
    }
   ],
   "source": [
    "print('u.v = ', np.dot(u,v.T)) # must in the same dimension"
   ]
  },
  {
   "cell_type": "markdown",
   "metadata": {},
   "source": [
    "- Let $v_1 = [1, 2, 3]$ and $v_2 = [4, 5, 6]$. Vector operation of `outer` maps two vectors $v_1$ and $v_2$ into a matrix:\n",
    "\n",
    "> first row: 1*[4 5 6]\n",
    "\n",
    "> second row: 2*[4 5 6]\n",
    "\n",
    "> third row: 3*[4 5 6]"
   ]
  },
  {
   "cell_type": "code",
   "execution_count": 44,
   "metadata": {},
   "outputs": [
    {
     "name": "stdout",
     "output_type": "stream",
     "text": [
      "[1 2 3]\n",
      "(3,)\n",
      "[4 5 6]\n",
      "(3,)\n",
      "out product of v1 and v2 [[ 4  5  6]\n",
      " [ 8 10 12]\n",
      " [12 15 18]]\n",
      "(3, 3)\n"
     ]
    }
   ],
   "source": [
    "v1 = np.arange(1,4)\n",
    "print(v1)\n",
    "print(v1.shape)\n",
    "v2 = np.arange(4,7)\n",
    "print(v2)\n",
    "print(v2.shape)\n",
    "v3 = np.outer(v1,v2)\n",
    "print('out product of v1 and v2', v3) # can be either in a row or column vector \n",
    "print(v3.shape)"
   ]
  },
  {
   "cell_type": "markdown",
   "metadata": {},
   "source": [
    "- The **$L_2$ norm** of a vector is a measure of its length is denoted as $\\Vert v \\Vert_{2}$ =$ \\sqrt{\\sum_i v_i^2}$. Find the norm of $v_2$. "
   ]
  },
  {
   "cell_type": "code",
   "execution_count": 45,
   "metadata": {},
   "outputs": [
    {
     "name": "stdout",
     "output_type": "stream",
     "text": [
      "[[7.07106781]]\n"
     ]
    }
   ],
   "source": [
    "l2= np.sqrt(np.dot(u,u.T))\n",
    "print(l2)"
   ]
  },
  {
   "cell_type": "markdown",
   "metadata": {},
   "source": [
    "- We use`linalg.norm()` function to find **$L_2$ norm**:"
   ]
  },
  {
   "cell_type": "code",
   "execution_count": 46,
   "metadata": {},
   "outputs": [
    {
     "name": "stdout",
     "output_type": "stream",
     "text": [
      "L2 norm of u:  7.0710678118654755\n"
     ]
    }
   ],
   "source": [
    "print(\"L2 norm of u: \", np.linalg.norm(u))"
   ]
  },
  {
   "cell_type": "markdown",
   "metadata": {},
   "source": [
    "The **cross product** between two vectors, $v$ and $w$, is written $v \\times w$. The geometric interpretation of the cross product is a vector perpendicular to both $v$ and $w$ with length equal to the area enclosed by the parallelogram created by the two vectors."
   ]
  },
  {
   "cell_type": "code",
   "execution_count": 47,
   "metadata": {},
   "outputs": [
    {
     "name": "stdout",
     "output_type": "stream",
     "text": [
      "cross product u x v =  [[ 1 -2  1]]\n",
      "cross product u x v =  [[0 0 0]]\n"
     ]
    }
   ],
   "source": [
    "print('cross product u x v = ',np.cross(u, v))\n",
    "print('cross product u x v = ',np.cross(u, 2*u)) #parallel vectors"
   ]
  },
  {
   "cell_type": "markdown",
   "metadata": {},
   "source": [
    "## Matrix operation in NumPy"
   ]
  },
  {
   "cell_type": "code",
   "execution_count": 48,
   "metadata": {},
   "outputs": [
    {
     "name": "stdout",
     "output_type": "stream",
     "text": [
      "[[1 2 3]\n",
      " [4 5 6]]\n",
      "(2, 3)\n",
      "[[ 7  8]\n",
      " [ 9 10]\n",
      " [11 12]]\n",
      "(3, 2)\n"
     ]
    }
   ],
   "source": [
    "m1 = np.arange(1,7).reshape(2,3)\n",
    "print(m1)\n",
    "print(m1.shape)\n",
    "m2 = np.arange(7,13).reshape(3,2)\n",
    "print(m2)\n",
    "print(m2.shape)"
   ]
  },
  {
   "cell_type": "markdown",
   "metadata": {},
   "source": [
    "- the `multiply` function operates elementwise in NumPy arrays."
   ]
  },
  {
   "cell_type": "code",
   "execution_count": 49,
   "metadata": {},
   "outputs": [
    {
     "data": {
      "text/plain": [
       "array([[ 3,  6,  9],\n",
       "       [12, 15, 18]])"
      ]
     },
     "execution_count": 49,
     "metadata": {},
     "output_type": "execute_result"
    }
   ],
   "source": [
    "np.multiply(3,m1)"
   ]
  },
  {
   "cell_type": "markdown",
   "metadata": {},
   "source": [
    "- elementwise product operator is  `*`"
   ]
  },
  {
   "cell_type": "code",
   "execution_count": 50,
   "metadata": {},
   "outputs": [
    {
     "data": {
      "text/plain": [
       "array([[ 3,  6,  9],\n",
       "       [12, 15, 18]])"
      ]
     },
     "execution_count": 50,
     "metadata": {},
     "output_type": "execute_result"
    }
   ],
   "source": [
    "3*m1"
   ]
  },
  {
   "cell_type": "markdown",
   "metadata": {},
   "source": [
    "- scalar product between matrices is by `dot` function"
   ]
  },
  {
   "cell_type": "code",
   "execution_count": 51,
   "metadata": {},
   "outputs": [
    {
     "name": "stdout",
     "output_type": "stream",
     "text": [
      "(2, 3)\n",
      "(3, 2)\n",
      "Using dot: m1.m2 =  [[ 58  64]\n",
      " [139 154]]\n"
     ]
    }
   ],
   "source": [
    "print(m1.shape)\n",
    "print(m2.shape)\n",
    "print('Using dot: m1.m2 = ', np.dot(m1,m2))"
   ]
  },
  {
   "cell_type": "markdown",
   "metadata": {},
   "source": [
    "- The matrix product can be performed using the `@` operator"
   ]
  },
  {
   "cell_type": "code",
   "execution_count": 52,
   "metadata": {},
   "outputs": [
    {
     "data": {
      "text/plain": [
       "array([[ 58,  64],\n",
       "       [139, 154]])"
      ]
     },
     "execution_count": 52,
     "metadata": {},
     "output_type": "execute_result"
    }
   ],
   "source": [
    "m1 @ m2"
   ]
  },
  {
   "cell_type": "markdown",
   "metadata": {},
   "source": [
    "- cross product"
   ]
  },
  {
   "cell_type": "code",
   "execution_count": 53,
   "metadata": {},
   "outputs": [
    {
     "name": "stdout",
     "output_type": "stream",
     "text": [
      "[[14 15 16]\n",
      " [17 18 19]]\n",
      "m1 x m3 =  [[-13  26 -13]\n",
      " [-13  26 -13]]\n"
     ]
    }
   ],
   "source": [
    "m3 = np.arange(14,20).reshape(2,3)\n",
    "print(m3)\n",
    "print('m1 x m3 = ',np.cross(m1,m3))"
   ]
  },
  {
   "cell_type": "markdown",
   "metadata": {},
   "source": [
    "### Linear Systems"
   ]
  },
  {
   "cell_type": "markdown",
   "metadata": {},
   "source": [
    "$$\n",
    "20 x_1 + 3 x_2 = 4\n",
    "$$\n",
    "\n",
    "$$\n",
    "5 x_1 + 4 x_2 = 3\n",
    "$$"
   ]
  },
  {
   "cell_type": "markdown",
   "metadata": {},
   "source": [
    "- We can represent a system of (linear) equations above in a matrix form of $A.x =b$"
   ]
  },
  {
   "cell_type": "code",
   "execution_count": 54,
   "metadata": {
    "collapsed": false,
    "jupyter": {
     "outputs_hidden": false
    }
   },
   "outputs": [
    {
     "name": "stdout",
     "output_type": "stream",
     "text": [
      "Matrix A =  [[ 1  3]\n",
      " [ 5 -1]]\n",
      "(2, 2)\n",
      "Matrix b =  [1 3]\n",
      "(2,)\n"
     ]
    }
   ],
   "source": [
    "A = np.array([[1, 3], [5, -1]])\n",
    "print('Matrix A = ', A)\n",
    "print(A.shape)\n",
    "\n",
    "b = np.array([1, 3])\n",
    "print('Matrix b = ', b)\n",
    "print(b.shape)"
   ]
  },
  {
   "cell_type": "markdown",
   "metadata": {},
   "source": [
    "We can solve this system by finding its inverse: \n",
    "$$ \n",
    "A^{-1}A x = A^{-1}b \\\\\n",
    "I x = A^{-1}b\\\\\n",
    " x = A^{-1}b\n",
    "$$\n",
    "where $I$ is the identity matrix and, $A$ is a square matrix, its inverse is denoted by $A^{-1}$."
   ]
  },
  {
   "cell_type": "markdown",
   "metadata": {},
   "source": [
    "---\n",
    "A **square matrix** has the same number of rows as columns. The determinant is denoted as $det(M)$ or $|M|$. For example  $2 \\times 2$ matrix, the determinant is:\n",
    "$$\n",
    "|M| = \\begin{bmatrix}\n",
    "a & b \\\\\n",
    "c & d\\\\\n",
    "\\end{bmatrix} = ad - bc$$\n",
    "\n",
    "- If the determinant is $|M|=0$, then the matrix is **singular**, thus there is no inverse for the matrix. \n",
    "- If $|M|\\neq 0$, the matrix is **nonsingular**, hence we can compute the inverse."
   ]
  },
  {
   "cell_type": "markdown",
   "metadata": {},
   "source": [
    "- we can compute $|A|$ manually:"
   ]
  },
  {
   "cell_type": "code",
   "execution_count": 55,
   "metadata": {},
   "outputs": [
    {
     "name": "stdout",
     "output_type": "stream",
     "text": [
      "-16\n"
     ]
    }
   ],
   "source": [
    "A_Determinent = A[1,1]*A[0,0]-A[0,1]*A[1,0]\n",
    "print(A_Determinent)"
   ]
  },
  {
   "cell_type": "markdown",
   "metadata": {},
   "source": [
    "We use `linalg.det(M)` function to compute. "
   ]
  },
  {
   "cell_type": "code",
   "execution_count": 56,
   "metadata": {},
   "outputs": [
    {
     "name": "stdout",
     "output_type": "stream",
     "text": [
      "-15.999999999999998\n"
     ]
    }
   ],
   "source": [
    "print(np.linalg.det(A))"
   ]
  },
  {
   "cell_type": "markdown",
   "metadata": {},
   "source": [
    "---\n",
    "The **inverse** of a square matrix $M$ is a matrix of the same size, $N$, such that $M \\cdot N = I$.  A matrix is said to be **invertible** if it has an inverse. The inverse of a matrix is unique; that is, for an invertible matrix, there is only one inverse for that matrix. For a $2 \\times 2$ matrix, the analytic solution of the matrix inverse is:\n",
    "\n",
    "$$\n",
    "M^{-1} = \\begin{bmatrix}\n",
    "a & b \\\\\n",
    "c & d\\\\\n",
    "\\end{bmatrix}^{-1} = \\frac{1}{|M|}\\begin{bmatrix}\n",
    "d & -b \\\\\n",
    "-c & a\\\\\n",
    "\\end{bmatrix}$$\n"
   ]
  },
  {
   "cell_type": "markdown",
   "metadata": {},
   "source": [
    "- we can do this manually as well:"
   ]
  },
  {
   "cell_type": "code",
   "execution_count": 57,
   "metadata": {},
   "outputs": [
    {
     "name": "stdout",
     "output_type": "stream",
     "text": [
      "[[ 0.0625  0.1875]\n",
      " [ 0.3125 -0.0625]]\n"
     ]
    }
   ],
   "source": [
    "A_Inverse =(1/A_Determinent) * np.array([[A[1,1], -1*A[0,1]],[-1*A[1,0],A[0,0]]])\n",
    "print(A_Inverse)"
   ]
  },
  {
   "cell_type": "markdown",
   "metadata": {},
   "source": [
    "The inverse can be computed in Python using the function `inv` from Numpy's `linalg` package."
   ]
  },
  {
   "cell_type": "code",
   "execution_count": 58,
   "metadata": {},
   "outputs": [
    {
     "name": "stdout",
     "output_type": "stream",
     "text": [
      "[[ 0.0625  0.1875]\n",
      " [ 0.3125 -0.0625]]\n"
     ]
    }
   ],
   "source": [
    "print(np.linalg.inv(A))"
   ]
  },
  {
   "cell_type": "markdown",
   "metadata": {},
   "source": [
    "---\n",
    "We can now solve the system above manually:"
   ]
  },
  {
   "cell_type": "code",
   "execution_count": 59,
   "metadata": {},
   "outputs": [
    {
     "name": "stdout",
     "output_type": "stream",
     "text": [
      "The solutions: (x1,x2) =  (0.625, 0.125)\n"
     ]
    }
   ],
   "source": [
    "x1, x2 = np.round(np.dot(A_Inverse,b),5)\n",
    "print('The solutions: (x1,x2) = ', (x1,x2))"
   ]
  },
  {
   "cell_type": "markdown",
   "metadata": {},
   "source": [
    "We can also use the function `linalg.solve`"
   ]
  },
  {
   "cell_type": "code",
   "execution_count": 60,
   "metadata": {},
   "outputs": [
    {
     "data": {
      "text/plain": [
       "array([0.625, 0.125])"
      ]
     },
     "execution_count": 60,
     "metadata": {},
     "output_type": "execute_result"
    }
   ],
   "source": [
    "np.linalg.solve(A,b)"
   ]
  },
  {
   "cell_type": "markdown",
   "metadata": {},
   "source": [
    " ---\n",
    "Eigenvalues are a **special set of scalars** associated with a linear system of equations (i.e., a matrix equation) that are sometimes also known as **characteristic values**. Let $M$ be a square matrix. A non-zero vector $v$ is an **eigenvector** for M with **eigenvalue** $\\lambda$ if\n",
    "\n",
    "$$\n",
    "M v = \\lambda v \\\\\n",
    "M v - \\lambda v = 0 \\\\\n",
    "(M -\\lambda I) v = 0\n",
    "$$\n",
    "Non-trivial solutions exist only if the matrix $(M -\\lambda I)$ is singular which means $|(M -\\lambda I)| = 0 $\n",
    "In order to compute the eigenvalues, We construct the characteristic polynomial \n",
    "\n",
    "$$\n",
    "p(\\lambda) = |(M -\\lambda I)|\n",
    "$$\n",
    "\n"
   ]
  },
  {
   "cell_type": "markdown",
   "metadata": {},
   "source": [
    "- we can find the eigenvalues  directly using `linalg.eig`"
   ]
  },
  {
   "cell_type": "code",
   "execution_count": 61,
   "metadata": {},
   "outputs": [
    {
     "name": "stdout",
     "output_type": "stream",
     "text": [
      "[ 4. -4.]\n",
      "[[ 0.70710678 -0.51449576]\n",
      " [ 0.70710678  0.85749293]]\n"
     ]
    }
   ],
   "source": [
    "L, v = np.linalg.eig(A)\n",
    "print(L)\n",
    "print(v)"
   ]
  },
  {
   "cell_type": "code",
   "execution_count": 62,
   "metadata": {},
   "outputs": [
    {
     "name": "stdout",
     "output_type": "stream",
     "text": [
      "[[ 0.e+00 -4.e-16]\n",
      " [ 0.e+00 -4.e-16]]\n"
     ]
    }
   ],
   "source": [
    "answerRHS = np.round(np.dot(A,v) - L*v,16)\n",
    "print(answerRHS)"
   ]
  },
  {
   "cell_type": "markdown",
   "metadata": {},
   "source": [
    "# Towards higher dimensions:"
   ]
  },
  {
   "cell_type": "markdown",
   "metadata": {},
   "source": [
    "A **three dimensional array** is a collection of 2D arrays. It is specified by using **three-tuple (block, row, column)**.Three dimensional array: Imagine layered cake!\n",
    "<img src=\"figures/layeredCake.jpg\" alt=\"Drawing\" style=\"width: 200px;\"/>"
   ]
  },
  {
   "cell_type": "markdown",
   "metadata": {},
   "source": [
    "Below is an example of **three dimensional array** in $\\mathbb{R}^4$: \n",
    "- three nested brackets\n",
    "- 2 tables overlaid, with 3 rows and 4 columns each table."
   ]
  },
  {
   "cell_type": "code",
   "execution_count": 63,
   "metadata": {},
   "outputs": [
    {
     "name": "stdout",
     "output_type": "stream",
     "text": [
      "3\n",
      "(2, 3, 4)\n"
     ]
    },
    {
     "data": {
      "text/plain": [
       "array([[[ 1,  2,  3,  4],\n",
       "        [ 5,  6,  7,  8],\n",
       "        [ 9, 10, 11, 12]],\n",
       "\n",
       "       [[13, 14, 15, 16],\n",
       "        [17, 18, 19, 20],\n",
       "        [21, 22, 23, 24]]])"
      ]
     },
     "execution_count": 63,
     "metadata": {},
     "output_type": "execute_result"
    }
   ],
   "source": [
    "h1=np.arange(1,25).reshape(2,3,4) \n",
    "print(h1.ndim)\n",
    "print(h1.shape)\n",
    "h1"
   ]
  },
  {
   "cell_type": "markdown",
   "metadata": {},
   "source": [
    "- layer 1: first table"
   ]
  },
  {
   "cell_type": "code",
   "execution_count": 64,
   "metadata": {},
   "outputs": [
    {
     "data": {
      "text/plain": [
       "array([[ 1,  2,  3,  4],\n",
       "       [ 5,  6,  7,  8],\n",
       "       [ 9, 10, 11, 12]])"
      ]
     },
     "execution_count": 64,
     "metadata": {},
     "output_type": "execute_result"
    }
   ],
   "source": [
    "h1[0]"
   ]
  },
  {
   "cell_type": "markdown",
   "metadata": {},
   "source": [
    "-layer 2: second table"
   ]
  },
  {
   "cell_type": "code",
   "execution_count": 65,
   "metadata": {},
   "outputs": [
    {
     "data": {
      "text/plain": [
       "array([[13, 14, 15, 16],\n",
       "       [17, 18, 19, 20],\n",
       "       [21, 22, 23, 24]])"
      ]
     },
     "execution_count": 65,
     "metadata": {},
     "output_type": "execute_result"
    }
   ],
   "source": [
    "h1[1]"
   ]
  },
  {
   "cell_type": "markdown",
   "metadata": {},
   "source": [
    "# Reading & Writing files\n",
    "- **A comma-separated values (CSV) file** is a delimited text file that uses a comma to separate values.\\\n",
    "- Each line of the file is a data record. \n",
    "- Each record consists of one or more fields, separated by commas. \n",
    "- The use of the comma as a field separator is the source of the name for this file format. \n",
    "- A CSV file typically stores tabular data (numbers and text) in plain text, in which case each line will have the same number of fields.\n",
    "\n",
    "Feeling adventerous? try using [Pandas](https://pandas.pydata.org/docs/getting_started/intro_tutorials/01_table_oriented.html#min-tut-01-tableoriented):\n",
    "> pandas is a fast, powerful, flexible and easy to use open source data analysis and manipulation tool,\n",
    "built on top of the Python programming language."
   ]
  },
  {
   "cell_type": "markdown",
   "metadata": {},
   "source": [
    "### Writing an array into csv file\n",
    "\n",
    "Let's see a simple example of generating 50 rows and 5 columns of data. "
   ]
  },
  {
   "cell_type": "code",
   "execution_count": 66,
   "metadata": {},
   "outputs": [
    {
     "data": {
      "text/plain": [
       "array([[  1,   2,   3,   4,   5],\n",
       "       [  6,   7,   8,   9,  10],\n",
       "       [ 11,  12,  13,  14,  15],\n",
       "       [ 16,  17,  18,  19,  20],\n",
       "       [ 21,  22,  23,  24,  25],\n",
       "       [ 26,  27,  28,  29,  30],\n",
       "       [ 31,  32,  33,  34,  35],\n",
       "       [ 36,  37,  38,  39,  40],\n",
       "       [ 41,  42,  43,  44,  45],\n",
       "       [ 46,  47,  48,  49,  50],\n",
       "       [ 51,  52,  53,  54,  55],\n",
       "       [ 56,  57,  58,  59,  60],\n",
       "       [ 61,  62,  63,  64,  65],\n",
       "       [ 66,  67,  68,  69,  70],\n",
       "       [ 71,  72,  73,  74,  75],\n",
       "       [ 76,  77,  78,  79,  80],\n",
       "       [ 81,  82,  83,  84,  85],\n",
       "       [ 86,  87,  88,  89,  90],\n",
       "       [ 91,  92,  93,  94,  95],\n",
       "       [ 96,  97,  98,  99, 100]])"
      ]
     },
     "execution_count": 66,
     "metadata": {},
     "output_type": "execute_result"
    }
   ],
   "source": [
    "dataset = np.arange(1,101).reshape(20,5)\n",
    "dataset"
   ]
  },
  {
   "cell_type": "markdown",
   "metadata": {},
   "source": [
    "-  We use the `np.loadtxt` function. \n",
    "- saving the array above in a folder called `data` and the file is named as `dataset.csv`.\n",
    "- the format `fmt = %.2f` means to two significant digits\n",
    "- each entry is separated by comma\n",
    "- the `header` is a string of five columns\n",
    "\n",
    "You may open the folder and click on the file to view in MS Excel."
   ]
  },
  {
   "cell_type": "code",
   "execution_count": 67,
   "metadata": {
    "button": false,
    "new_sheet": false,
    "run_control": {
     "read_only": false
    },
    "tags": []
   },
   "outputs": [],
   "source": [
    "np.savetxt('data/dataset.csv', dataset, fmt = '%.2f', delimiter=',', header = 'X1, X2, X3, X4, X5')"
   ]
  },
  {
   "cell_type": "markdown",
   "metadata": {},
   "source": [
    "### Reading a csv file\n",
    "- using the `np.loadtxt` function. \n",
    "- there is a file in the folder called `data` named `populations.csv`. The data describes the populations of hares and lynxes (and carrots) in northern Canada during 20 years:"
   ]
  },
  {
   "cell_type": "code",
   "execution_count": 68,
   "metadata": {},
   "outputs": [
    {
     "name": "stdout",
     "output_type": "stream",
     "text": [
      "# year\thare\tlynx\tcarrot\n",
      "1900\t30e3\t4e3\t48300\n",
      "1901\t47.2e3\t6.1e3\t48200\n",
      "1902\t70.2e3\t9.8e3\t41500\n",
      "1903\t77.4e3\t35.2e3\t38200\n",
      "1904\t36.3e3\t59.4e3\t40600\n"
     ]
    }
   ],
   "source": [
    "samples = np.loadtxt('data/populations.csv', delimiter=',')\n",
    "! head -n 6 'data/populations.txt'"
   ]
  },
  {
   "cell_type": "code",
   "execution_count": 69,
   "metadata": {},
   "outputs": [
    {
     "name": "stdout",
     "output_type": "stream",
     "text": [
      "[[ 1900. 30000.  4000. 48300.]\n",
      " [ 1901. 47200.  6100. 48200.]\n",
      " [ 1902. 70200.  9800. 41500.]\n",
      " [ 1903. 77400. 35200. 38200.]\n",
      " [ 1904. 36300. 59400. 40600.]\n",
      " [ 1905. 20600. 41700. 39800.]\n",
      " [ 1906. 18100. 19000. 38600.]\n",
      " [ 1907. 21400. 13000. 42300.]\n",
      " [ 1908. 22000.  8300. 44500.]\n",
      " [ 1909. 25400.  9100. 42100.]\n",
      " [ 1910. 27100.  7400. 46000.]\n",
      " [ 1911. 40300.  8000. 46800.]\n",
      " [ 1912. 57000. 12300. 43800.]\n",
      " [ 1913. 76600. 19500. 40900.]\n",
      " [ 1914. 52300. 45700. 39400.]\n",
      " [ 1915. 19500. 51100. 39000.]\n",
      " [ 1916. 11200. 29700. 36700.]\n",
      " [ 1917.  7600. 15800. 41800.]\n",
      " [ 1918. 14600.  9700. 43300.]\n",
      " [ 1919. 16200. 10100. 41300.]\n",
      " [ 1920. 24700.  8600. 47300.]]\n"
     ]
    }
   ],
   "source": [
    "print(samples)"
   ]
  },
  {
   "cell_type": "code",
   "execution_count": 70,
   "metadata": {},
   "outputs": [],
   "source": [
    "year, hare, lynxe, carrot = samples.T  # trick: columns to variables"
   ]
  },
  {
   "cell_type": "code",
   "execution_count": 71,
   "metadata": {},
   "outputs": [
    {
     "data": {
      "text/plain": [
       "array([30000., 47200., 70200., 77400., 36300., 20600., 18100., 21400.,\n",
       "       22000., 25400., 27100., 40300., 57000., 76600., 52300., 19500.,\n",
       "       11200.,  7600., 14600., 16200., 24700.])"
      ]
     },
     "execution_count": 71,
     "metadata": {},
     "output_type": "execute_result"
    }
   ],
   "source": [
    "hare"
   ]
  },
  {
   "cell_type": "markdown",
   "metadata": {},
   "source": [
    "# Bonus: Python for Data Analysis (Pandas)\n",
    "Feeling adventerous? try using [Pandas](https://pandas.pydata.org/docs/getting_started/intro_tutorials/01_table_oriented.html#min-tut-01-tableoriented):\n",
    "> pandas is a fast, powerful, flexible and easy to use open source data analysis and manipulation tool,\n",
    "built on top of the Python programming language."
   ]
  },
  {
   "cell_type": "code",
   "execution_count": 72,
   "metadata": {},
   "outputs": [],
   "source": [
    "#!pip install pandas"
   ]
  },
  {
   "cell_type": "code",
   "execution_count": 1,
   "metadata": {},
   "outputs": [
    {
     "data": {
      "text/plain": [
       "'1.1.2'"
      ]
     },
     "execution_count": 1,
     "metadata": {},
     "output_type": "execute_result"
    }
   ],
   "source": [
    "import pandas as pd\n",
    "pd.__version__"
   ]
  },
  {
   "cell_type": "markdown",
   "metadata": {},
   "source": [
    "A [DataFrame](https://pandas.pydata.org/docs/getting_started/intro_tutorials/01_table_oriented.html#) is a 2-dimensional data structure that can store data of different types (including characters, integers, floating point values, categorical data and more) in columns. It is similar to a spreadsheet, a SQL table or the data.frame in R."
   ]
  },
  {
   "cell_type": "code",
   "execution_count": 2,
   "metadata": {},
   "outputs": [
    {
     "data": {
      "text/plain": [
       "pandas.core.frame.DataFrame"
      ]
     },
     "execution_count": 2,
     "metadata": {},
     "output_type": "execute_result"
    }
   ],
   "source": [
    "populations = pd.read_csv(\"data/populations.csv\")\n",
    "type(populations)"
   ]
  },
  {
   "cell_type": "markdown",
   "metadata": {},
   "source": [
    "- The DataFrame below  has 4 columns, each of them with a column label. The column labels are respectively year, hare, lynx and carrot.\n",
    "\n",
    "- The column year and carrot consists of `int64` and, the column hare and carrot is `float64` data.\n",
    "\n",
    "- we use `info` to inspect the DataFrame representation:"
   ]
  },
  {
   "cell_type": "code",
   "execution_count": 3,
   "metadata": {},
   "outputs": [
    {
     "name": "stdout",
     "output_type": "stream",
     "text": [
      "<class 'pandas.core.frame.DataFrame'>\n",
      "RangeIndex: 21 entries, 0 to 20\n",
      "Data columns (total 4 columns):\n",
      " #   Column  Non-Null Count  Dtype  \n",
      "---  ------  --------------  -----  \n",
      " 0   # year  21 non-null     int64  \n",
      " 1   hare    21 non-null     float64\n",
      " 2   lynx    21 non-null     float64\n",
      " 3   carrot  21 non-null     int64  \n",
      "dtypes: float64(2), int64(2)\n",
      "memory usage: 800.0 bytes\n"
     ]
    }
   ],
   "source": [
    "populations.info()"
   ]
  },
  {
   "cell_type": "markdown",
   "metadata": {},
   "source": [
    "- check out the first 5 rows:"
   ]
  },
  {
   "cell_type": "code",
   "execution_count": 4,
   "metadata": {},
   "outputs": [
    {
     "data": {
      "text/html": [
       "<div>\n",
       "<style scoped>\n",
       "    .dataframe tbody tr th:only-of-type {\n",
       "        vertical-align: middle;\n",
       "    }\n",
       "\n",
       "    .dataframe tbody tr th {\n",
       "        vertical-align: top;\n",
       "    }\n",
       "\n",
       "    .dataframe thead th {\n",
       "        text-align: right;\n",
       "    }\n",
       "</style>\n",
       "<table border=\"1\" class=\"dataframe\">\n",
       "  <thead>\n",
       "    <tr style=\"text-align: right;\">\n",
       "      <th></th>\n",
       "      <th># year</th>\n",
       "      <th>hare</th>\n",
       "      <th>lynx</th>\n",
       "      <th>carrot</th>\n",
       "    </tr>\n",
       "  </thead>\n",
       "  <tbody>\n",
       "    <tr>\n",
       "      <th>0</th>\n",
       "      <td>1900</td>\n",
       "      <td>30000.0</td>\n",
       "      <td>4000.0</td>\n",
       "      <td>48300</td>\n",
       "    </tr>\n",
       "    <tr>\n",
       "      <th>1</th>\n",
       "      <td>1901</td>\n",
       "      <td>47200.0</td>\n",
       "      <td>6100.0</td>\n",
       "      <td>48200</td>\n",
       "    </tr>\n",
       "    <tr>\n",
       "      <th>2</th>\n",
       "      <td>1902</td>\n",
       "      <td>70200.0</td>\n",
       "      <td>9800.0</td>\n",
       "      <td>41500</td>\n",
       "    </tr>\n",
       "    <tr>\n",
       "      <th>3</th>\n",
       "      <td>1903</td>\n",
       "      <td>77400.0</td>\n",
       "      <td>35200.0</td>\n",
       "      <td>38200</td>\n",
       "    </tr>\n",
       "    <tr>\n",
       "      <th>4</th>\n",
       "      <td>1904</td>\n",
       "      <td>36300.0</td>\n",
       "      <td>59400.0</td>\n",
       "      <td>40600</td>\n",
       "    </tr>\n",
       "  </tbody>\n",
       "</table>\n",
       "</div>"
      ],
      "text/plain": [
       "   # year     hare     lynx  carrot\n",
       "0    1900  30000.0   4000.0   48300\n",
       "1    1901  47200.0   6100.0   48200\n",
       "2    1902  70200.0   9800.0   41500\n",
       "3    1903  77400.0  35200.0   38200\n",
       "4    1904  36300.0  59400.0   40600"
      ]
     },
     "execution_count": 4,
     "metadata": {},
     "output_type": "execute_result"
    }
   ],
   "source": [
    "populations.head(5)"
   ]
  },
  {
   "cell_type": "markdown",
   "metadata": {},
   "source": [
    "- Each column in a DataFrame is a **Series**. \n",
    "- If you are familiar to Python dictionaries, the selection of a single column is very similar to selection of dictionary values based on the key.\n",
    "- Let's extract the column `hare`"
   ]
  },
  {
   "cell_type": "code",
   "execution_count": 10,
   "metadata": {},
   "outputs": [
    {
     "data": {
      "text/plain": [
       "pandas.core.series.Series"
      ]
     },
     "execution_count": 10,
     "metadata": {},
     "output_type": "execute_result"
    }
   ],
   "source": [
    "hare = populations[\"hare\"]\n",
    "type(hare)"
   ]
  },
  {
   "cell_type": "markdown",
   "metadata": {},
   "source": [
    "- we can compute the `mean` for hare alone."
   ]
  },
  {
   "cell_type": "code",
   "execution_count": 11,
   "metadata": {},
   "outputs": [
    {
     "data": {
      "text/plain": [
       "34080.95238095238"
      ]
     },
     "execution_count": 11,
     "metadata": {},
     "output_type": "execute_result"
    }
   ],
   "source": [
    "populations[\"hare\"].mean()"
   ]
  },
  {
   "cell_type": "markdown",
   "metadata": {},
   "source": [
    "- compute basic statistics of the numerical data of populations"
   ]
  },
  {
   "cell_type": "code",
   "execution_count": 78,
   "metadata": {},
   "outputs": [
    {
     "data": {
      "text/html": [
       "<div>\n",
       "<style scoped>\n",
       "    .dataframe tbody tr th:only-of-type {\n",
       "        vertical-align: middle;\n",
       "    }\n",
       "\n",
       "    .dataframe tbody tr th {\n",
       "        vertical-align: top;\n",
       "    }\n",
       "\n",
       "    .dataframe thead th {\n",
       "        text-align: right;\n",
       "    }\n",
       "</style>\n",
       "<table border=\"1\" class=\"dataframe\">\n",
       "  <thead>\n",
       "    <tr style=\"text-align: right;\">\n",
       "      <th></th>\n",
       "      <th># year</th>\n",
       "      <th>hare</th>\n",
       "      <th>lynx</th>\n",
       "      <th>carrot</th>\n",
       "    </tr>\n",
       "  </thead>\n",
       "  <tbody>\n",
       "    <tr>\n",
       "      <th>count</th>\n",
       "      <td>21.000000</td>\n",
       "      <td>21.000000</td>\n",
       "      <td>21.000000</td>\n",
       "      <td>21.000000</td>\n",
       "    </tr>\n",
       "    <tr>\n",
       "      <th>mean</th>\n",
       "      <td>1910.000000</td>\n",
       "      <td>34080.952381</td>\n",
       "      <td>20166.666667</td>\n",
       "      <td>42400.000000</td>\n",
       "    </tr>\n",
       "    <tr>\n",
       "      <th>std</th>\n",
       "      <td>6.204837</td>\n",
       "      <td>21413.981859</td>\n",
       "      <td>16655.999920</td>\n",
       "      <td>3404.555771</td>\n",
       "    </tr>\n",
       "    <tr>\n",
       "      <th>min</th>\n",
       "      <td>1900.000000</td>\n",
       "      <td>7600.000000</td>\n",
       "      <td>4000.000000</td>\n",
       "      <td>36700.000000</td>\n",
       "    </tr>\n",
       "    <tr>\n",
       "      <th>25%</th>\n",
       "      <td>1905.000000</td>\n",
       "      <td>19500.000000</td>\n",
       "      <td>8600.000000</td>\n",
       "      <td>39800.000000</td>\n",
       "    </tr>\n",
       "    <tr>\n",
       "      <th>50%</th>\n",
       "      <td>1910.000000</td>\n",
       "      <td>25400.000000</td>\n",
       "      <td>12300.000000</td>\n",
       "      <td>41800.000000</td>\n",
       "    </tr>\n",
       "    <tr>\n",
       "      <th>75%</th>\n",
       "      <td>1915.000000</td>\n",
       "      <td>47200.000000</td>\n",
       "      <td>29700.000000</td>\n",
       "      <td>44500.000000</td>\n",
       "    </tr>\n",
       "    <tr>\n",
       "      <th>max</th>\n",
       "      <td>1920.000000</td>\n",
       "      <td>77400.000000</td>\n",
       "      <td>59400.000000</td>\n",
       "      <td>48300.000000</td>\n",
       "    </tr>\n",
       "  </tbody>\n",
       "</table>\n",
       "</div>"
      ],
      "text/plain": [
       "            # year          hare          lynx        carrot\n",
       "count    21.000000     21.000000     21.000000     21.000000\n",
       "mean   1910.000000  34080.952381  20166.666667  42400.000000\n",
       "std       6.204837  21413.981859  16655.999920   3404.555771\n",
       "min    1900.000000   7600.000000   4000.000000  36700.000000\n",
       "25%    1905.000000  19500.000000   8600.000000  39800.000000\n",
       "50%    1910.000000  25400.000000  12300.000000  41800.000000\n",
       "75%    1915.000000  47200.000000  29700.000000  44500.000000\n",
       "max    1920.000000  77400.000000  59400.000000  48300.000000"
      ]
     },
     "execution_count": 78,
     "metadata": {},
     "output_type": "execute_result"
    }
   ],
   "source": [
    "populations.describe()"
   ]
  },
  {
   "cell_type": "code",
   "execution_count": 21,
   "metadata": {},
   "outputs": [
    {
     "data": {
      "text/plain": [
       "pandas.core.frame.DataFrame"
      ]
     },
     "execution_count": 21,
     "metadata": {},
     "output_type": "execute_result"
    }
   ],
   "source": [
    "type(populations.describe())"
   ]
  },
  {
   "cell_type": "code",
   "execution_count": null,
   "metadata": {},
   "outputs": [],
   "source": []
  }
 ],
 "metadata": {
  "kernelspec": {
   "display_name": "Python 3",
   "language": "python",
   "name": "python3"
  },
  "language_info": {
   "codemirror_mode": {
    "name": "ipython",
    "version": 3
   },
   "file_extension": ".py",
   "mimetype": "text/x-python",
   "name": "python",
   "nbconvert_exporter": "python",
   "pygments_lexer": "ipython3",
   "version": "3.8.3"
  },
  "toc-autonumbering": true
 },
 "nbformat": 4,
 "nbformat_minor": 4
}
