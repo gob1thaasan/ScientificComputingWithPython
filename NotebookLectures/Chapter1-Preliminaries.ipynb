{
  "cells": [
    {
      "cell_type": "markdown",
      "metadata": {
        "id": "gUnA-ZoFlWwL"
      },
      "source": [
        "\n",
        "**Scientific Computation (MKP3303)**\n",
        "\n",
        "\n",
        ">> R.U.Gobithaasan (2021). Scientific Computing, Lectures for Undergraduate Degree Program B.Sc (Applied Mathematics), Faculty of Ocean Engineering Technology, University Malaysia Terengganu.\n",
        "https://sites.google.com/site/gobithaasan/LearnTeach\n",
        "\n",
        "<p align=\"center\">\n",
        "     © 2021 R.U. Gobithaasan All Rights Reserved.\n",
        "\n",
        "</p>\n",
        "\n"
      ]
    },
    {
      "cell_type": "markdown",
      "metadata": {
        "id": "4I8GWaNvlWwM"
      },
      "source": [
        "**Chapter 1: Preliminaries**                    \n",
        "1. Command line reference\n",
        "2. Using Notebook\n",
        "3. Markdown Cells\n",
        "4. Scientific Python Ecosystem\n",
        "5. Documentation and Help files\n",
        "6. Input / Output caching\n",
        "\n",
        "**References:** \n",
        "- [w3schools Online Materials](https://www.w3schools.com/python/)\n",
        "-  [SciPi Lecture Notes](http://scipy-lectures.org/)\n",
        "- Robert Johansson, Numerical Python: Scientific Computing and Data Science Applications with Numpy, SciPy and Matplotlib (2019, Apress).\n",
        "- Donaldson Toby,Python: Visual QuickStart Guide (2008, Peachpit Press).\n",
        "- Tony Gaddis-Starting Out with Python,(2018,Global Edition-Pearson Education)\n",
        "- Robert Johansson August, Introduction to Scientific Computing in Python Continuum Analytics, (2015)\n",
        "\n",
        "`jupyter nbconvert Chapter1-Preliminaries.ipynb --to pdf`"
      ]
    },
    {
      "cell_type": "markdown",
      "metadata": {
        "id": "vkzyM7PWlWwN"
      },
      "source": [
        "# Command line reference\n",
        "Click on this link to see all the commands available: \n",
        "- [Windows commands](https://docs.microsoft.com/en-us/windows-server/administration/windows-commands/windows-commands)\n",
        "- [Mac](https://developer.apple.com/library/archive/documentation/OpenSource/Conceptual/ShellScripting/CommandLInePrimer/CommandLine.html)"
      ]
    },
    {
      "cell_type": "markdown",
      "metadata": {
        "id": "wjV5uvdnlWwN"
      },
      "source": [
        "# Using Jupyter Notebook\n",
        "\n",
        "Depending the way you install Python and its location, you may run the following comannd in command prompt to run jupyter notebook or jupyterlab:\n",
        "\n",
        "- to run notebook, use any of this command:\n",
        "> - `py -m notebook`\n",
        "> - `python -m notebook`\n",
        "> - `jupyter notebook`\n",
        "\n",
        "-to run jupyterlab:\n",
        "> - `py -m jupyterlab`\n",
        "> - `jupyter-lab`\n",
        "\n",
        "Reference: [StackOverFlow](https://stackoverflow.com/questions/41034866/running-jupyter-via-command-line-on-windows)"
      ]
    },
    {
      "cell_type": "code",
      "execution_count": null,
      "metadata": {
        "id": "oqVg7xBplWwN",
        "outputId": "83c48185-c2db-4f35-81fa-f8215bb9f1b5"
      },
      "outputs": [
        {
          "name": "stdout",
          "output_type": "stream",
          "text": [
            "/c/Program Files/Python38/python\n"
          ]
        },
        {
          "name": "stderr",
          "output_type": "stream",
          "text": [
            "which: no #for in (/c/Users/Apple/bin:/mingw64/bin:/usr/local/bin:/usr/bin:/usr/bin:/mingw64/bin:/usr/bin:/c/Users/Apple/bin:/c/Python39/Scripts:/c/Python39:/c/Program Files/Python38/Scripts:/c/Program Files/Python38:/c/WINDOWS/system32:/c/WINDOWS:/c/WINDOWS/System32/Wbem:/c/WINDOWS/System32/WindowsPowerShell/v1.0:/c/WINDOWS/System32/OpenSSH:/c/Program Files/MiKTeX/miktex/bin/x64:/cmd:/c/Program Files/Wolfram Research/WolframScript:/c/Program Files/nodejs:/c/ProgramData/chocolatey/bin:/c/Users/Apple/AppData/Local/Microsoft/WindowsApps:/c/Users/Apple/AppData/Roaming/npm:/usr/bin/vendor_perl:/usr/bin/core_perl)\n",
            "which: no Linux in (./Mac)\n"
          ]
        }
      ],
      "source": [
        "!which python #for Mac/Linux\n",
        "!where python #for Windows"
      ]
    },
    {
      "cell_type": "markdown",
      "metadata": {
        "id": "YHz9MYvMlWwN"
      },
      "source": [
        "## Opening *.ipynb file by clicking on the file directly:\n",
        "\n",
        "- Windows:\n",
        "    1. `pip install nbopen`\n",
        "    2. `python -m nbopen.install_win`\n",
        "\n"
      ]
    },
    {
      "cell_type": "markdown",
      "metadata": {
        "id": "OMqBDsA5lWwN"
      },
      "source": [
        "## Some shortcuts for formatting notebook"
      ]
    },
    {
      "cell_type": "markdown",
      "metadata": {
        "id": "VEOKVwZYlWwO"
      },
      "source": [
        " - b: Create a new cell below the currently selected cell. \n",
        "- a: Create a new cell above the currently selected cell. \n",
        "- d-d Delete the currently selected cell.\n",
        "- 1 to 6: Heading cell of level 1 to 6.\n",
        "- x: Cut currently selected cell.\n",
        "- c: Copy currently selected cell. \n",
        "- v: Paste cell from the clipboard. \n",
        "- m: Convert a cell to a markdown cell. \n",
        "- y: Convert a cell to a code cell. \n",
        "- Up: Select previous cell.\n",
        "- Down: Select next cell.\n",
        "- Enter: Enter edit mode.\n",
        "- Escape: Exit edit mode.\n",
        "- Shift-Enter: Run the cell.\n",
        "- h: Display a help window with a list of all available keyboard shortcuts.\n",
        "- 0-0: Restart the kernel. \n",
        "- i-i: Interrupt an executing cell. \n",
        "- s: Save the notebook."
      ]
    },
    {
      "cell_type": "markdown",
      "metadata": {
        "id": "bUP7bSpelWwO"
      },
      "source": [
        "# Markdown Cells\n",
        "Summary of Markdown Syntax for Jupyter Notebook Markdown Cells"
      ]
    },
    {
      "cell_type": "markdown",
      "metadata": {
        "id": "9HzMZoEglWwO"
      },
      "source": [
        "Fonts:\n",
        "\n",
        "- italics: *text*\n",
        "- bold: **text**\n",
        "- stike-through: ~~text~~\n",
        "- fixed-width: `text`\n",
        "- url: [URL text](https://www.google.com.my/maps/)\n",
        "- Vertatim( with tab):\n",
        "\n",
        "        def func(x):\n",
        "            return x ** 2\n",
        "            \n",
        "- New paragraph: with an empty line."
      ]
    },
    {
      "cell_type": "markdown",
      "metadata": {
        "id": "I0RO43wblWwO"
      },
      "source": [
        "- Types of headers:"
      ]
    },
    {
      "cell_type": "code",
      "execution_count": null,
      "metadata": {
        "id": "vxBuY3VClWwO",
        "outputId": "34b28295-5c74-4d47-a4ca-8d43b00c587a"
      },
      "outputs": [
        {
          "data": {
            "text/plain": [
              "' \\n# Level 1 heading \\n## Level 2 heading \\n### Level 3 heading\\n'"
            ]
          },
          "execution_count": 2,
          "metadata": {},
          "output_type": "execute_result"
        }
      ],
      "source": [
        "''' \n",
        "# Level 1 heading \n",
        "## Level 2 heading \n",
        "### Level 3 heading\n",
        "'''"
      ]
    },
    {
      "cell_type": "markdown",
      "metadata": {
        "id": "fYPsJt48lWwO"
      },
      "source": [
        "- Block quote:\n",
        "> Text here is indented and offset\n",
        "> from the main text body."
      ]
    },
    {
      "cell_type": "markdown",
      "metadata": {
        "id": "1-4cTSvelWwO"
      },
      "source": [
        "- Unordered list (use - or * ):\n",
        "* Item one\n",
        "* Item two\n",
        "* Item three"
      ]
    },
    {
      "cell_type": "markdown",
      "metadata": {
        "id": "JTp_UW1ilWwO"
      },
      "source": [
        "- Ordered list:\n",
        "1. Item one\n",
        "2. Item two\n",
        "3. Item three"
      ]
    },
    {
      "cell_type": "markdown",
      "metadata": {
        "tags": [],
        "id": "78b3Gr9VlWwO"
      },
      "source": [
        "Table:\n",
        "\n",
        "| A | B | C | \n",
        "|---|---|---| \n",
        "|1|2|3 | \n",
        "|4|5|6 |"
      ]
    },
    {
      "cell_type": "markdown",
      "metadata": {
        "id": "VnVmatGvlWwO"
      },
      "source": [
        "- image: local machine"
      ]
    },
    {
      "cell_type": "markdown",
      "metadata": {
        "id": "6jekWxLtlWwO"
      },
      "source": [
        "`![Alternative text](https://github.com/gob1thaasan/ScientificComputingWithPython/blob/main/NotebookLectures/figures/python-logo.png?raw=1)`\n",
        "\n",
        "![Alternative text](figures/python-logo.png)"
      ]
    },
    {
      "cell_type": "markdown",
      "metadata": {
        "id": "iZIQUZ6tlWwO"
      },
      "source": [
        "- image: internet"
      ]
    },
    {
      "cell_type": "markdown",
      "metadata": {
        "id": "fwg71YLhlWwO"
      },
      "source": [
        "`![Alternative text](https://www.python.org/static/img/python-logo.png)`"
      ]
    },
    {
      "cell_type": "markdown",
      "metadata": {
        "id": "yNtD_q7IlWwO"
      },
      "source": [
        "- Inline LateX equation:\n",
        "\n",
        "$f2(x,y,z) = x^2 + y^3 + \\sqrt{z}$"
      ]
    },
    {
      "cell_type": "markdown",
      "metadata": {
        "id": "ncmkxuLjlWwO"
      },
      "source": [
        "- Displayed LateX equation. See some examples at [Latex Cookbook](http://www.personal.ceu.hu/tex/cookbook.html)\n",
        "\n",
        "\\begin{eqnarray}\n",
        " y &=& x^4 + 4      \\nonumber \\\\\n",
        "   &=& (x^2+2)^2 -4x^2 \\nonumber \\\\\n",
        "   &\\le&(x^2+2)^2\n",
        "\\end{eqnarray}"
      ]
    },
    {
      "cell_type": "markdown",
      "metadata": {
        "id": "thYJUt1nlWwP"
      },
      "source": [
        "## There are more details can be found at: [ibm markdown](https://www.ibm.com/docs/en/db2-event-store/2.0.0?topic=notebooks-markdown-jupyter-cheatsheet)"
      ]
    },
    {
      "cell_type": "markdown",
      "metadata": {
        "id": "5LS1-PDYlWwP"
      },
      "source": [
        "- colored boxes"
      ]
    },
    {
      "cell_type": "markdown",
      "metadata": {
        "id": "WR6vEhQhlWwP"
      },
      "source": [
        "<div class=\"alert alert-block alert-info\">\n",
        "<b>Tip:</b> Use blue boxes (alert-info) for tips and notes. \n",
        "If it’s a note, you don’t have to include the word “Note”.\n",
        "</div>"
      ]
    },
    {
      "cell_type": "markdown",
      "metadata": {
        "id": "2pizHrKWlWwP"
      },
      "source": [
        "<div class=\"alert alert-block alert-warning\">\n",
        "<b>Example:</b> Use yellow boxes for examples that are not \n",
        "inside code cells, or use for mathematical formulas if needed.\n",
        "</div>"
      ]
    },
    {
      "cell_type": "markdown",
      "metadata": {
        "id": "bRZ84GTXlWwP"
      },
      "source": [
        "<div class=\"alert alert-block alert-success\">\n",
        "<b>Up to you:</b> Use green boxes sparingly, and only for some specific \n",
        "purpose that the other boxes can't cover. For example, if you have a lot \n",
        "of related content to link to, maybe you decide to use green boxes for \n",
        "related links from each section of a notebook.\n",
        "</div>"
      ]
    },
    {
      "cell_type": "markdown",
      "metadata": {
        "id": "BIgi8_v9lWwP"
      },
      "source": [
        "<div class=\"alert alert-block alert-danger\">\n",
        "<b>Just don't:</b> In general, avoid the red boxes. These should only be\n",
        "used for actions that might cause data loss or another major issue.\n",
        "</div>"
      ]
    },
    {
      "cell_type": "markdown",
      "metadata": {
        "id": "GEZ_QaR5lWwP"
      },
      "source": [
        "- simple [geometric shapes](https://www.w3schools.com/charsets/ref_utf_geometric.asp)"
      ]
    },
    {
      "cell_type": "markdown",
      "metadata": {
        "id": "S7adImJelWwP"
      },
      "source": [
        "<p>I will display a :</p>\n",
        "\n",
        "1. triangle: &#9658;\n",
        "2. black box &#9726;\n",
        "3. white box &#9634;"
      ]
    },
    {
      "cell_type": "markdown",
      "metadata": {
        "id": "kE4TpOQ2lWwP"
      },
      "source": [
        "- You do not need to run `%matplotlib inline` for interactive figure generation, figures will be generated in a separate window."
      ]
    },
    {
      "cell_type": "markdown",
      "metadata": {
        "id": "dd0MaZ00lWwP"
      },
      "source": [
        "# Scientific Python Ecosystem"
      ]
    },
    {
      "cell_type": "markdown",
      "metadata": {
        "id": "LjY4FYgllWwP"
      },
      "source": [
        "run command: \n",
        "> pip install *module*\n",
        "\n",
        "where *module* is the name of the module you want to install. For example to install a module called **pandas**:\n",
        "> pip install pandas\n",
        "\n",
        "Core numeric libraries\n",
        "- **Numpy**: numerical computing with powerful numerical arrays objects, and routines to manip-\n",
        "ulate them. [Numpy](http://www.numpy.org/) \n",
        "\n",
        "- **Scipy**: high-level numerical routines. Optimization, regression, interpolation, etc. [Scipy](http://www.scipy.org/)\n",
        "\n",
        "- **Matplotlib**: 2-D visualization, “publication-ready” plots [Matplotlib](http://matplotlib.org/)\n",
        "\n",
        "source: [SciPi Lecture Notes](http://scipy-lectures.org/)"
      ]
    },
    {
      "cell_type": "markdown",
      "metadata": {
        "tags": [],
        "id": "Wz8JfdZPlWwP"
      },
      "source": [
        "## Needed Modules / Libraries \n",
        "Pip install the modules you need.\n",
        "You may browse for modules at [PyPI · The Python Package Index](https://pypi.org)"
      ]
    },
    {
      "cell_type": "code",
      "execution_count": null,
      "metadata": {
        "scrolled": true,
        "id": "AlkRxU_ClWwP",
        "outputId": "52090777-e96f-476d-c0e3-28ac8d493e99"
      },
      "outputs": [
        {
          "name": "stdout",
          "output_type": "stream",
          "text": [
            "Python 3.8.9\n"
          ]
        }
      ],
      "source": [
        "!python --version\n",
        "#!pip freeze | (grep 'matplotlib\\|numpy\\|jupyter\\|scipy') # For MAC and linux"
      ]
    },
    {
      "cell_type": "code",
      "execution_count": null,
      "metadata": {
        "id": "z53CpPnulWwP"
      },
      "outputs": [],
      "source": [
        "#! pip list # for any OS"
      ]
    },
    {
      "cell_type": "markdown",
      "metadata": {
        "id": "AHnGdB29lWwP"
      },
      "source": [
        "### Loaded Modules"
      ]
    },
    {
      "cell_type": "code",
      "execution_count": null,
      "metadata": {
        "id": "8QWaSwbklWwP"
      },
      "outputs": [],
      "source": [
        "import sys\n",
        "sys.modules.keys();"
      ]
    },
    {
      "cell_type": "code",
      "execution_count": null,
      "metadata": {
        "id": "YC6_26XClWwP",
        "outputId": "a1c34d7b-fe03-4f66-9d7e-6df0e94962e7"
      },
      "outputs": [
        {
          "name": "stdout",
          "output_type": "stream",
          "text": [
            "['In', 'Out', '_', '_2', '__', '___', '__builtin__', '__builtins__', '__doc__', '__loader__', '__name__', '__package__', '__spec__', '_dh', '_exit_code', '_i', '_i1', '_i2', '_i3', '_i4', '_i5', '_i6', '_ih', '_ii', '_iii', '_oh', 'exit', 'get_ipython', 'quit', 'sys']\n"
          ]
        }
      ],
      "source": [
        "print(dir())"
      ]
    },
    {
      "cell_type": "code",
      "execution_count": null,
      "metadata": {
        "id": "GlHW7RGglWwP",
        "outputId": "7fdf2de0-789d-43ce-c56f-8a1a57630789"
      },
      "outputs": [
        {
          "name": "stdout",
          "output_type": "stream",
          "text": [
            "sys\t \n"
          ]
        }
      ],
      "source": [
        "%who"
      ]
    },
    {
      "cell_type": "code",
      "execution_count": null,
      "metadata": {
        "id": "jMHEC8a6lWwQ",
        "outputId": "0feac4e5-22c2-4258-fd1e-ba535a197c7e"
      },
      "outputs": [
        {
          "name": "stdout",
          "output_type": "stream",
          "text": [
            "['In', 'Out', '_', '_2', '__', '___', '__builtin__', '__builtins__', '__doc__', '__loader__', '__name__', '__package__', '__spec__', '_dh', '_exit_code', '_i', '_i1', '_i2', '_i3', '_i4', '_i5', '_i6', '_i7', '_i8', '_ih', '_ii', '_iii', '_oh', 'exit', 'get_ipython', 'myModule', 'quit', 'sys']\n"
          ]
        }
      ],
      "source": [
        "import myModule\n",
        "print(dir())"
      ]
    },
    {
      "cell_type": "code",
      "execution_count": null,
      "metadata": {
        "id": "y3nfmu8rlWwQ",
        "outputId": "903bf6cf-f6f1-4b68-8418-4ba4e7b8b94e"
      },
      "outputs": [
        {
          "name": "stdout",
          "output_type": "stream",
          "text": [
            "myModule\t sys\t \n"
          ]
        }
      ],
      "source": [
        "%who"
      ]
    },
    {
      "cell_type": "code",
      "execution_count": null,
      "metadata": {
        "id": "LLPFzdJBlWwQ"
      },
      "outputs": [],
      "source": [
        "del myModule"
      ]
    },
    {
      "cell_type": "code",
      "execution_count": null,
      "metadata": {
        "id": "CabBlLRhlWwQ",
        "outputId": "4a170b5d-fb19-4b4b-fb66-6ba87a2b8566"
      },
      "outputs": [
        {
          "name": "stdout",
          "output_type": "stream",
          "text": [
            "sys\t \n"
          ]
        }
      ],
      "source": [
        "%who"
      ]
    },
    {
      "cell_type": "code",
      "execution_count": null,
      "metadata": {
        "id": "L600xMMPlWwQ"
      },
      "outputs": [],
      "source": [
        "a=2"
      ]
    },
    {
      "cell_type": "code",
      "execution_count": null,
      "metadata": {
        "id": "q22J8rmflWwQ",
        "outputId": "a22c1a79-a104-45d7-ee02-df28610fb84a"
      },
      "outputs": [
        {
          "data": {
            "text/plain": [
              "2"
            ]
          },
          "execution_count": 13,
          "metadata": {},
          "output_type": "execute_result"
        }
      ],
      "source": [
        "a"
      ]
    },
    {
      "cell_type": "code",
      "execution_count": null,
      "metadata": {
        "id": "jNMhtUdtlWwQ",
        "outputId": "56c56fcb-64e2-4b9b-ab02-33cf333ea4a4"
      },
      "outputs": [
        {
          "name": "stdout",
          "output_type": "stream",
          "text": [
            "a\t sys\t \n"
          ]
        }
      ],
      "source": [
        "%who"
      ]
    },
    {
      "cell_type": "code",
      "execution_count": null,
      "metadata": {
        "id": "jm8H1tHmlWwQ",
        "outputId": "18a3f2f3-48b7-4ab3-b32c-a17fbec10506"
      },
      "outputs": [
        {
          "data": {
            "text/plain": [
              "<module 'myModule' from 'G:\\\\Shared drives\\\\2022-MKG3303-ScientificComputation\\\\Lecture\\\\ScientificComputingWithPython\\\\NotebookLectures\\\\myModule.py'>"
            ]
          },
          "execution_count": 15,
          "metadata": {},
          "output_type": "execute_result"
        }
      ],
      "source": [
        "import myModule\n",
        "import importlib\n",
        "importlib.reload(myModule)"
      ]
    },
    {
      "cell_type": "markdown",
      "metadata": {
        "id": "v5ZkQo4GlWwQ"
      },
      "source": [
        "# Documentation & Help files"
      ]
    },
    {
      "cell_type": "code",
      "execution_count": null,
      "metadata": {
        "id": "WG-GAluulWwQ"
      },
      "outputs": [],
      "source": [
        "import math"
      ]
    },
    {
      "cell_type": "code",
      "execution_count": null,
      "metadata": {
        "id": "58g2g1uvlWwQ",
        "outputId": "852ec6fc-0b0d-411c-a9c0-901603effb7b"
      },
      "outputs": [
        {
          "data": {
            "text/plain": [
              "16.0"
            ]
          },
          "execution_count": 17,
          "metadata": {},
          "output_type": "execute_result"
        }
      ],
      "source": [
        "math.pow(2,4)"
      ]
    },
    {
      "cell_type": "code",
      "execution_count": null,
      "metadata": {
        "id": "xKshviuklWwQ"
      },
      "outputs": [],
      "source": [
        "import math as m # importing a module"
      ]
    },
    {
      "cell_type": "code",
      "execution_count": null,
      "metadata": {
        "id": "focTVYVFlWwQ",
        "outputId": "a5f76e89-8e36-4b3d-924b-2ccdadcab455"
      },
      "outputs": [
        {
          "data": {
            "text/plain": [
              "32.0"
            ]
          },
          "execution_count": 19,
          "metadata": {},
          "output_type": "execute_result"
        }
      ],
      "source": [
        "m.pow(2,5)"
      ]
    },
    {
      "cell_type": "code",
      "execution_count": null,
      "metadata": {
        "id": "RICApdlilWwQ"
      },
      "outputs": [],
      "source": [
        " #m. #tab after the dot operator to see all available functions"
      ]
    },
    {
      "cell_type": "code",
      "execution_count": null,
      "metadata": {
        "scrolled": true,
        "tags": [],
        "id": "AmLjTbtWlWwQ",
        "outputId": "dc75842c-89c8-4038-af8b-1e22f9a52913"
      },
      "outputs": [
        {
          "name": "stdout",
          "output_type": "stream",
          "text": [
            "Help on built-in function pow in module math:\n",
            "\n",
            "pow(x, y, /)\n",
            "    Return x**y (x to the power of y).\n",
            "\n"
          ]
        }
      ],
      "source": [
        "help(m.pow)"
      ]
    },
    {
      "cell_type": "code",
      "execution_count": null,
      "metadata": {
        "id": "vbU5Ag3IlWwQ"
      },
      "outputs": [],
      "source": [
        "# import a math module \n",
        "import math"
      ]
    },
    {
      "cell_type": "code",
      "execution_count": null,
      "metadata": {
        "id": "0mHb_EjGlWwQ",
        "outputId": "65dc48c0-8367-47a8-a110-203c53373320"
      },
      "outputs": [
        {
          "name": "stdout",
          "output_type": "stream",
          "text": [
            "Help on built-in function log10 in module math:\n",
            "\n",
            "log10(x, /)\n",
            "    Return the base 10 logarithm of x.\n",
            "\n"
          ]
        }
      ],
      "source": [
        "help(math.log10)"
      ]
    },
    {
      "cell_type": "code",
      "execution_count": null,
      "metadata": {
        "id": "iH87vo9vlWwQ",
        "outputId": "44c85519-6ed7-497a-d5be-11ed73e87859"
      },
      "outputs": [
        {
          "name": "stdout",
          "output_type": "stream",
          "text": [
            "Object `math.log10 # (For jupyter notebook) prompt a new window to show the info` not found.\n"
          ]
        }
      ],
      "source": [
        "?math.log10 # (For jupyter notebook) prompt a new window to show the info "
      ]
    },
    {
      "cell_type": "code",
      "execution_count": null,
      "metadata": {
        "id": "gc6koPw9lWwR",
        "outputId": "12a4a2fc-0c92-4f2b-d3e2-4180e186dd3b"
      },
      "outputs": [
        {
          "name": "stdout",
          "output_type": "stream",
          "text": [
            "Help on built-in function log10 in module math:\n",
            "\n",
            "log10(x, /)\n",
            "    Return the base 10 logarithm of x.\n",
            "\n"
          ]
        }
      ],
      "source": [
        "help(math.log10)"
      ]
    },
    {
      "cell_type": "markdown",
      "metadata": {
        "id": "-pOXxfjLlWwR"
      },
      "source": [
        "# Input output Caching"
      ]
    },
    {
      "cell_type": "code",
      "execution_count": null,
      "metadata": {
        "scrolled": true,
        "id": "bhtCW8O5lWwR",
        "outputId": "692e84c9-7bc3-4558-c228-1f3f81c1a981"
      },
      "outputs": [
        {
          "data": {
            "text/plain": [
              "14"
            ]
          },
          "execution_count": 26,
          "metadata": {},
          "output_type": "execute_result"
        }
      ],
      "source": [
        "5+9"
      ]
    },
    {
      "cell_type": "code",
      "execution_count": null,
      "metadata": {
        "tags": [],
        "id": "0CpSbGcUlWwR",
        "outputId": "20755a3d-a504-45b8-8a2a-d66a60d2974b"
      },
      "outputs": [
        {
          "data": {
            "text/plain": [
              "'5+9'"
            ]
          },
          "execution_count": 31,
          "metadata": {},
          "output_type": "execute_result"
        }
      ],
      "source": [
        "In[26] # previous input"
      ]
    },
    {
      "cell_type": "code",
      "execution_count": null,
      "metadata": {
        "tags": [],
        "id": "V9XFYqXolWwR",
        "outputId": "40deaeb8-9b01-40f0-f99e-4ae268c99faa"
      },
      "outputs": [
        {
          "data": {
            "text/plain": [
              "14"
            ]
          },
          "execution_count": 30,
          "metadata": {},
          "output_type": "execute_result"
        }
      ],
      "source": [
        "Out[26] # previous output"
      ]
    },
    {
      "cell_type": "code",
      "execution_count": null,
      "metadata": {
        "id": "mrWHt6DJlWwR"
      },
      "outputs": [],
      "source": []
    }
  ],
  "metadata": {
    "kernelspec": {
      "display_name": "Python 3 (ipykernel)",
      "language": "python",
      "name": "python3"
    },
    "language_info": {
      "codemirror_mode": {
        "name": "ipython",
        "version": 3
      },
      "file_extension": ".py",
      "mimetype": "text/x-python",
      "name": "python",
      "nbconvert_exporter": "python",
      "pygments_lexer": "ipython3",
      "version": "3.8.9"
    },
    "toc-autonumbering": true,
    "toc-showcode": false,
    "toc-showmarkdowntxt": false,
    "toc-showtags": false,
    "colab": {
      "provenance": []
    }
  },
  "nbformat": 4,
  "nbformat_minor": 0
}