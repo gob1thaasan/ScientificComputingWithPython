{
 "cells": [
  {
   "cell_type": "markdown",
   "metadata": {},
   "source": [
    "**Scientific Computation (MKP3303)**\n",
    "\n",
    "\n",
    ">> R.U.Gobithaasan (2021). Scientific Computing, Lectures for Undergraduate Degree Program B.Sc (Applied Mathematics), Faculty of Ocean Engineering Technology & Informatics, University Malaysia Terengganu.\n",
    "https://sites.google.com/site/gobithaasan/LearnTeach\n",
    "\n",
    "<p align=\"center\">\n",
    "     © 2021 R.U. Gobithaasan All Rights Reserved.\n",
    "\n",
    "</p>\n",
    "\n"
   ]
  },
  {
   "cell_type": "markdown",
   "metadata": {},
   "source": [
    "**Chapter 5: Integration**   \n",
    "\n",
    "\n",
    "**Symbolic Computing**\n",
    "1. Symbolic computing: SymPy\n",
    "\n",
    "**Analytical Solutions with SymPy**\n",
    "\n",
    "2. Indefinite integral\n",
    "3. Definite integral\n",
    "\n",
    "**Numerical Solutions with SciPy**\n",
    "\n",
    "4. Definite integral\n",
    "\n",
    "5. Integration and its application\n",
    "\n",
    "\n",
    "References: \n",
    "- [SymPy](https://www.sympy.org/en/index.html)\n",
    "-  [SciPy Lecture Notes](http://scipy-lectures.org/)\n",
    "- Robert Johansson, Numerical Python: Scientific Computing and Data Science Applications with Numpy, SciPy and Matplotlib (2019, Apress).\n"
   ]
  },
  {
   "cell_type": "markdown",
   "metadata": {},
   "source": [
    "# Symbolic computing: SymPy"
   ]
  },
  {
   "cell_type": "markdown",
   "metadata": {},
   "source": [
    "There are two approches to solving a mathematical problem: \n",
    "\n",
    "   1. **Analytic method**: we employ algebraic manipulation to reach to an exact solution. This method may involve hand computation with just pencil and paper to solve the problem. \n",
    "   2. **Numerical method**: we develop step-by-step algorithm to rearch to an approximate solution, hence we may rely on a computer to do the computation.\n",
    "\n",
    "- An example of analytic method is, we compute the root of a given quadratic equation by factoring them or use the well known solution.\n",
    "\n",
    "- Whereas for numerical method, we may use Newton's method or Bisection method to compute the root of a quadratic equation.\n",
    "\n",
    "- We usualy attempt to solve analytically, in case no exact solution exist, then we opt to numerical method. In scientific computing, the latter usualy the case.\n",
    "\n",
    "- Computer algebra systems (CASs) are software which can carry out algebraic manipulation with a computer, similar to hand computation. Example of CAS is Wolfram Mathematica.\n",
    "\n",
    "- We will use SymPy; it is a symbolic computing module for Python. "
   ]
  },
  {
   "cell_type": "code",
   "execution_count": 1,
   "metadata": {},
   "outputs": [
    {
     "data": {
      "text/html": [
       "\n",
       "        <iframe\n",
       "            width=\"1155\"\n",
       "            height=\"400\"\n",
       "            src=\"https://www.sympy.org/en/features.html\"\n",
       "            frameborder=\"0\"\n",
       "            allowfullscreen\n",
       "        ></iframe>\n",
       "        "
      ],
      "text/plain": [
       "<IPython.lib.display.IFrame at 0x7fbf50baf970>"
      ]
     },
     "metadata": {},
     "output_type": "display_data"
    }
   ],
   "source": [
    "from IPython.display import IFrame\n",
    "doc = IFrame(src = 'https://www.sympy.org/en/features.html', width=1155, height=400)\n",
    "display(doc)"
   ]
  },
  {
   "cell_type": "code",
   "execution_count": 2,
   "metadata": {},
   "outputs": [],
   "source": [
    "#!pip install sympy"
   ]
  },
  {
   "cell_type": "code",
   "execution_count": 3,
   "metadata": {},
   "outputs": [
    {
     "name": "stdout",
     "output_type": "stream",
     "text": [
      "1.8\n"
     ]
    }
   ],
   "source": [
    "import sympy\n",
    "print(sympy.__version__)\n",
    "\n",
    "sympy.init_printing() # to print out mathematical equations"
   ]
  },
  {
   "cell_type": "markdown",
   "metadata": {},
   "source": [
    "### Web-based symbolic computing "
   ]
  },
  {
   "cell_type": "markdown",
   "metadata": {},
   "source": [
    "1. Try out web based [SymPy](https://www.sympygamma.com/)\n",
    "2. Try out web based [Mathematica called Wolfram Alpha](https://www.wolframalpha.com/input/?i=) "
   ]
  },
  {
   "cell_type": "markdown",
   "metadata": {},
   "source": [
    "### Bare basics: symbols"
   ]
  },
  {
   "cell_type": "code",
   "execution_count": 4,
   "metadata": {},
   "outputs": [
    {
     "name": "stdout",
     "output_type": "stream",
     "text": [
      "<class 'int'>\n"
     ]
    }
   ],
   "source": [
    "c = 7 # python declaration\n",
    "print(type(c))"
   ]
  },
  {
   "cell_type": "markdown",
   "metadata": {},
   "source": [
    "- n takes the value of 7 with `sympy`"
   ]
  },
  {
   "cell_type": "code",
   "execution_count": 5,
   "metadata": {},
   "outputs": [
    {
     "name": "stdout",
     "output_type": "stream",
     "text": [
      "<class 'sympy.core.numbers.Integer'>\n"
     ]
    },
    {
     "data": {
      "image/png": "[encoded data removed]",
      "text/latex": [
       "$\\displaystyle 7$"
      ],
      "text/plain": [
       "7"
      ]
     },
     "execution_count": 5,
     "metadata": {},
     "output_type": "execute_result"
    }
   ],
   "source": [
    "n = sympy.Integer(7)\n",
    "print(type(n))\n",
    "n"
   ]
  },
  {
   "cell_type": "markdown",
   "metadata": {},
   "source": [
    "- using `sympify`"
   ]
  },
  {
   "cell_type": "code",
   "execution_count": 6,
   "metadata": {},
   "outputs": [
    {
     "name": "stdout",
     "output_type": "stream",
     "text": [
      "<class 'sympy.core.numbers.Float'>\n"
     ]
    },
    {
     "data": {
      "image/png": "[encoded data removed]",
      "text/latex": [
       "$\\displaystyle 7.5$"
      ],
      "text/plain": [
       "7.50000000000000"
      ]
     },
     "execution_count": 6,
     "metadata": {},
     "output_type": "execute_result"
    }
   ],
   "source": [
    "p = sympy.sympify(7.5)\n",
    "print(type(p))\n",
    "p"
   ]
  },
  {
   "cell_type": "markdown",
   "metadata": {},
   "source": [
    "- We are declaring $x$ as a symbol"
   ]
  },
  {
   "cell_type": "code",
   "execution_count": 7,
   "metadata": {},
   "outputs": [
    {
     "name": "stdout",
     "output_type": "stream",
     "text": [
      "<class 'sympy.core.symbol.Symbol'>\n",
      "True , None\n"
     ]
    }
   ],
   "source": [
    "x = sympy.Symbol(\"x\")\n",
    "print(type(x))\n",
    "print(x.is_Symbol, ',', x.is_integer)"
   ]
  },
  {
   "cell_type": "markdown",
   "metadata": {},
   "source": [
    "- declaring integer type with sympy, its different compared to Python number type."
   ]
  },
  {
   "cell_type": "code",
   "execution_count": 8,
   "metadata": {},
   "outputs": [
    {
     "name": "stdout",
     "output_type": "stream",
     "text": [
      "<class 'sympy.core.numbers.Integer'>\n"
     ]
    },
    {
     "data": {
      "text/plain": [
       "(False, True, False, True, True, True, False, True)"
      ]
     },
     "execution_count": 8,
     "metadata": {},
     "output_type": "execute_result"
    }
   ],
   "source": [
    "n = sympy.sympify(7)\n",
    "print(type(n))\n",
    "n.is_Symbol,n.is_real, n.is_Float, n.is_integer, n.is_Integer, n.is_positive, n.is_even, n.is_odd"
   ]
  },
  {
   "cell_type": "markdown",
   "metadata": {},
   "source": [
    "- let's declare $m \\in Z$ as a symbol"
   ]
  },
  {
   "cell_type": "code",
   "execution_count": 9,
   "metadata": {},
   "outputs": [
    {
     "name": "stdout",
     "output_type": "stream",
     "text": [
      "True False , True\n"
     ]
    },
    {
     "data": {
      "text/plain": [
       "sympy.core.symbol.Symbol"
      ]
     },
     "execution_count": 9,
     "metadata": {},
     "output_type": "execute_result"
    }
   ],
   "source": [
    "m = sympy.Symbol('m', integer = True)\n",
    "print(m.is_integer, m.is_Integer, ',', m.is_Symbol)\n",
    "type(m)"
   ]
  },
  {
   "cell_type": "markdown",
   "metadata": {},
   "source": [
    "- let's declare $k =7.5 \\in R$ as a symbol"
   ]
  },
  {
   "cell_type": "code",
   "execution_count": 10,
   "metadata": {},
   "outputs": [
    {
     "name": "stdout",
     "output_type": "stream",
     "text": [
      "<class 'sympy.core.numbers.Float'>\n"
     ]
    },
    {
     "data": {
      "text/plain": [
       "(True, False, True, False)"
      ]
     },
     "execution_count": 10,
     "metadata": {},
     "output_type": "execute_result"
    }
   ],
   "source": [
    "k = sympy.Float(7.5)\n",
    "print(type(k))\n",
    "k.is_real, k.is_Integer, k.is_Float, k.is_Symbol,"
   ]
  },
  {
   "cell_type": "markdown",
   "metadata": {},
   "source": [
    "- two more methods declaring symbols, also notice number type setting."
   ]
  },
  {
   "cell_type": "code",
   "execution_count": 11,
   "metadata": {},
   "outputs": [],
   "source": [
    "x2 = sympy.Symbol(\"x4\",  imaginery=True)\n",
    "x3,x4 = sympy.symbols(\"x2, x3\", real=True)\n",
    "x5 = sympy.var(\"x4\",  positive=True)"
   ]
  },
  {
   "cell_type": "code",
   "execution_count": 12,
   "metadata": {},
   "outputs": [
    {
     "data": {
      "text/plain": [
       "(None, False, True, True, True)"
      ]
     },
     "execution_count": 12,
     "metadata": {},
     "output_type": "execute_result"
    }
   ],
   "source": [
    "x2.is_imaginary, x3.is_Float, x4.is_real, x4.is_complex, x5.is_positive"
   ]
  },
  {
   "cell_type": "markdown",
   "metadata": {},
   "source": [
    "- declare $\\cos{\\left(\\pi c_{i} \\right)}$, with $c_{1}$ as a symbol and $c_{2} \\in Z$ "
   ]
  },
  {
   "cell_type": "code",
   "execution_count": 13,
   "metadata": {},
   "outputs": [],
   "source": [
    "c1= sympy.Symbol(\"c1\")\n",
    "c2= sympy.Symbol(\"c2\", integer=True)"
   ]
  },
  {
   "cell_type": "code",
   "execution_count": 14,
   "metadata": {},
   "outputs": [
    {
     "data": {
      "image/png": "[encoded data removed]",
      "text/latex": [
       "$\\displaystyle \\cos{\\left(\\pi c_{1} \\right)}$"
      ],
      "text/plain": [
       "cos(π⋅c₁)"
      ]
     },
     "execution_count": 14,
     "metadata": {},
     "output_type": "execute_result"
    }
   ],
   "source": [
    "sympy.cos(c1 * sympy.pi)"
   ]
  },
  {
   "cell_type": "code",
   "execution_count": 15,
   "metadata": {},
   "outputs": [
    {
     "data": {
      "image/png": "[encoded data removed]",
      "text/latex": [
       "$\\displaystyle \\left(-1\\right)^{c_{2}}$"
      ],
      "text/plain": [
       "    c₂\n",
       "(-1)  "
      ]
     },
     "execution_count": 15,
     "metadata": {},
     "output_type": "execute_result"
    }
   ],
   "source": [
    "sympy.cos(c2 * sympy.pi) # a  simplified expression"
   ]
  },
  {
   "cell_type": "markdown",
   "metadata": {},
   "source": [
    "- SymPy keeps it as a symbol until we explicitly evaluate it as a number using `sympy.N`"
   ]
  },
  {
   "cell_type": "code",
   "execution_count": 16,
   "metadata": {},
   "outputs": [
    {
     "data": {
      "image/png": "[encoded data removed]",
      "text/latex": [
       "$\\displaystyle \\sqrt{3}$"
      ],
      "text/plain": [
       "√3"
      ]
     },
     "execution_count": 16,
     "metadata": {},
     "output_type": "execute_result"
    }
   ],
   "source": [
    "sympy.sqrt(3)"
   ]
  },
  {
   "cell_type": "code",
   "execution_count": 17,
   "metadata": {
    "tags": []
   },
   "outputs": [
    {
     "data": {
      "image/png": "[encoded data removed]",
      "text/latex": [
       "$\\displaystyle 1.73205080756888$"
      ],
      "text/plain": [
       "1.73205080756888"
      ]
     },
     "execution_count": 17,
     "metadata": {},
     "output_type": "execute_result"
    }
   ],
   "source": [
    "sympy.N(sympy.sqrt(3)) # Numerical approximation"
   ]
  },
  {
   "cell_type": "markdown",
   "metadata": {
    "tags": []
   },
   "source": [
    "- declaring rational numbers: $r_1 = \\frac{1}{2}$ and  $r_2 = \\frac{3}{4}$ "
   ]
  },
  {
   "cell_type": "code",
   "execution_count": 18,
   "metadata": {},
   "outputs": [
    {
     "name": "stdout",
     "output_type": "stream",
     "text": [
      "5/4\n",
      "2/3\n"
     ]
    }
   ],
   "source": [
    "r1 = sympy.Rational(1,2)\n",
    "r2 = sympy.Rational(3,4)\n",
    "print(r1+r2)\n",
    "print(r1/r2)"
   ]
  },
  {
   "cell_type": "markdown",
   "metadata": {},
   "source": [
    "- special symbols:\n",
    " 1. `sympy.pi`: $\\pi$\n",
    " 2. `sympy.E`: natural logarithm\n",
    " 3. `sympy.I`: imaginary unit ($\\sqrt{-1}$)\n",
    " 4. `sympy.oo`: $\\infty$"
   ]
  },
  {
   "cell_type": "code",
   "execution_count": 19,
   "metadata": {},
   "outputs": [
    {
     "data": {
      "image/png": "[encoded data removed]",
      "text/latex": [
       "$\\displaystyle 3628800$"
      ],
      "text/plain": [
       "3628800"
      ]
     },
     "execution_count": 19,
     "metadata": {},
     "output_type": "execute_result"
    }
   ],
   "source": [
    "sympy.factorial(10)"
   ]
  },
  {
   "cell_type": "markdown",
   "metadata": {},
   "source": [
    "- Whereas Python's math function tend to represent $\\sqrt{3}$ as a approximated number"
   ]
  },
  {
   "cell_type": "code",
   "execution_count": 20,
   "metadata": {},
   "outputs": [
    {
     "data": {
      "image/png": "[encoded data removed]",
      "text/latex": [
       "$\\displaystyle 1.73205080756888$"
      ],
      "text/plain": [
       "1.7320508075688772"
      ]
     },
     "execution_count": 20,
     "metadata": {},
     "output_type": "execute_result"
    }
   ],
   "source": [
    "import math as m\n",
    "m.sqrt(3)"
   ]
  },
  {
   "cell_type": "markdown",
   "metadata": {},
   "source": [
    "### Declaring a function"
   ]
  },
  {
   "cell_type": "markdown",
   "metadata": {},
   "source": [
    "- standard python `def`:"
   ]
  },
  {
   "cell_type": "code",
   "execution_count": 21,
   "metadata": {},
   "outputs": [
    {
     "data": {
      "text/plain": [
       "function"
      ]
     },
     "execution_count": 21,
     "metadata": {},
     "output_type": "execute_result"
    }
   ],
   "source": [
    "def yp(m,x,c):\n",
    "    return m*x +c\n",
    "\n",
    "type(yp)"
   ]
  },
  {
   "cell_type": "code",
   "execution_count": 22,
   "metadata": {},
   "outputs": [
    {
     "data": {
      "image/png": "[encoded data removed]",
      "text/latex": [
       "$\\displaystyle 7$"
      ],
      "text/plain": [
       "7"
      ]
     },
     "execution_count": 22,
     "metadata": {},
     "output_type": "execute_result"
    }
   ],
   "source": [
    "yp(2,3,1) # substitude to get its corresponding y value"
   ]
  },
  {
   "cell_type": "markdown",
   "metadata": {},
   "source": [
    "There are three types of SymPy functions:\n",
    "1. undefined functions: cannot be evaluated numerically, will be useful for defining differential equation. \n",
    "2. standard `sympy` mathematical functions\n",
    "3. Lambda anonymous functions: specific body for function evaluation"
   ]
  },
  {
   "cell_type": "markdown",
   "metadata": {},
   "source": [
    "- represent function for algebraic manipulation"
   ]
  },
  {
   "cell_type": "code",
   "execution_count": 23,
   "metadata": {},
   "outputs": [
    {
     "name": "stdout",
     "output_type": "stream",
     "text": [
      "f\n"
     ]
    },
    {
     "data": {
      "image/png": "[encoded data removed]",
      "text/latex": [
       "$\\displaystyle f{\\left(x \\right)}$"
      ],
      "text/plain": [
       "f(x)"
      ]
     },
     "execution_count": 23,
     "metadata": {},
     "output_type": "execute_result"
    }
   ],
   "source": [
    "f = sympy.Function('f')(x) # x as an argument\n",
    "print(type(f))\n",
    "f"
   ]
  },
  {
   "cell_type": "code",
   "execution_count": 24,
   "metadata": {
    "tags": []
   },
   "outputs": [
    {
     "data": {
      "image/png": "[encoded data removed]",
      "text/latex": [
       "$\\displaystyle \\frac{d}{d x} f{\\left(x \\right)}$"
      ],
      "text/plain": [
       "d       \n",
       "──(f(x))\n",
       "dx      "
      ]
     },
     "execution_count": 24,
     "metadata": {},
     "output_type": "execute_result"
    }
   ],
   "source": [
    "sympy.diff(f,x) #differentiation"
   ]
  },
  {
   "cell_type": "code",
   "execution_count": 25,
   "metadata": {},
   "outputs": [
    {
     "name": "stdout",
     "output_type": "stream",
     "text": [
      "y\n"
     ]
    },
    {
     "data": {
      "image/png": "[encoded data removed]",
      "text/latex": [
       "$\\displaystyle y{\\left(m,x,c \\right)}$"
      ],
      "text/plain": [
       "y(m, x, c)"
      ]
     },
     "execution_count": 25,
     "metadata": {},
     "output_type": "execute_result"
    }
   ],
   "source": [
    "m, x, c  = sympy.symbols('m,x,c')  # m,x,c as arguments\n",
    "y = sympy.Function('y')(m,x,c)\n",
    "print(type(y))\n",
    "y"
   ]
  },
  {
   "cell_type": "code",
   "execution_count": 26,
   "metadata": {},
   "outputs": [
    {
     "data": {
      "image/png": "[encoded data removed]",
      "text/latex": [
       "$\\displaystyle \\left\\{c, m, x\\right\\}$"
      ],
      "text/plain": [
       "{c, m, x}"
      ]
     },
     "execution_count": 26,
     "metadata": {},
     "output_type": "execute_result"
    }
   ],
   "source": [
    "y.free_symbols"
   ]
  },
  {
   "cell_type": "markdown",
   "metadata": {},
   "source": [
    "# Lecture to continue from here"
   ]
  },
  {
   "cell_type": "markdown",
   "metadata": {},
   "source": [
    "- built-in functions"
   ]
  },
  {
   "cell_type": "code",
   "execution_count": 27,
   "metadata": {},
   "outputs": [
    {
     "data": {
      "text/plain": [
       "sympy.core.function.FunctionClass"
      ]
     },
     "execution_count": 27,
     "metadata": {},
     "output_type": "execute_result"
    }
   ],
   "source": [
    "type(sympy.factorial)"
   ]
  },
  {
   "cell_type": "code",
   "execution_count": 28,
   "metadata": {},
   "outputs": [
    {
     "data": {
      "image/png": "[encoded data removed]",
      "text/latex": [
       "$\\displaystyle \\left( x!, \\  120\\right)$"
      ],
      "text/plain": [
       "(x!, 120)"
      ]
     },
     "execution_count": 28,
     "metadata": {},
     "output_type": "execute_result"
    }
   ],
   "source": [
    "sympy.factorial(x), sympy.factorial(5)"
   ]
  },
  {
   "cell_type": "code",
   "execution_count": 29,
   "metadata": {},
   "outputs": [
    {
     "data": {
      "text/plain": [
       "sympy.core.function.FunctionClass"
      ]
     },
     "execution_count": 29,
     "metadata": {},
     "output_type": "execute_result"
    }
   ],
   "source": [
    "type(sympy.cos)"
   ]
  },
  {
   "cell_type": "code",
   "execution_count": 30,
   "metadata": {},
   "outputs": [
    {
     "data": {
      "image/png": "[encoded data removed]",
      "text/latex": [
       "$\\displaystyle \\left( \\cos{\\left(x \\right)}, \\  -1\\right)$"
      ],
      "text/plain": [
       "(cos(x), -1)"
      ]
     },
     "execution_count": 30,
     "metadata": {},
     "output_type": "execute_result"
    }
   ],
   "source": [
    "sympy.cos(x), sympy.cos(sympy.pi)"
   ]
  },
  {
   "cell_type": "markdown",
   "metadata": {},
   "source": [
    "- using **lambda** function"
   ]
  },
  {
   "cell_type": "code",
   "execution_count": 31,
   "metadata": {},
   "outputs": [],
   "source": [
    "def g(x):\n",
    "    return abs(x)"
   ]
  },
  {
   "cell_type": "code",
   "execution_count": 32,
   "metadata": {},
   "outputs": [
    {
     "name": "stdout",
     "output_type": "stream",
     "text": [
      "<class 'sympy.core.function.Lambda'>\n"
     ]
    },
    {
     "data": {
      "image/png": "[encoded data removed]",
      "text/latex": [
       "$\\displaystyle \\left( x \\mapsto \\left|{x}\\right| \\right)$"
      ],
      "text/plain": [
       "x ↦ │x│"
      ]
     },
     "execution_count": 32,
     "metadata": {},
     "output_type": "execute_result"
    }
   ],
   "source": [
    "g = sympy.Lambda(x, abs(x))\n",
    "print(type(g))\n",
    "g"
   ]
  },
  {
   "cell_type": "code",
   "execution_count": 33,
   "metadata": {},
   "outputs": [
    {
     "data": {
      "image/png": "[encoded data removed]",
      "text/latex": [
       "$\\displaystyle \\left( 12, \\  10.3\\right)$"
      ],
      "text/plain": [
       "(12, 10.3)"
      ]
     },
     "execution_count": 33,
     "metadata": {},
     "output_type": "execute_result"
    }
   ],
   "source": [
    "g(-12), g(10.3)"
   ]
  },
  {
   "cell_type": "code",
   "execution_count": 34,
   "metadata": {},
   "outputs": [
    {
     "data": {
      "image/png": "[encoded data removed]",
      "text/latex": [
       "$\\displaystyle \\left|{x_{1} + \\frac{x_{2}}{2}}\\right|$"
      ],
      "text/plain": [
       "│     x₂│\n",
       "│x₁ + ──│\n",
       "│     2 │"
      ]
     },
     "execution_count": 34,
     "metadata": {},
     "output_type": "execute_result"
    }
   ],
   "source": [
    "x1,x2 = sympy.symbols('x1,x2')\n",
    "g(x1+x2/2)"
   ]
  },
  {
   "cell_type": "markdown",
   "metadata": {},
   "source": [
    "### Expressions"
   ]
  },
  {
   "cell_type": "markdown",
   "metadata": {},
   "source": [
    "-  represent mathematical formulation or a simple function as an **expression** in `sympy` for computation"
   ]
  },
  {
   "cell_type": "code",
   "execution_count": 35,
   "metadata": {},
   "outputs": [
    {
     "data": {
      "text/plain": [
       "sympy.core.add.Add"
      ]
     },
     "execution_count": 35,
     "metadata": {},
     "output_type": "execute_result"
    }
   ],
   "source": [
    "m, x, c  = sympy.symbols('m,x,c')\n",
    "y = m*x + c\n",
    "type(y)"
   ]
  },
  {
   "cell_type": "code",
   "execution_count": 36,
   "metadata": {},
   "outputs": [
    {
     "data": {
      "image/png": "[encoded data removed]",
      "text/latex": [
       "$\\displaystyle \\left( c, \\  m x\\right)$"
      ],
      "text/plain": [
       "(c, m⋅x)"
      ]
     },
     "execution_count": 36,
     "metadata": {},
     "output_type": "execute_result"
    }
   ],
   "source": [
    "y.args # list of all its arguments"
   ]
  },
  {
   "cell_type": "code",
   "execution_count": 37,
   "metadata": {},
   "outputs": [
    {
     "data": {
      "image/png": "[encoded data removed]",
      "text/latex": [
       "$\\displaystyle m x$"
      ],
      "text/plain": [
       "m⋅x"
      ]
     },
     "execution_count": 37,
     "metadata": {},
     "output_type": "execute_result"
    }
   ],
   "source": [
    "y.args[1] # list the second argument"
   ]
  },
  {
   "cell_type": "code",
   "execution_count": 38,
   "metadata": {},
   "outputs": [
    {
     "data": {
      "text/plain": [
       "sympy.core.mul.Mul"
      ]
     },
     "execution_count": 38,
     "metadata": {},
     "output_type": "execute_result"
    }
   ],
   "source": [
    "type(y.args[1])"
   ]
  },
  {
   "cell_type": "markdown",
   "metadata": {},
   "source": [
    "- substitution can be done easily by `subs` method:"
   ]
  },
  {
   "cell_type": "code",
   "execution_count": 39,
   "metadata": {},
   "outputs": [
    {
     "data": {
      "image/png": "[encoded data removed]",
      "text/latex": [
       "$\\displaystyle c + 2 x$"
      ],
      "text/plain": [
       "c + 2⋅x"
      ]
     },
     "execution_count": 39,
     "metadata": {},
     "output_type": "execute_result"
    }
   ],
   "source": [
    "y.subs(m,2)"
   ]
  },
  {
   "cell_type": "code",
   "execution_count": 40,
   "metadata": {},
   "outputs": [
    {
     "data": {
      "image/png": "[encoded data removed]",
      "text/latex": [
       "$\\displaystyle 7$"
      ],
      "text/plain": [
       "7"
      ]
     },
     "execution_count": 40,
     "metadata": {},
     "output_type": "execute_result"
    }
   ],
   "source": [
    "y.subs(m,2).subs(c,1).subs(x,3)"
   ]
  },
  {
   "cell_type": "code",
   "execution_count": 41,
   "metadata": {},
   "outputs": [
    {
     "data": {
      "image/png": "[encoded data removed]",
      "text/latex": [
       "$\\displaystyle 7$"
      ],
      "text/plain": [
       "7"
      ]
     },
     "execution_count": 41,
     "metadata": {},
     "output_type": "execute_result"
    }
   ],
   "source": [
    "values = {m:2, c:1, x:3}\n",
    "y.subs(values)"
   ]
  },
  {
   "cell_type": "markdown",
   "metadata": {},
   "source": [
    "### SymPy as the engine for Algebraic manipulation "
   ]
  },
  {
   "cell_type": "markdown",
   "metadata": {},
   "source": [
    "We can carry out the following manipulation with SymPy:\n",
    "1. substitution (shown above)\n",
    "2. expand, factor and collect\n",
    "3. apart, together and cancel\n",
    "4. simplification"
   ]
  },
  {
   "cell_type": "markdown",
   "metadata": {},
   "source": [
    "#### 1. substitution"
   ]
  },
  {
   "cell_type": "code",
   "execution_count": 42,
   "metadata": {},
   "outputs": [
    {
     "data": {
      "image/png": "[encoded data removed]",
      "text/latex": [
       "$\\displaystyle a^{2} + 2 b + \\cos{\\left(x \\right)}$"
      ],
      "text/plain": [
       " 2               \n",
       "a  + 2⋅b + cos(x)"
      ]
     },
     "execution_count": 42,
     "metadata": {},
     "output_type": "execute_result"
    }
   ],
   "source": [
    "a,b,x = sympy.symbols('a,b,x')\n",
    "f0 = ((a**2)+2*b + sympy.cos(x))\n",
    "f0"
   ]
  },
  {
   "cell_type": "code",
   "execution_count": 43,
   "metadata": {},
   "outputs": [
    {
     "data": {
      "image/png": "[encoded data removed]",
      "text/latex": [
       "$\\displaystyle \\cos{\\left(x \\right)} + 10$"
      ],
      "text/plain": [
       "cos(x) + 10"
      ]
     },
     "execution_count": 43,
     "metadata": {},
     "output_type": "execute_result"
    }
   ],
   "source": [
    "f0.subs(a,2).subs(b,3)"
   ]
  },
  {
   "cell_type": "code",
   "execution_count": 44,
   "metadata": {},
   "outputs": [
    {
     "data": {
      "image/png": "[encoded data removed]",
      "text/latex": [
       "$\\displaystyle 9$"
      ],
      "text/plain": [
       "9"
      ]
     },
     "execution_count": 44,
     "metadata": {},
     "output_type": "execute_result"
    }
   ],
   "source": [
    "val =  {a:2, b:3, x:sympy.pi}\n",
    "f0.subs(val)"
   ]
  },
  {
   "cell_type": "code",
   "execution_count": 45,
   "metadata": {},
   "outputs": [
    {
     "data": {
      "image/png": "[encoded data removed]",
      "text/latex": [
       "$\\displaystyle x^{2} + 6$"
      ],
      "text/plain": [
       " 2    \n",
       "x  + 6"
      ]
     },
     "execution_count": 45,
     "metadata": {},
     "output_type": "execute_result"
    }
   ],
   "source": [
    "a,b,x = sympy.symbols('a,b,x')\n",
    "((a**2)+2*b).subs(a,x).subs(b,3)"
   ]
  },
  {
   "cell_type": "code",
   "execution_count": 46,
   "metadata": {},
   "outputs": [
    {
     "data": {
      "image/png": "[encoded data removed]",
      "text/latex": [
       "$\\displaystyle 2 \\sqrt{a} + a^{2}$"
      ],
      "text/plain": [
       "        2\n",
       "2⋅√a + a "
      ]
     },
     "execution_count": 46,
     "metadata": {},
     "output_type": "execute_result"
    }
   ],
   "source": [
    "c = sympy.Symbol('c')\n",
    "c = sympy.sqrt(a)\n",
    "((a**2)+2*b).subs(b,c)"
   ]
  },
  {
   "cell_type": "markdown",
   "metadata": {},
   "source": [
    "#### 2. expand, factor and collect"
   ]
  },
  {
   "cell_type": "code",
   "execution_count": 47,
   "metadata": {},
   "outputs": [
    {
     "data": {
      "image/png": "[encoded data removed]",
      "text/latex": [
       "$\\displaystyle \\left(a x^{2} + c\\right) \\left(- 3 a b x + b^{2}\\right)$"
      ],
      "text/plain": [
       "⎛   2    ⎞ ⎛            2⎞\n",
       "⎝a⋅x  + c⎠⋅⎝-3⋅a⋅b⋅x + b ⎠"
      ]
     },
     "execution_count": 47,
     "metadata": {},
     "output_type": "execute_result"
    }
   ],
   "source": [
    "a,b,c, x = sympy.symbols('a,b,c,x')\n",
    "f1 = (a*x**2 +c)*(-3*a*b*x + b**2)\n",
    "f1"
   ]
  },
  {
   "cell_type": "code",
   "execution_count": 48,
   "metadata": {},
   "outputs": [
    {
     "data": {
      "image/png": "[encoded data removed]",
      "text/latex": [
       "$\\displaystyle - 3 a^{2} b x^{3} + a b^{2} x^{2} - 3 a b c x + b^{2} c$"
      ],
      "text/plain": [
       "     2    3      2  2                2  \n",
       "- 3⋅a ⋅b⋅x  + a⋅b ⋅x  - 3⋅a⋅b⋅c⋅x + b ⋅c"
      ]
     },
     "execution_count": 48,
     "metadata": {},
     "output_type": "execute_result"
    }
   ],
   "source": [
    "sympy.expand(f1)"
   ]
  },
  {
   "cell_type": "code",
   "execution_count": 49,
   "metadata": {},
   "outputs": [
    {
     "name": "stdout",
     "output_type": "stream",
     "text": [
      "-3*a**2*b*x**3 + a*b**2*x**2 - 3*a*b*c*x + b**2*c\n"
     ]
    }
   ],
   "source": [
    "print(_) # to print previous output"
   ]
  },
  {
   "cell_type": "markdown",
   "metadata": {},
   "source": [
    "$- 3 a^{2} b x^{3} + a b^{2} x^{2} - 3 a b c x + b^{2} c$"
   ]
  },
  {
   "cell_type": "code",
   "execution_count": 50,
   "metadata": {},
   "outputs": [
    {
     "name": "stdout",
     "output_type": "stream",
     "text": [
      "a**2 + 2*b + cos(x)\n"
     ]
    }
   ],
   "source": [
    "print(_42) # to print output number 42"
   ]
  },
  {
   "cell_type": "code",
   "execution_count": 51,
   "metadata": {},
   "outputs": [
    {
     "data": {
      "image/png": "[encoded data removed]",
      "text/latex": [
       "$\\displaystyle - b \\left(3 a x - b\\right) \\left(a x^{2} + c\\right)$"
      ],
      "text/plain": [
       "               ⎛   2    ⎞\n",
       "-b⋅(3⋅a⋅x - b)⋅⎝a⋅x  + c⎠"
      ]
     },
     "execution_count": 51,
     "metadata": {},
     "output_type": "execute_result"
    }
   ],
   "source": [
    "sympy.factor(-3*a**2*b*x**3 + a*b**2*x**2 - 3*a*b*c*x + b**2*c)"
   ]
  },
  {
   "cell_type": "code",
   "execution_count": 52,
   "metadata": {},
   "outputs": [
    {
     "data": {
      "image/png": "[encoded data removed]",
      "text/latex": [
       "$\\displaystyle - 3 a^{2} b x^{3} + a b^{2} x^{2} - 3 a b c x + b^{2} c$"
      ],
      "text/plain": [
       "     2    3      2  2                2  \n",
       "- 3⋅a ⋅b⋅x  + a⋅b ⋅x  - 3⋅a⋅b⋅c⋅x + b ⋅c"
      ]
     },
     "execution_count": 52,
     "metadata": {},
     "output_type": "execute_result"
    }
   ],
   "source": [
    "f2 = -3*a**2*b*x**3 + a*b**2*x**2 - 3*a*b*c*x + b**2*c;\n",
    "f2.collect(x)"
   ]
  },
  {
   "cell_type": "code",
   "execution_count": 53,
   "metadata": {},
   "outputs": [
    {
     "data": {
      "image/png": "[encoded data removed]",
      "text/latex": [
       "$\\displaystyle b^{2} \\left(a x^{2} + c\\right) + b \\left(- 3 a^{2} x^{3} - 3 a c x\\right)$"
      ],
      "text/plain": [
       " 2 ⎛   2    ⎞     ⎛     2  3          ⎞\n",
       "b ⋅⎝a⋅x  + c⎠ + b⋅⎝- 3⋅a ⋅x  - 3⋅a⋅c⋅x⎠"
      ]
     },
     "execution_count": 53,
     "metadata": {},
     "output_type": "execute_result"
    }
   ],
   "source": [
    "f2.collect(b)"
   ]
  },
  {
   "cell_type": "markdown",
   "metadata": {},
   "source": [
    "#### 3. apart, together and cancel"
   ]
  },
  {
   "cell_type": "code",
   "execution_count": 54,
   "metadata": {},
   "outputs": [
    {
     "data": {
      "image/png": "[encoded data removed]",
      "text/latex": [
       "$\\displaystyle - \\frac{9 a}{b \\left(9 a c + b^{2}\\right) \\left(3 a x - b\\right)} + \\frac{3 a x + b}{b \\left(9 a c + b^{2}\\right) \\left(a x^{2} + c\\right)}$"
      ],
      "text/plain": [
       "             9⋅a                       3⋅a⋅x + b        \n",
       "- ────────────────────────── + ─────────────────────────\n",
       "    ⎛         2⎞                 ⎛         2⎞ ⎛   2    ⎞\n",
       "  b⋅⎝9⋅a⋅c + b ⎠⋅(3⋅a⋅x - b)   b⋅⎝9⋅a⋅c + b ⎠⋅⎝a⋅x  + c⎠"
      ]
     },
     "execution_count": 54,
     "metadata": {},
     "output_type": "execute_result"
    }
   ],
   "source": [
    "f2 = 1/(-3*a**2*b*x**3 + a*b**2*x**2 - 3*a*b*c*x + b**2*c);\n",
    "sympy.apart(f2,x)"
   ]
  },
  {
   "cell_type": "code",
   "execution_count": 55,
   "metadata": {},
   "outputs": [
    {
     "data": {
      "image/png": "[encoded data removed]",
      "text/latex": [
       "$\\displaystyle \\frac{- 9 a \\left(a x^{2} + c\\right) + \\left(3 a x - b\\right) \\left(3 a x + b\\right)}{b \\left(9 a c + b^{2}\\right) \\left(3 a x - b\\right) \\left(a x^{2} + c\\right)}$"
      ],
      "text/plain": [
       "      ⎛   2    ⎞                          \n",
       "- 9⋅a⋅⎝a⋅x  + c⎠ + (3⋅a⋅x - b)⋅(3⋅a⋅x + b)\n",
       "──────────────────────────────────────────\n",
       "    ⎛         2⎞             ⎛   2    ⎞   \n",
       "  b⋅⎝9⋅a⋅c + b ⎠⋅(3⋅a⋅x - b)⋅⎝a⋅x  + c⎠   "
      ]
     },
     "execution_count": 55,
     "metadata": {},
     "output_type": "execute_result"
    }
   ],
   "source": [
    "sympy.together(_)"
   ]
  },
  {
   "cell_type": "code",
   "execution_count": 56,
   "metadata": {},
   "outputs": [
    {
     "data": {
      "image/png": "[encoded data removed]",
      "text/latex": [
       "$\\displaystyle - \\frac{1}{3 a^{2} b x^{3} - a b^{2} x^{2} + 3 a b c x - b^{2} c}$"
      ],
      "text/plain": [
       "                 -1                   \n",
       "──────────────────────────────────────\n",
       "   2    3      2  2                2  \n",
       "3⋅a ⋅b⋅x  - a⋅b ⋅x  + 3⋅a⋅b⋅c⋅x - b ⋅c"
      ]
     },
     "execution_count": 56,
     "metadata": {},
     "output_type": "execute_result"
    }
   ],
   "source": [
    "sympy.cancel(_) # cancel shared factors"
   ]
  },
  {
   "cell_type": "markdown",
   "metadata": {},
   "source": [
    "#### 4. simplification"
   ]
  },
  {
   "cell_type": "code",
   "execution_count": 57,
   "metadata": {},
   "outputs": [
    {
     "data": {
      "image/png": "[encoded data removed]",
      "text/latex": [
       "$\\displaystyle \\frac{- 9 a \\left(a x^{2} + c\\right) + \\left(3 a x - b\\right) \\left(3 a x + b\\right)}{b \\left(9 a c + b^{2}\\right) \\left(3 a x - b\\right) \\left(a x^{2} + c\\right)}$"
      ],
      "text/plain": [
       "      ⎛   2    ⎞                          \n",
       "- 9⋅a⋅⎝a⋅x  + c⎠ + (3⋅a⋅x - b)⋅(3⋅a⋅x + b)\n",
       "──────────────────────────────────────────\n",
       "    ⎛         2⎞             ⎛   2    ⎞   \n",
       "  b⋅⎝9⋅a⋅c + b ⎠⋅(3⋅a⋅x - b)⋅⎝a⋅x  + c⎠   "
      ]
     },
     "execution_count": 57,
     "metadata": {},
     "output_type": "execute_result"
    }
   ],
   "source": [
    "a,b,c, x = sympy.symbols('a,b,c,x')\n",
    "f3 = (-9*a*(a*x**2 + c) + (3*a*x - b)*(3*a*x + b))/(b*(9*a*c + b**2)*(3*a*x - b)*(a*x**2 + c))\n",
    "f3"
   ]
  },
  {
   "cell_type": "code",
   "execution_count": 58,
   "metadata": {},
   "outputs": [
    {
     "data": {
      "image/png": "[encoded data removed]",
      "text/latex": [
       "$\\displaystyle - \\frac{1}{b \\left(3 a^{2} x^{3} - a b x^{2} + 3 a c x - b c\\right)}$"
      ],
      "text/plain": [
       "                -1                  \n",
       "────────────────────────────────────\n",
       "  ⎛   2  3        2                ⎞\n",
       "b⋅⎝3⋅a ⋅x  - a⋅b⋅x  + 3⋅a⋅c⋅x - b⋅c⎠"
      ]
     },
     "execution_count": 58,
     "metadata": {},
     "output_type": "execute_result"
    }
   ],
   "source": [
    "sympy.simplify(f3)"
   ]
  },
  {
   "cell_type": "markdown",
   "metadata": {},
   "source": [
    "### Plotting using SymPy expression\n",
    "- see [documentation](https://docs.sympy.org/latest/modules/plotting.html) "
   ]
  },
  {
   "cell_type": "code",
   "execution_count": 59,
   "metadata": {},
   "outputs": [
    {
     "data": {
      "image/png": "[encoded data removed]",
      "text/plain": [
       "<Figure size 432x288 with 1 Axes>"
      ]
     },
     "metadata": {
      "needs_background": "light"
     },
     "output_type": "display_data"
    }
   ],
   "source": [
    "x = sympy.Symbol(\"x\")\n",
    "f = x*x\n",
    "sympy.plot(f);"
   ]
  },
  {
   "cell_type": "code",
   "execution_count": 60,
   "metadata": {},
   "outputs": [
    {
     "data": {
      "image/png": "[encoded data removed]",
      "text/plain": [
       "<Figure size 432x288 with 1 Axes>"
      ]
     },
     "metadata": {
      "needs_background": "light"
     },
     "output_type": "display_data"
    }
   ],
   "source": [
    "x = sympy.Symbol(\"x\")\n",
    "sympy.plot(x, sympy.sin(x), (x, -5, 5));"
   ]
  },
  {
   "cell_type": "code",
   "execution_count": 61,
   "metadata": {},
   "outputs": [
    {
     "data": {
      "image/png": "[encoded data removed]",
      "text/plain": [
       "<Figure size 432x288 with 1 Axes>"
      ]
     },
     "metadata": {
      "needs_background": "light"
     },
     "output_type": "display_data"
    }
   ],
   "source": [
    "m, x, c  = sympy.symbols('m,x,c')\n",
    "y = m*x +c\n",
    "sympy.plot(y.subs({m:-3, c:10}));"
   ]
  },
  {
   "cell_type": "code",
   "execution_count": 62,
   "metadata": {},
   "outputs": [
    {
     "data": {
      "image/png": "[encoded data removed]",
      "text/plain": [
       "<Figure size 432x288 with 1 Axes>"
      ]
     },
     "metadata": {
      "needs_background": "light"
     },
     "output_type": "display_data"
    }
   ],
   "source": [
    "import sympy\n",
    "from sympy.plotting import plot\n",
    "f1 = x**2\n",
    "f2 = 2*x -3\n",
    "p = plot(f1, f2, (x, -5, 5), ylim=(-5, 10), legend=True, show=False);\n",
    "p[0].line_color='b'\n",
    "p[1].line_color='r'\n",
    "p.show()"
   ]
  },
  {
   "cell_type": "code",
   "execution_count": 63,
   "metadata": {},
   "outputs": [
    {
     "data": {
      "image/png": "[encoded data removed]",
      "text/plain": [
       "<Figure size 432x288 with 1 Axes>"
      ]
     },
     "metadata": {
      "needs_background": "light"
     },
     "output_type": "display_data"
    }
   ],
   "source": [
    "import sympy.plotting as splt\n",
    "u = sympy.Symbol('u')\n",
    "f1 = (u, sympy.cos(2*sympy.pi*u)/2 + 1/2)\n",
    "f2 = (u, sympy.sin(2*sympy.pi*u)/2 - 1/2)\n",
    "p = splt.plot_parametric(f1, f2, (u, 0, 1), line_color='blue',legend=True, show=False);\n",
    "p[0].line_color = 'red'\n",
    "p.show()"
   ]
  },
  {
   "cell_type": "markdown",
   "metadata": {},
   "source": [
    "$f(x,y)= xy^2$"
   ]
  },
  {
   "cell_type": "code",
   "execution_count": 64,
   "metadata": {},
   "outputs": [
    {
     "data": {
      "image/png": "[encoded data removed]",
      "text/plain": [
       "<Figure size 432x288 with 1 Axes>"
      ]
     },
     "metadata": {
      "needs_background": "light"
     },
     "output_type": "display_data"
    },
    {
     "data": {
      "text/plain": [
       "<sympy.plotting.plot.Plot at 0x7fbf54cc51c0>"
      ]
     },
     "execution_count": 64,
     "metadata": {},
     "output_type": "execute_result"
    }
   ],
   "source": [
    "import sympy.plotting as splt\n",
    "x, y = sympy.symbols('x,y')\n",
    "splt.plot3d(x*y**2, (x, -5, 5), (y, -5, 5))"
   ]
  },
  {
   "cell_type": "markdown",
   "metadata": {},
   "source": [
    "### Plotting with Matplotlib directly"
   ]
  },
  {
   "cell_type": "markdown",
   "metadata": {},
   "source": [
    "- using `lambdify` to construct a function"
   ]
  },
  {
   "cell_type": "code",
   "execution_count": 65,
   "metadata": {},
   "outputs": [
    {
     "name": "stdout",
     "output_type": "stream",
     "text": [
      "<class 'function'>\n"
     ]
    },
    {
     "data": {
      "image/png": "[encoded data removed]",
      "text/latex": [
       "$\\displaystyle 1 - \\cos{\\left(\\sin{\\left(0.3 x \\right)} \\right)}$"
      ],
      "text/plain": [
       "1 - cos(sin(0.3⋅x))"
      ]
     },
     "execution_count": 65,
     "metadata": {},
     "output_type": "execute_result"
    }
   ],
   "source": [
    "from sympy.utilities.lambdify import lambdify\n",
    "import matplotlib.pyplot as pl\n",
    "import numpy as np\n",
    "\n",
    "f =  1 - sympy.cos(sympy.sin(0.3*x))\n",
    "fx = lambdify(x, f, modules = ['numpy']) # similar to function definition\n",
    "print(type(fx))\n",
    "f"
   ]
  },
  {
   "cell_type": "code",
   "execution_count": 66,
   "metadata": {},
   "outputs": [
    {
     "data": {
      "image/png": "[encoded data removed]",
      "text/latex": [
       "$\\displaystyle \\left( 0.309789921927519, \\  0.291430139050455\\right)$"
      ],
      "text/plain": [
       "(0.3097899219275191, 0.29143013905045545)"
      ]
     },
     "execution_count": 66,
     "metadata": {},
     "output_type": "execute_result"
    }
   ],
   "source": [
    "fx(np.pi), fx(3)"
   ]
  },
  {
   "cell_type": "code",
   "execution_count": 67,
   "metadata": {},
   "outputs": [
    {
     "data": {
      "image/png": "[encoded data removed]",
      "text/plain": [
       "<Figure size 432x288 with 1 Axes>"
      ]
     },
     "metadata": {
      "needs_background": "light"
     },
     "output_type": "display_data"
    }
   ],
   "source": [
    "xval = np.linspace(-2*np.pi,2*np.pi,200)\n",
    "\n",
    "pl.plot(xval,fx(xval));\n",
    "pl.xlabel('x');\n",
    "pl.ylabel('y(x)');\n",
    "pl.title('$f(x) = 1- cos(sin(0.3*x))$');"
   ]
  },
  {
   "cell_type": "code",
   "execution_count": 68,
   "metadata": {},
   "outputs": [
    {
     "data": {
      "image/png": "[encoded data removed]",
      "text/plain": [
       "<Figure size 432x288 with 1 Axes>"
      ]
     },
     "metadata": {
      "needs_background": "light"
     },
     "output_type": "display_data"
    }
   ],
   "source": [
    "pl.fill_between(xval,fx(xval));"
   ]
  },
  {
   "cell_type": "markdown",
   "metadata": {},
   "source": [
    "---\n",
    "<div class=\"alert alert-block alert-info\">\n",
    "<b>Note:</b> The integrals module in SymPy implements methods to calculate definite and indefinite integrals.\n",
    "</div>\n"
   ]
  },
  {
   "cell_type": "markdown",
   "metadata": {},
   "source": [
    "# Integration: Symbolic Computing"
   ]
  },
  {
   "cell_type": "markdown",
   "metadata": {},
   "source": [
    "## Indefinete integral"
   ]
  },
  {
   "cell_type": "markdown",
   "metadata": {},
   "source": [
    "A primitive integral in the form of\n",
    "$$\\int f(x) dx $$\n",
    "is also known as **indefinete integral** or antiderivative or inverse derivative. "
   ]
  },
  {
   "cell_type": "code",
   "execution_count": 69,
   "metadata": {},
   "outputs": [
    {
     "name": "stdout",
     "output_type": "stream",
     "text": [
      "<class 'sympy.integrals.integrals.Integral'>\n"
     ]
    },
    {
     "data": {
      "image/png": "[encoded data removed]",
      "text/latex": [
       "$\\displaystyle \\int f{\\left(x \\right)}\\, dx$"
      ],
      "text/plain": [
       "⌠        \n",
       "⎮ f(x) dx\n",
       "⌡        "
      ]
     },
     "execution_count": 69,
     "metadata": {},
     "output_type": "execute_result"
    }
   ],
   "source": [
    "x,y = sympy.symbols('x,y')\n",
    "f = sympy.Function('f')(x)\n",
    "I1 = sympy.integrate(f,x)\n",
    "print(type(I1))\n",
    "I1"
   ]
  },
  {
   "cell_type": "markdown",
   "metadata": {},
   "source": [
    "- we can integrate multivariate expressions "
   ]
  },
  {
   "cell_type": "code",
   "execution_count": 70,
   "metadata": {},
   "outputs": [
    {
     "data": {
      "image/png": "[encoded data removed]",
      "text/latex": [
       "$\\displaystyle \\left( \\int f{\\left(x,y \\right)}\\, dx, \\  \\int f{\\left(x,y \\right)}\\, dy\\right)$"
      ],
      "text/plain": [
       "⎛⌠             ⌠           ⎞\n",
       "⎜⎮ f(x, y) dx, ⎮ f(x, y) dy⎟\n",
       "⎝⌡             ⌡           ⎠"
      ]
     },
     "execution_count": 70,
     "metadata": {},
     "output_type": "execute_result"
    }
   ],
   "source": [
    "f = sympy.Function('f')(x,y)\n",
    "I2 = sympy.integrate(f,x)\n",
    "I3 = sympy.integrate(f,y)\n",
    "I2, I3"
   ]
  },
  {
   "cell_type": "markdown",
   "metadata": {},
   "source": [
    "- or carry out double integration"
   ]
  },
  {
   "cell_type": "code",
   "execution_count": 71,
   "metadata": {},
   "outputs": [
    {
     "data": {
      "image/png": "[encoded data removed]",
      "text/latex": [
       "$\\displaystyle \\iint f{\\left(x,y \\right)}\\, dx\\, dy$"
      ],
      "text/plain": [
       "⌠ ⌠              \n",
       "⎮ ⎮ f(x, y) dx dy\n",
       "⌡ ⌡              "
      ]
     },
     "execution_count": 71,
     "metadata": {},
     "output_type": "execute_result"
    }
   ],
   "source": [
    "I4 = sympy.integrate(f,x,y)\n",
    "I4"
   ]
  },
  {
   "cell_type": "markdown",
   "metadata": {},
   "source": [
    "### Indefinete Integrals examples"
   ]
  },
  {
   "cell_type": "markdown",
   "metadata": {},
   "source": [
    "- For example $$\\int (x^{2} + x + 1) dx$$ where we declared the variable `x` as a symbol of `sympy`.\n",
    "- we can directly plot the integration output using `sympy.plt`, by default `sympy` sets a suitable **limit**, making it a definite integral:"
   ]
  },
  {
   "cell_type": "code",
   "execution_count": 72,
   "metadata": {
    "tags": []
   },
   "outputs": [
    {
     "data": {
      "image/png": "[encoded data removed]",
      "text/plain": [
       "<Figure size 432x288 with 1 Axes>"
      ]
     },
     "metadata": {
      "needs_background": "light"
     },
     "output_type": "display_data"
    },
    {
     "data": {
      "image/png": "[encoded data removed]",
      "text/latex": [
       "$\\displaystyle \\frac{x^{3}}{3} + \\frac{x^{2}}{2} + x$"
      ],
      "text/plain": [
       " 3    2    \n",
       "x    x     \n",
       "── + ── + x\n",
       "3    2     "
      ]
     },
     "execution_count": 72,
     "metadata": {},
     "output_type": "execute_result"
    }
   ],
   "source": [
    "x = sympy.Symbol(\"x\")\n",
    "f = sympy.integrate(x**2 + x + 1, x)\n",
    "sympy.plot(f);\n",
    "f"
   ]
  },
  {
   "cell_type": "code",
   "execution_count": 73,
   "metadata": {},
   "outputs": [
    {
     "data": {
      "image/png": "[encoded data removed]",
      "text/plain": [
       "<Figure size 432x288 with 1 Axes>"
      ]
     },
     "metadata": {
      "needs_background": "light"
     },
     "output_type": "display_data"
    },
    {
     "data": {
      "image/png": "[encoded data removed]",
      "text/latex": [
       "$\\displaystyle \\frac{x^{3}}{3} + x y$"
      ],
      "text/plain": [
       " 3      \n",
       "x       \n",
       "── + x⋅y\n",
       "3       "
      ]
     },
     "execution_count": 73,
     "metadata": {},
     "output_type": "execute_result"
    }
   ],
   "source": [
    "x = sympy.Symbol(\"x\")\n",
    "I5 = sympy.integrate(x**2 + y , x) # Integrate to x\n",
    "sympy.plot(I5.subs(y,-10));\n",
    "I5"
   ]
  },
  {
   "cell_type": "code",
   "execution_count": 74,
   "metadata": {},
   "outputs": [
    {
     "data": {
      "image/png": "[encoded data removed]",
      "text/plain": [
       "<Figure size 432x288 with 1 Axes>"
      ]
     },
     "metadata": {
      "needs_background": "light"
     },
     "output_type": "display_data"
    },
    {
     "data": {
      "image/png": "[encoded data removed]",
      "text/latex": [
       "$\\displaystyle x^{2} y + \\frac{y^{2}}{2}$"
      ],
      "text/plain": [
       "        2\n",
       " 2     y \n",
       "x ⋅y + ──\n",
       "       2 "
      ]
     },
     "execution_count": 74,
     "metadata": {},
     "output_type": "execute_result"
    }
   ],
   "source": [
    "x = sympy.Symbol(\"x\")\n",
    "I6 = sympy.integrate(x**2 + y , y) # Integrate to x\n",
    "sympy.plot(I6.subs(x,1));\n",
    "I6"
   ]
  },
  {
   "cell_type": "code",
   "execution_count": 75,
   "metadata": {},
   "outputs": [
    {
     "name": "stdout",
     "output_type": "stream",
     "text": [
      "x**2*y + y**2/2\n"
     ]
    }
   ],
   "source": [
    "print(_)"
   ]
  },
  {
   "cell_type": "markdown",
   "metadata": {},
   "source": [
    "- double integration"
   ]
  },
  {
   "cell_type": "code",
   "execution_count": 76,
   "metadata": {},
   "outputs": [
    {
     "data": {
      "image/png": "[encoded data removed]",
      "text/plain": [
       "<Figure size 432x288 with 1 Axes>"
      ]
     },
     "metadata": {
      "needs_background": "light"
     },
     "output_type": "display_data"
    },
    {
     "data": {
      "image/png": "[encoded data removed]",
      "text/latex": [
       "$\\displaystyle \\frac{x^{3} y}{3} + \\frac{x y^{2}}{2}$"
      ],
      "text/plain": [
       " 3        2\n",
       "x ⋅y   x⋅y \n",
       "──── + ────\n",
       " 3      2  "
      ]
     },
     "execution_count": 76,
     "metadata": {},
     "output_type": "execute_result"
    }
   ],
   "source": [
    "import sympy.plotting as splt\n",
    "x = sympy.Symbol(\"x\")\n",
    "I7 = sympy.integrate(x**2 + y , x, y)\n",
    "splt.plot3d(x**2*y + y**2/2)\n",
    "I7"
   ]
  },
  {
   "cell_type": "markdown",
   "metadata": {},
   "source": [
    "## Definite integral"
   ]
  },
  {
   "cell_type": "markdown",
   "metadata": {},
   "source": [
    "### Linearity and the Basics\n",
    "\n",
    "- we can set a suitable **limit** $x \\in [a,b]$, making it a definite integral:\n",
    "\n",
    "\n",
    "Let, $c, d \\in R$, because summation is a linear operator, that is\n",
    "$$\n",
    "\\sum_{i=0}^{n-1} (c f_i + d g_i) \n",
    "= c \\sum_{i=0}^{n-1} f_i + d \\sum_{i=0}^{n-1} g_i,\n",
    "$$\n",
    "\n",
    "definite integrals are linear,\n",
    "$$\n",
    "\\int_a^b (c f(x) + d g(x))\\,dx = c \\int_a^b f(x)\\,dx + d \\int_a^b g(x) \\,dx.\n",
    "$$\n",
    "One can also divide the **range of integration**.\n",
    "$$\n",
    "\\int_a^b f(x) \\, dx = \\int_a^c f(x) \\,dx + \\int_c^b f(x) \\,dx\n",
    "$$\n",
    "We assume that each of the above integrals exist.  If $a \\leq b$, and \n",
    "we integrate from $b$ to $a$, then each of the $\\Delta x_i$ will be negative.\n",
    "From this observation, it is clear that\n",
    "$$\n",
    "\\int_a^b f(x) \\,dx = - \\int_b^a f(x) \\, dx.\n",
    "$$\n",
    "If we integrate any function from a point $a$ to that same point $a$, then\n",
    "all the $\\Delta x_i$ are zero and \n",
    "$$\n",
    "\\int_a^a f(x) \\,dx = 0.\n",
    "$$\n"
   ]
  },
  {
   "cell_type": "markdown",
   "metadata": {},
   "source": [
    "### Mean Value Theorem of Integral Calculus.\n",
    "Let $m = \\min_{x \\in [a,b]} f(x)$, $M = \\max_{x \\in [a,b]} f(x)$ and $f(x)$ be continuous. We can show that\n",
    "$$\n",
    "(b-a) m \\leq \\int_a^b f(x) \\,dx \\leq (b-a) M.\n",
    "$$\n",
    "Therefore there exists a constant $c \\in [m,M]$ satisfying\n",
    "$$\n",
    "\\int_a^b f(x) \\,dx = (b-a) c.\n",
    "$$\n",
    "Since $f(x)$ is continuous, there is a point $\\xi \\in [a,b]$ such that\n",
    "$f(\\xi) = c$.  Thus we see that \n",
    "$$\n",
    "\\int_a^b f(x) \\,dx = (b-a) f(\\xi),\n",
    "$$\n",
    "for some $\\xi \\in [a,b]$.\n"
   ]
  },
  {
   "cell_type": "markdown",
   "metadata": {},
   "source": [
    "### Definite Integrals with Variable Limits of Integration.\n",
    "Consider $a$ to be a constant and $x$ variable, then the function $F(x)$\n",
    "defined by\n",
    "\\begin{equation}\n",
    "  \\label{int_var_limit}\n",
    "  F(x) = \\int_a^x f(t) \\,dt\n",
    "\\end{equation}\n",
    "\n",
    "is an anti-derivative of $f(x)$, that is $F'(x) = f(x)$.  To show this\n",
    "we apply the definition of differentiation and the integral mean value\n",
    "theorem.\n",
    "\\begin{align*}\n",
    "  F'(x)\n",
    "  &= \\lim_{\\Delta x \\to 0} \\frac{F(x+\\Delta x) - F(x)}{\\Delta x} \\\\\n",
    "  &= \\lim_{\\Delta x \\to 0} \\frac{ \\int_a^{x+\\Delta x} f(t) \\,dt\n",
    "    - \\int_a^x f(t)\\,dt }{\\Delta x} \\\\\n",
    "  &= \\lim_{\\Delta x \\to 0} \\frac{ \\int_x^{x+\\Delta x} f(t) \\,dt }\n",
    "  {\\Delta x} \\\\\n",
    "  &= \\lim_{\\Delta x \\to 0} \\frac{ f(\\xi) \\Delta x }\n",
    "  {\\Delta x}, \\qquad \\xi \\in [x,x+\\Delta x] \\\\\n",
    "  &= f(x)\n",
    "\\end{align*}"
   ]
  },
  {
   "cell_type": "markdown",
   "metadata": {},
   "source": [
    "**Example**\n",
    "\\begin{align*}\n",
    "  \\label{int_var_limit}\n",
    "  \\int_a^b sin(x) \\,dt \n",
    "  & = \\left [ cos(x) \\right]_a^b  \\\\\n",
    "  & = cos(b)-cos(a)\n",
    "\\end{align*}"
   ]
  },
  {
   "cell_type": "code",
   "execution_count": 77,
   "metadata": {},
   "outputs": [
    {
     "data": {
      "image/png": "[encoded data removed]",
      "text/latex": [
       "$\\displaystyle \\int\\limits_{lower}^{upper} f{\\left(x \\right)}\\, dx$"
      ],
      "text/plain": [
       "upper        \n",
       "  ⌠          \n",
       "  ⎮   f(x) dx\n",
       "  ⌡          \n",
       "lower        "
      ]
     },
     "execution_count": 77,
     "metadata": {},
     "output_type": "execute_result"
    }
   ],
   "source": [
    "a,b,x,y = sympy.symbols('lower,upper,x,y')\n",
    "f = sympy.Function('f')(x)\n",
    "I8 = sympy.integrate(f,(x,a,b))\n",
    "I8"
   ]
  },
  {
   "cell_type": "markdown",
   "metadata": {},
   "source": [
    "- we can set the **limits** to $\\infty$"
   ]
  },
  {
   "cell_type": "code",
   "execution_count": 78,
   "metadata": {},
   "outputs": [
    {
     "data": {
      "image/png": "[encoded data removed]",
      "text/latex": [
       "$\\displaystyle \\int\\limits_{-\\infty}^{\\infty} f{\\left(x \\right)}\\, dx$"
      ],
      "text/plain": [
       "∞         \n",
       "⌠         \n",
       "⎮  f(x) dx\n",
       "⌡         \n",
       "-∞        "
      ]
     },
     "execution_count": 78,
     "metadata": {},
     "output_type": "execute_result"
    }
   ],
   "source": [
    "I9 = sympy.integrate(f,(x,-sympy.oo,sympy.oo))\n",
    "I9"
   ]
  },
  {
   "cell_type": "markdown",
   "metadata": {},
   "source": [
    "- single integration: manual substraction"
   ]
  },
  {
   "cell_type": "markdown",
   "metadata": {},
   "source": [
    "- for example, $\\int_0^{\\pi/4} tan(x) dx$"
   ]
  },
  {
   "cell_type": "code",
   "execution_count": 79,
   "metadata": {},
   "outputs": [
    {
     "data": {
      "image/png": "[encoded data removed]",
      "text/plain": [
       "<Figure size 432x288 with 1 Axes>"
      ]
     },
     "metadata": {
      "needs_background": "light"
     },
     "output_type": "display_data"
    },
    {
     "data": {
      "image/png": "[encoded data removed]",
      "text/latex": [
       "$\\displaystyle \\tan{\\left(x \\right)}$"
      ],
      "text/plain": [
       "tan(x)"
      ]
     },
     "execution_count": 79,
     "metadata": {},
     "output_type": "execute_result"
    }
   ],
   "source": [
    "x = sympy.Symbol(\"x\")\n",
    "f = sympy.tan(x)\n",
    "sympy.plot(f, (x, 0, sympy.pi/4));\n",
    "f"
   ]
  },
  {
   "cell_type": "code",
   "execution_count": 80,
   "metadata": {},
   "outputs": [
    {
     "data": {
      "image/png": "[encoded data removed]",
      "text/latex": [
       "$\\displaystyle - \\log{\\left(\\cos{\\left(x \\right)} \\right)}$"
      ],
      "text/plain": [
       "-log(cos(x))"
      ]
     },
     "execution_count": 80,
     "metadata": {},
     "output_type": "execute_result"
    }
   ],
   "source": [
    "I10 = sympy.integrate(sympy.tan(x),x)\n",
    "I10"
   ]
  },
  {
   "cell_type": "code",
   "execution_count": 81,
   "metadata": {},
   "outputs": [
    {
     "data": {
      "image/png": "[encoded data removed]",
      "text/latex": [
       "$\\displaystyle - \\log{\\left(\\frac{\\sqrt{2}}{2} \\right)}$"
      ],
      "text/plain": [
       "    ⎛√2⎞\n",
       "-log⎜──⎟\n",
       "    ⎝2 ⎠"
      ]
     },
     "execution_count": 81,
     "metadata": {},
     "output_type": "execute_result"
    }
   ],
   "source": [
    "I10.subs(x,sympy.pi/4) - I10.subs(x,0)"
   ]
  },
  {
   "cell_type": "markdown",
   "metadata": {},
   "source": [
    "- direct definite integration"
   ]
  },
  {
   "cell_type": "code",
   "execution_count": 82,
   "metadata": {},
   "outputs": [
    {
     "data": {
      "image/png": "[encoded data removed]",
      "text/latex": [
       "$\\displaystyle - \\log{\\left(\\frac{\\sqrt{2}}{2} \\right)}$"
      ],
      "text/plain": [
       "    ⎛√2⎞\n",
       "-log⎜──⎟\n",
       "    ⎝2 ⎠"
      ]
     },
     "execution_count": 82,
     "metadata": {},
     "output_type": "execute_result"
    }
   ],
   "source": [
    "sympy.integrate(f, (x,0, sympy.pi/4))"
   ]
  },
  {
   "cell_type": "code",
   "execution_count": 83,
   "metadata": {},
   "outputs": [
    {
     "data": {
      "image/png": "[encoded data removed]",
      "text/latex": [
       "$\\displaystyle 0.346573590279973$"
      ],
      "text/plain": [
       "0.346573590279973"
      ]
     },
     "execution_count": 83,
     "metadata": {},
     "output_type": "execute_result"
    }
   ],
   "source": [
    "sympy.N(sympy.integrate(f, (x,0, sympy.pi/4)))"
   ]
  },
  {
   "cell_type": "code",
   "execution_count": 84,
   "metadata": {},
   "outputs": [
    {
     "data": {
      "image/png": "[encoded data removed]",
      "text/latex": [
       "$\\displaystyle \\infty$"
      ],
      "text/plain": [
       "∞"
      ]
     },
     "execution_count": 84,
     "metadata": {},
     "output_type": "execute_result"
    }
   ],
   "source": [
    "sympy.integrate(f, (x,0, sympy.pi/2))"
   ]
  },
  {
   "cell_type": "markdown",
   "metadata": {},
   "source": [
    "-  Manual substraction: double integral"
   ]
  },
  {
   "cell_type": "markdown",
   "metadata": {},
   "source": [
    "**Example of double integral**\n",
    "$$\n",
    "\\int_0^3 \\int_0^5  f(x,y) \\,dx dy\n",
    "$$\n",
    "where $f(x,y) = \\frac{x^{3} y}{3} + \\frac{x y^{2}}{2}$\n"
   ]
  },
  {
   "cell_type": "code",
   "execution_count": 85,
   "metadata": {},
   "outputs": [
    {
     "data": {
      "image/png": "[encoded data removed]",
      "text/latex": [
       "$\\displaystyle \\frac{x^{3} y}{3} + \\frac{x y^{2}}{2}$"
      ],
      "text/plain": [
       " 3        2\n",
       "x ⋅y   x⋅y \n",
       "──── + ────\n",
       " 3      2  "
      ]
     },
     "execution_count": 85,
     "metadata": {},
     "output_type": "execute_result"
    }
   ],
   "source": [
    "x= sympy.Symbol(\"x\")\n",
    "I7 = sympy.integrate(x**2 + y , x, y)\n",
    "I7"
   ]
  },
  {
   "cell_type": "code",
   "execution_count": 86,
   "metadata": {},
   "outputs": [
    {
     "data": {
      "image/png": "[encoded data removed]",
      "text/latex": [
       "$\\displaystyle \\frac{295}{2}$"
      ],
      "text/plain": [
       "295/2"
      ]
     },
     "execution_count": 86,
     "metadata": {},
     "output_type": "execute_result"
    }
   ],
   "source": [
    "(I7.subs(x,5)- I7.subs(x,0)).subs(y,3)- (I7.subs(x,5)- I7.subs(x,0)).subs(y,0)"
   ]
  },
  {
   "cell_type": "markdown",
   "metadata": {},
   "source": [
    "- direct integration"
   ]
  },
  {
   "cell_type": "code",
   "execution_count": 87,
   "metadata": {},
   "outputs": [
    {
     "data": {
      "image/png": "[encoded data removed]",
      "text/latex": [
       "$\\displaystyle \\frac{295}{2}$"
      ],
      "text/plain": [
       "295/2"
      ]
     },
     "execution_count": 87,
     "metadata": {},
     "output_type": "execute_result"
    }
   ],
   "source": [
    "x, y = sympy.symbols(\"x,y\")\n",
    "volume = sympy.integrate(x**2 + y, (x,0,5),(y,0,3))\n",
    "volume"
   ]
  },
  {
   "cell_type": "markdown",
   "metadata": {},
   "source": [
    "---\n",
    "# Integration: Numerical Approach"
   ]
  },
  {
   "cell_type": "markdown",
   "metadata": {},
   "source": [
    "---\n",
    "<div class=\"alert alert-block alert-info\">\n",
    "<b>Note:</b> SciPy implements numerical approaches for integrals.\n",
    "</div>\n"
   ]
  },
  {
   "cell_type": "code",
   "execution_count": 88,
   "metadata": {},
   "outputs": [
    {
     "data": {
      "text/html": [
       "\n",
       "        <iframe\n",
       "            width=\"1155\"\n",
       "            height=\"400\"\n",
       "            src=\"https://docs.scipy.org/doc/scipy/reference/tutorial/integrate.html\"\n",
       "            frameborder=\"0\"\n",
       "            allowfullscreen\n",
       "        ></iframe>\n",
       "        "
      ],
      "text/plain": [
       "<IPython.lib.display.IFrame at 0x7fbf54c63280>"
      ]
     },
     "metadata": {},
     "output_type": "display_data"
    }
   ],
   "source": [
    "from IPython.display import IFrame\n",
    "doc = IFrame(src = 'https://docs.scipy.org/doc/scipy/reference/tutorial/integrate.html', width=1155, height=400)\n",
    "display(doc)"
   ]
  },
  {
   "cell_type": "markdown",
   "metadata": {},
   "source": [
    "### Numerical Approach: Definite integral using SymPy integrate module can be categorized into two types: \n",
    "1. routines that **take the integrand as a Python function**: This type uses Gaussian quadrature (quad, quadrature, fixed_quad), \n",
    "2. routines that **take arrays with samples of the integrand at given points**: this type use Newton-Cotes methods (trapz, simps, and romb)."
   ]
  },
  {
   "cell_type": "markdown",
   "metadata": {},
   "source": [
    "**Example of using symbolic computing**\n",
    "\\begin{align*}\n",
    "  \\label{int_var_limit}\n",
    "  \\int_a^b x^3 \\,dt \n",
    "  & = \\left [ \\frac{x^4}{4} \\right]_a^b \n",
    "\\end{align*}"
   ]
  },
  {
   "cell_type": "code",
   "execution_count": 89,
   "metadata": {},
   "outputs": [
    {
     "data": {
      "image/png": "[encoded data removed]",
      "text/latex": [
       "$\\displaystyle \\frac{x^{4}}{4}$"
      ],
      "text/plain": [
       " 4\n",
       "x \n",
       "──\n",
       "4 "
      ]
     },
     "execution_count": 89,
     "metadata": {},
     "output_type": "execute_result"
    }
   ],
   "source": [
    "x = sympy.Symbol('x')\n",
    "fsym = sympy.integrate(x**3)\n",
    "fsym"
   ]
  },
  {
   "cell_type": "code",
   "execution_count": 90,
   "metadata": {},
   "outputs": [
    {
     "data": {
      "image/png": "[encoded data removed]",
      "text/plain": [
       "<Figure size 432x288 with 1 Axes>"
      ]
     },
     "metadata": {
      "needs_background": "light"
     },
     "output_type": "display_data"
    }
   ],
   "source": [
    "sympy.plot(x**3, (x, -1, 1));"
   ]
  },
  {
   "cell_type": "code",
   "execution_count": 91,
   "metadata": {},
   "outputs": [
    {
     "data": {
      "image/png": "[encoded data removed]",
      "text/latex": [
       "$\\displaystyle 0$"
      ],
      "text/plain": [
       "0"
      ]
     },
     "execution_count": 91,
     "metadata": {},
     "output_type": "execute_result"
    }
   ],
   "source": [
    "fsym.subs(x,1) - fsym.subs(x,-1)"
   ]
  },
  {
   "cell_type": "code",
   "execution_count": 92,
   "metadata": {},
   "outputs": [
    {
     "data": {
      "image/png": "[encoded data removed]",
      "text/latex": [
       "$\\displaystyle - \\frac{1}{4}$"
      ],
      "text/plain": [
       "-1/4"
      ]
     },
     "execution_count": 92,
     "metadata": {},
     "output_type": "execute_result"
    }
   ],
   "source": [
    "fsym.subs(x,0) - fsym.subs(x,-1)"
   ]
  },
  {
   "cell_type": "code",
   "execution_count": 93,
   "metadata": {},
   "outputs": [
    {
     "data": {
      "image/png": "[encoded data removed]",
      "text/latex": [
       "$\\displaystyle \\frac{1}{4}$"
      ],
      "text/plain": [
       "1/4"
      ]
     },
     "execution_count": 93,
     "metadata": {},
     "output_type": "execute_result"
    }
   ],
   "source": [
    "fsym.subs(x,1) - fsym.subs(x,0)"
   ]
  },
  {
   "cell_type": "markdown",
   "metadata": {},
   "source": [
    "**Numerical Approach: Definite integral using `SciPy`**"
   ]
  },
  {
   "cell_type": "markdown",
   "metadata": {},
   "source": [
    "- The `quadrature` function is an adaptive Gaussian quadrature routine that is\n",
    "implemented in Python.\n",
    "- The `quad` function is a wrapper for routines from the FORTRAN library\n",
    "QUADPACK, which has superior performance in terms of speed and has more features\n",
    "(such as support for infinite integration limits)"
   ]
  },
  {
   "cell_type": "markdown",
   "metadata": {},
   "source": [
    "###  Integrand as a Python function:"
   ]
  },
  {
   "cell_type": "code",
   "execution_count": 94,
   "metadata": {},
   "outputs": [],
   "source": [
    "from scipy import integrate\n",
    "\n",
    "def f(x):\n",
    "    return (x**3)\n",
    "\n",
    "val, err = integrate.quad(f, -1, 1)"
   ]
  },
  {
   "cell_type": "code",
   "execution_count": 95,
   "metadata": {},
   "outputs": [
    {
     "data": {
      "image/png": "[encoded data removed]",
      "text/latex": [
       "$\\displaystyle \\left( 0.0, \\  5.55120845592467 \\cdot 10^{-15}\\right)$"
      ],
      "text/plain": [
       "(0.0, 5.551208455924673e-15)"
      ]
     },
     "execution_count": 95,
     "metadata": {},
     "output_type": "execute_result"
    }
   ],
   "source": [
    "val, err"
   ]
  },
  {
   "cell_type": "markdown",
   "metadata": {},
   "source": [
    "- The quad routine supports infinite integration limits. "
   ]
  },
  {
   "cell_type": "markdown",
   "metadata": {},
   "source": [
    "**Example**\n",
    "\\begin{align*}\n",
    "  \\label{int_var_limit}\n",
    "  \\int^\\infty_0 e^{-x} \\,dx \n",
    "  & = \\left[ - e^{- x} \\right]_0^\\infty \n",
    "\\end{align*}"
   ]
  },
  {
   "cell_type": "code",
   "execution_count": 96,
   "metadata": {},
   "outputs": [
    {
     "data": {
      "image/png": "[encoded data removed]",
      "text/plain": [
       "<Figure size 432x288 with 1 Axes>"
      ]
     },
     "metadata": {
      "needs_background": "light"
     },
     "output_type": "display_data"
    },
    {
     "data": {
      "image/png": "[encoded data removed]",
      "text/latex": [
       "$\\displaystyle - e^{- x}$"
      ],
      "text/plain": [
       "  -x\n",
       "-ℯ  "
      ]
     },
     "execution_count": 96,
     "metadata": {},
     "output_type": "execute_result"
    }
   ],
   "source": [
    "x = sympy.Symbol('x')\n",
    "fsym = sympy.integrate(sympy.exp(-x))\n",
    "\n",
    "sympy.plot(sympy.exp(-x), (x, -1, 10));\n",
    "fsym"
   ]
  },
  {
   "cell_type": "markdown",
   "metadata": {},
   "source": [
    "- analytical approach"
   ]
  },
  {
   "cell_type": "code",
   "execution_count": 97,
   "metadata": {},
   "outputs": [
    {
     "data": {
      "image/png": "[encoded data removed]",
      "text/latex": [
       "$\\displaystyle 1$"
      ],
      "text/plain": [
       "1"
      ]
     },
     "execution_count": 97,
     "metadata": {},
     "output_type": "execute_result"
    }
   ],
   "source": [
    "fsym.subs(x,sympy.oo)-fsym.subs(x,0)"
   ]
  },
  {
   "cell_type": "markdown",
   "metadata": {},
   "source": [
    "- numerical approach"
   ]
  },
  {
   "cell_type": "code",
   "execution_count": 98,
   "metadata": {},
   "outputs": [
    {
     "name": "stdout",
     "output_type": "stream",
     "text": [
      "1.0000000000000002 5.842606742906004e-11\n"
     ]
    }
   ],
   "source": [
    "f = lambda x: np.exp(-x)\n",
    "val, err = integrate.quad(f, 0, np.inf)\n",
    "print(val, err)"
   ]
  },
  {
   "cell_type": "markdown",
   "metadata": {},
   "source": [
    "### infinite limits"
   ]
  },
  {
   "cell_type": "markdown",
   "metadata": {},
   "source": [
    "- Gaussian quadrature method `quadratute` and `fixed_quad` in `SciPy`  is only available for **finite limits**. Command below will give you error."
   ]
  },
  {
   "cell_type": "code",
   "execution_count": 99,
   "metadata": {},
   "outputs": [],
   "source": [
    "#val, err = integrate.quadrature(f, 0, np.inf)\n",
    "#print(val, err)"
   ]
  },
  {
   "cell_type": "markdown",
   "metadata": {},
   "source": [
    "###  Integrand as an array of points:"
   ]
  },
  {
   "cell_type": "code",
   "execution_count": 100,
   "metadata": {},
   "outputs": [],
   "source": [
    "f = lambda x: x**3 # Original function\n",
    "a,b = 0, 1\n",
    "x = np.linspace(a, b, 25) # inputs x\n",
    "y = f(x) # inputs y"
   ]
  },
  {
   "cell_type": "code",
   "execution_count": 101,
   "metadata": {},
   "outputs": [
    {
     "data": {
      "image/png": "[encoded data removed]",
      "text/plain": [
       "<Figure size 576x216 with 1 Axes>"
      ]
     },
     "metadata": {
      "needs_background": "light"
     },
     "output_type": "display_data"
    }
   ],
   "source": [
    "fig, ax = pl.subplots(figsize=(8, 3))\n",
    "ax.plot(x, y, 'bo') # input as an array of points\n",
    "xx = np.linspace(a, b, 500)\n",
    "ax.plot(xx, f(xx), 'b-')\n",
    "ax.fill_between(xx, f(xx), color='yellow', alpha=0.5)\n",
    "ax.set_xlabel(r\"$x$\", fontsize=18)\n",
    "ax.set_ylabel(r\"$f(x)$\", fontsize=18)\n",
    "fig.tight_layout()"
   ]
  },
  {
   "cell_type": "markdown",
   "metadata": {},
   "source": [
    "- integration based on the function"
   ]
  },
  {
   "cell_type": "code",
   "execution_count": 102,
   "metadata": {},
   "outputs": [
    {
     "data": {
      "image/png": "[encoded data removed]",
      "text/latex": [
       "$\\displaystyle \\frac{1}{4}$"
      ],
      "text/plain": [
       "1/4"
      ]
     },
     "execution_count": 102,
     "metadata": {},
     "output_type": "execute_result"
    }
   ],
   "source": [
    "t = sympy.Symbol('t')\n",
    "fsym = sympy.integrate(t**3)\n",
    "exact_area = fsym.subs(t,1)-fsym.subs(t,0)\n",
    "exact_area"
   ]
  },
  {
   "cell_type": "markdown",
   "metadata": {},
   "source": [
    "- integration based on an array of inputs using `trapz` and `simps`"
   ]
  },
  {
   "cell_type": "code",
   "execution_count": 103,
   "metadata": {},
   "outputs": [
    {
     "data": {
      "image/png": "[encoded data removed]",
      "text/latex": [
       "$\\displaystyle 0.250434027777778$"
      ],
      "text/plain": [
       "0.2504340277777778"
      ]
     },
     "execution_count": 103,
     "metadata": {},
     "output_type": "execute_result"
    }
   ],
   "source": [
    "Area_trapz = integrate.trapz(y, x)\n",
    "Area_trapz"
   ]
  },
  {
   "cell_type": "code",
   "execution_count": 104,
   "metadata": {},
   "outputs": [
    {
     "data": {
      "image/png": "[encoded data removed]",
      "text/latex": [
       "$\\displaystyle 0.25$"
      ],
      "text/plain": [
       "0.25"
      ]
     },
     "execution_count": 104,
     "metadata": {},
     "output_type": "execute_result"
    }
   ],
   "source": [
    "Area_simps = integrate.simps(y, x)\n",
    "Area_simps"
   ]
  },
  {
   "cell_type": "code",
   "execution_count": 105,
   "metadata": {},
   "outputs": [
    {
     "name": "stdout",
     "output_type": "stream",
     "text": [
      "Trapz error -0.000434027777777790\n",
      "Simps error 0\n"
     ]
    }
   ],
   "source": [
    "print('Trapz error', exact_area - Area_trapz)\n",
    "print('Simps error', exact_area - Area_simps)"
   ]
  },
  {
   "cell_type": "markdown",
   "metadata": {},
   "source": [
    "### Singularities\n",
    "\n",
    "- **Improper integrals**: If the range of integration is infinite or $f(x)$ is discontinuous at some points then $\\int_a^b f(x) \\,dx$.\n",
    "- Visualization may aid in finding those infinte points, for example below it occurs at $x=0$."
   ]
  },
  {
   "cell_type": "code",
   "execution_count": 106,
   "metadata": {},
   "outputs": [
    {
     "data": {
      "image/png": "[encoded data removed]",
      "text/plain": [
       "<Figure size 432x288 with 1 Axes>"
      ]
     },
     "metadata": {
      "needs_background": "light"
     },
     "output_type": "display_data"
    }
   ],
   "source": [
    "f = lambda x: 1/np.sqrt(abs(x))\n",
    "a, b = -0.4, 0.4\n",
    "xval = np.linspace(a, b, 10000)\n",
    "pl.fill_between(xval,f(xval));"
   ]
  },
  {
   "cell_type": "markdown",
   "metadata": {},
   "source": [
    "- you will get a warning if singularities are found"
   ]
  },
  {
   "cell_type": "code",
   "execution_count": 107,
   "metadata": {},
   "outputs": [],
   "source": [
    "# integrate.quad(f,a,b)"
   ]
  },
  {
   "cell_type": "markdown",
   "metadata": {},
   "source": [
    "- use `points` to list the corresponding x values to avoid."
   ]
  },
  {
   "cell_type": "code",
   "execution_count": 108,
   "metadata": {},
   "outputs": [
    {
     "data": {
      "image/png": "[encoded data removed]",
      "text/latex": [
       "$\\displaystyle \\left( 2.5298221281347, \\  1.28785870856518 \\cdot 10^{-14}\\right)$"
      ],
      "text/plain": [
       "(2.5298221281347026, 1.2878587085651816e-14)"
      ]
     },
     "execution_count": 108,
     "metadata": {},
     "output_type": "execute_result"
    }
   ],
   "source": [
    "integrate.quad(f,a,b,points=[0])"
   ]
  },
  {
   "cell_type": "markdown",
   "metadata": {},
   "source": [
    "### Multiple integration"
   ]
  },
  {
   "cell_type": "markdown",
   "metadata": {},
   "source": [
    "- **using analytical approach:**\n",
    "$$\n",
    "\\int_0^3 \\int_0^5  f(x,y) \\,dx dy\n",
    "$$\n",
    "where $f(x,y) = \\frac{x^{3} y}{3} + \\frac{x y^{2}}{2}$"
   ]
  },
  {
   "cell_type": "code",
   "execution_count": 109,
   "metadata": {},
   "outputs": [
    {
     "data": {
      "image/png": "[encoded data removed]",
      "text/latex": [
       "$\\displaystyle \\frac{295}{2}$"
      ],
      "text/plain": [
       "295/2"
      ]
     },
     "execution_count": 109,
     "metadata": {},
     "output_type": "execute_result"
    }
   ],
   "source": [
    "x, y = sympy.symbols(\"x,y\")\n",
    "exact_volume = sympy.integrate(x**2 + y, (x,0,5),(y,0,3))\n",
    "exact_volume"
   ]
  },
  {
   "cell_type": "markdown",
   "metadata": {},
   "source": [
    "**Example of double integral**\n",
    "\n",
    "- Double Integral: $\\int_a^b \\int_c^d f(x,y) \\,dx dy$: use `dblquad`\n",
    "- Triple Integral: $\\int_a^b \\int_c^d \\int_e^f g(x,y,z) \\,dx dy dz$: use `tplquad`\n"
   ]
  },
  {
   "cell_type": "code",
   "execution_count": 110,
   "metadata": {},
   "outputs": [
    {
     "data": {
      "image/png": "[encoded data removed]",
      "text/latex": [
       "$\\displaystyle \\left( 147.5, \\  1.63757896132211 \\cdot 10^{-12}\\right)$"
      ],
      "text/plain": [
       "(147.5, 1.6375789613221059e-12)"
      ]
     },
     "execution_count": 110,
     "metadata": {},
     "output_type": "execute_result"
    }
   ],
   "source": [
    "def f(x,y):\n",
    "    return x**2 + y\n",
    "\n",
    "approx_vol, err = integrate.dblquad(f,0,3,0,5) #f(a,b,c,d)\n",
    "approx_vol, err"
   ]
  },
  {
   "cell_type": "code",
   "execution_count": 111,
   "metadata": {},
   "outputs": [
    {
     "name": "stdout",
     "output_type": "stream",
     "text": [
      "error:  0\n"
     ]
    }
   ],
   "source": [
    "print('error: ',exact_volume - approx_vol)"
   ]
  },
  {
   "cell_type": "markdown",
   "metadata": {},
   "source": [
    "# Integrations and its applications"
   ]
  },
  {
   "cell_type": "markdown",
   "metadata": {},
   "source": [
    "We can either employ numerical or an analytical approach for integration; it acts as a function to compute area and volume as shown in the previous sections."
   ]
  },
  {
   "cell_type": "markdown",
   "metadata": {},
   "source": [
    "### Compute the area of a function: $f(x)$ under the $x$ axis:\n",
    "$$\n",
    " \\int_{a}^b f(x) dx\n",
    "$$\n"
   ]
  },
  {
   "cell_type": "markdown",
   "metadata": {},
   "source": [
    "### Compute the area between two functions: $g(x)$ and $f(x)$ under the $x$ axis:\n",
    "By the linearity property of integration,\n",
    "we compute for area by finding the difference\n",
    "$$\n",
    " \\int_{a}^b f(x) dx -  \\int_{a}^b g(x) dx,\n",
    "$$\n",
    "of two signed areas. \n",
    "\n",
    "\n",
    "**Example:**\n",
    "Find the area enclosed by $f(x)=x+1$, $g(x)=9-x^2$, $x=-1$, $x=2$.\n",
    "\n",
    "$$\n",
    "\\text{Area} = \\int_{-1}^2 \\Bigl[(9-x^2) - (x+1)\\Bigr] dx\n",
    "$$\n",
    "We have reduced the problem to a computation:\n",
    "$$\n",
    "\\int_{-1}^2 [(9-x^2) - (x+1)] dx\n",
    "  = \\int_{-1}^2 (8-x-x^2)dx\n",
    "  = \\left[ 8x - \\frac{1}{2}x^2 - \\frac{1}{3}x^3 \\right]_{-1}^2\n",
    "  = \\frac{39}{2}.\n",
    "$$\n"
   ]
  },
  {
   "cell_type": "code",
   "execution_count": 112,
   "metadata": {},
   "outputs": [
    {
     "data": {
      "image/png": "[encoded data removed]",
      "text/plain": [
       "<Figure size 432x288 with 1 Axes>"
      ]
     },
     "metadata": {
      "needs_background": "light"
     },
     "output_type": "display_data"
    }
   ],
   "source": [
    "import sympy\n",
    "from sympy.plotting import plot\n",
    "f1 = x1 + 1\n",
    "g1 = 9 - x1**2\n",
    "p = plot(f1, g1, (x1, -1, 2), ylim=(-5, 10), legend=True, show=False);\n",
    "p[0].line_color='b'\n",
    "p[1].line_color='r'\n",
    "p.show()"
   ]
  },
  {
   "cell_type": "code",
   "execution_count": 113,
   "metadata": {},
   "outputs": [
    {
     "ename": "NameError",
     "evalue": "name 'area_indefinite' is not defined",
     "output_type": "error",
     "traceback": [
      "\u001b[0;31m---------------------------------------------------------------------------\u001b[0m",
      "\u001b[0;31mNameError\u001b[0m                                 Traceback (most recent call last)",
      "\u001b[0;32m<ipython-input-113-4a24548a450c>\u001b[0m in \u001b[0;36m<module>\u001b[0;34m\u001b[0m\n\u001b[1;32m      1\u001b[0m \u001b[0mx\u001b[0m \u001b[0;34m=\u001b[0m \u001b[0msympy\u001b[0m\u001b[0;34m.\u001b[0m\u001b[0mSymbol\u001b[0m\u001b[0;34m(\u001b[0m\u001b[0;34m'x'\u001b[0m\u001b[0;34m)\u001b[0m\u001b[0;34m\u001b[0m\u001b[0;34m\u001b[0m\u001b[0m\n\u001b[1;32m      2\u001b[0m \u001b[0mArea_g1f1\u001b[0m\u001b[0;34m=\u001b[0m \u001b[0msympy\u001b[0m\u001b[0;34m.\u001b[0m\u001b[0mintegrate\u001b[0m\u001b[0;34m(\u001b[0m\u001b[0mg1\u001b[0m\u001b[0;34m-\u001b[0m\u001b[0mf1\u001b[0m\u001b[0;34m)\u001b[0m\u001b[0;34m\u001b[0m\u001b[0;34m\u001b[0m\u001b[0m\n\u001b[0;32m----> 3\u001b[0;31m \u001b[0mprint\u001b[0m\u001b[0;34m(\u001b[0m\u001b[0marea_indefinite\u001b[0m\u001b[0;34m.\u001b[0m\u001b[0msubs\u001b[0m\u001b[0;34m(\u001b[0m\u001b[0mx1\u001b[0m\u001b[0;34m,\u001b[0m\u001b[0;36m2\u001b[0m\u001b[0;34m)\u001b[0m\u001b[0;34m-\u001b[0m\u001b[0marea_indefinite\u001b[0m\u001b[0;34m.\u001b[0m\u001b[0msubs\u001b[0m\u001b[0;34m(\u001b[0m\u001b[0mx1\u001b[0m\u001b[0;34m,\u001b[0m\u001b[0;34m-\u001b[0m\u001b[0;36m1\u001b[0m\u001b[0;34m)\u001b[0m\u001b[0;34m)\u001b[0m\u001b[0;34m\u001b[0m\u001b[0;34m\u001b[0m\u001b[0m\n\u001b[0m\u001b[1;32m      4\u001b[0m \u001b[0mArea_g1f1\u001b[0m\u001b[0;34m\u001b[0m\u001b[0;34m\u001b[0m\u001b[0m\n",
      "\u001b[0;31mNameError\u001b[0m: name 'area_indefinite' is not defined"
     ]
    }
   ],
   "source": [
    "x = sympy.Symbol('x')\n",
    "Area_g1f1= sympy.integrate(g1-f1)\n",
    "print(area_indefinite.subs(x1,2)-area_indefinite.subs(x1,-1))\n",
    "Area_g1f1"
   ]
  },
  {
   "cell_type": "code",
   "execution_count": null,
   "metadata": {},
   "outputs": [],
   "source": [
    "f_definite = sympy.integrate(g1-f1, (x1,-1,2))\n",
    "f_definite"
   ]
  }
 ],
 "metadata": {
  "kernelspec": {
   "display_name": "Python 3",
   "language": "python",
   "name": "python3"
  },
  "language_info": {
   "codemirror_mode": {
    "name": "ipython",
    "version": 3
   },
   "file_extension": ".py",
   "mimetype": "text/x-python",
   "name": "python",
   "nbconvert_exporter": "python",
   "pygments_lexer": "ipython3",
   "version": "3.8.3"
  }
 },
 "nbformat": 4,
 "nbformat_minor": 4
}
