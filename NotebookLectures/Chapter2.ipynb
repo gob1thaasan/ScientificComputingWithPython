{
 "cells": [
  {
   "cell_type": "markdown",
   "metadata": {},
   "source": [
    "**Scientific Computation (MKP3303)**\n",
    "\n",
    "\n",
    "> R.U.Gobithaasan (2021). Scientific Computing, Lectures for Undergraduate Degree Program B.Sc (Applied Mathematics), Faculty of Ocean Engineering Technology, University Malaysia Terengganu.\n",
    "https://sites.google.com/site/gobithaasan/LearnTeach\n",
    "\n",
    "<p align=\"center\">\n",
    "     © 2021 R.U. Gobithaasan All Rights Reserved.\n",
    "\n",
    "</p>\n",
    "\n"
   ]
  },
  {
   "cell_type": "markdown",
   "metadata": {},
   "source": [
    "**Chapter 2: Numbers, Expressions and Functions**                             \n",
    "1. Integers, rational numbers and irrational numbers.\n",
    "2. Floating point numbers\n",
    "3. Complex numbers \n",
    "4. Expressions, assignment statements, equalities,\n",
    "5. Control Flow Statements\n",
    "6. Functions (Python & Mathematics)\n",
    "7. Overflow error, underflow error and rounding-off error \n",
    "8. Developing your own module\n",
    "\n",
    "**References:** \n",
    "- [w3schools Online Materials](https://www.w3schools.com/python/)\n",
    "-  [SciPi Lecture Notes](http://scipy-lectures.org/)\n",
    "- Robert Johansson, Numerical Python: Scientific Computing and Data Science Applications with Numpy, SciPy and Matplotlib (2019, Apress).\n",
    "- Donaldson Toby,Python: Visual QuickStart Guide (2008, Peachpit Press).\n",
    "- Tony Gaddis-Starting Out with Python,(2018,Global Edition-Pearson Education)\n",
    "- Robert Johansson August, Introduction to Scientific Computing in Python Continuum Analytics, (2015)\n"
   ]
  },
  {
   "cell_type": "markdown",
   "metadata": {},
   "source": [
    "# Integers, Rational numbers and Irrational numbers\n",
    "# Floating Point Numbers (Reals)\n",
    " with Booleans & Strings as well."
   ]
  },
  {
   "cell_type": "code",
   "execution_count": 1,
   "metadata": {},
   "outputs": [
    {
     "data": {
      "text/plain": [
       "(int, float, str)"
      ]
     },
     "execution_count": 1,
     "metadata": {},
     "output_type": "execute_result"
    }
   ],
   "source": [
    "type(3), type(3.3), type('UMT')"
   ]
  },
  {
   "cell_type": "code",
   "execution_count": 2,
   "metadata": {},
   "outputs": [
    {
     "name": "stdout",
     "output_type": "stream",
     "text": [
      "<class 'int'>\n",
      "<class 'float'>\n",
      "<class 'float'>\n",
      "<class 'str'>\n",
      "<class 'str'>\n"
     ]
    }
   ],
   "source": [
    "#Assigning values to variables\n",
    "\n",
    "a = 2\n",
    "b = 3.3\n",
    "c = 2/3 # division\n",
    "d = 'z'\n",
    "e = 'UMT'\n",
    "print(type(a))\n",
    "print(type(b))\n",
    "print(type(c))\n",
    "print(type(d))\n",
    "print(type(e))"
   ]
  },
  {
   "cell_type": "code",
   "execution_count": 3,
   "metadata": {},
   "outputs": [
    {
     "data": {
      "text/plain": [
       "0.6666666666666666"
      ]
     },
     "execution_count": 3,
     "metadata": {},
     "output_type": "execute_result"
    }
   ],
   "source": [
    "c"
   ]
  },
  {
   "cell_type": "code",
   "execution_count": 4,
   "metadata": {},
   "outputs": [
    {
     "name": "stdout",
     "output_type": "stream",
     "text": [
      "<class 'bool'>\n",
      "<class 'bool'>\n"
     ]
    }
   ],
   "source": [
    "f = False\n",
    "g = True\n",
    "print(type(f))\n",
    "print(type(g))"
   ]
  },
  {
   "cell_type": "code",
   "execution_count": 5,
   "metadata": {},
   "outputs": [
    {
     "data": {
      "text/plain": [
       "False"
      ]
     },
     "execution_count": 5,
     "metadata": {},
     "output_type": "execute_result"
    }
   ],
   "source": [
    "not g"
   ]
  },
  {
   "cell_type": "code",
   "execution_count": 6,
   "metadata": {
    "tags": []
   },
   "outputs": [
    {
     "data": {
      "text/plain": [
       "NoneType"
      ]
     },
     "execution_count": 6,
     "metadata": {},
     "output_type": "execute_result"
    }
   ],
   "source": [
    "type(None)"
   ]
  },
  {
   "cell_type": "code",
   "execution_count": 7,
   "metadata": {},
   "outputs": [
    {
     "data": {
      "text/plain": [
       "True"
      ]
     },
     "execution_count": 7,
     "metadata": {},
     "output_type": "execute_result"
    }
   ],
   "source": [
    "None in { None,2}"
   ]
  },
  {
   "cell_type": "markdown",
   "metadata": {},
   "source": [
    "### Integer remarks"
   ]
  },
  {
   "cell_type": "markdown",
   "metadata": {},
   "source": [
    "$19.3^{-3.2}$"
   ]
  },
  {
   "cell_type": "code",
   "execution_count": 8,
   "metadata": {},
   "outputs": [
    {
     "data": {
      "text/plain": [
       "7.695141518235658e-05"
      ]
     },
     "execution_count": 8,
     "metadata": {},
     "output_type": "execute_result"
    }
   ],
   "source": [
    "19.3 ** -3.2 #scientific notation"
   ]
  },
  {
   "cell_type": "code",
   "execution_count": 9,
   "metadata": {
    "scrolled": true
   },
   "outputs": [
    {
     "data": {
      "text/plain": [
       "3400.0"
      ]
     },
     "execution_count": 9,
     "metadata": {},
     "output_type": "execute_result"
    }
   ],
   "source": [
    "3.4e03 #multiply by 10 power of 3"
   ]
  },
  {
   "cell_type": "code",
   "execution_count": 10,
   "metadata": {},
   "outputs": [
    {
     "data": {
      "text/plain": [
       "0.34"
      ]
     },
     "execution_count": 10,
     "metadata": {},
     "output_type": "execute_result"
    }
   ],
   "source": [
    ".34"
   ]
  },
  {
   "cell_type": "code",
   "execution_count": 11,
   "metadata": {
    "scrolled": true
   },
   "outputs": [
    {
     "name": "stdout",
     "output_type": "stream",
     "text": [
      "6\n",
      "6\n"
     ]
    }
   ],
   "source": [
    "print(10+(-4))\n",
    "print(10+-4)"
   ]
  },
  {
   "cell_type": "code",
   "execution_count": 12,
   "metadata": {
    "scrolled": true
   },
   "outputs": [],
   "source": [
    "# 1/0 #meant to show error message"
   ]
  },
  {
   "cell_type": "code",
   "execution_count": 13,
   "metadata": {},
   "outputs": [],
   "source": [
    "import sys #loading an external modul called sys"
   ]
  },
  {
   "cell_type": "code",
   "execution_count": 14,
   "metadata": {},
   "outputs": [
    {
     "data": {
      "text/plain": [
       "9223372036854775807"
      ]
     },
     "execution_count": 14,
     "metadata": {},
     "output_type": "execute_result"
    }
   ],
   "source": [
    "sys.maxsize ##maximum "
   ]
  },
  {
   "cell_type": "code",
   "execution_count": 15,
   "metadata": {},
   "outputs": [
    {
     "name": "stdout",
     "output_type": "stream",
     "text": [
      "Help on built-in function divmod in module builtins:\n",
      "\n",
      "divmod(x, y, /)\n",
      "    Return the tuple (x//y, x%y).  Invariant: div*y + mod == x.\n",
      "\n"
     ]
    }
   ],
   "source": [
    "help(divmod)"
   ]
  },
  {
   "cell_type": "code",
   "execution_count": 16,
   "metadata": {},
   "outputs": [
    {
     "data": {
      "text/plain": [
       "(3, 1)"
      ]
     },
     "execution_count": 16,
     "metadata": {},
     "output_type": "execute_result"
    }
   ],
   "source": [
    "quotiont, remainder = divmod(10,3)\n",
    "quotiont, remainder"
   ]
  },
  {
   "cell_type": "markdown",
   "metadata": {},
   "source": [
    "### Rational Numbers"
   ]
  },
  {
   "cell_type": "code",
   "execution_count": 17,
   "metadata": {},
   "outputs": [],
   "source": [
    "from fractions import Fraction\n",
    "# from module import function"
   ]
  },
  {
   "cell_type": "code",
   "execution_count": 18,
   "metadata": {},
   "outputs": [
    {
     "name": "stdout",
     "output_type": "stream",
     "text": [
      "4/5\n",
      "2/5\n"
     ]
    }
   ],
   "source": [
    "p1=Fraction(1,5)\n",
    "p2=Fraction(3,5)\n",
    "print(p1+p2)\n",
    "print(p2-p1)"
   ]
  },
  {
   "cell_type": "code",
   "execution_count": 19,
   "metadata": {},
   "outputs": [
    {
     "data": {
      "text/plain": [
       "Fraction(1, 5)"
      ]
     },
     "execution_count": 19,
     "metadata": {},
     "output_type": "execute_result"
    }
   ],
   "source": [
    "p1"
   ]
  },
  {
   "cell_type": "code",
   "execution_count": 20,
   "metadata": {},
   "outputs": [
    {
     "data": {
      "text/plain": [
       "1"
      ]
     },
     "execution_count": 20,
     "metadata": {},
     "output_type": "execute_result"
    }
   ],
   "source": [
    "p1.numerator"
   ]
  },
  {
   "cell_type": "code",
   "execution_count": 21,
   "metadata": {
    "scrolled": true
   },
   "outputs": [
    {
     "data": {
      "text/plain": [
       "{1, 5}"
      ]
     },
     "execution_count": 21,
     "metadata": {},
     "output_type": "execute_result"
    }
   ],
   "source": [
    "{p1.numerator, p1.denominator} # seperating them using builtin function in \"fractions\""
   ]
  },
  {
   "cell_type": "code",
   "execution_count": 22,
   "metadata": {},
   "outputs": [
    {
     "name": "stdout",
     "output_type": "stream",
     "text": [
      "21/10\n"
     ]
    }
   ],
   "source": [
    "p3=Fraction('2.1')\n",
    "print(p3)"
   ]
  },
  {
   "cell_type": "markdown",
   "metadata": {},
   "source": [
    "## Irrational numbers\n",
    "examples include $\\sqrt{2}$ and $\\pi$. We usually express in the form of flaot numbers for computation."
   ]
  },
  {
   "cell_type": "code",
   "execution_count": 23,
   "metadata": {},
   "outputs": [
    {
     "name": "stdout",
     "output_type": "stream",
     "text": [
      "1.4142135623730951\n",
      "1.4142135623730951\n",
      "3.141592653589793\n"
     ]
    }
   ],
   "source": [
    "import math as m # math module\n",
    "print(m.pow(2,1/2))\n",
    "print(m.sqrt(2))\n",
    "print(m.pi) "
   ]
  },
  {
   "cell_type": "markdown",
   "metadata": {},
   "source": [
    "### Casting: to specify a type on to a variable."
   ]
  },
  {
   "cell_type": "code",
   "execution_count": 24,
   "metadata": {},
   "outputs": [
    {
     "data": {
      "text/plain": [
       "int"
      ]
     },
     "execution_count": 24,
     "metadata": {},
     "output_type": "execute_result"
    }
   ],
   "source": [
    "y = 7\n",
    "type(y)"
   ]
  },
  {
   "cell_type": "code",
   "execution_count": 25,
   "metadata": {},
   "outputs": [
    {
     "data": {
      "text/plain": [
       "(7, 7.0, (7+0j), '0o7', '0x7', '7')"
      ]
     },
     "execution_count": 25,
     "metadata": {},
     "output_type": "execute_result"
    }
   ],
   "source": [
    "y = 7\n",
    "int(y), float(y), complex(y), oct(y), hex(y), str(y) # the aoutput is tuple of various types of y"
   ]
  },
  {
   "cell_type": "markdown",
   "metadata": {},
   "source": [
    "# Complex Numbers"
   ]
  },
  {
   "cell_type": "code",
   "execution_count": 26,
   "metadata": {},
   "outputs": [
    {
     "data": {
      "text/plain": [
       "(2+3j)"
      ]
     },
     "execution_count": 26,
     "metadata": {},
     "output_type": "execute_result"
    }
   ],
   "source": [
    "complex(2,3)"
   ]
  },
  {
   "cell_type": "code",
   "execution_count": 27,
   "metadata": {},
   "outputs": [
    {
     "name": "stdout",
     "output_type": "stream",
     "text": [
      "<class 'complex'>\n"
     ]
    }
   ],
   "source": [
    "h = 1+2j;\n",
    "print(type(h))"
   ]
  },
  {
   "cell_type": "code",
   "execution_count": 28,
   "metadata": {
    "scrolled": true
   },
   "outputs": [
    {
     "data": {
      "text/plain": [
       "(1.0, 2.0)"
      ]
     },
     "execution_count": 28,
     "metadata": {},
     "output_type": "execute_result"
    }
   ],
   "source": [
    "h.real, h.imag # printing separately using built in function"
   ]
  },
  {
   "cell_type": "markdown",
   "metadata": {},
   "source": [
    " run `?complex.conjugate` to read the documantation"
   ]
  },
  {
   "cell_type": "code",
   "execution_count": 30,
   "metadata": {},
   "outputs": [
    {
     "name": "stdout",
     "output_type": "stream",
     "text": [
      "(1-2j)\n"
     ]
    }
   ],
   "source": [
    "hConj=h.conjugate()\n",
    "print(hConj)"
   ]
  },
  {
   "cell_type": "markdown",
   "metadata": {},
   "source": [
    "# Expressions, assignment statements, equalities\n",
    "## See [w3schools](https://www.w3schools.com/python/python_operators.asp) for details.\n",
    "### Basic arithmetic operators "
   ]
  },
  {
   "cell_type": "code",
   "execution_count": 31,
   "metadata": {},
   "outputs": [
    {
     "name": "stdout",
     "output_type": "stream",
     "text": [
      "10\n",
      "-1\n",
      "12\n",
      "1.3333333333333333\n",
      "1\n",
      "0\n",
      "32\n",
      "16\n"
     ]
    }
   ],
   "source": [
    "print(3+7)\n",
    "print(3-4)\n",
    "print(3*4)\n",
    "print(4/3) # answer convert to float even though the inputs are integers\n",
    "print(4//3) #integer division\n",
    "print(9%3) # remainder\n",
    "print(2**5) #exponentiation\n",
    "print(pow(2,4)) #using power function which is in math module"
   ]
  },
  {
   "cell_type": "code",
   "execution_count": 32,
   "metadata": {},
   "outputs": [],
   "source": [
    "a=3*3;  # semi-colon to supress output"
   ]
  },
  {
   "cell_type": "code",
   "execution_count": 33,
   "metadata": {},
   "outputs": [
    {
     "data": {
      "text/plain": [
       "9"
      ]
     },
     "execution_count": 33,
     "metadata": {},
     "output_type": "execute_result"
    }
   ],
   "source": [
    "a"
   ]
  },
  {
   "cell_type": "markdown",
   "metadata": {},
   "source": [
    "### Assigment and Expression"
   ]
  },
  {
   "cell_type": "code",
   "execution_count": 34,
   "metadata": {},
   "outputs": [
    {
     "name": "stdout",
     "output_type": "stream",
     "text": [
      "1650\n"
     ]
    }
   ],
   "source": [
    "mass = 55 # kg\n",
    "acceleration = 30 # m/s^2\n",
    "\n",
    "force = mass * acceleration # Newton =kgms^-2\n",
    "print (force)"
   ]
  },
  {
   "cell_type": "markdown",
   "metadata": {},
   "source": [
    "Writing the following functions (explicitly)\n",
    "\n",
    "$f1(a,x) = a x^2$"
   ]
  },
  {
   "cell_type": "code",
   "execution_count": 35,
   "metadata": {},
   "outputs": [
    {
     "name": "stdout",
     "output_type": "stream",
     "text": [
      "9\n"
     ]
    }
   ],
   "source": [
    "a = 1\n",
    "x = 3\n",
    "f1 = a * (x**2)\n",
    "print(f1)"
   ]
  },
  {
   "cell_type": "code",
   "execution_count": 36,
   "metadata": {},
   "outputs": [
    {
     "name": "stdout",
     "output_type": "stream",
     "text": [
      "9\n"
     ]
    }
   ],
   "source": [
    "(a,x) = (1,3) # assigning multiple variables in a line\n",
    "print( a * (x**2))"
   ]
  },
  {
   "cell_type": "code",
   "execution_count": 37,
   "metadata": {},
   "outputs": [
    {
     "name": "stdout",
     "output_type": "stream",
     "text": [
      "4\n"
     ]
    }
   ],
   "source": [
    "a, x = 1, 2 # assigning multiple variables in a line\n",
    "print( a * (x**2))"
   ]
  },
  {
   "cell_type": "code",
   "execution_count": 38,
   "metadata": {},
   "outputs": [
    {
     "name": "stdout",
     "output_type": "stream",
     "text": [
      "8\n"
     ]
    }
   ],
   "source": [
    "a = x = 2 # assigning multiple variables WITH ONE VALUE\n",
    "print( a * (x**2))"
   ]
  },
  {
   "cell_type": "markdown",
   "metadata": {},
   "source": [
    "$f2(x,y,z) = x^2 + y^3 + \\sqrt{z}$"
   ]
  },
  {
   "cell_type": "code",
   "execution_count": 39,
   "metadata": {},
   "outputs": [
    {
     "name": "stdout",
     "output_type": "stream",
     "text": [
      "30.0\n"
     ]
    }
   ],
   "source": [
    "x= 1\n",
    "y = 3\n",
    "z = 4\n",
    "f2 = x**2 + (y**3) + m.sqrt(z)\n",
    "print(f2)"
   ]
  },
  {
   "cell_type": "markdown",
   "metadata": {},
   "source": [
    "### Equalities: Comparison"
   ]
  },
  {
   "cell_type": "code",
   "execution_count": 40,
   "metadata": {},
   "outputs": [
    {
     "data": {
      "text/plain": [
       "(False, True, True, True, True, True)"
      ]
     },
     "execution_count": 40,
     "metadata": {},
     "output_type": "execute_result"
    }
   ],
   "source": [
    "5 < 2, 5 > 2, 6 >= 3*2, 6 == 3*2, 7 >= 3*2, 7 != 3*2,"
   ]
  },
  {
   "cell_type": "code",
   "execution_count": 41,
   "metadata": {},
   "outputs": [
    {
     "data": {
      "text/plain": [
       "(True, True)"
      ]
     },
     "execution_count": 41,
     "metadata": {},
     "output_type": "execute_result"
    }
   ],
   "source": [
    "3 in {1,3}, 5 not in {2,4,6}"
   ]
  },
  {
   "cell_type": "markdown",
   "metadata": {},
   "source": [
    "# Control Flow Statements"
   ]
  },
  {
   "cell_type": "code",
   "execution_count": 42,
   "metadata": {},
   "outputs": [
    {
     "data": {
      "text/plain": [
       "True"
      ]
     },
     "execution_count": 42,
     "metadata": {},
     "output_type": "execute_result"
    }
   ],
   "source": [
    " 2 in [1,2,3] # checking whether an element is in the list"
   ]
  },
  {
   "cell_type": "markdown",
   "metadata": {},
   "source": [
    "### If statement"
   ]
  },
  {
   "cell_type": "code",
   "execution_count": 43,
   "metadata": {},
   "outputs": [
    {
     "name": "stdout",
     "output_type": "stream",
     "text": [
      "yes, 2 is in the list!\n"
     ]
    }
   ],
   "source": [
    "if 2 in [1,2,3]: print (\"yes, 2 is in the list!\")"
   ]
  },
  {
   "cell_type": "code",
   "execution_count": 44,
   "metadata": {},
   "outputs": [
    {
     "name": "stdout",
     "output_type": "stream",
     "text": [
      "yes, 2 is in the list!\n"
     ]
    }
   ],
   "source": [
    "if 2 in [1,2,3]:\n",
    "    print (\"yes, 2 is in the list!\")\n",
    "    "
   ]
  },
  {
   "cell_type": "code",
   "execution_count": 45,
   "metadata": {},
   "outputs": [],
   "source": [
    "a,b = 0,1\n",
    "\n",
    "if a: \n",
    "    print(str(a) + \" is true\")"
   ]
  },
  {
   "cell_type": "code",
   "execution_count": 46,
   "metadata": {},
   "outputs": [
    {
     "name": "stdout",
     "output_type": "stream",
     "text": [
      "1 is true\n"
     ]
    }
   ],
   "source": [
    "if b: print(str(b) + \" is true\")"
   ]
  },
  {
   "cell_type": "code",
   "execution_count": 47,
   "metadata": {},
   "outputs": [
    {
     "data": {
      "text/plain": [
       "False"
      ]
     },
     "execution_count": 47,
     "metadata": {},
     "output_type": "execute_result"
    }
   ],
   "source": [
    "not b"
   ]
  },
  {
   "cell_type": "code",
   "execution_count": 48,
   "metadata": {},
   "outputs": [
    {
     "name": "stdout",
     "output_type": "stream",
     "text": [
      "c is an odd number\n"
     ]
    }
   ],
   "source": [
    "c = 5 # choose an odd number to print\n",
    "if c % 2 != 0:\n",
    "    print(\"c is an odd number\")"
   ]
  },
  {
   "cell_type": "markdown",
   "metadata": {},
   "source": [
    "###  if-else"
   ]
  },
  {
   "cell_type": "code",
   "execution_count": 49,
   "metadata": {},
   "outputs": [
    {
     "name": "stdout",
     "output_type": "stream",
     "text": [
      "c is an even number\n"
     ]
    }
   ],
   "source": [
    "c = 4 # choose an even number to print else statement\n",
    "if c % 2 != 0:\n",
    "    print(\"c is an odd number\")\n",
    "else:\n",
    "    print(\"c is an even number\")"
   ]
  },
  {
   "cell_type": "markdown",
   "metadata": {
    "tags": []
   },
   "source": [
    "### if-elif-else"
   ]
  },
  {
   "cell_type": "code",
   "execution_count": 50,
   "metadata": {},
   "outputs": [
    {
     "name": "stdout",
     "output_type": "stream",
     "text": [
      "Average\n"
     ]
    }
   ],
   "source": [
    "marks = 60 # choose an even number to print else statement\n",
    "\n",
    "if marks > 70:\n",
    "    print(\"Good\")\n",
    "    \n",
    "elif marks <= 69 and marks >= 40:\n",
    "    print(\"Average\")\n",
    "    \n",
    "else:\n",
    "    print(\"bad\")"
   ]
  },
  {
   "cell_type": "markdown",
   "metadata": {},
   "source": [
    "### while loop"
   ]
  },
  {
   "cell_type": "code",
   "execution_count": 51,
   "metadata": {},
   "outputs": [
    {
     "name": "stdout",
     "output_type": "stream",
     "text": [
      "120\n"
     ]
    }
   ],
   "source": [
    "n = 5\n",
    "factorial = 1\n",
    "\n",
    "while n > 0:\n",
    "    \n",
    "    factorial = factorial * n\n",
    "    n = n - 1\n",
    "    \n",
    "print(factorial)"
   ]
  },
  {
   "cell_type": "code",
   "execution_count": 52,
   "metadata": {},
   "outputs": [
    {
     "name": "stdout",
     "output_type": "stream",
     "text": [
      "1 : 1\n",
      "2 : 4\n",
      "3 : 9\n",
      "4 : 16\n",
      "5 : 25\n",
      "6 : 36\n",
      "7 : 49\n",
      "8 : 64\n",
      "9 : 81\n",
      "10 : 100\n",
      "11 : 121\n",
      "12 : 144\n"
     ]
    }
   ],
   "source": [
    "n = 1\n",
    "\n",
    "while n <= 12:\n",
    "    print(n,\":\",n*n)\n",
    "    n = n + 1"
   ]
  },
  {
   "cell_type": "markdown",
   "metadata": {},
   "source": [
    "### while-else loop"
   ]
  },
  {
   "cell_type": "code",
   "execution_count": 53,
   "metadata": {},
   "outputs": [
    {
     "name": "stdout",
     "output_type": "stream",
     "text": [
      "2 : 4\n",
      "4 : 16\n",
      "6 : 36\n",
      "8 : 64\n",
      "10 : 100\n",
      "12 : 144\n",
      "Done! I am not printing odd numbers!\n"
     ]
    }
   ],
   "source": [
    "n = 1\n",
    "\n",
    "while n <= 12:\n",
    "    if n % 2 == 0:\n",
    "        print(n,\":\",n*n)\n",
    "        \n",
    "    n = n + 1\n",
    "    \n",
    "else:\n",
    "    print(\"Done! I am not printing odd numbers!\")\n"
   ]
  },
  {
   "cell_type": "markdown",
   "metadata": {},
   "source": [
    "### for loop"
   ]
  },
  {
   "cell_type": "code",
   "execution_count": 3,
   "metadata": {},
   "outputs": [
    {
     "name": "stdout",
     "output_type": "stream",
     "text": [
      "2\n",
      "3\n",
      "5\n",
      "14\n"
     ]
    }
   ],
   "source": [
    "mylist = {2,3,14,5}\n",
    "\n",
    "for element in mylist: \n",
    "    print (element)"
   ]
  },
  {
   "cell_type": "code",
   "execution_count": 56,
   "metadata": {},
   "outputs": [
    {
     "name": "stdout",
     "output_type": "stream",
     "text": [
      "24\n"
     ]
    }
   ],
   "source": [
    "mylist = {2,3,14,5}\n",
    "total=0\n",
    "\n",
    "for element in mylist: \n",
    "    total = total + element\n",
    "\n",
    "print(total)"
   ]
  },
  {
   "cell_type": "markdown",
   "metadata": {},
   "source": [
    "### for-else loop"
   ]
  },
  {
   "cell_type": "code",
   "execution_count": 57,
   "metadata": {},
   "outputs": [
    {
     "name": "stdout",
     "output_type": "stream",
     "text": [
      "2\n",
      "14\n",
      "Done! not interested with odd numbers\n"
     ]
    }
   ],
   "source": [
    "mylist = {2,3,14,5}\n",
    "\n",
    "for x in mylist:\n",
    "    if x % 2 == 0:\n",
    "        print (x)\n",
    "else:\n",
    "    print(\"Done! not interested with odd numbers\")"
   ]
  },
  {
   "cell_type": "markdown",
   "metadata": {},
   "source": [
    "### Range"
   ]
  },
  {
   "cell_type": "code",
   "execution_count": 58,
   "metadata": {},
   "outputs": [
    {
     "name": "stdout",
     "output_type": "stream",
     "text": [
      "range(0, 7)\n"
     ]
    }
   ],
   "source": [
    "a = range(0,7)\n",
    "print(a)"
   ]
  },
  {
   "cell_type": "code",
   "execution_count": 59,
   "metadata": {},
   "outputs": [
    {
     "name": "stdout",
     "output_type": "stream",
     "text": [
      "0\n",
      "1\n",
      "2\n",
      "3\n",
      "4\n",
      "5\n",
      "6\n"
     ]
    }
   ],
   "source": [
    "for i in range(0,7):\n",
    "    print(i)"
   ]
  },
  {
   "cell_type": "code",
   "execution_count": 60,
   "metadata": {},
   "outputs": [
    {
     "name": "stdout",
     "output_type": "stream",
     "text": [
      "0\n",
      "5\n",
      "10\n",
      "15\n"
     ]
    }
   ],
   "source": [
    "for i in range(0,20,5): # range(start,stop, stepsize)\n",
    "    print(i)"
   ]
  },
  {
   "cell_type": "markdown",
   "metadata": {},
   "source": [
    "### skiping and exiting a part of the loop"
   ]
  },
  {
   "cell_type": "code",
   "execution_count": 61,
   "metadata": {},
   "outputs": [
    {
     "name": "stdout",
     "output_type": "stream",
     "text": [
      "2\n",
      "14\n"
     ]
    }
   ],
   "source": [
    "mylist = {2,3,14,5}\n",
    "\n",
    "for x in mylist:\n",
    "    if x % 2 == 0:\n",
    "        print (x)\n",
    "    else:\n",
    "        continue # skipping odd numbers"
   ]
  },
  {
   "cell_type": "code",
   "execution_count": 62,
   "metadata": {},
   "outputs": [
    {
     "name": "stdout",
     "output_type": "stream",
     "text": [
      "2\n"
     ]
    }
   ],
   "source": [
    "mylist = {2,3,14,5}\n",
    "\n",
    "for x in mylist:\n",
    "    if x % 2 == 0:\n",
    "        print (x)\n",
    "    else:\n",
    "        break #breaking when element 3 is in the loop"
   ]
  },
  {
   "cell_type": "markdown",
   "metadata": {},
   "source": [
    "# Functions"
   ]
  },
  {
   "cell_type": "code",
   "execution_count": 7,
   "metadata": {},
   "outputs": [
    {
     "name": "stdin",
     "output_type": "stream",
     "text": [
      "Enter your height:  181\n"
     ]
    }
   ],
   "source": [
    "height = str(input('Enter your height: '))"
   ]
  },
  {
   "cell_type": "code",
   "execution_count": 8,
   "metadata": {},
   "outputs": [
    {
     "data": {
      "text/plain": [
       "str"
      ]
     },
     "execution_count": 8,
     "metadata": {},
     "output_type": "execute_result"
    }
   ],
   "source": [
    "type(height)"
   ]
  },
  {
   "cell_type": "markdown",
   "metadata": {},
   "source": [
    "## Mathematical Functions"
   ]
  },
  {
   "cell_type": "code",
   "execution_count": 65,
   "metadata": {},
   "outputs": [
    {
     "data": {
      "text/plain": [
       "(1, 22.3, 3)"
      ]
     },
     "execution_count": 65,
     "metadata": {},
     "output_type": "execute_result"
    }
   ],
   "source": [
    "abs(-1), max(3,4,22.3), min(3,4,22.3)"
   ]
  },
  {
   "cell_type": "code",
   "execution_count": 66,
   "metadata": {},
   "outputs": [
    {
     "data": {
      "text/plain": [
       "1j"
      ]
     },
     "execution_count": 66,
     "metadata": {},
     "output_type": "execute_result"
    }
   ],
   "source": [
    "import cmath\n",
    "cmath.sqrt(-1)"
   ]
  },
  {
   "cell_type": "code",
   "execution_count": 11,
   "metadata": {},
   "outputs": [
    {
     "data": {
      "text/plain": [
       "(6, 5, 2.718281828459045, 1.4142135623730951)"
      ]
     },
     "execution_count": 11,
     "metadata": {},
     "output_type": "execute_result"
    }
   ],
   "source": [
    "import math\n",
    "math.ceil(5.3), math.floor((5.3)), math.exp(1), math.sqrt(2)"
   ]
  },
  {
   "cell_type": "code",
   "execution_count": 13,
   "metadata": {},
   "outputs": [
    {
     "data": {
      "text/plain": [
       "(0.8509263867977946, 8, -1.2217129431411347)"
      ]
     },
     "execution_count": 13,
     "metadata": {},
     "output_type": "execute_result"
    }
   ],
   "source": [
    "import random as rd\n",
    "rd.random(), rd.randrange(6,10), rd.uniform(-2,0)"
   ]
  },
  {
   "cell_type": "markdown",
   "metadata": {},
   "source": [
    "## User defined functions"
   ]
  },
  {
   "cell_type": "markdown",
   "metadata": {},
   "source": [
    "### Function returning no value"
   ]
  },
  {
   "cell_type": "code",
   "execution_count": 18,
   "metadata": {},
   "outputs": [],
   "source": [
    "def message(): \n",
    "    print(\"Selamat Datang Ke UMT\")"
   ]
  },
  {
   "cell_type": "code",
   "execution_count": 15,
   "metadata": {},
   "outputs": [
    {
     "name": "stdout",
     "output_type": "stream",
     "text": [
      "Selamat Datang Ke UMT\n"
     ]
    }
   ],
   "source": [
    "message()"
   ]
  },
  {
   "cell_type": "code",
   "execution_count": 19,
   "metadata": {
    "tags": []
   },
   "outputs": [
    {
     "name": "stdout",
     "output_type": "stream",
     "text": [
      "Help on function message in module __main__:\n",
      "\n",
      "message()\n",
      "\n",
      "None\n"
     ]
    }
   ],
   "source": [
    "print(help(message))"
   ]
  },
  {
   "cell_type": "code",
   "execution_count": 20,
   "metadata": {},
   "outputs": [],
   "source": [
    "def QEven(num):\n",
    "    '''\n",
    "    Query on even number:\n",
    "    PRINTS a boolean output for an as integer\": true if even number, otherwise false'''\n",
    "    print(num % 2 == 0)"
   ]
  },
  {
   "cell_type": "code",
   "execution_count": 72,
   "metadata": {},
   "outputs": [
    {
     "name": "stdout",
     "output_type": "stream",
     "text": [
      "Help on function QEven in module __main__:\n",
      "\n",
      "QEven(num)\n",
      "    Query on even number:\n",
      "    PRINTS a boolean output for an as integer\": true if even number, otherwise false\n",
      "\n"
     ]
    }
   ],
   "source": [
    "help(QEven)"
   ]
  },
  {
   "cell_type": "code",
   "execution_count": 21,
   "metadata": {},
   "outputs": [
    {
     "name": "stdout",
     "output_type": "stream",
     "text": [
      "False\n",
      "True\n",
      "False\n",
      "None\n"
     ]
    }
   ],
   "source": [
    "a = QEven(3)\n",
    "b = QEven(40)\n",
    "c = QEven(3.2)\n",
    "\n",
    "print(a)"
   ]
  },
  {
   "cell_type": "markdown",
   "metadata": {},
   "source": [
    "### Function returning value(s)"
   ]
  },
  {
   "cell_type": "code",
   "execution_count": 74,
   "metadata": {},
   "outputs": [],
   "source": [
    "def QBEven(num):\n",
    "    '''\n",
    "    Query on even number:\n",
    "    RETURNS a boolean output for an as integer\": true if even number, otherwise false'''\n",
    "    return num % 2 == 0"
   ]
  },
  {
   "cell_type": "code",
   "execution_count": 75,
   "metadata": {},
   "outputs": [
    {
     "name": "stdout",
     "output_type": "stream",
     "text": [
      "True\n"
     ]
    }
   ],
   "source": [
    "a = QBEven(6);\n",
    "\n",
    "print(a)"
   ]
  },
  {
   "cell_type": "code",
   "execution_count": 76,
   "metadata": {},
   "outputs": [],
   "source": [
    "def SplitReal(num):\n",
    "    nominator = int(num)\n",
    "    denominator = num - nominator\n",
    "    return int(nominator), float(denominator)"
   ]
  },
  {
   "cell_type": "code",
   "execution_count": 77,
   "metadata": {},
   "outputs": [
    {
     "name": "stdout",
     "output_type": "stream",
     "text": [
      "Integer: 3\n",
      "Real: 0.20000000000000018\n"
     ]
    }
   ],
   "source": [
    "a, b  = SplitReal(3.2)\n",
    "print(\"Integer:\",a)\n",
    "print(\"Real:\",b)"
   ]
  },
  {
   "cell_type": "markdown",
   "metadata": {},
   "source": [
    "### Representing mathematical function with def: \n",
    "$f2(x,y,z) = x^2 + y^3 + \\sqrt{z}$"
   ]
  },
  {
   "cell_type": "code",
   "execution_count": 24,
   "metadata": {},
   "outputs": [
    {
     "name": "stdout",
     "output_type": "stream",
     "text": [
      "33.0\n",
      "135.54919333848298\n"
     ]
    }
   ],
   "source": [
    "def f2(x,y,z):\n",
    "    from math import sqrt\n",
    "    return x**2 + y**3 + sqrt(z)\n",
    "\n",
    "print(f2(2,3,4))\n",
    "print(f2(3,5,2.4))"
   ]
  },
  {
   "cell_type": "markdown",
   "metadata": {},
   "source": [
    "## Function with Global Variable"
   ]
  },
  {
   "cell_type": "code",
   "execution_count": 79,
   "metadata": {},
   "outputs": [],
   "source": [
    "def Add1(x,y,z):\n",
    "    global sum2 \n",
    "    sum2 = x + y\n",
    "    totalsum = sum2 + z\n",
    "    return totalsum"
   ]
  },
  {
   "cell_type": "code",
   "execution_count": 80,
   "metadata": {},
   "outputs": [
    {
     "name": "stdout",
     "output_type": "stream",
     "text": [
      "12\n",
      "6\n"
     ]
    }
   ],
   "source": [
    "print(Add1(2,4,6))\n",
    "print(sum2)"
   ]
  },
  {
   "cell_type": "code",
   "execution_count": 25,
   "metadata": {},
   "outputs": [],
   "source": [
    "def Add2(x,y,z):\n",
    "    sum3 = x + y\n",
    "    sum = sum3 + z\n",
    "    return sum"
   ]
  },
  {
   "cell_type": "code",
   "execution_count": 27,
   "metadata": {},
   "outputs": [
    {
     "name": "stdout",
     "output_type": "stream",
     "text": [
      "12\n"
     ]
    }
   ],
   "source": [
    "print(Add2(2,4,6))\n",
    "#print(sum3)"
   ]
  },
  {
   "cell_type": "markdown",
   "metadata": {},
   "source": [
    "### Recursive Function"
   ]
  },
  {
   "cell_type": "code",
   "execution_count": 83,
   "metadata": {},
   "outputs": [],
   "source": [
    "def Factorial(x):\n",
    "    if x == 0:\n",
    "        return 1\n",
    "    else:\n",
    "        return (x) * Factorial(x-1)"
   ]
  },
  {
   "cell_type": "code",
   "execution_count": 84,
   "metadata": {},
   "outputs": [
    {
     "data": {
      "text/plain": [
       "120"
      ]
     },
     "execution_count": 84,
     "metadata": {},
     "output_type": "execute_result"
    }
   ],
   "source": [
    "Factorial(5)"
   ]
  },
  {
   "cell_type": "markdown",
   "metadata": {},
   "source": [
    "### Lambda Expression: simple function definition"
   ]
  },
  {
   "cell_type": "code",
   "execution_count": 85,
   "metadata": {},
   "outputs": [],
   "source": [
    "def Even1(num):return num % 2 == 0"
   ]
  },
  {
   "cell_type": "code",
   "execution_count": 86,
   "metadata": {},
   "outputs": [],
   "source": [
    "Even2 = lambda num:num % 2 == 0"
   ]
  },
  {
   "cell_type": "code",
   "execution_count": 87,
   "metadata": {
    "tags": []
   },
   "outputs": [
    {
     "data": {
      "text/plain": [
       "(False, False)"
      ]
     },
     "execution_count": 87,
     "metadata": {},
     "output_type": "execute_result"
    }
   ],
   "source": [
    "Even1(5), Even2(5)"
   ]
  },
  {
   "cell_type": "markdown",
   "metadata": {},
   "source": [
    "### Functions with special arguments: *args and **kwargs"
   ]
  },
  {
   "cell_type": "markdown",
   "metadata": {},
   "source": [
    "In Python, we can pass a variable number of arguments to a function using special symbols. There are two special symbols:\n",
    " - The special syntax `*args` in function definitions in python is used to pass a variable number of arguments to a function. It is used to pass a non-key worded, variable-length argument list. \n",
    " - The special syntax`kwargs` in function definitions in python is used to pass a keyworded, variable-length argument list. We use the name kwargs with the double star. The reason is because the double star allows us to pass through keyword arguments (and any number of them)."
   ]
  },
  {
   "cell_type": "code",
   "execution_count": 2,
   "metadata": {},
   "outputs": [
    {
     "name": "stdout",
     "output_type": "stream",
     "text": [
      "argument 1 : Hi\n",
      "arguments in *argv : Welcome\n",
      "arguments in *argv : to\n",
      "arguments in *argv : UMT\n"
     ]
    }
   ],
   "source": [
    "def Fun1(ag1, *argv):\n",
    "    print (\"argument 1 :\", ag1)\n",
    "    for ag in argv:\n",
    "        print(\"arguments in *argv :\", ag)\n",
    " \n",
    "Fun1('Hi', 'Welcome', 'to', 'UMT')"
   ]
  },
  {
   "cell_type": "code",
   "execution_count": 6,
   "metadata": {},
   "outputs": [
    {
     "name": "stdout",
     "output_type": "stream",
     "text": [
      "first == Welcome\n",
      "mid == to\n",
      "last == UMT\n"
     ]
    }
   ],
   "source": [
    "def Fun2(ag1, **kwargs):\n",
    "    for key, value in kwargs.items():\n",
    "        print (\"%s == %s\" %(key, value))\n",
    " \n",
    "\n",
    "Fun2(\"Hi\", first ='Welcome', mid ='to', last='UMT')  "
   ]
  },
  {
   "cell_type": "markdown",
   "metadata": {},
   "source": [
    "# Errors, rounding, overflow\n",
    "\n",
    "Read [Floating point aritmetic](https://docs.python.org/3/tutorial/floatingpoint.html) for more details.\n"
   ]
  },
  {
   "cell_type": "code",
   "execution_count": 30,
   "metadata": {},
   "outputs": [
    {
     "name": "stdout",
     "output_type": "stream",
     "text": [
      "3.141592653589793115997963468544185161590576171875\n",
      "3.142\n",
      "3.141592653589793\n"
     ]
    }
   ],
   "source": [
    "import math as m\n",
    "print(format(m.pi, '.50g')) # give 12 significant digits\n",
    "print(format(m.pi, '.3f'))  # give 2 digits after the point\n",
    "print(repr(m.pi))"
   ]
  },
  {
   "cell_type": "markdown",
   "metadata": {
    "tags": []
   },
   "source": [
    ">> the order is no more than 1 part in $2^{53}$ per operation on most machines, you may go up to $2^{56}$ "
   ]
  },
  {
   "cell_type": "markdown",
   "metadata": {},
   "source": [
    "$0.1 \\approx \\frac{3602879701896397} {2^{55}}$"
   ]
  },
  {
   "cell_type": "code",
   "execution_count": 116,
   "metadata": {},
   "outputs": [
    {
     "data": {
      "text/plain": [
       "0.1"
      ]
     },
     "execution_count": 116,
     "metadata": {},
     "output_type": "execute_result"
    }
   ],
   "source": [
    "3602879701896397 / (2 ** 55.) #the actual stored value is the nearest representable binary fraction."
   ]
  },
  {
   "cell_type": "code",
   "execution_count": 129,
   "metadata": {},
   "outputs": [
    {
     "name": "stdout",
     "output_type": "stream",
     "text": [
      "0.1000000000000000055511151231257827021181583404541015625\n"
     ]
    }
   ],
   "source": [
    "print(format(1/10, '.56g'))"
   ]
  },
  {
   "cell_type": "code",
   "execution_count": 130,
   "metadata": {},
   "outputs": [
    {
     "data": {
      "text/plain": [
       "True"
      ]
     },
     "execution_count": 130,
     "metadata": {},
     "output_type": "execute_result"
    }
   ],
   "source": [
    "0.1 == 0.1000000000000000055511151231257827021181583404541015625"
   ]
  },
  {
   "cell_type": "code",
   "execution_count": 146,
   "metadata": {},
   "outputs": [
    {
     "name": "stdout",
     "output_type": "stream",
     "text": [
      "0.200000000000000011102230246251565404236316680908203125\n"
     ]
    }
   ],
   "source": [
    "print(format(0.1 + 0.1, '.56g'))"
   ]
  },
  {
   "cell_type": "code",
   "execution_count": 147,
   "metadata": {},
   "outputs": [
    {
     "data": {
      "text/plain": [
       "True"
      ]
     },
     "execution_count": 147,
     "metadata": {},
     "output_type": "execute_result"
    }
   ],
   "source": [
    "0.2==0.200000000000000011102230246251565404236316680908203125"
   ]
  },
  {
   "cell_type": "code",
   "execution_count": 145,
   "metadata": {},
   "outputs": [
    {
     "name": "stdout",
     "output_type": "stream",
     "text": [
      "0.3000000000000000444089209850062616169452667236328125\n"
     ]
    }
   ],
   "source": [
    "print(format(0.1 + 0.1 + 0.1, '.56g'))"
   ]
  },
  {
   "cell_type": "code",
   "execution_count": 144,
   "metadata": {},
   "outputs": [
    {
     "data": {
      "text/plain": [
       "False"
      ]
     },
     "execution_count": 144,
     "metadata": {},
     "output_type": "execute_result"
    }
   ],
   "source": [
    "0.3==0.3000000000000000444089209850062616169452667236328125"
   ]
  },
  {
   "cell_type": "code",
   "execution_count": 97,
   "metadata": {},
   "outputs": [
    {
     "data": {
      "text/plain": [
       "False"
      ]
     },
     "execution_count": 97,
     "metadata": {},
     "output_type": "execute_result"
    }
   ],
   "source": [
    "0.1 + 0.1 + 0.1 == 0.3"
   ]
  },
  {
   "cell_type": "code",
   "execution_count": 151,
   "metadata": {
    "tags": []
   },
   "outputs": [
    {
     "data": {
      "text/plain": [
       "True"
      ]
     },
     "execution_count": 151,
     "metadata": {},
     "output_type": "execute_result"
    }
   ],
   "source": [
    "from fractions import Fraction\n",
    "Fraction(1/10) == 0.1000000000000000055511151231257827021181583404541015625"
   ]
  },
  {
   "cell_type": "code",
   "execution_count": 153,
   "metadata": {},
   "outputs": [
    {
     "data": {
      "text/plain": [
       "Fraction(3602879701896397, 36028797018963968)"
      ]
     },
     "execution_count": 153,
     "metadata": {},
     "output_type": "execute_result"
    }
   ],
   "source": [
    "Fraction.from_float(0.1)"
   ]
  },
  {
   "cell_type": "code",
   "execution_count": 154,
   "metadata": {},
   "outputs": [
    {
     "data": {
      "text/plain": [
       "False"
      ]
     },
     "execution_count": 154,
     "metadata": {},
     "output_type": "execute_result"
    }
   ],
   "source": [
    "Fraction.from_float(0.1) + Fraction.from_float(0.1) + Fraction.from_float(0.1) == Fraction.from_float(0.3)"
   ]
  },
  {
   "cell_type": "code",
   "execution_count": 152,
   "metadata": {
    "tags": []
   },
   "outputs": [
    {
     "data": {
      "text/plain": [
       "True"
      ]
     },
     "execution_count": 152,
     "metadata": {},
     "output_type": "execute_result"
    }
   ],
   "source": [
    "round(.1 + .1 + .1, 5) == round(.3, 5) #precision in 5 decimal digits."
   ]
  },
  {
   "cell_type": "markdown",
   "metadata": {},
   "source": [
    "### Overflow"
   ]
  },
  {
   "cell_type": "markdown",
   "metadata": {},
   "source": [
    "Integers and Rational numbers do not overflow, however real numbers in the form of floats can!"
   ]
  },
  {
   "cell_type": "code",
   "execution_count": 101,
   "metadata": {},
   "outputs": [
    {
     "name": "stdout",
     "output_type": "stream",
     "text": [
      "9223372036854775807\n",
      "False\n",
      "9223372036854775808\n"
     ]
    }
   ],
   "source": [
    "import sys\n",
    "\n",
    "i = sys.maxsize\n",
    "print(i)\n",
    "\n",
    "print(i == i + 1) # MAX INTEGER + 1\n",
    "\n",
    "i += 1\n",
    "print(i)\n"
   ]
  },
  {
   "cell_type": "markdown",
   "metadata": {},
   "source": [
    "Float can overflow!"
   ]
  },
  {
   "cell_type": "code",
   "execution_count": 102,
   "metadata": {},
   "outputs": [
    {
     "name": "stdout",
     "output_type": "stream",
     "text": [
      "1.7976931348623157e+308\n",
      "True\n",
      "1.7976931348623157e+308\n"
     ]
    }
   ],
   "source": [
    "f = sys.float_info.max\n",
    "print(f)\n",
    "\n",
    "print(f == f + 1)  # MAX FLOAT + 1\n",
    "\n",
    "f += 1\n",
    "print(f)\n"
   ]
  },
  {
   "cell_type": "markdown",
   "metadata": {},
   "source": [
    "# Developing your own Module: simplified version\n",
    "Module is a collection of functions/data that you have tested and saved as one python file with extension \".py\". Hence, you may load (similar to those external modules) in your working cell to access all the functions/data that you have saved in this file. \n",
    "\n",
    "Below is a (overly) simplified example.\n"
   ]
  },
  {
   "cell_type": "markdown",
   "metadata": {},
   "source": [
    "**myModule.py**\n",
    "\n",
    "```\n",
    "def Greet(name):\n",
    "    print(\"Apa Khabar \" + name + \"!\")\n",
    "    \n",
    "\n",
    "def QBEven(num):\n",
    "    \"\"\"\n",
    "    Query on even number:\n",
    "    RETURNS a boolean output for an as integer\": true if even number, otherwise false\"\"\"\n",
    "    return num % 2 == 0\n",
    "\n",
    "\n",
    "def Factorial(x):\n",
    "    if x == 0:\n",
    "        return 1\n",
    "    else:\n",
    "        return (x) * Factorial(x-1)\n",
    "\n",
    "```"
   ]
  },
  {
   "cell_type": "code",
   "execution_count": 46,
   "metadata": {},
   "outputs": [
    {
     "name": "stdout",
     "output_type": "stream",
     "text": [
      "Apa Khabar UMT!\n"
     ]
    }
   ],
   "source": [
    "%run myModule.py #using IPython magic function\n",
    "Greet(\"UMT\")"
   ]
  },
  {
   "cell_type": "code",
   "execution_count": 42,
   "metadata": {},
   "outputs": [
    {
     "name": "stdout",
     "output_type": "stream",
     "text": [
      "Factorial\t Greet\t QBEven\t \n"
     ]
    }
   ],
   "source": [
    "%who"
   ]
  },
  {
   "cell_type": "code",
   "execution_count": 43,
   "metadata": {},
   "outputs": [
    {
     "name": "stdin",
     "output_type": "stream",
     "text": [
      "Once deleted, variables cannot be recovered. Proceed (y/[n])?  y\n"
     ]
    }
   ],
   "source": [
    "%reset"
   ]
  },
  {
   "cell_type": "code",
   "execution_count": 44,
   "metadata": {},
   "outputs": [
    {
     "name": "stdout",
     "output_type": "stream",
     "text": [
      "Interactive namespace is empty.\n"
     ]
    }
   ],
   "source": [
    "%who"
   ]
  },
  {
   "cell_type": "code",
   "execution_count": 45,
   "metadata": {},
   "outputs": [
    {
     "name": "stdout",
     "output_type": "stream",
     "text": [
      "Apa Khabar Minah!\n"
     ]
    }
   ],
   "source": [
    "import myModule \n",
    "myModule.Greet(\"Minah\")"
   ]
  },
  {
   "cell_type": "code",
   "execution_count": 2,
   "metadata": {},
   "outputs": [
    {
     "data": {
      "text/plain": [
       "(40320, False)"
      ]
     },
     "execution_count": 2,
     "metadata": {},
     "output_type": "execute_result"
    }
   ],
   "source": [
    "myModule.Factorial(8), myModule.QBEven(723)"
   ]
  },
  {
   "cell_type": "code",
   "execution_count": 16,
   "metadata": {},
   "outputs": [
    {
     "name": "stdout",
     "output_type": "stream",
     "text": [
      "Apa Khabar Kevin!\n"
     ]
    },
    {
     "data": {
      "text/plain": [
       "24"
      ]
     },
     "execution_count": 16,
     "metadata": {},
     "output_type": "execute_result"
    }
   ],
   "source": [
    "import myModule as G # renaming your module\n",
    "G.Greet(\"Kevin\")\n",
    "G.Factorial(4)"
   ]
  },
  {
   "cell_type": "code",
   "execution_count": 17,
   "metadata": {},
   "outputs": [
    {
     "name": "stdout",
     "output_type": "stream",
     "text": [
      "G\t fact\t importlib\t myModule\t \n"
     ]
    }
   ],
   "source": [
    "%who"
   ]
  },
  {
   "cell_type": "code",
   "execution_count": 18,
   "metadata": {},
   "outputs": [
    {
     "name": "stdout",
     "output_type": "stream",
     "text": [
      "fact\t importlib\t \n"
     ]
    }
   ],
   "source": [
    "del myModule, G ## deleting loaded module or function\n",
    "%who"
   ]
  },
  {
   "cell_type": "code",
   "execution_count": 20,
   "metadata": {},
   "outputs": [
    {
     "name": "stdout",
     "output_type": "stream",
     "text": [
      "24\n",
      "fact\t importlib\t \n"
     ]
    }
   ],
   "source": [
    "from myModule import Factorial as fact #renaming a function\n",
    "print(fact(4))\n",
    "%who"
   ]
  },
  {
   "cell_type": "markdown",
   "metadata": {},
   "source": [
    "You need to **reload** if you edit your module, otherwise the initial module will be executed."
   ]
  },
  {
   "cell_type": "code",
   "execution_count": 2,
   "metadata": {},
   "outputs": [
    {
     "name": "stdout",
     "output_type": "stream",
     "text": [
      "myModule\t \n"
     ]
    }
   ],
   "source": [
    "import myModule\n",
    "%who"
   ]
  },
  {
   "cell_type": "code",
   "execution_count": 3,
   "metadata": {},
   "outputs": [
    {
     "name": "stdout",
     "output_type": "stream",
     "text": [
      "Apa Khabar James!\n"
     ]
    }
   ],
   "source": [
    "myModule.Greet(\"James\")"
   ]
  },
  {
   "cell_type": "code",
   "execution_count": 4,
   "metadata": {},
   "outputs": [
    {
     "name": "stdout",
     "output_type": "stream",
     "text": [
      "Apa Khabar James!\n",
      "Enjoy Learning\n"
     ]
    }
   ],
   "source": [
    "myModule.LongerGreet(\"James\")"
   ]
  },
  {
   "cell_type": "code",
   "execution_count": 5,
   "metadata": {},
   "outputs": [
    {
     "data": {
      "text/plain": [
       "<module 'myModule' from '/Volumes/GoogleDrive/My Drive/0teaching/2021-2020/Sem-2/MKP3303/ScientificComputingWithPython/NotebookLectures/myModule.py'>"
      ]
     },
     "execution_count": 5,
     "metadata": {},
     "output_type": "execute_result"
    }
   ],
   "source": [
    "import importlib, myModule\n",
    "importlib.reload(myModule)"
   ]
  },
  {
   "cell_type": "code",
   "execution_count": 22,
   "metadata": {},
   "outputs": [
    {
     "name": "stdout",
     "output_type": "stream",
     "text": [
      "importlib\t myModule\t \n"
     ]
    }
   ],
   "source": [
    "%who # check loaded module"
   ]
  },
  {
   "cell_type": "code",
   "execution_count": 23,
   "metadata": {},
   "outputs": [
    {
     "name": "stdout",
     "output_type": "stream",
     "text": [
      "Apa Khabar Minah!\n"
     ]
    }
   ],
   "source": [
    "myModule.Greet(\"Minah\")"
   ]
  },
  {
   "cell_type": "code",
   "execution_count": 111,
   "metadata": {},
   "outputs": [],
   "source": [
    "#del Factorial\n",
    "#Factorial(3)"
   ]
  },
  {
   "cell_type": "markdown",
   "metadata": {},
   "source": [
    "`Import` loads the whole module, but we may opt to load a specific module"
   ]
  },
  {
   "cell_type": "code",
   "execution_count": 6,
   "metadata": {},
   "outputs": [],
   "source": [
    "from myModule import Factorial"
   ]
  },
  {
   "cell_type": "code",
   "execution_count": 7,
   "metadata": {},
   "outputs": [
    {
     "name": "stdout",
     "output_type": "stream",
     "text": [
      "24\n",
      "Factorial\t a\t importlib\t myModule\t \n"
     ]
    }
   ],
   "source": [
    "a = Factorial(4)\n",
    "print(a)\n",
    "%who"
   ]
  },
  {
   "cell_type": "code",
   "execution_count": 33,
   "metadata": {},
   "outputs": [
    {
     "name": "stdout",
     "output_type": "stream",
     "text": [
      "Factorial\t fact\t importlib\t myModule\t \n"
     ]
    }
   ],
   "source": [
    "del(a)\n",
    "%who"
   ]
  },
  {
   "cell_type": "code",
   "execution_count": 115,
   "metadata": {},
   "outputs": [
    {
     "name": "stdout",
     "output_type": "stream",
     "text": [
      "[NbConvertApp] Converting notebook Chapter2.ipynb to latex\n",
      "[NbConvertApp] Writing 96596 bytes to Chapter2.tex\n"
     ]
    }
   ],
   "source": [
    "!jupyter nbconvert Chapter2.ipynb --to latex "
   ]
  }
 ],
 "metadata": {
  "kernelspec": {
   "display_name": "Python 3",
   "language": "python",
   "name": "python3"
  },
  "language_info": {
   "codemirror_mode": {
    "name": "ipython",
    "version": 3
   },
   "file_extension": ".py",
   "mimetype": "text/x-python",
   "name": "python",
   "nbconvert_exporter": "python",
   "pygments_lexer": "ipython3",
   "version": "3.8.3"
  },
  "toc-autonumbering": true,
  "toc-showcode": false,
  "toc-showmarkdowntxt": false,
  "toc-showtags": false
 },
 "nbformat": 4,
 "nbformat_minor": 4
}
