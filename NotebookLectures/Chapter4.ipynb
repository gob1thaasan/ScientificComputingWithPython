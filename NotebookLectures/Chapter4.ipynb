{
 "cells": [
  {
   "cell_type": "markdown",
   "metadata": {},
   "source": [
    "**Scientific Computation (MKP3303)**\n",
    "\n",
    "\n",
    "> R.U.Gobithaasan (2021). Scientific Computing, Lectures for Undergraduate Degree Program B.Sc (Applied Mathematics), Faculty of Ocean Engineering Technology & Informatics,, University Malaysia Terengganu.\n",
    "https://sites.google.com/site/gobithaasan/LearnTeach\n",
    "\n",
    "<p align=\"center\">\n",
    "     © 2021 R.U. Gobithaasan All Rights Reserved.\n",
    "\n",
    "</p>\n",
    "\n"
   ]
  },
  {
   "cell_type": "markdown",
   "metadata": {},
   "source": [
    "**Chapter 4: Data Visualization**   \n",
    "\n",
    "**Static Visualization: (MatPlotLib, SeaBorn)**\n",
    "\n",
    "1. One-dimensional plots\n",
    "2. Two-dimensional plots \n",
    "\n",
    "**Interactive Visualization: (Bokeh, Plotly)**\n",
    "\n",
    "3. One-dimensional plots\n",
    "4. Two-dimensional plots\n",
    "\n",
    "**Higher dimension Visualization** \n",
    "\n",
    "5. Dimension Reduction\n",
    "\n",
    "\n",
    "References: \n",
    "- [SciPi Lecture Notes](http://scipy-lectures.org/)\n",
    "- [Python Data Analysis Library](https://pandas.pydata.org/)\n",
    "\n",
    "1.  [MathPlotLib: Visualization with Python](https://matplotlib.org/)\n",
    "\n",
    "- [MathPlotLib: CHEAT-SHEET](https://github.com/matplotlib/cheatsheets)\n",
    "- [Handout Beginner](ref//handout-beginner.pdf) \n",
    "- [Handout Intermediate](ref//handout-intermediate.pdf) \n",
    "- [Handout Tips](ref//handout-tips.pdf)\n",
    "\n",
    "\n",
    "2. [Seaborn: statistical data visualization](https://seaborn.pydata.org/)\n",
    "3. [Plotly: Python Open Source Graphing Library](https://plotly.com/python/)\n"
   ]
  },
  {
   "cell_type": "markdown",
   "metadata": {},
   "source": [
    "# Introduction"
   ]
  },
  {
   "cell_type": "markdown",
   "metadata": {},
   "source": [
    "We have covered various datatypes in chapter 3, recall:\n",
    "1. python containers: `str`, `list`, `tuple`, `set` and `dict`.\n",
    "2. NumPy `arrays`: row/ column vectors, matrices and tensors.\n",
    "3. Pandas `DataFrame` is a two dimensional data representation, which is similar to spoeadsheet, where the columns are called `Series`.\n",
    "\n",
    "---\n",
    "In this chapter we will be using the following modules:\n",
    "1. numpy\n",
    "2. pandas\n",
    "3. matplotlib\n",
    "4. seaborn\n",
    "5. plotly\n",
    "6. bokeh\n",
    "\n",
    "optional:\n",
    "- altair\n",
    "- geopandas\n",
    "\n",
    "In order to install run:!pip install **module**, replace **module** with the name: for example, to install `bokeh`:\n",
    "\n",
    "> pip install bokeh"
   ]
  },
  {
   "cell_type": "code",
   "execution_count": 1,
   "metadata": {},
   "outputs": [],
   "source": [
    "#!pip install bokeh"
   ]
  },
  {
   "cell_type": "markdown",
   "metadata": {},
   "source": [
    "# Static Visualization:"
   ]
  },
  {
   "cell_type": "markdown",
   "metadata": {},
   "source": [
    "## One dimensional Plot"
   ]
  },
  {
   "cell_type": "markdown",
   "metadata": {},
   "source": [
    "### Introduction to `mathplotlib`"
   ]
  },
  {
   "cell_type": "code",
   "execution_count": 19,
   "metadata": {},
   "outputs": [
    {
     "data": {
      "text/plain": [
       "'1.20.2'"
      ]
     },
     "execution_count": 19,
     "metadata": {},
     "output_type": "execute_result"
    }
   ],
   "source": [
    "import numpy as np\n",
    "np.__version__"
   ]
  },
  {
   "cell_type": "markdown",
   "metadata": {},
   "source": [
    "- load `mathplotlib` and turn on interactive session\n",
    "- turn on interactive mode by running `%matplotlib inline `. \n",
    "In 'interactive mode' figures are shown once they are created. Otherwise, figures are not shown until you explicitly call `plt.show()`."
   ]
  },
  {
   "cell_type": "code",
   "execution_count": 9,
   "metadata": {},
   "outputs": [
    {
     "name": "stdout",
     "output_type": "stream",
     "text": [
      "3.2.2\n",
      "module://ipykernel.pylab.backend_inline\n"
     ]
    }
   ],
   "source": [
    "import matplotlib\n",
    "#%matplotlib inline \n",
    "print(matplotlib.__version__)\n",
    "print(matplotlib.get_backend())"
   ]
  },
  {
   "cell_type": "markdown",
   "metadata": {},
   "source": [
    "- `pyplot` is a package in `matplotlib` library and closely developed after Matlab™. Most of plotting commands in pyplot is similar to Matlab™ arguments."
   ]
  },
  {
   "cell_type": "code",
   "execution_count": 10,
   "metadata": {},
   "outputs": [
    {
     "data": {
      "text/plain": [
       "<Figure size 432x288 with 0 Axes>"
      ]
     },
     "metadata": {},
     "output_type": "display_data"
    }
   ],
   "source": [
    "import matplotlib.pyplot as plt  # the tidy way\n",
    "fig = plt.figure(facecolor=(1, 0, 0, .1))   # red background to see where the figure is\n",
    "#plt.show()"
   ]
  },
  {
   "cell_type": "code",
   "execution_count": 11,
   "metadata": {},
   "outputs": [
    {
     "data": {
      "text/plain": [
       "<Figure size 288x576 with 0 Axes>"
      ]
     },
     "metadata": {},
     "output_type": "display_data"
    }
   ],
   "source": [
    "# Twice as tall as it is wide:\n",
    "fig = plt.figure(figsize=plt.figaspect(2.0), facecolor=(1, 0, 0, .1))\n",
    "#plt.show()"
   ]
  },
  {
   "cell_type": "code",
   "execution_count": 12,
   "metadata": {},
   "outputs": [
    {
     "data": {
      "image/png": "[encoded data removed]",
      "text/plain": [
       "<Figure size 432x288 with 1 Axes>"
      ]
     },
     "metadata": {
      "needs_background": "light"
     },
     "output_type": "display_data"
    }
   ],
   "source": [
    "fig = plt.figure()\n",
    "ax = fig.add_subplot(111)\n",
    "ax.plot([1, 2, 3, 4], [10, 20, 25, 30], color='lightblue', linewidth=3)\n",
    "ax.scatter([0.3, 3.8, 1.2, 2.5], [11, 25, 9, 26], c=[1, 2, 3, 5], marker='^')\n",
    "ax.set_xlim(0.5, 4.5)\n",
    "plt.show()"
   ]
  },
  {
   "cell_type": "code",
   "execution_count": 33,
   "metadata": {},
   "outputs": [
    {
     "data": {
      "text/plain": [
       "[<matplotlib.lines.Line2D at 0x7f9d25e7d220>]"
      ]
     },
     "execution_count": 33,
     "metadata": {},
     "output_type": "execute_result"
    },
    {
     "data": {
      "image/png": "[encoded data removed]",
      "text/plain": [
       "<Figure size 432x288 with 1 Axes>"
      ]
     },
     "metadata": {
      "needs_background": "light"
     },
     "output_type": "display_data"
    }
   ],
   "source": [
    "import matplotlib.pyplot as plt  # the tidy way\n",
    "x = np.linspace(-3, 3, 20)\n",
    "y = x**2\n",
    "\n",
    "plt.plot(x, y)       # line plot    \n",
    "plt.plot(x, y, 'o')  # dot plot    "
   ]
  },
  {
   "cell_type": "markdown",
   "metadata": {},
   "source": [
    "### Time series dataset"
   ]
  },
  {
   "cell_type": "markdown",
   "metadata": {},
   "source": [
    "-  In mathematics, a [time series](https://en.wikipedia.org/wiki/Time_serie) is a series of data points indexed (or listed or graphed) in time order. Most commonly, a time series is a sequence taken at successive equally spaced points in time. Thus it is a sequence of discrete-time data. Examples of time series are daily rainfall and the daily closing value of the KLCI index.\n",
    "\n",
    "- Read more [Working with pandas: Time series](https://pandas.pydata.org/docs/getting_started/intro_tutorials/09_timeseries.html)"
   ]
  },
  {
   "cell_type": "code",
   "execution_count": null,
   "metadata": {},
   "outputs": [],
   "source": []
  },
  {
   "cell_type": "markdown",
   "metadata": {},
   "source": [
    "## Two-dimensional plots "
   ]
  },
  {
   "cell_type": "code",
   "execution_count": 16,
   "metadata": {},
   "outputs": [
    {
     "data": {
      "text/plain": [
       "<matplotlib.colorbar.Colorbar at 0x7f9d260cd3a0>"
      ]
     },
     "execution_count": 16,
     "metadata": {},
     "output_type": "execute_result"
    },
    {
     "data": {
      "image/png": "[encoded data removed]",
      "text/plain": [
       "<Figure size 432x288 with 2 Axes>"
      ]
     },
     "metadata": {
      "needs_background": "light"
     },
     "output_type": "display_data"
    }
   ],
   "source": [
    "image = np.random.rand(30, 30)\n",
    "plt.imshow(image, cmap=plt.cm.hot)    \n",
    "\n",
    "plt.colorbar()    "
   ]
  },
  {
   "cell_type": "code",
   "execution_count": 22,
   "metadata": {},
   "outputs": [
    {
     "name": "stdout",
     "output_type": "stream",
     "text": [
      "# year\thare\tlynx\tcarrot\n",
      "1900\t30e3\t4e3\t48300\n",
      "1901\t47.2e3\t6.1e3\t48200\n",
      "1902\t70.2e3\t9.8e3\t41500\n",
      "1903\t77.4e3\t35.2e3\t38200\n",
      "1904\t36.3e3\t59.4e3\t40600\n"
     ]
    }
   ],
   "source": [
    "samples = np.loadtxt('data/populations.csv', delimiter=',')\n",
    "! head -n 6 'data/populations.txt'"
   ]
  },
  {
   "cell_type": "markdown",
   "metadata": {},
   "source": [
    "# Interactive Visualization"
   ]
  },
  {
   "cell_type": "code",
   "execution_count": null,
   "metadata": {},
   "outputs": [],
   "source": []
  },
  {
   "cell_type": "markdown",
   "metadata": {},
   "source": [
    "# Higher dimension visualisation "
   ]
  },
  {
   "cell_type": "code",
   "execution_count": null,
   "metadata": {},
   "outputs": [],
   "source": []
  }
 ],
 "metadata": {
  "kernelspec": {
   "display_name": "Python 3",
   "language": "python",
   "name": "python3"
  },
  "language_info": {
   "codemirror_mode": {
    "name": "ipython",
    "version": 3
   },
   "file_extension": ".py",
   "mimetype": "text/x-python",
   "name": "python",
   "nbconvert_exporter": "python",
   "pygments_lexer": "ipython3",
   "version": "3.8.3"
  }
 },
 "nbformat": 4,
 "nbformat_minor": 4
}
